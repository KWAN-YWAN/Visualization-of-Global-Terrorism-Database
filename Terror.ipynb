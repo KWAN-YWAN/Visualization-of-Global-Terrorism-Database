{
 "cells": [
  {
   "cell_type": "markdown",
   "metadata": {},
   "source": [
    "# Table of contents\n",
    "1. [Introduction](#Introduction)\n",
    "2. [Import data](#Import-data)\n",
    "3. [Terrorist attacks by latitude/longitude](#Terrorist-attacks-by-latitude/longitude)\n",
    "4. [Terrorist attacks for years](#Terrorist-attacks-for-years)\n",
    "5. [Terrorist attacks per holidays](#Terrorist-attacks-per-holidays)\n",
    "6. [Terrorist attacks per weekday](#Terrorist-attacks-per-weekday)\n",
    "7. [Terrorist attacks by target](#Terrorist-attacks-by-target)\n",
    "8. [Terrorist attacks by weapon](#Terrorist-attacks-by-weapon)\n",
    "9. [Terrorist attacks to cities](#Terrorist-attacks-to-cities)\n",
    "10. [Terrorist attacks per Moscow district's](#Terrorist-attacks-per-Moscow-district's)\n",
    "\n"
   ]
  },
  {
   "cell_type": "markdown",
   "metadata": {
    "slideshow": {
     "slide_type": "slide"
    }
   },
   "source": [
    "# Introduction\n",
    "\n",
    "The **aim** of this work was to learn how to use Plotly Library and to practice of drawing the graphs and diagrams.\n",
    "The inspiration came through this\n",
    "**[kernel](https://www.kaggle.com/abigaillarion/terrorist-attacks-in-united-states) (by [Abigail Larion](https://www.kaggle.com/abigaillarion))** and therefore it was decided to conduct appropriate analysis for Russia.\n",
    "\n",
    "Let's begin."
   ]
  },
  {
   "cell_type": "code",
   "execution_count": 1,
   "metadata": {
    "collapsed": false,
    "scrolled": true,
    "slideshow": {
     "slide_type": "skip"
    }
   },
   "outputs": [
    {
     "data": {
      "text/html": [
       "<script>requirejs.config({paths: { 'plotly': ['https://cdn.plot.ly/plotly-latest.min']},});if(!window.Plotly) {{require(['plotly'],function(plotly) {window.Plotly=plotly;});}}</script>"
      ],
      "text/plain": [
       "<IPython.core.display.HTML object>"
      ]
     },
     "metadata": {},
     "output_type": "display_data"
    }
   ],
   "source": [
    "import numpy as np\n",
    "import pandas as pd\n",
    "import urllib\n",
    "import time\n",
    "\n",
    "from datetime import datetime, date\n",
    "\n",
    "from IPython.display import display, HTML\n",
    "# import plotly.plotly as py\n",
    "import plotly.graph_objs as go\n",
    "\n",
    "from plotly import tools\n",
    "from plotly.offline import iplot, init_notebook_mode\n",
    "init_notebook_mode(connected=True)\n",
    "\n",
    "import math\n",
    "\n",
    "import ast\n",
    "import string\n",
    "import json\n",
    "\n",
    "pd.options.mode.chained_assignment = None\n",
    "mapbox_access_token = 'pk.eyJ1IjoibWFrcy1zaCIsImEiOiJjaXpzaTJ1dXQwMDR6MnhvMWtzejBoZWZsIn0.Ih8a2l8sQDnkMzEXuuPJKA'"
   ]
  },
  {
   "cell_type": "markdown",
   "metadata": {},
   "source": [
    "#  Import data"
   ]
  },
  {
   "cell_type": "code",
   "execution_count": 2,
   "metadata": {
    "collapsed": false
   },
   "outputs": [
    {
     "name": "stdout",
     "output_type": "stream",
     "text": [
      "Matrix size: (152253, 15)\n"
     ]
    }
   ],
   "source": [
    "terror_data = pd.read_csv('data/globalterrorismdb_0616dist.csv', encoding='ISO-8859-1',\n",
    "                          usecols=[0, 1, 2, 3, 8, 11, 12, 13, 14, 26, 29, 35, 84, 100, 103])\n",
    "terror_data = terror_data.rename(\n",
    "    columns={'eventid':'id', 'iyear':'year', 'imonth':'month', 'iday':'day',\n",
    "             'country_txt':'country', 'provstate':'state', 'targtype1_txt':'target',\n",
    "             'weaptype1_txt': 'weapon', 'attacktype1_txt': 'attacktype', 'nkill':'fatalities', \n",
    "             'nwound':'injuries', 'addnotes': 'info'})\n",
    "terror_data['fatalities'] = terror_data['fatalities'].fillna(0).astype(int)\n",
    "terror_data['injuries'] = terror_data['injuries'].fillna(0).astype(int)\n",
    "terror_data = terror_data.dropna(how='any', subset=['latitude', 'longitude'])\n",
    "print('Matrix size:', terror_data.shape)"
   ]
  },
  {
   "cell_type": "markdown",
   "metadata": {},
   "source": [
    "Let's extract data about Russia and make some adjustments."
   ]
  },
  {
   "cell_type": "code",
   "execution_count": 3,
   "metadata": {
    "collapsed": false
   },
   "outputs": [
    {
     "data": {
      "text/html": [
       "<div>\n",
       "<table border=\"1\" class=\"dataframe\">\n",
       "  <thead>\n",
       "    <tr style=\"text-align: right;\">\n",
       "      <th></th>\n",
       "      <th>id</th>\n",
       "      <th>year</th>\n",
       "      <th>month</th>\n",
       "      <th>day</th>\n",
       "      <th>country</th>\n",
       "      <th>state</th>\n",
       "      <th>city</th>\n",
       "      <th>latitude</th>\n",
       "      <th>longitude</th>\n",
       "      <th>success</th>\n",
       "      <th>attacktype</th>\n",
       "      <th>target</th>\n",
       "      <th>weapon</th>\n",
       "      <th>fatalities</th>\n",
       "      <th>injuries</th>\n",
       "      <th>date</th>\n",
       "      <th>text</th>\n",
       "    </tr>\n",
       "  </thead>\n",
       "  <tbody>\n",
       "    <tr>\n",
       "      <th>49616</th>\n",
       "      <td>199201060001</td>\n",
       "      <td>1992</td>\n",
       "      <td>1</td>\n",
       "      <td>6</td>\n",
       "      <td>Russia</td>\n",
       "      <td>NaN</td>\n",
       "      <td>Grozny</td>\n",
       "      <td>43.316667</td>\n",
       "      <td>45.683333</td>\n",
       "      <td>0</td>\n",
       "      <td>Assassination</td>\n",
       "      <td>Military</td>\n",
       "      <td>Firearms</td>\n",
       "      <td>0</td>\n",
       "      <td>0</td>\n",
       "      <td>1992-01-06</td>\n",
       "      <td>January 6, 1992&lt;br&gt;0 Killed, 0 Injured</td>\n",
       "    </tr>\n",
       "    <tr>\n",
       "      <th>49626</th>\n",
       "      <td>199201060012</td>\n",
       "      <td>1992</td>\n",
       "      <td>1</td>\n",
       "      <td>6</td>\n",
       "      <td>Russia</td>\n",
       "      <td>NaN</td>\n",
       "      <td>Grozny</td>\n",
       "      <td>43.316667</td>\n",
       "      <td>45.683333</td>\n",
       "      <td>1</td>\n",
       "      <td>Armed Assault</td>\n",
       "      <td>Military</td>\n",
       "      <td>Firearms</td>\n",
       "      <td>1</td>\n",
       "      <td>0</td>\n",
       "      <td>1992-01-06</td>\n",
       "      <td>January 6, 1992&lt;br&gt;1 Killed, 0 Injured</td>\n",
       "    </tr>\n",
       "    <tr>\n",
       "      <th>49756</th>\n",
       "      <td>199201170003</td>\n",
       "      <td>1992</td>\n",
       "      <td>1</td>\n",
       "      <td>17</td>\n",
       "      <td>Russia</td>\n",
       "      <td>NaN</td>\n",
       "      <td>Makhachkala</td>\n",
       "      <td>42.978368</td>\n",
       "      <td>47.491066</td>\n",
       "      <td>0</td>\n",
       "      <td>Assassination</td>\n",
       "      <td>Government (General)</td>\n",
       "      <td>Explosives/Bombs/Dynamite</td>\n",
       "      <td>0</td>\n",
       "      <td>1</td>\n",
       "      <td>1992-01-17</td>\n",
       "      <td>January 17, 1992&lt;br&gt;0 Killed, 1 Injured</td>\n",
       "    </tr>\n",
       "  </tbody>\n",
       "</table>\n",
       "</div>"
      ],
      "text/plain": [
       "                 id  year  month day country state         city   latitude  \\\n",
       "49616  199201060001  1992      1   6  Russia   NaN       Grozny  43.316667   \n",
       "49626  199201060012  1992      1   6  Russia   NaN       Grozny  43.316667   \n",
       "49756  199201170003  1992      1  17  Russia   NaN  Makhachkala  42.978368   \n",
       "\n",
       "       longitude  success     attacktype                target  \\\n",
       "49616  45.683333        0  Assassination              Military   \n",
       "49626  45.683333        1  Armed Assault              Military   \n",
       "49756  47.491066        0  Assassination  Government (General)   \n",
       "\n",
       "                          weapon  fatalities  injuries       date  \\\n",
       "49616                   Firearms           0         0 1992-01-06   \n",
       "49626                   Firearms           1         0 1992-01-06   \n",
       "49756  Explosives/Bombs/Dynamite           0         1 1992-01-17   \n",
       "\n",
       "                                          text  \n",
       "49616   January 6, 1992<br>0 Killed, 0 Injured  \n",
       "49626   January 6, 1992<br>1 Killed, 0 Injured  \n",
       "49756  January 17, 1992<br>0 Killed, 1 Injured  "
      ]
     },
     "execution_count": 3,
     "metadata": {},
     "output_type": "execute_result"
    }
   ],
   "source": [
    "terror_ru = terror_data[terror_data['country'] == 'Russia']\n",
    "\n",
    "terror_ru.loc[:, 'day'] = terror_ru\\\n",
    "        .apply(lambda row: str(row['id'])[6:8] if row['day'] == 0 else row['day'], axis=1)\n",
    "terror_ru.loc[:, 'date'] = pd.to_datetime(terror_ru[['day', 'month', 'year']])\n",
    "\n",
    "terror_ru = terror_ru.drop_duplicates(['date', 'latitude', 'longitude', 'fatalities'])\n",
    "terror_ru['text'] = terror_ru['date'].dt.strftime('%B %-d, %Y') + '<br>' +\\\n",
    "                     terror_ru['fatalities'].astype(str) + ' Killed, ' +\\\n",
    "                     terror_ru['injuries'].astype(str) + ' Injured'\n",
    "\n",
    "terror_peryear = np.asarray(terror_ru.groupby('year').year.count())\n",
    "terror_years = np.arange(1992, 2016)\n",
    "terror_years = np.delete(terror_years, [1])        \n",
    "        \n",
    "terror_ru.head(3)        "
   ]
  },
  {
   "cell_type": "markdown",
   "metadata": {},
   "source": [
    "Naturally, it is very interesting, but at this stage it can be seen that there are N/A values. Let's have the more detailed look at the missing data."
   ]
  },
  {
   "cell_type": "code",
   "execution_count": 4,
   "metadata": {
    "collapsed": false
   },
   "outputs": [
    {
     "data": {
      "text/html": [
       "<div id=\"1932c670-c7ab-491c-8bb6-607e5997c3f3\" style=\"height: 525px; width: 100%;\" class=\"plotly-graph-div\"></div><script type=\"text/javascript\">require([\"plotly\"], function(Plotly) { window.PLOTLYENV=window.PLOTLYENV || {};window.PLOTLYENV.BASE_URL=\"https://plot.ly\";Plotly.newPlot(\"1932c670-c7ab-491c-8bb6-607e5997c3f3\", [{\"marker\": {\"color\": \"#009999\"}, \"type\": \"bar\", \"name\": \"Observed Data\", \"y\": [2022.0, 2022.0, 2022.0, 2022, 2022, 1774, 2018, 2022.0, 2022.0, 2022.0, 2022, 2022, 2022, 2022.0, 2022.0, 2022, 2022], \"x\": [\"id\", \"year\", \"month\", \"day\", \"country\", \"state\", \"city\", \"latitude\", \"longitude\", \"success\", \"attacktype\", \"target\", \"weapon\", \"fatalities\", \"injuries\", \"date\", \"text\"]}, {\"marker\": {\"color\": \"#BF3030\"}, \"type\": \"bar\", \"name\": \"Missing Data\", \"y\": [0.0, 0.0, 0.0, 0, 0, 248, 4, 0.0, 0.0, 0.0, 0, 0, 0, 0.0, 0.0, 0, 0], \"x\": [\"id\", \"year\", \"month\", \"day\", \"country\", \"state\", \"city\", \"latitude\", \"longitude\", \"success\", \"attacktype\", \"target\", \"weapon\", \"fatalities\", \"injuries\", \"date\", \"text\"]}], {\"barmode\": \"relative\", \"xaxis\": {\"title\": \"Feature\"}, \"title\": \"Missingmess Map\", \"yaxis\": {\"title\": \"Count\"}}, {\"linkText\": \"Export to plot.ly\", \"showLink\": true})});</script>"
      ],
      "text/plain": [
       "<IPython.core.display.HTML object>"
      ]
     },
     "metadata": {},
     "output_type": "display_data"
    }
   ],
   "source": [
    "features = terror_ru.columns.tolist()\n",
    "\n",
    "trace1 = go.Bar(\n",
    "    x=features,\n",
    "    y=[terror_ru[feature].describe()['count'] for feature in features],\n",
    "    name='Observed Data',\n",
    "    marker=dict(\n",
    "        color='#009999'\n",
    "    )    \n",
    ")\n",
    "trace2 = go.Bar(\n",
    "    x=features,\n",
    "    y=[terror_ru.shape[0] - terror_ru[feature].describe()['count'] for feature in features],\n",
    "    name='Missing Data',\n",
    "    marker=dict(\n",
    "        color='#BF3030'\n",
    "    )    \n",
    ")\n",
    "\n",
    "data = [trace1, trace2];\n",
    "layout = go.Layout(\n",
    "    title='Missingmess Map',\n",
    "    barmode='relative',\n",
    "    xaxis=dict(\n",
    "        title='Feature',\n",
    "    ),\n",
    "    yaxis=dict(\n",
    "        title='Count',\n",
    "    ),    \n",
    ")\n",
    "\n",
    "fig = go.Figure(data=data, layout=layout)\n",
    "iplot(fig)"
   ]
  },
  {
   "cell_type": "markdown",
   "metadata": {},
   "source": [
    "Thus, so far so good.\n",
    "\n",
    "# Terrorist attacks by latitude/longitude\n",
    "\n",
    "Let's make the illustration of the major terrorist attacks over 2015 on the globe."
   ]
  },
  {
   "cell_type": "code",
   "execution_count": 5,
   "metadata": {
    "collapsed": false
   },
   "outputs": [
    {
     "data": {
      "text/html": [
       "<div id=\"318b017d-5047-4d84-9f3b-d2863380e67d\" style=\"height: 700px; width: 100%;\" class=\"plotly-graph-div\"></div><script type=\"text/javascript\">require([\"plotly\"], function(Plotly) { window.PLOTLYENV=window.PLOTLYENV || {};window.PLOTLYENV.BASE_URL=\"https://plot.ly\";Plotly.newPlot(\"318b017d-5047-4d84-9f3b-d2863380e67d\", [{\"text\": [\"Iraq\", \"Cameroon\", \"Syria\", \"Somalia\", \"Iraq\", \"Iraq\", \"Iraq\", \"Nigeria\", \"Nigeria\", \"Libya\", \"Libya\", \"Iraq\", \"Nigeria\", \"Nigeria\", \"Nigeria\", \"Nigeria\", \"Nigeria\", \"Nigeria\", \"Syria\", \"Somalia\", \"Iraq\", \"Saudi Arabia\", \"Mali\", \"Iraq\", \"Iraq\", \"Syria\", \"France\", \"Yemen\", \"Nigeria\", \"Nigeria\", \"Nigeria\", \"Nigeria\", \"Nigeria\", \"Nigeria\", \"Syria\", \"Syria\", \"Iraq\", \"Iraq\", \"Pakistan\", \"Pakistan\", \"Lebanon\", \"Syria\", \"Nigeria\", \"Iraq\", \"Pakistan\", \"Iraq\", \"Iraq\", \"Cameroon\", \"Ukraine\", \"Nigeria\", \"Syria\", \"Nigeria\", \"Iraq\", \"Iraq\", \"Ukraine\", \"Iraq\", \"Syria\", \"Syria\", \"Afghanistan\", \"Ukraine\", \"Iraq\", \"Iraq\", \"Pakistan\", \"South Sudan\", \"Afghanistan\", \"Afghanistan\", \"Nigeria\", \"Afghanistan\", \"Iraq\", \"Iraq\", \"Iraq\", \"Ukraine\", \"Lebanon\", \"Nigeria\", \"Nigeria\", \"Nigeria\", \"Nigeria\", \"Nigeria\", \"Nigeria\", \"Nigeria\", \"Ukraine\", \"Ukraine\", \"Ukraine\", \"Ukraine\", \"Ukraine\", \"Ukraine\", \"Ukraine\", \"Ukraine\", \"Ukraine\", \"Ukraine\", \"Syria\", \"South Sudan\", \"Nigeria\", \"Nigeria\", \"Nigeria\", \"Iraq\", \"Iraq\", \"Iraq\", \"Libya\", \"Nigeria\", \"Somalia\", \"Afghanistan\", \"Yemen\", \"Mali\", \"Iraq\", \"Ukraine\", \"Egypt\", \"Afghanistan\", \"Iraq\", \"Iraq\", \"Pakistan\", \"Nigeria\", \"Cameroon\", \"Iraq\", \"Iraq\", \"Iraq\", \"Iraq\", \"Democratic Republic of the Congo\", \"Nigeria\", \"Nigeria\", \"Nigeria\", \"Nigeria\", \"Nigeria\", \"Syria\", \"Ukraine\", \"Nigeria\", \"Iraq\", \"Libya\", \"Afghanistan\", \"Bangladesh\", \"Democratic Republic of the Congo\", \"Cameroon\", \"Iraq\", \"Yemen\", \"Bangladesh\", \"Afghanistan\", \"Niger\", \"Niger\", \"Iraq\", \"Iraq\", \"Nigeria\", \"Iraq\", \"Cameroon\", \"Cameroon\", \"Iraq\", \"Central African Republic\", \"Myanmar\", \"Myanmar\", \"Myanmar\", \"Myanmar\", \"Syria\", \"Pakistan\", \"Iraq\", \"Iraq\", \"Iraq\", \"Nigeria\", \"Ukraine\", \"Iraq\", \"Iraq\", \"Yemen\", \"Iraq\", \"Nigeria\", \"Nigeria\", \"Nigeria\", \"Pakistan\", \"China\", \"Iraq\", \"Chad\", \"Ukraine\", \"Iraq\", \"Mali\", \"Nigeria\", \"Nigeria\", \"Nigeria\", \"Nigeria\", \"Syria\", \"Pakistan\", \"Nigeria\", \"Somalia\", \"Iraq\", \"Syria\", \"Cameroon\", \"Afghanistan\", \"Iraq\", \"Nigeria\", \"Cameroon\", \"Iraq\", \"Iraq\", \"Iraq\", \"Syria\", \"Nigeria\", \"Nigeria\", \"Ukraine\", \"Nigeria\", \"Nigeria\", \"Nigeria\", \"Nigeria\", \"Nigeria\", \"Libya\", \"Libya\", \"Libya\", \"Somalia\", \"Niger\", \"Iraq\", \"Iraq\", \"Syria\", \"Iraq\", \"Yemen\", \"Nigeria\", \"Nigeria\", \"Nigeria\", \"Iraq\", \"Nigeria\", \"Nigeria\", \"Syria\", \"Nigeria\", \"Afghanistan\", \"Iraq\", \"Iraq\", \"Iraq\", \"Iraq\", \"Niger\", \"Nigeria\", \"Nigeria\", \"Afghanistan\", \"Iraq\", \"Iraq\", \"Nigeria\", \"Yemen\", \"Yemen\", \"Syria\", \"Nigeria\", \"Afghanistan\", \"Libya\", \"Nigeria\", \"Nigeria\", \"Nigeria\", \"Democratic Republic of the Congo\", \"Iraq\", \"China\", \"Yemen\", \"Nigeria\", \"Iraq\", \"Afghanistan\", \"Afghanistan\", \"Nigeria\", \"Philippines\", \"Syria\", \"Iraq\", \"Syria\", \"Sudan\", \"Somalia\", \"Iraq\", \"Afghanistan\", \"Afghanistan\", \"Iraq\", \"Iraq\", \"Iraq\", \"Central African Republic\", \"Pakistan\", \"Pakistan\", \"Afghanistan\", \"Afghanistan\", \"Nigeria\", \"Iraq\", \"Iraq\", \"Libya\", \"Tunisia\", \"Afghanistan\", \"Nigeria\", \"Nigeria\", \"Yemen\", \"Yemen\", \"Yemen\", \"Yemen\", \"Iraq\", \"Syria\", \"Syria\", \"Syria\", \"Syria\", \"India\", \"Yemen\", \"Iraq\", \"Yemen\", \"Nigeria\", \"Nigeria\", \"Syria\", \"Syria\", \"Iraq\", \"Syria\", \"Syria\", \"Libya\", \"Libya\", \"Afghanistan\", \"Iraq\", \"Iraq\", \"Syria\", \"Syria\", \"Afghanistan\", \"Iraq\", \"Afghanistan\", \"Afghanistan\", \"Sudan\", \"Somalia\", \"Somalia\", \"Pakistan\", \"Sudan\", \"Nigeria\", \"Nigeria\", \"Sudan\", \"Afghanistan\", \"Iraq\", \"Iraq\", \"Afghanistan\", \"Yemen\", \"Niger\", \"Iraq\", \"Iraq\", \"Syria\", \"Syria\", \"Iraq\", \"Afghanistan\", \"Niger\", \"Nigeria\", \"Nigeria\", \"Nigeria\", \"Nigeria\", \"Yemen\", \"Egypt\", \"Egypt\", \"Egypt\", \"Afghanistan\", \"Kenya\", \"Nigeria\", \"Iraq\", \"Afghanistan\", \"Chad\", \"Afghanistan\", \"Afghanistan\", \"Afghanistan\", \"Pakistan\", \"Afghanistan\", \"Libya\", \"Syria\", \"Iraq\", \"Nigeria\", \"Nigeria\", \"Yemen\", \"Syria\", \"Iran\", \"Syria\", \"Nigeria\", \"Nigeria\", \"Nigeria\", \"Iraq\", \"Egypt\", \"Yemen\", \"Yemen\", \"Yemen\", \"Yemen\", \"Syria\", \"Afghanistan\", \"Iraq\", \"Syria\", \"Syria\", \"Afghanistan\", \"Iraq\", \"Afghanistan\", \"Iraq\", \"Nigeria\", \"Syria\", \"Yemen\", \"Yemen\", \"India\", \"Pakistan\", \"Syria\", \"Egypt\", \"Iraq\", \"Iraq\", \"Yemen\", \"Yemen\", \"Yemen\", \"Yemen\", \"Somalia\", \"Yemen\", \"Iraq\", \"Iraq\", \"Colombia\", \"Democratic Republic of the Congo\", \"Iraq\", \"Afghanistan\", \"Cameroon\", \"Iraq\", \"Iraq\", \"Iraq\", \"Iraq\", \"Nigeria\", \"Iraq\", \"Iraq\", \"Afghanistan\", \"Iraq\", \"Yemen\", \"South Sudan\", \"Iraq\", \"Somalia\", \"Iraq\", \"Somalia\", \"Somalia\", \"Iraq\", \"Afghanistan\", \"Afghanistan\", \"Syria\", \"Pakistan\", \"Iraq\", \"Iraq\", \"Afghanistan\", \"Afghanistan\", \"Afghanistan\", \"Afghanistan\", \"Afghanistan\", \"Afghanistan\", \"Syria\", \"Syria\", \"Syria\", \"Iraq\", \"Iraq\", \"Iraq\", \"Niger\", \"Yemen\", \"Syria\", \"Afghanistan\", \"Iraq\", \"Iraq\", \"Nigeria\", \"Afghanistan\", \"Iraq\", \"Syria\", \"Iraq\", \"Yemen\", \"Yemen\", \"Mali\", \"Nigeria\", \"Iraq\", \"Yemen\", \"Saudi Arabia\", \"Afghanistan\", \"Afghanistan\", \"Afghanistan\", \"Iraq\", \"Iraq\", \"India\", \"Kenya\", \"Syria\", \"Nigeria\", \"Nigeria\", \"Syria\", \"Syria\", \"Afghanistan\", \"Afghanistan\", \"Syria\", \"Mali\", \"Nigeria\", \"Syria\", \"Yemen\", \"Syria\", \"Afghanistan\", \"Afghanistan\", \"Afghanistan\", \"Afghanistan\", \"Afghanistan\", \"Syria\", \"Democratic Republic of the Congo\", \"Pakistan\", \"Iraq\", \"Iraq\", \"Iraq\", \"Syria\", \"Afghanistan\", \"Mali\", \"Iraq\", \"Afghanistan\", \"Afghanistan\", \"Afghanistan\", \"Afghanistan\", \"Pakistan\", \"Yemen\", \"Afghanistan\", \"Nigeria\", \"Nigeria\", \"Nigeria\", \"Democratic Republic of the Congo\", \"Democratic Republic of the Congo\", \"Afghanistan\", \"Pakistan\", \"Syria\", \"Libya\", \"Iraq\", \"Nigeria\", \"Nigeria\", \"Iraq\", \"Iraq\", \"Afghanistan\", \"Afghanistan\", \"Iraq\", \"Iraq\", \"Yemen\", \"Nigeria\", \"Nigeria\", \"Iraq\", \"Iraq\", \"Iraq\", \"Iraq\", \"Syria\", \"Syria\", \"Nigeria\", \"Afghanistan\", \"Nigeria\", \"Nigeria\", \"Nigeria\", \"Afghanistan\", \"Iraq\", \"Afghanistan\", \"Syria\", \"Afghanistan\", \"Saudi Arabia\", \"Nigeria\", \"Afghanistan\", \"Somalia\", \"Somalia\", \"Nigeria\", \"Ukraine\", \"Nigeria\", \"Nigeria\", \"Nigeria\", \"Nigeria\", \"Nigeria\", \"Tunisia\", \"Nigeria\", \"Afghanistan\", \"Afghanistan\", \"Yemen\", \"Kenya\", \"Iraq\", \"Iraq\", \"Afghanistan\", \"Syria\", \"Chad\", \"Afghanistan\", \"Pakistan\", \"Iraq\", \"Iraq\", \"Nigeria\", \"Libya\", \"Iraq\", \"Nigeria\", \"Nigeria\", \"Afghanistan\", \"Yemen\", \"Yemen\", \"Yemen\", \"Yemen\", \"Syria\", \"Pakistan\", \"Iraq\", \"Afghanistan\", \"Iraq\", \"Iraq\", \"Pakistan\", \"Afghanistan\", \"Iraq\", \"Afghanistan\", \"Nigeria\", \"Democratic Republic of the Congo\", \"Iraq\", \"Ukraine\", \"Nigeria\", \"Syria\", \"Yemen\", \"India\", \"Nigeria\", \"Nigeria\", \"Nigeria\", \"Yemen\", \"Iraq\", \"Afghanistan\", \"Saudi Arabia\", \"Saudi Arabia\", \"Iraq\", \"Syria\", \"Syria\", \"Syria\", \"Syria\", \"Syria\", \"Nigeria\", \"Iraq\", \"Afghanistan\", \"Pakistan\", \"Syria\", \"Pakistan\", \"Nigeria\", \"Ukraine\", \"Iraq\", \"Syria\", \"Afghanistan\", \"Afghanistan\", \"Nigeria\", \"Syria\", \"Iraq\", \"Yemen\", \"Somalia\", \"Yemen\", \"Afghanistan\", \"Pakistan\", \"Libya\", \"Iraq\", \"Iraq\", \"Iraq\", \"Afghanistan\", \"Iraq\", \"Kenya\", \"Nigeria\", \"Afghanistan\", \"Chad\", \"Chad\", \"Nigeria\", \"Iraq\", \"Iraq\", \"Iraq\", \"Yemen\", \"Afghanistan\", \"Syria\", \"Niger\", \"Niger\", \"United States\", \"Iraq\", \"Iraq\", \"Afghanistan\", \"Afghanistan\", \"Afghanistan\", \"Somalia\", \"Nigeria\", \"Syria\", \"Somalia\", \"Yemen\", \"Afghanistan\", \"Afghanistan\", \"Somalia\", \"Afghanistan\", \"Syria\", \"Afghanistan\", \"Nigeria\", \"Nigeria\", \"China\", \"Iraq\", \"Iraq\", \"Syria\", \"Syria\", \"Nigeria\", \"Nigeria\", \"Somalia\", \"Syria\", \"Syria\", \"Syria\", \"Syria\", \"Yemen\", \"Syria\", \"Sudan\", \"Sudan\", \"Iraq\", \"Iraq\", \"Afghanistan\", \"Afghanistan\", \"Afghanistan\", \"Kuwait\", \"Tunisia\", \"Somalia\", \"Syria\", \"Syria\", \"Afghanistan\", \"Syria\", \"Syria\", \"Syria\", \"Somalia\", \"Mali\", \"Nigeria\", \"Somalia\", \"Syria\", \"Syria\", \"Syria\", \"Libya\", \"Afghanistan\", \"Yemen\", \"Libya\", \"Pakistan\", \"Nigeria\", \"Nigeria\", \"Yemen\", \"Egypt\", \"Egypt\", \"Egypt\", \"Egypt\", \"Egypt\", \"Egypt\", \"Egypt\", \"Nigeria\", \"Iraq\", \"Nigeria\", \"Nigeria\", \"Iraq\", \"Iraq\", \"Afghanistan\", \"Kenya\", \"Nigeria\", \"Nigeria\", \"Nigeria\", \"Syria\", \"Yemen\", \"Yemen\", \"Iraq\", \"Iraq\", \"Iraq\", \"Chad\", \"Syria\", \"Yemen\", \"Iraq\", \"Nigeria\", \"Nigeria\", \"Nigeria\", \"Nigeria\", \"Afghanistan\", \"Chad\", \"Yemen\", \"Iraq\", \"Iraq\", \"Pakistan\", \"Chad\", \"Syria\", \"Syria\", \"Nigeria\", \"Nigeria\", \"Iraq\", \"Libya\", \"Kenya\", \"Cameroon\", \"Iraq\", \"Afghanistan\", \"Yemen\", \"Iraq\", \"Iraq\", \"Nigeria\", \"Afghanistan\", \"Yemen\", \"Iraq\", \"Iraq\", \"Somalia\", \"Somalia\", \"Nigeria\", \"Nigeria\", \"Nigeria\", \"Nigeria\", \"Yemen\", \"Chad\", \"Iraq\", \"Iraq\", \"Iraq\", \"Nigeria\", \"Nigeria\", \"Nigeria\", \"Pakistan\", \"Afghanistan\", \"Afghanistan\", \"Ukraine\", \"Iraq\", \"Iraq\", \"Iraq\", \"Pakistan\", \"Tanzania\", \"Afghanistan\", \"Afghanistan\", \"Iraq\", \"Cameroon\", \"Somalia\", \"Nigeria\", \"Somalia\", \"Somalia\", \"Afghanistan\", \"Nigeria\", \"Nigeria\", \"Nigeria\", \"Niger\", \"Yemen\", \"Iraq\", \"Iraq\", \"Egypt\", \"Iraq\", \"Nigeria\", \"Nigeria\", \"Chad\", \"Nigeria\", \"Nigeria\", \"Nigeria\", \"Algeria\", \"Iraq\", \"Somalia\", \"Yemen\", \"Iraq\", \"Turkey\", \"Yemen\", \"Iraq\", \"Nigeria\", \"Afghanistan\", \"Cameroon\", \"Iraq\", \"Syria\", \"Somalia\", \"Afghanistan\", \"Cameroon\", \"Iraq\", \"Iraq\", \"Iraq\", \"Iraq\", \"Nigeria\", \"Nigeria\", \"Nigeria\", \"Nigeria\", \"Nigeria\", \"Afghanistan\", \"Afghanistan\", \"Afghanistan\", \"Iraq\", \"Iraq\", \"Iraq\", \"Somalia\", \"Nigeria\", \"Nigeria\", \"Cameroon\", \"Chad\", \"Somalia\", \"Iraq\", \"Yemen\", \"Nigeria\", \"India\", \"Yemen\", \"Nigeria\", \"Iraq\", \"Somalia\", \"Afghanistan\", \"Nigeria\", \"Nigeria\", \"Iraq\", \"Syria\", \"Afghanistan\", \"Pakistan\", \"Yemen\", \"Iraq\", \"Iraq\", \"Afghanistan\", \"Syria\", \"Iraq\", \"Libya\", \"Yemen\", \"Nigeria\", \"Nigeria\", \"Syria\", \"Afghanistan\", \"Afghanistan\", \"Afghanistan\", \"Nigeria\", \"Iraq\", \"Mali\", \"Somalia\", \"Central African Republic\", \"Afghanistan\", \"Nigeria\", \"Iraq\", \"Iraq\", \"Nigeria\", \"Iraq\", \"Syria\", \"Syria\", \"Syria\", \"Iraq\", \"Saudi Arabia\", \"Afghanistan\", \"Afghanistan\", \"Pakistan\", \"Mali\", \"Afghanistan\", \"Afghanistan\", \"Afghanistan\", \"Iran\", \"Yemen\", \"Afghanistan\", \"Libya\", \"Syria\", \"Syria\", \"Iraq\", \"Afghanistan\", \"Ukraine\", \"Somalia\", \"Syria\", \"Afghanistan\", \"Cameroon\", \"Nigeria\", \"Yemen\", \"Afghanistan\", \"Afghanistan\", \"Cameroon\", \"Afghanistan\", \"Iraq\", \"Iraq\", \"Nigeria\", \"Libya\", \"Pakistan\", \"Iraq\", \"Iraq\", \"Somalia\", \"Egypt\", \"Pakistan\", \"Afghanistan\", \"Iraq\", \"Afghanistan\", \"Thailand\", \"Nigeria\", \"Iraq\", \"Iraq\", \"Iraq\", \"Yemen\", \"Somalia\", \"Iraq\", \"Yemen\", \"Turkey\", \"Iraq\", \"Syria\", \"Syria\", \"Syria\", \"Afghanistan\", \"Iraq\", \"Iraq\", \"Syria\", \"Afghanistan\", \"Somalia\", \"Iraq\", \"Yemen\", \"Nigeria\", \"Iraq\", \"Iraq\", \"Yemen\", \"Iraq\", \"Iraq\", \"Afghanistan\", \"Pakistan\", \"Somalia\", \"Nigeria\", \"Cameroon\", \"Nigeria\", \"Iraq\", \"Afghanistan\", \"Syria\", \"Central African Republic\", \"Somalia\", \"Afghanistan\", \"Nigeria\", \"Somalia\", \"Iraq\", \"Syria\", \"Yemen\", \"Nigeria\", \"Afghanistan\", \"Nigeria\", \"Somalia\", \"Somalia\", \"Pakistan\", \"Iraq\", \"Iraq\", \"Iraq\", \"Democratic Republic of the Congo\", \"Nigeria\", \"Nigeria\", \"Afghanistan\", \"Yemen\", \"Yemen\", \"Syria\", \"Afghanistan\", \"Cameroon\", \"Cameroon\", \"Nigeria\", \"Nigeria\", \"Yemen\", \"Syria\", \"Syria\", \"Somalia\", \"Iraq\", \"Iraq\", \"Afghanistan\", \"Afghanistan\", \"Afghanistan\", \"Somalia\", \"Turkey\", \"Pakistan\", \"Afghanistan\", \"Afghanistan\", \"Afghanistan\", \"Iraq\", \"Syria\", \"Libya\", \"Syria\", \"Afghanistan\", \"Turkey\", \"Iraq\", \"Somalia\", \"Somalia\", \"Yemen\", \"Yemen\", \"Yemen\", \"Yemen\", \"Yemen\", \"Yemen\", \"Iraq\", \"Iraq\", \"Iraq\", \"Democratic Republic of the Congo\", \"Afghanistan\", \"Afghanistan\", \"Nigeria\", \"Burundi\", \"Yemen\", \"Syria\", \"Afghanistan\", \"Iraq\", \"Iraq\", \"Pakistan\", \"Iraq\", \"South Sudan\", \"Afghanistan\", \"Syria\", \"Syria\", \"Nigeria\", \"Syria\", \"Syria\", \"Syria\", \"Afghanistan\", \"Afghanistan\", \"Nigeria\", \"Iraq\", \"Iraq\", \"Cameroon\", \"Yemen\", \"Afghanistan\", \"Pakistan\", \"Libya\", \"Afghanistan\", \"Somalia\", \"Syria\", \"Syria\", \"China\", \"Nigeria\", \"Nigeria\", \"Nigeria\", \"Nigeria\", \"Syria\", \"Somalia\", \"Iraq\", \"Somalia\", \"Somalia\", \"Afghanistan\", \"Cameroon\", \"Nigeria\", \"Iraq\", \"Afghanistan\", \"Yemen\", \"Yemen\", \"Iraq\", \"Niger\", \"Nigeria\", \"Mozambique\", \"Cameroon\", \"Afghanistan\", \"Iraq\", \"Nigeria\", \"Afghanistan\", \"Iraq\", \"Afghanistan\", \"Afghanistan\", \"Iraq\", \"Iraq\", \"Afghanistan\", \"Afghanistan\", \"Afghanistan\", \"Afghanistan\", \"Iraq\", \"Nigeria\", \"Nigeria\", \"Nigeria\", \"Afghanistan\", \"Afghanistan\", \"Afghanistan\", \"Iraq\", \"Nigeria\", \"Afghanistan\", \"Afghanistan\", \"Iraq\", \"Afghanistan\", \"Afghanistan\", \"Afghanistan\", \"Afghanistan\", \"Yemen\", \"Iraq\", \"Niger\", \"Afghanistan\", \"Syria\", \"Afghanistan\", \"South Sudan\", \"Iraq\", \"Iraq\", \"Iraq\", \"Chad\", \"Turkey\", \"Afghanistan\", \"Nigeria\", \"Nigeria\", \"Afghanistan\", \"Syria\", \"Afghanistan\", \"Afghanistan\", \"Iraq\", \"Afghanistan\", \"Turkey\", \"Chad\", \"Chad\", \"Cameroon\", \"Afghanistan\", \"Afghanistan\", \"Iraq\", \"Afghanistan\", \"Iraq\", \"Burundi\", \"Pakistan\", \"Afghanistan\", \"Afghanistan\", \"Nigeria\", \"Nigeria\", \"Iraq\", \"Nigeria\", \"Yemen\", \"Nigeria\", \"Afghanistan\", \"Afghanistan\", \"Cameroon\", \"Afghanistan\", \"Afghanistan\", \"Afghanistan\", \"Pakistan\", \"Afghanistan\", \"Afghanistan\", \"Lebanon\", \"Afghanistan\", \"Afghanistan\", \"Afghanistan\", \"Nigeria\", \"Cameroon\", \"Yemen\", \"Yemen\", \"Pakistan\", \"Cameroon\", \"Libya\", \"Pakistan\", \"Nigeria\", \"Nigeria\", \"Iraq\", \"Afghanistan\", \"Iraq\", \"Iraq\", \"Colombia\", \"Iraq\", \"Democratic Republic of the Congo\", \"Democratic Republic of the Congo\", \"Democratic Republic of the Congo\", \"Pakistan\", \"Libya\", \"Iraq\", \"Nigeria\", \"Iraq\", \"Afghanistan\", \"Niger\", \"Ethiopia\", \"Pakistan\", \"Iraq\", \"Afghanistan\", \"Iraq\", \"Egypt\", \"Afghanistan\", \"Iraq\", \"Somalia\", \"Afghanistan\", \"Yemen\", \"Somalia\", \"Yemen\", \"Afghanistan\", \"Afghanistan\", \"Afghanistan\", \"Iraq\", \"Egypt\", \"Sudan\", \"Lebanon\", \"Afghanistan\", \"Iraq\", \"Burundi\", \"Iraq\", \"Iraq\", \"Iraq\", \"Iraq\", \"Yemen\", \"Afghanistan\", \"Central African Republic\", \"Central African Republic\", \"Iraq\", \"Iraq\", \"Syria\", \"Syria\", \"Egypt\", \"Niger\", \"Iraq\", \"Lebanon\", \"Lebanon\", \"Afghanistan\", \"France\", \"France\", \"France\", \"South Sudan\", \"Iraq\", \"Iraq\", \"Iraq\", \"Iraq\", \"Somalia\", \"Nigeria\", \"Afghanistan\", \"Somalia\", \"Afghanistan\", \"Syria\", \"Iraq\", \"Yemen\", \"Pakistan\", \"Cameroon\", \"Afghanistan\", \"Nigeria\", \"Iraq\", \"Afghanistan\", \"Nigeria\", \"Nigeria\", \"Iraq\", \"Iraq\", \"Afghanistan\", \"South Sudan\", \"Mali\", \"Iraq\", \"Yemen\", \"Yemen\", \"Yemen\", \"Afghanistan\", \"Yemen\", \"Yemen\", \"Yemen\", \"Afghanistan\", \"Iraq\", \"Nigeria\", \"Iraq\", \"Iraq\", \"Tunisia\", \"Egypt\", \"Somalia\", \"Afghanistan\", \"Philippines\", \"Niger\", \"Nigeria\", \"Iraq\", \"Iraq\", \"Syria\", \"Democratic Republic of the Congo\", \"Democratic Republic of the Congo\", \"Nigeria\", \"Iraq\", \"Syria\", \"United States\", \"Yemen\", \"Central African Republic\", \"Iraq\", \"Ukraine\", \"Iraq\", \"Somalia\", \"Chad\", \"Afghanistan\", \"Yemen\", \"Iraq\", \"Nigeria\", \"Afghanistan\", \"Afghanistan\", \"Iraq\", \"Afghanistan\", \"Iraq\", \"Nigeria\", \"Somalia\", \"Syria\", \"Syria\", \"Syria\", \"Iraq\", \"Iraq\", \"Cameroon\", \"Afghanistan\", \"Burundi\", \"Burundi\", \"Burundi\", \"Iraq\", \"Nigeria\", \"Syria\", \"Syria\", \"Pakistan\", \"Nigeria\", \"Nigeria\", \"Somalia\", \"Iraq\", \"Iraq\", \"Yemen\", \"South Sudan\", \"Yemen\", \"Ethiopia\", \"Afghanistan\", \"Afghanistan\", \"Afghanistan\", \"Afghanistan\", \"Afghanistan\", \"Iraq\", \"Iraq\", \"Iraq\", \"Iraq\", \"Nigeria\", \"Iraq\", \"Iraq\", \"Iraq\", \"Nigeria\", \"Nigeria\", \"Afghanistan\", \"Iraq\", \"Iraq\", \"Syria\", \"Iraq\", \"Afghanistan\", \"Afghanistan\", \"Syria\", \"Iraq\", \"Iraq\", \"Nigeria\", \"Syria\", \"Afghanistan\", \"Somalia\", \"Nigeria\", \"Nigeria\", \"Iraq\", \"Syria\", \"Syria\", \"Nigeria\", \"Nigeria\", \"Pakistan\", \"Somalia\", \"Iraq\", \"Democratic Republic of the Congo\", \"Afghanistan\", \"Afghanistan\", \"Syria\", \"Syria\", \"Iraq\", \"Iraq\"], \"type\": \"scattergeo\", \"lon\": [42.550002, 14.658782, 37.096368, 43.650090000000006, 43.783288, 43.343621999999996, 43.907881, 8.460458000000001, 9.210930000000001, 16.588936, 15.784901000000001, 43.3, 13.818728, 13.72156, 13.563938, 13.563938, 13.86245, 13.876098999999998, 36.583889, 43.2475, 44.521941999999996, 41.44449, -5.553018, 42.543028, 42.377877000000005, 38.350817, 2.3705529999999997, 44.213536, 13.818728, 11.916542, 13.86245, 13.563938, 13.563938, 13.07357, 36.994167, 37.010577000000005, 44.321263, 43.13, 73.05042900000001, 70.43404, 35.854032000000004, 38.035565999999996, 13.15, 43.496145, 69.362853, 43.393035, 43.865158, 14.012777999999999, 37.48316, 6.683263, 38.350817, 12.19458, 42.826910999999996, 44.96035, 37.741825, 44.152668, 38.350817, 37.105288, 68.237154, 37.743035, 43.299955, 43.300715999999994, 71.33833299999999, 29.676132, 67.755, 69.13638900000001, 9.778034, 65.05424599999999, 43.3, 43.299859000000005, 44.26214, 37.779259, 36.418038, 12.801891, 13.45325, 13.389978, 13.431604, 13.489002, 13.53969, 13.396465, 37.549251, 38.522687, 37.80042, 38.357236, 38.420973, 38.375405, 38.632811, 37.650763, 38.017516, 37.50403, 36.156788, 25.68, 13.15, 13.15, 7.869175, 44.866944000000004, 42.08874, 42.088844, 13.170278, 8.404484, 42.564440999999995, 68.45439300000001, 44.842222, 2.0998740000000002, 44.539734, 37.795489, 33.803321000000004, 70.21106800000001, 43.764167, 44.266976, 68.637778, 9.778547999999999, 14.225060000000001, 44.409937, 44.395746, 44.409937, 45.165826, 30.85, 11.082491000000001, 13.150269, 13.149643, 13.15, 13.149911, 36.303049, 38.401809, 13.091964, 43.886423, 17.293203, 65.473889, 91.31365799999999, 29.045993, 14.225060000000001, 43.988959, 44.989051, 89.555768, 70.799971, 13.309714999999999, 12.616667, 44.40047, 44.489036, 12.75, 43.3, 13.882501000000001, 13.914167, 44.34494, 16.066667000000002, 98.769494, 98.165, 98.538749, 98.13385600000001, 36.292021999999996, 65.81654300000001, 43.886392, 43.544418, 43.820957, 14.207622, 38.400034000000005, 44.278690999999995, 43.683333000000005, 45.719031, 42.549952000000005, 12.195089, 13.242173000000001, 13.250507, 71.437996, 79.922001, 42.444521, 14.052937, 38.40266, 44.460652, -3.374197, 11.498889, 11.499444, 11.354722, 11.166846000000001, 36.433056, 70.332588, 11.961022, 43.164353000000006, 44.515556, 37.143775, 14.568441, 69.257784, 42.549955, 12.162778, 13.979722, 43.393035, 43.4275, 43.886392, 37.103453, 13.158175, 13.004862, 38.353295, 12.971055999999999, 12.847621, 12.847621, 13.004862, 13.158175, 22.242201, 22.242172, 22.242172, 45.340469, 13.259267000000001, 43.683333000000005, 43.683333000000005, 36.336110999999995, 44.507721999999994, 44.474802000000004, 11.082491000000001, 8.516667, 12.3125, 44.507721999999994, 12.195089, 8.883333, 36.691966, 12.630233, 64.051058, 43.886423, 45.083422, 42.55, 43.496293, 13.11077, 10.9807, 13.41939, 64.840689, 44.145278000000005, 43.719736, 12.951875, 45.429204, 45.429204, 37.160027, 12.064925, 64.56727, 17.464728, 13.150045, 13.153422, 13.15, 28.669444, 43.873334, 77.245805, 45.322858000000004, 12.739722, 43.766667, 62.507695, 64.349587, 13.150045, 124.419824, 40.066666999999995, 43.3, 36.136666999999996, 29.716666999999998, 43.65, 43.3, 68.578186, 69.159998, 43.871687, 43.654323, 43.683333000000005, 15.601668, 74.363412, 74.363546, 64.368945, 64.369167, 7.854722, 43.49292, 44.373868, 17.833056, 10.134260000000001, 64.369167, 14.207622, 14.185827, 44.213536, 44.213536, 44.213536, 44.213536, 43.886259, 40.7488, 40.7488, 36.709444, 37.503889, 75.521757, 44.881944, 43.103722, 44.881944, 13.684167, 13.691166, 36.474304, 36.574293, 44.44178, 36.633333, 36.633333, 20.13389, 20.066341, 68.654051, 43.783288, 43.783333, 36.633333, 36.633333, 69.18160999999999, 43.907902, 65.931256, 71.330855, 24.966667, 42.564485999999995, 45.340469, 71.01861099999999, 30.018866999999997, 12.089108, 12.151123, 30.059246, 67.019374, 44.233244, 43.809003999999995, 68.385044, 44.735949, 13.309444000000001, 43.783196000000004, 43.783196000000004, 36.315278, 37.274426, 44.26214, 66.05885, 13.309739000000002, 9.251267, 9.251315, 9.251315, 10.007128, 49.127513, 34.114928000000006, 34.114928000000006, 34.114928000000006, 69.918544, 39.661028, 11.167619, 43.918597, 68.925811, 14.485294, 64.71006899999999, 62.032097, 62.04039, 70.821924, 65.865516, 15.092017000000002, 36.299684, 43.295, 12.380308, 7.341397, 44.731721, 37.197222, 61.138411, 37.212777, 6.782386, 7.433160000000001, 13.866242999999999, 43.13, 34.112653, 45.467465999999995, 45.006995, 45.041111, 45.86954, 36.345110999999996, 67.115032, 41.094471999999996, 37.279444, 37.48333, 68.031068, 43.283574, 70.945402, 43.295899, 13.222047, 36.546198, 43.646876, 43.646876, 81.659273, 62.960135, 40.367542, 33.802708, 43.49686, 42.55, 43.639068, 44.018015000000005, 44.775642, 44.883333, 45.345713, 46.833056, 43.49686, 43.3725, -76.62609, 29.496584000000002, 43.328276, 66.185784, 14.092410000000001, 43.3, 44.44178, 44.328386, 43.3, 13.691435999999998, 43.3, 44.4, 70.447395, 42.55, 45.033333, 31.581366999999997, 44.936944, 44.511148, 43.462072, 48.486364, 45.346832, 44.425259999999994, 62.759013, 63.136191000000004, 36.320009000000006, 69.830904, 43.886388000000004, 43.482513, 69.04295, 68.915823, 68.6825, 68.429321, 68.915479, 68.925811, 36.320009000000006, 36.320009000000006, 36.320009000000006, 43.783333, 39.009361, 43.465833, 13.378457999999998, 44.85055, 36.294778, 70.08740300000001, 42.254721999999994, 42.55, 11.978822000000001, 68.915823, 44.228944, 36.671186, 44.299995, 45.037537, 45.032651, -4.904167, 6.5382940000000005, 44.330752000000004, 44.79438, 45.69972, 70.090885, 70.451013, 70.113889, 44.425259999999994, 44.425259999999994, 95.019992, 36.786072, 36.413359, 8.896158999999999, 8.896158999999999, 36.482654, 36.583884999999995, 62.48944399999999, 62.121463, 37.096354, -4.917027, 12.54557, 40.730296, 44.983678000000005, 40.14692, 69.37938299999999, 66.301389, 68.942522, 68.882423, 68.190837, 37.579852, 29.428089, 72.936762, 44.425259999999994, 44.521936, 43.821672, 36.320687, 65.086416, -3.007623, 43.821902, 64.147824, 62.156822999999996, 62.406389000000004, 69.149179, 67.15187, 44.021944, 64.369167, 13.159667, 14.537057, 13.153906, 29.496584000000002, 29.496584000000002, 62.121463, 70.06252099999999, 38.873767, 20.16882, 41.919647, 12.232488, 12.380184, 43.262615000000004, 43.318845, 64.991592, 65.000854, 43.3, 43.3, 44.051667, 11.967161, 13.627589000000002, 43.3, 43.783333, 43.3, 43.321753, 38.790234999999996, 38.605832, 12.569435, 63.788610999999996, 8.900563, 8.928101, 9.64741, 68.869175, 43.451236, 64.85305600000001, 38.278149, 68.102002, 49.985409000000004, 13.455988, 67.037879, 44.833003999999995, 44.773299, 12.780203, 38.819444, 9.351988, 9.349404, 9.348991999999999, 9.351619, 9.350660000000001, 10.181532, 13.599775, 64.47316, 64.47316, 44.010391999999996, 40.381955, 43.918597, 43.783333, 68.934585, 38.268761, 14.636973000000001, 63.005497, 66.84691, 44.385117, 44.420803, 12.418731, 20.074294000000002, 43.918597, 13.159667, 13.168748, 67.272572, 45.696944, 44.98601, 45.696944, 44.733453999999995, 37.150625, 70.383326, 43.506328, 67.039992, 43.963635, 43.465862, 70.145581, 64.295082, 43.493056, 66.779397, 13.150967000000001, 29.238615999999997, 43.873311, 37.504089, 13.150967000000001, 40.746266999999996, 45.5771, 94.104948, 13.150967000000001, 12.495389999999999, 12.356667, 45.034523, 43.783333, 68.42141099999999, 42.56892, 44.233563000000004, 45.067169, 40.739051, 40.739051, 36.641778, 36.496769, 36.591231, 13.150967000000001, 43.465833, 70.786638, 65.51126, 37.142638, 70.43233000000001, 13.145556, 37.510103, 43.864934000000005, 36.398428, 68.879797, 62.906837, 12.756611, 36.580439, 43.918597, 45.696740999999996, 44.078129, 44.852594, 68.868989, 69.50855, 22.639523, 43.584719, 43.516219, 43.918597, 64.779266, 44.396927000000005, 40.967589000000004, 11.770833, 69.632485, 15.06776, 15.033817, 11.082491000000001, 42.542993, 43.809003999999995, 43.725664, 45.156667, 68.81554799999999, 36.291467, 12.92882, 12.907079, -79.93310100000001, 43.918597, 44.34494, 64.786564, 68.440556, 68.714007, 42.29398, 8.384886, 37.153763, 45.122575, 44.986984, 68.79535, 64.12078699999999, 45.121340000000004, 68.105303, 37.141217, 69.142336, 13.150967000000001, 12.195, 75.989641, 45.287222, 43.391655, 40.754692999999996, 36.315265999999994, 11.93338, 12.246667, 45.310382000000004, 37.32141, 37.211583000000005, 40.746266999999996, 36.100211, 45.034551, 38.349653, 30.380187, 30.380187, 43.783333, 42.826623, 70.986575, 64.709583, 70.957542, 47.980266, 10.59688, 44.50868, 38.277925, 40.746266999999996, 68.903288, 37.502734000000004, 37.502734000000004, 37.501715000000004, 41.512013, -7.290036, 13.150967000000001, 42.54309, 40.746266999999996, 40.746266999999996, 40.746266999999996, 22.385867, 63.087258999999996, 44.204576, 22.635338, 69.159609, 13.686919, 13.686919, 44.988341999999996, 34.146305, 34.110425, 34.110425, 34.110425, 34.110425, 34.110425, 33.803276000000004, 13.566111, 43.918597, 13.421389000000001, 13.421389000000001, 43.54988, 43.342222, 68.76163100000001, 41.855022999999996, 12.151123, 13.150967000000001, 13.130556, 36.608044, 44.035140000000006, 42.951111, 44.328386, 43.3, 43.351667, 14.05, 36.641778, 44.988563, 42.354827, 11.082491000000001, 8.883333, 8.883333, 6.865925999999999, 64.47316, 14.100133, 44.883283, 42.356944, 42.542993, 69.74806099999999, 13.880556, 37.096368, 38.862271, 7.699986, 8.833333, 43.456278999999995, 20.077354, 41.855146999999995, 14.460318, 43.683552, 69.03145400000001, 44.883283, 43.254581, 43.790471000000004, 12.029786, 68.421639, 46.056321000000004, 44.507801, 43.455254, 45.339971000000006, 45.339971000000006, 14.205384, 12.260486, 13.615046, 13.566111, 43.962778, 15.049167, 44.282097, 44.282097, 44.282097, 13.615046, 13.615046, 13.615046, 69.71778, 66.766667, 69.451639, 22.720776, 44.341727, 41.860499, 43.587153, 69.861777, 39.205563, 69.64944399999999, 69.959119, 44.401651, 14.225060000000001, 46.009797, 12.630233, 42.546057, 43.595717, 64.5333, 12.231849, 12.415736, 13.818728, 13.311731, 44.021944, 43.479482, 43.290983000000004, 34.110425, 43.895811, 11.173062, 11.173062, 15.426944, 11.966177, 11.966177, 12.207258, 1.9881529999999998, 44.544569, 42.97077, 44.98601, 43.290289, 38.424287, 44.021944, 43.9118, 11.965948, 68.950979, 14.504037, 43.770322, 37.160027, 42.283417, 64.5333, 14.321009, 44.398701, 44.345763, 44.429263, 43.911811, 11.165830999999999, 11.173062, 11.173062, 11.173062, 13.06975, 64.772251, 65.049683, 65.049683, 42.224158, 43.779827000000004, 43.845054, 42.97077, 13.627589000000002, 13.3325, 14.321009, 14.594722, 45.304763, 43.287188, 45.377398, 11.966177, 75.46345600000001, 44.785, 13.2, 43.281158000000005, 42.235626, 68.416667, 12.906142, 12.906142, 43.501463, 36.248169, 71.18, 71.18718199999999, 44.666667, 43.260613, 43.781277, 65.3525, 38.299721999999996, 42.438266999999996, 20.224933, 49.365314, 13.151188000000001, 11.999819, 37.160027, 65.27972199999999, 64.100278, 66.713864, 13.422079, 43.13, -1.9230720000000001, 46.136016999999995, 20.807608, 67.355242, 13.666301999999998, 45.068171, 44.492483, 11.515661999999999, 45.149451, 37.238351, 37.238351, 37.238351, 43.13, 42.508109999999995, 69.01255, 65.70206999999999, 70.696374, -4.094176, 69.174886, 69.100806, 69.171298, 46.175668, 44.883283, 69.11490500000001, 22.640384, 37.160027, 36.305104, 44.625556, 64.840785, 37.776423, 42.9786, 36.70582, 64.772181, 13.881944, 12.207662, 44.49901, 68.54744000000001, 63.298253, 14.571228, 64.777245, 42.216667, 44.425259999999994, 11.919165, 16.586637, 70.761615, 43.493056, 44.44178, 45.204038, 34.252964, 72.379948, 62.735241, 43.783333, 63.837662, 100.54056, 12.509836, 43.3, 43.3, 43.327589, 45.020269, 46.620203000000004, 43.498199, 44.019927, 42.033468, 43.493056, 41.228351, 36.36606, 40.077971999999995, 64.374557, 43.3, 43.3, 37.583084, 69.205217, 42.54777, 41.864167, 45.686371, 13.755759, 43.3, 42.423376, 44.018075, 43.3, 43.13, 64.77292299999999, 69.507725, 44.078158, 11.966192, 14.290459, 13.771973999999998, 43.3, 66.13440600000001, 37.103072, 20.671951999999997, 42.233889000000005, 65.054289, 13.217873, 43.888824, 43.783333, 37.096289, 43.999631, 13.545297, 68.40602, 13.692484, 44.693619, 46.619859999999996, 71.382818, 42.380804, 42.378337, 42.378337, 28.074645, 12.756605, 12.75633, 64.12737800000001, 44.197184, 44.197184, 35.798009, 68.28478, 13.914285000000001, 13.914285000000001, 13.884167000000001, 13.68837, 45.787139, 36.564365, 36.564365, 41.620471, 43.961565, 43.964048, 70.750651, 66.650932, 64.28455600000001, 42.1745, 44.041046, 71.293773, 71.525189, 68.701766, 69.925475, 43.783165999999994, 37.093959000000005, 20.102365, 40.308863, 68.57773, 44.044637, 43.673605, 44.529002, 45.880148, 44.005753000000006, 44.010391999999996, 44.010391999999996, 44.010391999999996, 44.019323, 43.993889, 42.547804, 43.450776, 43.969894000000004, 29.454194, 66.13296899999999, 71.338548, 12.495389999999999, 29.366556, 45.449807, 36.283627, 70.051889, 43.491904, 44.380392, 71.508834, 43.783165999999994, 29.791779, 68.417397, 40.746153, 40.746266999999996, 9.748886, 37.121839, 40.746266999999996, 37.09972, 68.390119, 68.887283, 9.140175, 44.409909000000006, 43.351667, 14.038410999999998, 45.472778000000005, 65.064875, 71.573933, 13.186767000000001, 66.685427, 44.6959, 36.705721999999994, 36.678056, 81.53282800000001, 13.151388, 13.151388, 13.615985, 13.151388, 37.167394, 45.336655, 44.506622, 45.200936, 45.200936, 66.451436, 14.125651000000001, 6.656488, 43.492571999999996, 70.53043100000001, 44.191007, 44.185074, 43.531262, 12.604215, 6.671771000000001, 39.267027, 14.09157, 68.51995500000001, 43.891302, 13.420148000000001, 68.868066, 43.963635, 69.156859, 68.863499, 44.37214, 43.743567, 70.69604, 70.573577, 70.666297, 70.666297, 43.330339, 13.078766, 13.080169999999999, 13.630358, 68.667803, 68.667803, 67.713573, 44.334987, 7.405351, 71.225247, 70.87132199999999, 44.318988, 66.043989, 65.362895, 65.73546400000001, 65.99097900000001, 43.73093, 43.472225, 12.765903999999999, 64.775514, 36.305104, 70.61552900000001, 29.788925, 47.714458, 44.521936, 44.413493, 13.954070999999999, 44.571408, 70.621679, 11.966192, 12.317756, 68.572411, 37.083084, 69.71741, 62.12485699999999, 41.094766, 62.614227, 32.845471, 14.317182999999998, 14.317092, 14.149982000000001, 63.01475799999999, 68.41632800000001, 43.282214, 65.135087, 43.164066, 29.362928999999998, 70.64844699999999, 64.47316, 64.431892, 13.236847000000001, 14.518023999999999, 43.298471, 13.466941, 42.951122, 12.438058, 70.097949, 63.91133000000001, 14.150158, 64.240209, 64.268052, 64.314238, 66.981415, 63.91133000000001, 69.71741, 36.420722, 64.23983199999999, 64.354054, 61.501926, 13.295832999999998, 14.173754999999998, 44.010391999999996, 44.035351, 67.883333, 13.917057000000002, 20.066807, 68.436488, 13.187581, 12.495389999999999, 43.292114, 70.818241, 43.301382000000004, 43.781949, -72.412035, 44.401612, 29.449053000000003, 29.449948, 29.450490999999996, 69.29073299999999, 12.9, 43.262454999999996, 14.040833, 43.806538, 68.38130600000001, 12.765903999999999, 35.411512, 66.998479, 44.243224, 64.314238, 43.913133, 34.173178, 71.288397, 44.42142, 45.309401, 64.62142800000001, 43.637531, 44.899891, 43.637531, 69.911399, 69.911399, 64.117058, 44.069365999999995, 33.803209, 24.533333, 36.420664, 65.45940300000001, 43.41294, 29.358342999999998, 40.040256, 43.746388, 42.236244, 44.458057000000004, 45.320728, 70.461111, 20.675335999999998, 18.55819, 43.962718, 43.58102, 35.772576, 35.799170000000004, 33.803276000000004, 13.310012, 43.516331, 35.498738, 35.498738, 69.287662, 2.360369, 2.382071, 2.370616, 31.378071000000002, 44.328386, 44.069313, 43.496293, 42.601634000000004, 46.616659999999996, 13.688377, 64.834287, 42.545382000000004, 62.02844399999999, 37.13426, 42.670123, 43.249891999999996, 67.39863199999999, 13.9431, 69.156859, 12.423722, 43.351667, 70.798311, 8.591956, 8.591956, 43.299251, 43.632833000000005, 63.848268999999995, 32.01389, -8.030959, 44.342575, 48.636382, 48.48377, 48.636382, 70.574089, 45.718707, 43.637531, 43.258941, 63.781529000000006, 43.163999999999994, 13.150826, 43.782883, 43.745526, 10.184214, 33.803276000000004, 46.087288, 63.136191000000004, 124.20007, 13.309164, 8.591956, 43.299832, 42.543024, 37.003462, 29.612244, 29.612244, 13.459847, 43.783321, 38.2892, -117.277924, 45.305506, 20.712246, 43.394578, 37.974542, 43.281158000000005, 45.203881, 14.738038000000001, 63.71601, 45.033359000000004, 43.281158000000005, 6.664960000000001, 65.838674, 65.17406700000001, 43.283574, 63.78605, 44.535351, 12.978912, 42.976729, 40.367542, 40.367542, 40.367542, 43.281158000000005, 43.281158000000005, 14.012955999999999, 69.187794, 29.375884000000003, 29.362799, 29.551709999999996, 42.254766, 7.6995119999999995, 36.733118, 36.732997, 70.100966, 12.194783000000001, 8.875176, 42.545382000000004, 43.28351, 43.281158000000005, 43.627508, 33.173889, 45.084788, 36.159446, 64.852824, 64.852824, 64.852824, 64.852824, 64.852824, 43.129403, 43.163999999999994, 43.163999999999994, 43.88932, 13.761735, 42.236244, 42.670315, 43.163999999999994, 12.088592, 12.492668, 69.273052, 43.864934000000005, 43.130140999999995, 40.135034000000005, 43.264314, 65.852964, 67.42394399999999, 40.135034000000005, 43.281158000000005, 43.281158000000005, 12.421752, 37.3075, 69.269755, 44.529002, 13.150967000000001, 13.150967000000001, 43.163999999999994, 36.732997, 36.732997, 13.627317000000001, 13.150967000000001, 72.050801, 42.076624, 43.281158000000005, 29.449243, 65.475902, 64.86340799999999, 41.228246999999996, 41.228246999999996, 43.905515, 43.281158000000005], \"geo\": \"geo3\", \"marker\": {\"size\": 3, \"opacity\": 0.7, \"color\": \"#A60000\"}, \"lat\": [33.849946, 10.631559, 36.19957, 3.1165439999999998, 33.349906, 33.426322, 33.399539000000004, 9.228089, 9.410207000000002, 31.205314, 29.066827000000004, 33.416610999999996, 13.095123, 12.992768, 12.922965, 12.922965, 13.120723000000002, 13.120904999999999, 34.030278, 3.808333, 33.843098, 31.332063, 15.279522, 33.907614, 34.139611, 36.88774, 48.859171999999994, 15.355873, 13.095123, 11.562315, 13.120723000000002, 12.922965, 12.922965, 10.722752999999999, 36.375556, 36.358493, 33.333034000000005, 36.340108, 33.596908, 33.15045, 34.443954999999995, 35.963158, 11.833345, 36.043836999999996, 30.478008000000003, 35.880317, 34.196139, 11.162222, 47.595125, 12.164619, 36.88774, 10.61285, 36.626999, 34.077309, 48.068908, 33.949776, 36.88774, 35.735539, 32.687975, 48.068967, 33.416686, 33.416292999999996, 34.744167, 6.80554, 32.666111, 37.1175, 7.873036999999999, 31.623036, 33.416610999999996, 33.416591, 33.537227, 47.958573, 34.260096000000004, 11.885962, 10.64908, 10.62209, 10.630174, 10.633196, 10.62974, 10.622303, 47.096942999999996, 48.239965999999995, 49.18398, 48.58381, 48.363974, 48.632727, 48.725792999999996, 48.100345000000004, 48.55683, 47.942285999999996, 32.828133, 8.47, 11.833345, 11.833345, 7.832584, 33.997222, 36.80435, 36.804776000000004, 32.897222, 9.837465, -0.11786700000000001, 33.337301000000004, 14.415833, 15.3856, 34.27565, 47.991538, 31.132112, 34.674256, 34.369167, 33.589786, 27.956944, 7.875101, 12.377705, 33.328305, 35.470616, 33.328305, 34.273703999999995, 2.8666669999999996, 11.707236, 11.832676, 11.832983, 11.833289, 11.833377, 33.512243, 48.334617, 12.19103, 34.192537, 29.738689, 32.920833, 23.225618, -0.791773, 12.377705, 34.045421999999995, 12.861332, 25.329743, 34.195301, 13.700810999999998, 13.316667, 33.33928, 33.304969, 11.15, 33.416517999999996, 10.868335, 11.184167, 33.381183, 6.466667, 23.692726999999998, 20.431944, 23.830851000000003, 22.036199, 33.513093, 27.895546999999997, 34.192504, 34.674221, 33.851137, 12.373042, 48.333257, 33.370243, 34.6, 14.797532, 33.849863, 10.611011999999999, 11.930234, 12.040133, 33.993364, 37.11384, 33.79222, 13.549230999999999, 48.338463, 33.389934000000004, 14.928648, 10.304167, 10.289444, 10.316389, 10.283553, 33.595556, 33.712903999999995, 11.744181, 4.343786, 34.565, 36.215857, 11.398364, 34.014117, 33.850037, 10.658056, 10.917222, 35.880317, 35.869444, 34.192504, 35.73657, 11.854474, 10.431155, 48.36796, 10.690026, 10.869205000000001, 10.869205000000001, 10.431155, 11.854474, 32.762640000000005, 32.762628, 32.762628, 2.032623, 14.1319, 34.599779, 34.6, 33.447222, 33.251575, 15.316891, 11.707236, 12.0, 11.484444, 33.251575, 10.611011999999999, 9.933333, 33.641451, 11.829884, 31.488758, 34.192537, 33.699554, 33.850297, 36.043987, 14.252776, 7.986876, 11.648532000000001, 32.073451, 34.016389000000004, 34.992645, 11.133775, 13.978682999999998, 13.978682999999998, 36.2065, 10.218072, 31.823423, 28.972890000000003, 11.833071, 11.836016, 11.833333, -2.6213889999999997, 34.198855, 38.414079, 15.470031, 10.161389, 35.31674, 32.626478999999996, 31.593119, 11.833071, 6.942258, 36.85, 33.416667, 35.671110999999996, 11.016667, 3.1166669999999996, 33.416667, 33.421827, 36.995653999999995, 34.174884000000006, 34.608564, 33.396389, 7.476727, 31.410961999999998, 31.412934999999997, 31.604684999999996, 31.583060999999997, 7.905833, 34.929164, 33.664204999999995, 30.783056, 36.809293, 31.583044, 12.373042, 12.342068, 15.355873, 15.355873, 15.355873, 15.355873, 34.192417999999996, 36.518134, 36.518134, 34.730833000000004, 35.249722, 32.377503000000004, 13.056667, 36.597421999999995, 13.056667, 11.518889, 11.085936, 32.516689, 32.48558, 33.362392, 35.933333000000005, 35.933333000000005, 32.093151, 32.116714, 33.88629, 33.35, 33.349963, 35.933333000000005, 35.933333000000005, 34.518238000000004, 33.399611, 36.217304999999996, 35.488611999999996, 13.633332999999999, -0.11791099999999999, 2.032623, 33.925278000000006, 11.94938, 10.906661, 10.749466, 11.506841, 32.186145, 33.849777, 34.925074, 33.351088, 13.700334, 13.698610999999998, 33.349999, 33.349999, 32.568889, 35.131102, 33.537227, 36.117129999999996, 13.700304000000001, 7.689989999999999, 7.688267, 7.688267, 12.563017, 14.531382, 31.210603999999996, 31.210603999999996, 31.210603999999996, 33.337033, -0.452179, 10.28235, 33.404852000000005, 33.937059999999995, 13.256067999999999, 31.854465, 32.501463, 32.486807, 33.718056, 36.386884, 32.377533, 33.470217, 35.798611, 10.484913, 10.297885, 13.702801999999998, 36.4825, 25.389026, 36.658460999999996, 12.779693, 10.518283, 12.249185, 36.34, 31.212366999999997, 13.962564000000002, 12.789572, 12.775278, 13.879325, 35.290483, 36.700674, 34.368794, 34.5825, 34.56667, 33.196123, 33.450191, 36.684256, 33.421399, 10.750311, 33.071006, 13.416416, 13.416416, 18.391134, 25.995334, 36.656185, 31.131088000000002, 35.005103999999996, 33.85, 13.381146, 13.584512, 13.804982999999998, 13.05, 2.0374369999999997, 14.536389000000002, 35.005103999999996, 33.453056, 3.115381, 0.651532, 33.440376, 36.911907, 11.169146000000001, 33.416667, 33.362392, 33.277992, 33.416667, 11.086174, 33.416667, 33.3, 34.429836, 33.85, 12.8, 4.846851, 33.978611, 2.716456, 35.272259000000005, 8.403409, 2.03793, 33.376591999999995, 31.617649, 35.812, 35.814405, 32.571484000000005, 34.192532, 33.69121, 37.116762, 37.180194, 36.819722, 36.888175, 37.183545, 33.937059999999995, 35.814405, 35.814405, 35.814405, 33.35, 32.740792, 33.679444000000004, 14.015, 13.148959, 35.792978000000005, 33.646074, 32.041111, 33.85, 13.144520000000002, 37.180194, 33.281811, 35.855245000000004, 33.27264, 12.826116, 12.810493, 15.715278, 10.667369, 33.333366, 12.825747999999999, 18.520277, 33.467621, 34.849305, 33.443889, 33.295433, 33.295433, 26.420131, 1.786405, 33.866506, 9.542607, 9.542607, 33.907383, 34.030359000000004, 32.629444, 32.376695, 36.208348, 14.458585999999999, 10.66806, 36.515060999999996, 12.787191, 35.332163, 36.985233, 31.458333000000003, 32.391988, 32.910299, 32.850819, 36.183437, 0.4528, 33.995984, 33.295433, 33.843044, 33.34077, 35.813378, 35.123449, 16.777594, 33.340261, 34.925508, 33.306127000000004, 33.890556, 34.542154, 24.93778, 13.578889000000002, 31.583056, 11.830475, 11.78606, 11.827207000000001, 0.651532, 0.651532, 32.376695, 32.5886, 34.884225, 32.085556, 32.559762, 10.781062, 8.573450999999999, 33.402337, 33.434282, 35.12915, 33.534234999999995, 33.416667, 33.416667, 13.515, 11.745897, 10.890928, 33.416667, 33.35, 33.416667, 33.420768, 34.707778000000005, 34.667608, 10.407729, 30.548610999999998, 9.551136999999999, 9.503691, 7.531867, 32.911229999999996, 33.405854, 33.689444, 34.556886, 33.193665, 26.569727, 10.874528999999999, 32.559055, 1.980537, 1.918051, 12.496733, 48.438889, 7.512194, 7.511825999999999, 7.509575999999999, 7.509183, 7.506094999999999, 36.806495, 11.925601, 32.397381, 32.397381, 13.574698000000001, -0.18701600000000002, 33.404852000000005, 33.35, 33.796944, 34.550768, 13.538057, 31.661526000000002, 29.798416999999997, 33.279633000000004, 33.314696999999995, 10.491166999999999, 32.095005, 33.404852000000005, 11.830475, 11.831674000000001, 35.96069, 13.356667000000002, 12.894405, 13.356667000000002, 13.703256, 36.195282, 32.21665, 33.396138, 31.578569, 33.433795, 33.678926000000004, 32.974638, 35.686381, 34.929167, 35.892595, 11.831097999999999, -1.668333, 34.198803000000005, 47.942007000000004, 11.831097999999999, 36.507867, 13.988914999999999, 24.211913, 11.831097999999999, 9.203496000000001, 11.448611, 12.809561, 33.35, 33.547378, 16.892213, 17.567895999999998, 33.695694, 36.505971, 36.505971, 35.931027, 35.807246, 35.782814, 11.831097999999999, 33.679444000000004, 36.45166, 26.962396999999996, 36.233621, 33.150724, 10.768889, 48.007989, 33.164486, 32.696985, 36.511639, 34.894706, 11.156084, 36.169481, 33.404852000000005, 13.356647, 2.80254, 14.515319, 32.910951000000004, 32.615256, 32.766019, 33.3806, 34.832819, 33.404852000000005, 32.351956, 33.380328000000006, -1.71878, 12.154722, 34.164626, 12.089724, 12.112509, 11.707235, 33.907776, 34.925074, 34.583428999999995, 15.055278, 36.701483, 33.521545, 13.507695000000002, 13.492745999999999, 32.787473999999996, 33.404852000000005, 33.381146, 32.354621, 34.051667, 34.007712, 4.03035, 9.465555, 36.201668, 2.139694, 12.78173, 36.697777, 31.513011, 2.139288, 33.194977, 36.201436, 34.499493, 11.831097999999999, 10.6111, 39.466159999999995, 33.8625, 32.765373, 36.479726, 33.608823, 11.501058, 10.433056, 2.041429, 34.834509999999995, 35.188787, 36.507867, 32.626587, 12.802000999999999, 36.899389, 10.636974, 10.636974, 33.35, 33.637651, 35.183083, 31.853892, 34.351851, 29.374481, 35.893074, 2.7150060000000003, 36.698910999999995, 36.507867, 36.510918, 35.249058000000005, 35.249058000000005, 35.24907, -1.402726, 15.169412, 11.831097999999999, -0.357507, 36.507867, 36.507867, 36.507867, 32.753239, 34.571845, 15.352917000000001, 32.759165, 29.035158000000003, 12.636044, 12.636044, 12.856511, 31.083485999999997, 31.211645, 31.211645, 31.211645, 31.211645, 31.211645, 31.132092999999998, 12.924722000000001, 33.404852000000005, 11.653889, 11.653889, 35.064229, 33.456944, 33.463336, 3.935663, 10.749466, 11.831097999999999, 10.737778, 35.813023, 13.587248, 14.802222, 33.277992, 33.416667, 36.449444, 13.65, 35.931027, 12.856864, 34.207171, 11.707236, 9.933333, 9.933333, 12.344489, 32.397381, 13.330266, 13.057841, 34.084451, 33.907776, 32.908626, 13.665, 36.223024, 36.385436, 11.066583999999999, 9.516667, 34.922668, 32.119521, 3.935863, 12.360088000000001, 33.399232, 33.435888, 13.057841, 34.998618, 33.329102, 11.201047, 33.622478, 13.634341000000001, 33.251506, 33.414598, 2.037408, 2.037408, 12.372214, 11.765383, 12.673024, 12.924722000000001, 13.555278, 12.113056, 35.445215000000005, 35.445215000000005, 35.445215000000005, 12.673024, 12.673024, 12.673024, 32.64215, 32.633333, 37.382557, 48.441418, 33.378399, 36.322392, 33.383576, 32.747876, -6.857631, 34.855556, 33.339017, 33.423277, 12.377705, 2.658049, 11.829996000000001, -0.35604600000000003, 3.8385290000000003, 35.8464, 11.757829, 11.785445, 13.095122, 13.698885, 13.578889000000002, 34.928912, 33.425740000000005, 31.211645, 34.10729, 10.279142, 10.279142, 13.575556, 11.747224000000001, 11.747224000000001, 10.590653999999999, 36.072919, 33.571857, 2.407686, 12.894405, 33.402099, 36.975120000000004, 13.578889000000002, 33.403751, 11.747167999999999, 33.969093, 12.592552, 33.365916, 36.2065, 2.333385, 35.8464, 10.592528999999999, 33.429154, 33.269957, 33.417562, 33.402381, 10.28397, 10.279142, 10.279142, 10.279142, 11.818386, 32.348492, 32.270119, 32.270119, 36.187306, 33.366513, 33.354051, 2.407686, 10.890928, 10.744444, 10.592528999999999, 13.443889000000002, 2.022389, 33.407252, 13.131860999999999, 11.747224000000001, 32.126683, 13.210556, 10.751111, 33.435279, 3.507769, 37.0, 10.657376, 10.657376, 34.92832, 35.448271999999996, 34.89, 30.09477, 13.733332999999998, 33.40198, 33.344358, 36.193333, 36.5875, 33.802006, 30.752527, 16.930414000000003, 11.831283, 11.273867999999998, 36.2065, 35.631667, 35.710833, 33.0362, 11.654395, 36.34, 16.880217000000002, 4.061788, 4.653544, 35.739928000000006, 12.847211999999999, 33.695923, 33.378952000000005, 11.118867, 33.773348999999996, 34.230702, 34.230702, 34.230702, 36.34, 18.221272, 34.005245, 31.611435999999998, 33.559521999999994, 14.527126, 34.527578000000005, 34.526942, 34.532119, 35.522892, 13.057841999999999, 36.681449, 32.766973, 36.2065, 33.521881, 33.770833, 32.062143, 47.539638000000004, 2.4036779999999998, 35.981934, 32.345101, 11.135556, 10.592003, 16.278967, 35.917147, 35.629232, 12.331024000000001, 32.357991999999996, 33.7, 33.376591999999995, 11.611388, 31.203255, 33.052855, 34.929167, 33.362392, 4.734026, 31.227295, 33.924563, 32.685043, 33.35, 34.881999, 13.744439999999999, 13.101758, 33.416667, 33.416667, 33.468018, 13.129023000000002, 4.683825, 34.924364000000004, 13.573888, 38.064766, 34.929167, 37.055129, 33.558338, 36.848727000000004, 31.589683, 33.416667, 33.416667, 36.186638, 34.527738, -0.355837, 36.3225, 13.745574, 11.981311999999999, 33.416667, 34.006541999999996, 13.57562, 33.416667, 36.34, 32.350528999999995, 32.61651, 2.797757, 11.746996000000001, 12.678654, 11.459902, 33.416667, 32.918212, 35.73494, 5.764638, 3.516944, 36.205009999999994, 12.70277, 4.1222959999999995, 33.35, 36.472366, 13.967379000000001, 11.020053, 33.303239000000005, 11.085792999999999, 1.808134, 4.6839129999999995, 34.001644, 34.138904, 34.139196000000005, 34.139196000000005, -1.428373, 11.156907, 11.15664, 30.944939, 15.371777999999999, 15.371777999999999, 35.54006, 32.302876, 11.184199000000001, 11.184199000000001, 11.185278, 11.089718, 15.566652, 32.707311, 32.707311, 2.205454, 33.435344, 33.435192, 34.9569, 35.7642, 35.922251, 3.48277, 37.370458, 34.022975, 35.208863, 33.5687, 33.816537, 33.346763, 35.735614, 32.104717, 35.28798, 34.08968, 39.916839, 34.610512, 1.788087, 5.303997, 13.579618, 13.574698000000001, 13.574698000000001, 13.574698000000001, 13.574810999999999, 13.576667, 33.851815, 33.406669, 33.440707, 0.50103, 32.07005, 35.40976, 9.203496000000001, -3.381479, 15.515888, 33.515622, 33.510296999999994, 34.930162, 35.465576, 30.174344, 33.346763, 8.923803999999999, 33.545059, 36.503919, 36.507867, 8.183163, 36.184523, 36.507867, 36.178473, 32.729749, 33.453551000000004, 9.487417, 33.328275, 36.449444, 11.111769, 14.158610999999999, 32.284569, 33.957536, 32.887065, 32.342871, 2.6659, 35.982781, 35.990553000000006, 42.000923, 11.831976, 11.831976, 12.672892, 11.831976, 36.21966, 2.041092, 33.314006, 4.742941, 4.742941, 36.743125, 11.236943, 10.326373, 34.934778, 34.1057, 15.369445, 15.367245, 33.386534000000005, 13.317167000000001, 5.394959, -15.125708, 11.157893, 32.928757, 33.375365, 11.648931, 36.728590999999994, 33.433795, 36.998709000000005, 36.599740999999995, 33.666609, 34.481341, 34.060127, 34.038281, 34.081961, 34.081961, 33.438016, 11.821249, 11.825292999999999, 10.891553, 34.472681, 34.472681, 32.678371999999996, 33.362183, 9.075609, 36.722865999999996, 37.003821, 33.354589000000004, 35.672283, 36.001646, 37.346340000000005, 37.067481, 13.160563, 33.683205, 15.411662, 35.917833, 33.521881, 34.160309000000005, 8.927721, 30.376924, 33.843044, 33.546023, 13.885779999999999, 37.30012, 34.171831, 11.746996000000001, 11.48354, 33.26308, 36.286834999999996, 34.883379999999995, 32.376434, 34.368731, 34.277822, 39.933369, 13.533582999999998, 13.533676999999999, 11.050002000000001, 31.662674, 33.545978999999996, 33.434251, 32.031265999999995, 36.356491, -3.3529769999999997, 30.705992, 32.397381, 32.400023, 11.796639, 11.948538000000001, 33.419821999999996, 11.899922, 14.802067999999998, 9.32505, 34.978559000000004, 35.649546, 11.049678, 31.640078999999997, 31.657277, 31.678453, 30.139067999999998, 35.649546, 34.883379999999995, 34.18119, 31.639570000000003, 31.667757, 34.341415000000005, 12.609722, 11.106175, 13.574698000000001, 13.5869, 28.95, 11.183863, 32.116462, 28.282935, 11.838021000000001, 9.203496000000001, 33.434858, 36.506370000000004, 33.416757000000004, 33.344621000000004, 6.4630339999999995, 33.423292, 0.48816000000000004, 0.490108, 0.4901, 32.514466999999996, 32.8, 33.403996, 11.665, 34.198057, 32.109147, 15.411662, 7.2033059999999995, 30.183284000000004, 33.298123, 31.678453, 33.404897, 30.169853999999997, 35.725265, 33.325905999999996, 2.031406, 31.761470000000003, 13.413117000000002, 2.6168560000000003, 13.413117000000002, 33.791877, 33.791877, 31.553875, 35.675471, 31.132074, 13.066667, 34.1791, 36.2182, 34.927815, -3.44078, 33.191915, 34.366082, 36.229574, 33.388921999999994, 15.460392, 34.116944000000004, 5.766242, 4.394674, 33.438258000000005, 35.774954, 35.522391999999996, 35.520195, 31.132092999999998, 13.699382, 34.832914, 33.843471, 33.843471, 35.812976, 48.878562, 48.853843, 48.863009999999996, 6.881127, 33.277992, 35.675595, 36.043987, 36.763307, 4.683362000000001, 11.089722, 32.073596, -0.357948, 32.482177, 36.202104999999996, 36.47099, 13.316659, 29.808836, 11.033750999999999, 36.998709000000005, 9.284822, 36.449444, 36.452733, 12.002179, 12.002179, 33.417007, 35.03415, 31.597309000000003, 4.322385, 12.635498, 33.230986, 15.921257, 15.840986, 15.921257, 34.035533, 14.797479000000001, 13.413117000000002, 16.90866, 30.551261, 36.356648, 11.831882, 33.35009, 34.366093, 36.811427, 31.132092999999998, 4.392531, 35.812, 6.216519, 13.700701, 12.002179, 33.416524, 33.907783, 36.496536, 0.851741, 0.851741, 10.804628, 33.349846, 34.570964000000004, 34.07577, 13.223009, 6.316822, 33.456769, 48.395851, 33.435279, 4.7359089999999995, 13.003044000000001, 30.560553000000002, 12.800194, 33.435279, 13.058752, 31.497145, 32.078291, 33.450191, 30.552677000000003, 33.367067999999996, 11.509748, 2.411076, 36.656185, 36.656185, 36.656185, 33.435279, 33.435279, 11.162253999999999, 34.530179, -3.4108400000000003, -3.3525120000000004, -3.481207, 32.041211, 11.067196000000001, 34.733526, 34.733661, 33.905705, 10.612433, 9.755131, -0.357948, 33.450198, 33.435279, 13.413319, 8.364722, 15.819648, 12.954143, 32.070696999999996, 32.070696999999996, 32.070696999999996, 32.070696999999996, 32.070696999999996, 36.340041, 36.356648, 36.356648, 34.196853000000004, 11.349414999999999, 36.229574, 36.471105, 36.356648, 10.906042, 11.808143, 34.944102, 33.164486, 36.339646, 35.329652, 33.449495, 35.986887, 32.500159000000004, 35.329652, 33.435279, 33.435279, 10.828152000000001, 36.039722, 32.900733, 1.788087, 11.831097999999999, 11.831097999999999, 36.356648, 34.733661, 34.733661, 10.891605, 11.831097999999999, 34.200114, 2.3744669999999997, 33.435279, 0.490468, 32.963605, 36.238394, 37.054943, 37.054943, 34.166004, 33.435279], \"mode\": \"markers\"}], {\"height\": 700, \"dragmode\": \"zoom\", \"title\": \"Terrorist attacks with 7 or more fatalities in 2015\", \"geo3\": {\"showocean\": true, \"showcountries\": true, \"projection\": {\"type\": \"orthographic\"}, \"scope\": \"world\", \"showland\": true, \"showlakes\": true}}, {\"linkText\": \"Export to plot.ly\", \"showLink\": true})});</script>"
      ],
      "text/plain": [
       "<IPython.core.display.HTML object>"
      ]
     },
     "metadata": {},
     "output_type": "display_data"
    }
   ],
   "source": [
    "trace1 = go.Scattergeo(\n",
    "    geo='geo3',\n",
    "    lon=terror_data[(terror_data['year']==2015) & (terror_data['fatalities']>=7)]['longitude'],\n",
    "    lat=terror_data[(terror_data['year']==2015) & (terror_data['fatalities']>=7)]['latitude'],\n",
    "    mode='markers',\n",
    "    marker=go.Marker(\n",
    "        size = 3,\n",
    "        opacity=0.7,\n",
    "        color='#A60000',\n",
    "    ),\n",
    "    text=terror_data[(terror_data['year']==2015) & (terror_data['fatalities']>=7)]['country']\n",
    ")\n",
    "\n",
    "data=[trace1]\n",
    "\n",
    "layout = go.Layout(\n",
    "    title='Terrorist attacks with 7 or more fatalities in 2015',\n",
    "    height=700,\n",
    "    dragmode='zoom',\n",
    "    geo3=dict(\n",
    "        projection=dict(\n",
    "            type='orthographic', \n",
    "        ),\n",
    "        scope='world', \n",
    "        showlakes=True,\n",
    "        showocean=True,\n",
    "        showland=True,\n",
    "        showcountries=True,\n",
    "    )\n",
    ")\n",
    "\n",
    "fig = go.Figure(data=data, layout=layout)\n",
    "iplot(fig)"
   ]
  },
  {
   "cell_type": "markdown",
   "metadata": {},
   "source": [
    "Now look at Russia by year and analyse the situation more detailed. Let's create an animation."
   ]
  },
  {
   "cell_type": "code",
   "execution_count": 6,
   "metadata": {
    "collapsed": false,
    "scrolled": false
   },
   "outputs": [
    {
     "data": {
      "text/html": [
       "<div id=\"41219996-883e-4ec7-8c7a-5f0b9314f63b\" style=\"height: 700px; width: 1000px;\" class=\"plotly-graph-div\"></div><script type=\"text/javascript\">require([\"plotly\"], function(Plotly) { window.PLOTLYENV=window.PLOTLYENV || {};window.PLOTLYENV.BASE_URL=\"https://plot.ly\";\n",
       "        Plotly.plot(\n",
       "            '41219996-883e-4ec7-8c7a-5f0b9314f63b',\n",
       "            [{\"text\": [\"January 6, 1992<br>1 Killed, 0 Injured\", \"February 18, 1992<br>1 Killed, 0 Injured\", \"March 14, 1992<br>2 Killed, 1 Injured\", \"June 8, 1992<br>1 Killed, 0 Injured\", \"June 12, 1992<br>1 Killed, 3 Injured\", \"June 29, 1992<br>2 Killed, 0 Injured\", \"October 20, 1992<br>1 Killed, 18 Injured\", \"October 20, 1992<br>9 Killed, 5 Injured\", \"October 23, 1992<br>6 Killed, 2 Injured\", \"October 30, 1992<br>10 Killed, 0 Injured\"], \"type\": \"scattermapbox\", \"lon\": [45.683333000000005, 47.491066, 37.593134, 45.683333000000005, 37.616667, 45.683333000000005, 45.41099929999999, 104.3, 44.81623554, 44.715283], \"marker\": {\"size\": [8.0, 8.0, 9.546685944253776, 8.0, 8.0, 9.546685944253776, 8.0, 14.00947391408641, 12.633350804142763, 14.390967321030303], \"opacity\": 0.5, \"color\": \"#FF0000\"}, \"hoverinfo\": \"text\", \"lat\": [43.316666999999995, 42.978367999999996, 55.834316, 43.316666999999995, 55.75, 43.316666999999995, 43.36174637, 52.283333, 42.94997655, 43.147789], \"mode\": \"markers\"}, {\"text\": [\"January 6, 1992<br>0 Killed, 0 Injured\", \"January 17, 1992<br>0 Killed, 1 Injured\", \"February 6, 1992<br>0 Killed, 0 Injured\", \"February 15, 1992<br>0 Killed, 0 Injured\", \"March 27, 1992<br>0 Killed, 0 Injured\", \"April 6, 1992<br>0 Killed, 0 Injured\", \"September 7, 1992<br>0 Killed, 0 Injured\", \"September 26, 1992<br>0 Killed, 0 Injured\", \"October 10, 1992<br>0 Killed, 0 Injured\", \"October 19, 1992<br>0 Killed, 8 Injured\", \"October 30, 1992<br>0 Killed, 0 Injured\"], \"type\": \"scattermapbox\", \"lon\": [45.683333000000005, 47.491066, 45.683333000000005, 30.315265999999998, 42.979684999999996, 37.616667, 37.616667, 43.627361, 44.287096999999996, 37.616667, 44.67674065], \"marker\": {\"size\": [0.0, 8.0, 0.0, 0.0, 0.0, 0.0, 0.0, 0.0, 0.0, 13.594959986218404, 0.0], \"opacity\": 0.5, \"color\": \"#009999\"}, \"hoverinfo\": \"text\", \"lat\": [43.316666999999995, 42.978367999999996, 43.316666999999995, 59.934491, 44.114088, 55.75, 55.75, 43.484122, 43.04513, 55.75, 42.99677739], \"mode\": \"markers\"}],\n",
       "            {\"height\": 700, \"autosize\": true, \"mapbox\": {\"pitch\": 0, \"style\": \"light\", \"accesstoken\": \"pk.eyJ1IjoibWFrcy1zaCIsImEiOiJjaXpzaTJ1dXQwMDR6MnhvMWtzejBoZWZsIn0.Ih8a2l8sQDnkMzEXuuPJKA\", \"zoom\": 2, \"bearing\": 0, \"center\": {\"lat\": 64.25, \"lon\": 94.15}}, \"hovermode\": \"closest\", \"showlegend\": false, \"title\": \"Terrorist Attacks by Latitude/Longitude in Russia (1992-2015)\", \"updatemenus\": [{\"type\": \"buttons\", \"buttons\": [{\"args\": [null, {\"fromcurrent\": true, \"frame\": {\"duration\": 1100, \"redraw\": false}, \"transition\": {\"duration\": 1000, \"easing\": \"quadratic-in-out\"}}], \"label\": \"Play\", \"method\": \"animate\"}, {\"args\": [[null], {\"frame\": {\"duration\": 0, \"redraw\": false}, \"transition\": {\"duration\": 0}, \"mode\": \"immediate\"}], \"label\": \"Pause\", \"method\": \"animate\"}], \"xanchor\": \"right\", \"showactive\": false, \"pad\": {\"r\": 10, \"t\": 87}, \"direction\": \"left\", \"y\": 0, \"x\": 0.1, \"yanchor\": \"top\"}], \"width\": 1000, \"sliders\": [{\"yanchor\": \"top\", \"transition\": {\"duration\": 900, \"easing\": \"cubic-in-out\"}, \"xanchor\": \"left\", \"len\": 0.9, \"pad\": {\"b\": 10, \"t\": 50}, \"steps\": [{\"args\": [[\"1992\"], {\"frame\": {\"duration\": 900, \"redraw\": false}, \"transition\": {\"duration\": 900}, \"mode\": \"immediate\"}], \"label\": \"1992\", \"method\": \"animate\"}, {\"args\": [[\"1994\"], {\"frame\": {\"duration\": 900, \"redraw\": false}, \"transition\": {\"duration\": 900}, \"mode\": \"immediate\"}], \"label\": \"1994\", \"method\": \"animate\"}, {\"args\": [[\"1995\"], {\"frame\": {\"duration\": 900, \"redraw\": false}, \"transition\": {\"duration\": 900}, \"mode\": \"immediate\"}], \"label\": \"1995\", \"method\": \"animate\"}, {\"args\": [[\"1996\"], {\"frame\": {\"duration\": 900, \"redraw\": false}, \"transition\": {\"duration\": 900}, \"mode\": \"immediate\"}], \"label\": \"1996\", \"method\": \"animate\"}, {\"args\": [[\"1997\"], {\"frame\": {\"duration\": 900, \"redraw\": false}, \"transition\": {\"duration\": 900}, \"mode\": \"immediate\"}], \"label\": \"1997\", \"method\": \"animate\"}, {\"args\": [[\"1998\"], {\"frame\": {\"duration\": 900, \"redraw\": false}, \"transition\": {\"duration\": 900}, \"mode\": \"immediate\"}], \"label\": \"1998\", \"method\": \"animate\"}, {\"args\": [[\"1999\"], {\"frame\": {\"duration\": 900, \"redraw\": false}, \"transition\": {\"duration\": 900}, \"mode\": \"immediate\"}], \"label\": \"1999\", \"method\": \"animate\"}, {\"args\": [[\"2000\"], {\"frame\": {\"duration\": 900, \"redraw\": false}, \"transition\": {\"duration\": 900}, \"mode\": \"immediate\"}], \"label\": \"2000\", \"method\": \"animate\"}, {\"args\": [[\"2001\"], {\"frame\": {\"duration\": 900, \"redraw\": false}, \"transition\": {\"duration\": 900}, \"mode\": \"immediate\"}], \"label\": \"2001\", \"method\": \"animate\"}, {\"args\": [[\"2002\"], {\"frame\": {\"duration\": 900, \"redraw\": false}, \"transition\": {\"duration\": 900}, \"mode\": \"immediate\"}], \"label\": \"2002\", \"method\": \"animate\"}, {\"args\": [[\"2003\"], {\"frame\": {\"duration\": 900, \"redraw\": false}, \"transition\": {\"duration\": 900}, \"mode\": \"immediate\"}], \"label\": \"2003\", \"method\": \"animate\"}, {\"args\": [[\"2004\"], {\"frame\": {\"duration\": 900, \"redraw\": false}, \"transition\": {\"duration\": 900}, \"mode\": \"immediate\"}], \"label\": \"2004\", \"method\": \"animate\"}, {\"args\": [[\"2005\"], {\"frame\": {\"duration\": 900, \"redraw\": false}, \"transition\": {\"duration\": 900}, \"mode\": \"immediate\"}], \"label\": \"2005\", \"method\": \"animate\"}, {\"args\": [[\"2006\"], {\"frame\": {\"duration\": 900, \"redraw\": false}, \"transition\": {\"duration\": 900}, \"mode\": \"immediate\"}], \"label\": \"2006\", \"method\": \"animate\"}, {\"args\": [[\"2007\"], {\"frame\": {\"duration\": 900, \"redraw\": false}, \"transition\": {\"duration\": 900}, \"mode\": \"immediate\"}], \"label\": \"2007\", \"method\": \"animate\"}, {\"args\": [[\"2008\"], {\"frame\": {\"duration\": 900, \"redraw\": false}, \"transition\": {\"duration\": 900}, \"mode\": \"immediate\"}], \"label\": \"2008\", \"method\": \"animate\"}, {\"args\": [[\"2009\"], {\"frame\": {\"duration\": 900, \"redraw\": false}, \"transition\": {\"duration\": 900}, \"mode\": \"immediate\"}], \"label\": \"2009\", \"method\": \"animate\"}, {\"args\": [[\"2010\"], {\"frame\": {\"duration\": 900, \"redraw\": false}, \"transition\": {\"duration\": 900}, \"mode\": \"immediate\"}], \"label\": \"2010\", \"method\": \"animate\"}, {\"args\": [[\"2011\"], {\"frame\": {\"duration\": 900, \"redraw\": false}, \"transition\": {\"duration\": 900}, \"mode\": \"immediate\"}], \"label\": \"2011\", \"method\": \"animate\"}, {\"args\": [[\"2012\"], {\"frame\": {\"duration\": 900, \"redraw\": false}, \"transition\": {\"duration\": 900}, \"mode\": \"immediate\"}], \"label\": \"2012\", \"method\": \"animate\"}, {\"args\": [[\"2013\"], {\"frame\": {\"duration\": 900, \"redraw\": false}, \"transition\": {\"duration\": 900}, \"mode\": \"immediate\"}], \"label\": \"2013\", \"method\": \"animate\"}, {\"args\": [[\"2014\"], {\"frame\": {\"duration\": 900, \"redraw\": false}, \"transition\": {\"duration\": 900}, \"mode\": \"immediate\"}], \"label\": \"2014\", \"method\": \"animate\"}, {\"args\": [[\"2015\"], {\"frame\": {\"duration\": 900, \"redraw\": false}, \"transition\": {\"duration\": 900}, \"mode\": \"immediate\"}], \"label\": \"2015\", \"method\": \"animate\"}], \"active\": 0, \"currentvalue\": {\"prefix\": \"Year:\", \"visible\": true, \"xanchor\": \"right\", \"font\": {\"size\": 20}}, \"x\": 0.1, \"y\": 0}], \"slider\": {\"plotlycommand\": \"animate\", \"visible\": true, \"args\": [\"slider.value\", {\"duration\": 1000, \"ease\": \"cubic-in-out\"}], \"values\": [\"1992\", \"1994\", \"1995\", \"1996\", \"1997\", \"1998\", \"1999\", \"2000\", \"2001\", \"2002\", \"2003\", \"2004\", \"2005\", \"2006\", \"2007\", \"2008\", \"2009\", \"2010\", \"2011\", \"2012\", \"2013\", \"2014\", \"2015\"], \"initialValue\": \"1992\"}},\n",
       "            {\"linkText\": \"Export to plot.ly\", \"showLink\": true}\n",
       "        ).then(function () {return Plotly.addFrames('41219996-883e-4ec7-8c7a-5f0b9314f63b',[{\"name\": \"1992\", \"data\": [{\"text\": [\"January 6, 1992<br>1 Killed, 0 Injured\", \"February 18, 1992<br>1 Killed, 0 Injured\", \"March 14, 1992<br>2 Killed, 1 Injured\", \"June 8, 1992<br>1 Killed, 0 Injured\", \"June 12, 1992<br>1 Killed, 3 Injured\", \"June 29, 1992<br>2 Killed, 0 Injured\", \"October 20, 1992<br>1 Killed, 18 Injured\", \"October 20, 1992<br>9 Killed, 5 Injured\", \"October 23, 1992<br>6 Killed, 2 Injured\", \"October 30, 1992<br>10 Killed, 0 Injured\"], \"type\": \"scattermapbox\", \"lon\": [45.683333000000005, 47.491066, 37.593134, 45.683333000000005, 37.616667, 45.683333000000005, 45.41099929999999, 104.3, 44.81623554, 44.715283], \"marker\": {\"size\": [8.0, 8.0, 9.546685944253776, 8.0, 8.0, 9.546685944253776, 8.0, 14.00947391408641, 12.633350804142763, 14.390967321030303], \"opacity\": 0.5, \"color\": \"#FF0000\"}, \"hoverinfo\": \"text\", \"lat\": [43.316666999999995, 42.978367999999996, 55.834316, 43.316666999999995, 55.75, 43.316666999999995, 43.36174637, 52.283333, 42.94997655, 43.147789], \"mode\": \"markers\"}, {\"text\": [\"January 6, 1992<br>0 Killed, 0 Injured\", \"January 17, 1992<br>0 Killed, 1 Injured\", \"February 6, 1992<br>0 Killed, 0 Injured\", \"February 15, 1992<br>0 Killed, 0 Injured\", \"March 27, 1992<br>0 Killed, 0 Injured\", \"April 6, 1992<br>0 Killed, 0 Injured\", \"September 7, 1992<br>0 Killed, 0 Injured\", \"September 26, 1992<br>0 Killed, 0 Injured\", \"October 10, 1992<br>0 Killed, 0 Injured\", \"October 19, 1992<br>0 Killed, 8 Injured\", \"October 30, 1992<br>0 Killed, 0 Injured\"], \"type\": \"scattermapbox\", \"lon\": [45.683333000000005, 47.491066, 45.683333000000005, 30.315265999999998, 42.979684999999996, 37.616667, 37.616667, 43.627361, 44.287096999999996, 37.616667, 44.67674065], \"marker\": {\"size\": [0.0, 8.0, 0.0, 0.0, 0.0, 0.0, 0.0, 0.0, 0.0, 13.594959986218404, 0.0], \"opacity\": 0.5, \"color\": \"#009999\"}, \"hoverinfo\": \"text\", \"lat\": [43.316666999999995, 42.978367999999996, 43.316666999999995, 59.934491, 44.114088, 55.75, 55.75, 43.484122, 43.04513, 55.75, 42.99677739], \"mode\": \"markers\"}]}, {\"name\": \"1994\", \"data\": [{\"text\": [\"March 10, 1994<br>1 Killed, 0 Injured\", \"March 12, 1994<br>11 Killed, 0 Injured\", \"March 21, 1994<br>1 Killed, 0 Injured\", \"April 1, 1994<br>1 Killed, 2 Injured\", \"April 5, 1994<br>1 Killed, 0 Injured\", \"April 25, 1994<br>1 Killed, 0 Injured\", \"May 26, 1994<br>1 Killed, 0 Injured\", \"May 27, 1994<br>3 Killed, 0 Injured\", \"June 5, 1994<br>1 Killed, 0 Injured\", \"June 7, 1994<br>1 Killed, 2 Injured\", \"July 28, 1994<br>6 Killed, 19 Injured\", \"October 17, 1994<br>1 Killed, 1 Injured\", \"October 25, 1994<br>1 Killed, 0 Injured\", \"October 27, 1994<br>1 Killed, 1 Injured\", \"November 2, 1994<br>1 Killed, 0 Injured\", \"November 10, 1994<br>1 Killed, 0 Injured\", \"November 18, 1994<br>1 Killed, 0 Injured\"], \"type\": \"scattermapbox\", \"lon\": [54.8715, 127.53388899999999, 44.7583, 27.6, 37.616667, 131.933333, 44.67674065, 45.41099929999999, 37.616667, 37.616667, 43.05102, 37.616667, 47.491066, 37.732844, 37.616667, 37.699984, 37.616667], \"marker\": {\"size\": [8.0, 14.745011707183435, 8.0, 8.0, 8.0, 8.0, 8.0, 10.586585441618618, 8.0, 8.0, 12.633350804142763, 8.0, 8.0, 8.0, 8.0, 8.0, 8.0], \"opacity\": 0.5, \"color\": \"#FF0000\"}, \"hoverinfo\": \"text\", \"lat\": [55.4805, 50.274722, 43.4049, 57.816667, 55.75, 43.166667, 42.99677739, 43.36174637, 55.75, 55.75, 44.050154, 55.75, 42.978367999999996, 55.771343, 55.75, 55.618081999999994, 55.75], \"mode\": \"markers\"}, {\"text\": [\"January 4, 1994<br>0 Killed, 0 Injured\", \"January 14, 1994<br>0 Killed, 0 Injured\", \"February 13, 1994<br>0 Killed, 0 Injured\", \"March 12, 1994<br>0 Killed, 0 Injured\", \"March 19, 1994<br>0 Killed, 0 Injured\", \"April 13, 1994<br>0 Killed, 0 Injured\", \"April 13, 1994<br>0 Killed, 0 Injured\", \"April 20, 1994<br>0 Killed, 0 Injured\", \"April 26, 1994<br>0 Killed, 0 Injured\", \"May 11, 1994<br>0 Killed, 2 Injured\", \"May 16, 1994<br>0 Killed, 0 Injured\", \"May 26, 1994<br>0 Killed, 0 Injured\", \"June 1, 1994<br>0 Killed, 1 Injured\", \"June 8, 1994<br>0 Killed, 1 Injured\", \"June 16, 1994<br>0 Killed, 1 Injured\", \"June 27, 1994<br>0 Killed, 0 Injured\", \"June 28, 1994<br>0 Killed, 0 Injured\", \"July 16, 1994<br>0 Killed, 0 Injured\", \"July 21, 1994<br>0 Killed, 0 Injured\", \"September 14, 1994<br>0 Killed, 0 Injured\", \"September 14, 1994<br>0 Killed, 0 Injured\", \"September 14, 1994<br>0 Killed, 0 Injured\", \"October 4, 1994<br>0 Killed, 0 Injured\", \"October 27, 1994<br>0 Killed, 0 Injured\", \"November 3, 1994<br>0 Killed, 0 Injured\", \"November 17, 1994<br>0 Killed, 3 Injured\", \"November 21, 1994<br>0 Killed, 0 Injured\", \"November 23, 1994<br>0 Killed, 0 Injured\"], \"type\": \"scattermapbox\", \"lon\": [30.315265999999998, 82.916667, 45.683333000000005, 40.78826046, 45.683333000000005, 60.60085600000001, 48.183333000000005, 132.0139418, 37.44, 112.891865, 30.3949, 45.04656834, 37.616667, 37.616667, 37.616667, 60.60085600000001, 43.133333, 44.81623554, 113.49396200000001, 37.616667, 45.683333000000005, 45.41099929999999, 37.616667, 47.491066, 45.683333000000005, 37.616667, 60.60085600000001, 50.837902], \"marker\": {\"size\": [0.0, 0.0, 0.0, 0.0, 0.0, 0.0, 0.0, 0.0, 0.0, 9.546685944253776, 0.0, 0.0, 8.0, 8.0, 8.0, 0.0, 0.0, 0.0, 0.0, 0.0, 0.0, 0.0, 0.0, 0.0, 0.0, 10.586585441618618, 0.0, 0.0], \"opacity\": 0.5, \"color\": \"#009999\"}, \"hoverinfo\": \"text\", \"lat\": [59.934491, 55.033333, 43.316666999999995, 57.81562019, 43.316666999999995, 56.832639, 42.116667, 43.184651, 55.89, 53.99870799999999, 59.992472, 43.07908558, 55.75, 55.75, 55.75, 56.832639, 44.216667, 42.94997655, 52.015992, 55.75, 43.316666999999995, 43.36174637, 55.75, 42.978367999999996, 43.316666999999995, 55.75, 56.832639, 61.670196999999995], \"mode\": \"markers\"}]}, {\"name\": \"1995\", \"data\": [{\"text\": [\"January 5, 1995<br>2 Killed, 0 Injured\", \"January 25, 1995<br>1 Killed, 1 Injured\", \"February 1, 1995<br>1 Killed, 0 Injured\", \"March 1, 1995<br>1 Killed, 0 Injured\", \"March 29, 1995<br>2 Killed, 0 Injured\", \"April 6, 1995<br>1 Killed, 0 Injured\", \"June 14, 1995<br>121 Killed, 0 Injured\", \"August 4, 1995<br>2 Killed, 0 Injured\", \"October 6, 1995<br>3 Killed, 15 Injured\", \"October 14, 1995<br>1 Killed, 0 Injured\", \"October 18, 1995<br>1 Killed, 3 Injured\", \"October 30, 1995<br>1 Killed, 0 Injured\", \"November 26, 1995<br>1 Killed, 1 Injured\", \"December 8, 1995<br>1 Killed, 0 Injured\", \"December 12, 1995<br>4 Killed, 0 Injured\", \"December 29, 1995<br>1 Killed, 0 Injured\", \"December 29, 1995<br>1 Killed, 0 Injured\"], \"type\": \"scattermapbox\", \"lon\": [37.616667, 37.616667, 38.883333, 37.616667, 135.1, 37.616667, 44.165833, 37.616667, 45.683333000000005, 37.616667, 37.616667, 37.616667, 108.828773, 61.263611, 46.087993, 45.9, 45.683333000000005], \"marker\": {\"size\": [9.546685944253776, 8.0, 8.0, 8.0, 9.546685944253776, 8.0, 27.176921280622068, 9.546685944253776, 10.586585441618618, 8.0, 8.0, 8.0, 8.0, 8.0, 11.392401564776574, 8.0, 8.0], \"opacity\": 0.5, \"color\": \"#FF0000\"}, \"hoverinfo\": \"text\", \"lat\": [55.75, 55.75, 54.766667000000005, 55.75, 48.466667, 55.75, 44.783889, 55.75, 43.316666999999995, 55.75, 55.75, 55.75, 51.273745, 55.310832999999995, 43.427011, 43.15, 43.316666999999995], \"mode\": \"markers\"}, {\"text\": [\"January 10, 1995<br>0 Killed, 0 Injured\", \"January 15, 1995<br>0 Killed, 0 Injured\", \"March 1, 1995<br>0 Killed, 0 Injured\", \"May 3, 1995<br>0 Killed, 0 Injured\", \"May 3, 1995<br>0 Killed, 0 Injured\", \"June 7, 1995<br>0 Killed, 0 Injured\", \"July 1, 1995<br>0 Killed, 0 Injured\", \"August 14, 1995<br>0 Killed, 0 Injured\", \"August 22, 1995<br>0 Killed, 0 Injured\", \"August 24, 1995<br>0 Killed, 1 Injured\", \"September 12, 1995<br>0 Killed, 0 Injured\", \"September 13, 1995<br>0 Killed, 0 Injured\", \"September 20, 1995<br>0 Killed, 4 Injured\", \"September 21, 1995<br>0 Killed, 2 Injured\", \"October 17, 1995<br>0 Killed, 1 Injured\", \"October 20, 1995<br>0 Killed, 0 Injured\", \"November 11, 1995<br>0 Killed, 0 Injured\", \"November 20, 1995<br>0 Killed, 6 Injured\", \"December 5, 1995<br>0 Killed, 0 Injured\"], \"type\": \"scattermapbox\", \"lon\": [30.315265999999998, 37.616667, 131.933333, 37.649825, 37.657275, 107.6, 129.729377, 47.491066, 37.616667, 47.491066, 37.616667, 37.616667, 45.683333000000005, 47.491066, 37.616667, 30.315265999999998, 44.81623554, 45.683333000000005, 37.616667], \"marker\": {\"size\": [0.0, 0.0, 0.0, 0.0, 0.0, 0.0, 0.0, 0.0, 0.0, 8.0, 0.0, 0.0, 11.392401564776574, 9.546685944253776, 8.0, 0.0, 0.0, 12.633350804142763, 0.0], \"opacity\": 0.5, \"color\": \"#009999\"}, \"hoverinfo\": \"text\", \"lat\": [59.934491, 55.75, 43.166667, 55.83789599999999, 55.64289300000001, 51.833333, 62.038076000000004, 42.978367999999996, 55.75, 42.978367999999996, 55.75, 55.75, 43.316666999999995, 42.978367999999996, 55.75, 59.934491, 42.94997655, 43.316666999999995, 55.75], \"mode\": \"markers\"}]}, {\"name\": \"1996\", \"data\": [{\"text\": [\"January 4, 1996<br>1 Killed, 6 Injured\", \"January 4, 1996<br>2 Killed, 1 Injured\", \"January 9, 1996<br>23 Killed, 0 Injured\", \"January 17, 1996<br>1 Killed, 0 Injured\", \"January 23, 1996<br>1 Killed, 0 Injured\", \"February 5, 1996<br>1 Killed, 0 Injured\", \"February 27, 1996<br>1 Killed, 0 Injured\", \"February 27, 1996<br>3 Killed, 0 Injured\", \"March 4, 1996<br>1 Killed, 0 Injured\", \"April 19, 1996<br>5 Killed, 13 Injured\", \"April 23, 1996<br>2 Killed, 1 Injured\", \"May 9, 1996<br>1 Killed, 0 Injured\", \"May 11, 1996<br>1 Killed, 0 Injured\", \"May 23, 1996<br>1 Killed, 0 Injured\", \"June 8, 1996<br>4 Killed, 0 Injured\", \"June 11, 1996<br>4 Killed, 12 Injured\", \"June 13, 1996<br>1 Killed, 0 Injured\", \"July 12, 1996<br>1 Killed, 28 Injured\", \"July 15, 1996<br>1 Killed, 6 Injured\", \"July 29, 1996<br>1 Killed, 1 Injured\", \"August 5, 1996<br>1 Killed, 0 Injured\", \"August 20, 1996<br>4 Killed, 8 Injured\", \"September 13, 1996<br>1 Killed, 1 Injured\", \"November 3, 1996<br>1 Killed, 0 Injured\", \"November 10, 1996<br>14 Killed, 13 Injured\", \"November 16, 1996<br>43 Killed, 8 Injured\", \"November 19, 1996<br>1 Killed, 0 Injured\", \"November 20, 1996<br>2 Killed, 0 Injured\", \"December 17, 1996<br>6 Killed, 1 Injured\", \"December 18, 1996<br>6 Killed, 0 Injured\"], \"type\": \"scattermapbox\", \"lon\": [45.77, 46.616657000000004, 46.716667, 75.12883949, 37.492221, 37.616667, 37.616667, 30.315265999999998, 37.616667, 44.665805999999996, 45.683333000000005, 45.683333000000005, 113.47119099999999, 37.616667, 45.55, 37.643914, 38.1, 37.616667, 61.438390000000005, 46.44211483, 44.516667, 47.491066, 37.394399, 37.616667, 37.652737, 47.633333, 30.455036, 65.5, 45.7785, 45.683333000000005], \"marker\": {\"size\": [8.0, 9.546685944253776, 17.796335525351694, 8.0, 8.0, 8.0, 8.0, 10.586585441618618, 8.0, 12.059445470450267, 9.546685944253776, 8.0, 8.0, 8.0, 11.392401564776574, 11.392401564776574, 8.0, 8.0, 8.0, 8.0, 8.0, 11.392401564776574, 8.0, 8.0, 15.680237488090883, 20.874901897015203, 8.0, 9.546685944253776, 12.633350804142763, 12.633350804142763], \"opacity\": 0.5, \"color\": \"#FF0000\"}, \"hoverinfo\": \"text\", \"lat\": [43.296944, 43.390031, 43.85, 59.4069426, 55.868168000000004, 55.75, 55.75, 59.934491, 55.75, 43.047456, 43.316666999999995, 43.316666999999995, 52.051503000000004, 55.75, 43.133333, 55.674015000000004, 55.6, 55.75, 55.201612, 43.00618358, 48.7, 42.978367999999996, 55.789168999999994, 55.75, 55.628584, 42.883333, 59.90633100000001, 57.166667000000004, 43.1347, 43.316666999999995], \"mode\": \"markers\"}, {\"text\": [\"January 10, 1996<br>0 Killed, 0 Injured\", \"January 29, 1996<br>0 Killed, 0 Injured\", \"February 12, 1996<br>0 Killed, 1 Injured\", \"February 21, 1996<br>0 Killed, 0 Injured\", \"February 22, 1996<br>0 Killed, 0 Injured\", \"February 22, 1996<br>0 Killed, 0 Injured\", \"March 1, 1996<br>0 Killed, 0 Injured\", \"March 17, 1996<br>0 Killed, 0 Injured\", \"March 18, 1996<br>0 Killed, 0 Injured\", \"April 3, 1996<br>0 Killed, 0 Injured\", \"April 15, 1996<br>0 Killed, 0 Injured\", \"April 18, 1996<br>0 Killed, 1 Injured\", \"April 27, 1996<br>0 Killed, 0 Injured\", \"May 20, 1996<br>0 Killed, 0 Injured\", \"June 7, 1996<br>0 Killed, 1 Injured\", \"July 11, 1996<br>0 Killed, 5 Injured\", \"July 18, 1996<br>0 Killed, 0 Injured\", \"July 25, 1996<br>0 Killed, 0 Injured\", \"July 27, 1996<br>0 Killed, 0 Injured\", \"July 30, 1996<br>0 Killed, 0 Injured\", \"August 2, 1996<br>0 Killed, 0 Injured\", \"August 4, 1996<br>0 Killed, 0 Injured\", \"August 6, 1996<br>0 Killed, 0 Injured\", \"August 11, 1996<br>0 Killed, 0 Injured\", \"August 12, 1996<br>0 Killed, 8 Injured\", \"August 13, 1996<br>0 Killed, 1 Injured\", \"August 15, 1996<br>0 Killed, 0 Injured\", \"August 20, 1996<br>0 Killed, 0 Injured\", \"August 22, 1996<br>0 Killed, 0 Injured\", \"September 8, 1996<br>0 Killed, 3 Injured\", \"September 26, 1996<br>0 Killed, 0 Injured\", \"October 31, 1996<br>0 Killed, 0 Injured\", \"November 13, 1996<br>0 Killed, 0 Injured\", \"December 14, 1996<br>0 Killed, 0 Injured\", \"December 19, 1996<br>0 Killed, 1 Injured\"], \"type\": \"scattermapbox\", \"lon\": [46.709920000000004, 44.665805999999996, 37.616667, 45.683333000000005, 46.20243835, 46.3339, 46.20243835, 37.433333000000005, 37.616667, 37.433628000000006, 47.8919, 37.616667, 45.41099929999999, 45.683333000000005, 37.616667, 37.616667, 39.2, 44.516667, 45.683333000000005, 37.433628000000006, 48.05, 37.64714, 37.433333000000005, 46.087993, 44.766667, 47.491066, 43.05102, 47.491066, 37.616667, 37.621336, 45.41099929999999, 37.616667, 45.683333000000005, 46.402476, 30.315265999999998], \"marker\": {\"size\": [0.0, 0.0, 8.0, 0.0, 0.0, 0.0, 0.0, 0.0, 0.0, 0.0, 0.0, 8.0, 0.0, 0.0, 8.0, 12.059445470450267, 0.0, 0.0, 0.0, 0.0, 0.0, 0.0, 0.0, 0.0, 13.594959986218404, 8.0, 0.0, 0.0, 0.0, 10.586585441618618, 0.0, 0.0, 0.0, 0.0, 8.0], \"opacity\": 0.5, \"color\": \"#009999\"}, \"hoverinfo\": \"text\", \"lat\": [43.91458, 43.047456, 55.75, 43.316666999999995, 43.62945027, 43.5098, 43.62945027, 55.733332999999995, 55.75, 55.754461, 42.4981, 55.75, 43.36174637, 43.316666999999995, 55.75, 55.75, 51.65, 48.7, 43.316666999999995, 55.754461, 46.35, 55.812796999999996, 55.733332999999995, 43.427011, 48.783333, 42.978367999999996, 44.050154, 42.978367999999996, 55.75, 55.828557999999994, 43.36174637, 55.75, 43.316666999999995, 43.247578999999995, 59.934491], \"mode\": \"markers\"}]}, {\"name\": \"1997\", \"data\": [{\"text\": [\"January 14, 1997<br>1 Killed, 0 Injured\", \"January 17, 1997<br>1 Killed, 2 Injured\", \"January 19, 1997<br>1 Killed, 0 Injured\", \"February 7, 1997<br>2 Killed, 11 Injured\", \"March 21, 1997<br>1 Killed, 1 Injured\", \"April 23, 1997<br>3 Killed, 8 Injured\", \"April 23, 1997<br>2 Killed, 0 Injured\", \"April 28, 1997<br>2 Killed, 12 Injured\", \"April 30, 1997<br>2 Killed, 0 Injured\", \"May 28, 1997<br>3 Killed, 3 Injured\", \"June 27, 1997<br>5 Killed, 11 Injured\", \"July 8, 1997<br>7 Killed, 13 Injured\", \"July 8, 1997<br>9 Killed, 0 Injured\", \"July 21, 1997<br>2 Killed, 1 Injured\", \"July 30, 1997<br>2 Killed, 0 Injured\", \"July 30, 1997<br>3 Killed, 1 Injured\", \"August 18, 1997<br>1 Killed, 1 Injured\", \"August 24, 1997<br>1 Killed, 0 Injured\", \"August 26, 1997<br>1 Killed, 0 Injured\", \"August 31, 1997<br>1 Killed, 11 Injured\", \"September 30, 1997<br>2 Killed, 1 Injured\", \"November 9, 1997<br>1 Killed, 0 Injured\", \"November 13, 1997<br>3 Killed, 0 Injured\", \"December 19, 1997<br>2 Killed, 0 Injured\", \"December 21, 1997<br>1 Killed, 0 Injured\", \"December 22, 1997<br>1 Killed, 2 Injured\"], \"type\": \"scattermapbox\", \"lon\": [37.616667, 37.566716, 37.566716, 52.3, 37.515778999999995, 41.116667, 44.83349991, 43.05102, 44.68199539, 47.491066, 32.881944, 46.616657000000004, 46.616657000000004, 37.616667, 37.616667, 45.683333000000005, 30.315265999999998, 29.13638123, 37.500586, 46.583333, 45.683333000000005, 46.616657000000004, 37.529897, 37.516739, 47.03499163, 37.616667], \"marker\": {\"size\": [8.0, 8.0, 8.0, 9.546685944253776, 8.0, 10.586585441618618, 9.546685944253776, 9.546685944253776, 9.546685944253776, 10.586585441618618, 12.059445470450267, 13.139837283558231, 14.00947391408641, 9.546685944253776, 9.546685944253776, 10.586585441618618, 8.0, 8.0, 8.0, 8.0, 9.546685944253776, 8.0, 10.586585441618618, 9.546685944253776, 8.0, 8.0], \"opacity\": 0.5, \"color\": \"#FF0000\"}, \"hoverinfo\": \"text\", \"lat\": [55.75, 55.76348, 55.76348, 54.9, 55.733086, 45.0, 43.22836185, 44.050154, 43.64578364, 42.978367999999996, 58.580278, 43.390031, 43.390031, 55.75, 55.75, 43.316666999999995, 59.934491, 60.67838674, 55.826138, 43.25, 43.316666999999995, 43.390031, 55.792906, 55.70658100000001, 43.98359803, 55.75], \"mode\": \"markers\"}, {\"text\": [\"January 8, 1997<br>0 Killed, 0 Injured\", \"January 9, 1997<br>0 Killed, 0 Injured\", \"January 19, 1997<br>0 Killed, 0 Injured\", \"January 27, 1997<br>0 Killed, 0 Injured\", \"February 3, 1997<br>0 Killed, 0 Injured\", \"February 5, 1997<br>0 Killed, 1 Injured\", \"February 23, 1997<br>0 Killed, 0 Injured\", \"March 4, 1997<br>0 Killed, 0 Injured\", \"March 13, 1997<br>0 Killed, 0 Injured\", \"March 15, 1997<br>0 Killed, 0 Injured\", \"March 17, 1997<br>0 Killed, 0 Injured\", \"March 17, 1997<br>0 Killed, 0 Injured\", \"April 9, 1997<br>0 Killed, 1 Injured\", \"April 21, 1997<br>0 Killed, 0 Injured\", \"May 8, 1997<br>0 Killed, 0 Injured\", \"May 10, 1997<br>0 Killed, 0 Injured\", \"May 26, 1997<br>0 Killed, 1 Injured\", \"June 15, 1997<br>0 Killed, 0 Injured\", \"June 24, 1997<br>0 Killed, 2 Injured\", \"June 26, 1997<br>0 Killed, 0 Injured\", \"June 30, 1997<br>0 Killed, 0 Injured\", \"July 1, 1997<br>0 Killed, 0 Injured\", \"July 2, 1997<br>0 Killed, 0 Injured\", \"July 3, 1997<br>0 Killed, 0 Injured\", \"July 3, 1997<br>0 Killed, 1 Injured\", \"July 6, 1997<br>0 Killed, 0 Injured\", \"July 8, 1997<br>0 Killed, 0 Injured\", \"July 10, 1997<br>0 Killed, 0 Injured\", \"July 10, 1997<br>0 Killed, 0 Injured\", \"July 11, 1997<br>0 Killed, 0 Injured\", \"July 11, 1997<br>0 Killed, 0 Injured\", \"July 13, 1997<br>0 Killed, 0 Injured\", \"July 17, 1997<br>0 Killed, 17 Injured\", \"August 3, 1997<br>0 Killed, 0 Injured\", \"August 6, 1997<br>0 Killed, 0 Injured\", \"August 6, 1997<br>0 Killed, 0 Injured\", \"August 31, 1997<br>0 Killed, 0 Injured\", \"September 1, 1997<br>0 Killed, 0 Injured\", \"September 9, 1997<br>0 Killed, 2 Injured\", \"September 11, 1997<br>0 Killed, 0 Injured\", \"September 13, 1997<br>0 Killed, 0 Injured\", \"December 10, 1997<br>0 Killed, 0 Injured\", \"December 21, 1997<br>0 Killed, 4 Injured\", \"December 22, 1997<br>0 Killed, 0 Injured\", \"December 22, 1997<br>0 Killed, 0 Injured\", \"December 24, 1997<br>0 Killed, 0 Injured\", \"December 28, 1997<br>0 Killed, 0 Injured\", \"December 28, 1997<br>0 Killed, 0 Injured\"], \"type\": \"scattermapbox\", \"lon\": [43.627361, 45.55, 45.04656834, 45.683333000000005, 37.616667, 37.433333000000005, 45.683333000000005, 45.683333000000005, 45.683333000000005, 46.087993, 45.2293148, 45.683333000000005, 45.48755646, 43.627361, 37.534542, 45.683333000000005, 37.433333000000005, 45.683333000000005, 45.683333000000005, 44.397592700000004, 45.683333000000005, 44.766667, 44.766667, 45.683333000000005, 37.467259000000006, 37.616667, 44.60840034, 44.766667, 45.04656834, 45.683333000000005, 45.55, 45.683333000000005, 44.81623554, 47.491066, 45.683333000000005, 44.642027, 46.583333, 46.583333, 46.20243835, 44.766667, 44.266667, 45.683333000000005, 47.116667, 47.116667, 47.054713, 46.68411676, 45.683333000000005, 44.665805999999996], \"marker\": {\"size\": [0.0, 0.0, 0.0, 0.0, 0.0, 8.0, 0.0, 0.0, 0.0, 0.0, 0.0, 0.0, 8.0, 0.0, 0.0, 0.0, 8.0, 0.0, 9.546685944253776, 0.0, 0.0, 0.0, 0.0, 0.0, 8.0, 0.0, 0.0, 0.0, 0.0, 0.0, 0.0, 0.0, 16.47610162165078, 0.0, 0.0, 0.0, 0.0, 0.0, 9.546685944253776, 0.0, 0.0, 0.0, 11.392401564776574, 0.0, 0.0, 0.0, 0.0, 0.0], \"opacity\": 0.5, \"color\": \"#009999\"}, \"hoverinfo\": \"text\", \"lat\": [43.484122, 43.133333, 43.07908558, 43.316666999999995, 55.75, 55.733332999999995, 43.316666999999995, 43.316666999999995, 43.316666999999995, 43.427011, 43.54920241, 43.316666999999995, 43.03908009, 43.484122, 55.692572, 43.316666999999995, 55.733332999999995, 43.316666999999995, 43.316666999999995, 43.27771708, 43.316666999999995, 43.216667, 43.216667, 43.316666999999995, 55.727495, 55.75, 43.17742225, 43.216667, 43.07908558, 43.316666999999995, 43.133333, 43.316666999999995, 42.94997655, 42.978367999999996, 43.316666999999995, 43.231167, 43.25, 43.25, 43.62945027, 43.216667, 46.316666999999995, 43.316666999999995, 42.816666999999995, 42.816666999999995, 42.630236, 43.00240355, 43.316666999999995, 43.047456], \"mode\": \"markers\"}]}, {\"name\": \"1998\", \"data\": [{\"text\": [\"February 27, 1998<br>1 Killed, 2 Injured\", \"April 16, 1998<br>5 Killed, 8 Injured\", \"May 13, 1998<br>4 Killed, 0 Injured\", \"June 22, 1998<br>1 Killed, 10 Injured\", \"July 23, 1998<br>1 Killed, 7 Injured\", \"July 31, 1998<br>3 Killed, 0 Injured\", \"August 14, 1998<br>4 Killed, 4 Injured\", \"August 21, 1998<br>3 Killed, 0 Injured\", \"September 5, 1998<br>17 Killed, 80 Injured\", \"September 16, 1998<br>2 Killed, 0 Injured\", \"October 2, 1998<br>3 Killed, 1 Injured\", \"October 3, 1998<br>1 Killed, 0 Injured\", \"October 25, 1998<br>3 Killed, 0 Injured\", \"November 20, 1998<br>1 Killed, 0 Injured\"], \"type\": \"scattermapbox\", \"lon\": [47.03499163, 44.68199539, 45.683333000000005, 46.66223809, 45.41099929999999, 44.68199539, 44.287096999999996, 47.491066, 47.491066, 46.616657000000004, 45.683333000000005, 45.04656834, 45.683333000000005, 30.291190999999998], \"marker\": {\"size\": [8.0, 12.059445470450267, 11.392401564776574, 8.0, 8.0, 10.586585441618618, 11.392401564776574, 10.586585441618618, 16.47610162165078, 9.546685944253776, 10.586585441618618, 8.0, 10.586585441618618, 8.0], \"opacity\": 0.5, \"color\": \"#FF0000\"}, \"hoverinfo\": \"text\", \"lat\": [43.98359803, 43.64578364, 43.316666999999995, 43.34592232, 43.36174637, 43.64578364, 43.04513, 42.978367999999996, 42.978367999999996, 43.390031, 43.316666999999995, 43.07908558, 43.316666999999995, 59.918730000000004], \"mode\": \"markers\"}, {\"text\": [\"January 1, 1998<br>0 Killed, 3 Injured\", \"January 14, 1998<br>0 Killed, 0 Injured\", \"January 15, 1998<br>0 Killed, 0 Injured\", \"April 13, 1998<br>0 Killed, 0 Injured\", \"May 1, 1998<br>0 Killed, 0 Injured\", \"May 14, 1998<br>0 Killed, 2 Injured\", \"August 9, 1998<br>0 Killed, 0 Injured\", \"August 24, 1998<br>0 Killed, 0 Injured\", \"September 5, 1998<br>0 Killed, 0 Injured\", \"September 23, 1998<br>0 Killed, 1 Injured\", \"September 30, 1998<br>0 Killed, 0 Injured\", \"October 26, 1998<br>0 Killed, 0 Injured\"], \"type\": \"scattermapbox\", \"lon\": [37.616667, 60.56181335, 47.491066, 45.683333000000005, 45.04656834, 37.611362, 102.729698, 47.491066, 57.303402, 142.16, 142.73333300000002, 45.683333000000005], \"marker\": {\"size\": [10.586585441618618, 0.0, 0.0, 0.0, 0.0, 9.546685944253776, 0.0, 0.0, 0.0, 8.0, 0.0, 0.0], \"opacity\": 0.5, \"color\": \"#009999\"}, \"hoverinfo\": \"text\", \"lat\": [55.75, 56.78387288, 42.978367999999996, 43.316666999999995, 43.07908558, 55.797585, 58.046265000000005, 42.978367999999996, 74.633553, 50.897778, 46.966667, 43.316666999999995], \"mode\": \"markers\"}]}, {\"name\": \"1999\", \"data\": [{\"text\": [\"February 2, 1999<br>1 Killed, 0 Injured\", \"February 9, 1999<br>1 Killed, 0 Injured\", \"March 5, 1999<br>1 Killed, 0 Injured\", \"March 14, 1999<br>1 Killed, 1 Injured\", \"March 19, 1999<br>64 Killed, 104 Injured\", \"April 4, 1999<br>2 Killed, 1 Injured\", \"May 3, 1999<br>3 Killed, 2 Injured\", \"May 16, 1999<br>4 Killed, 14 Injured\", \"June 12, 1999<br>12 Killed, 6 Injured\", \"June 20, 1999<br>1 Killed, 1 Injured\", \"July 13, 1999<br>1 Killed, 0 Injured\", \"July 24, 1999<br>4 Killed, 1 Injured\", \"July 28, 1999<br>3 Killed, 2 Injured\", \"September 4, 1999<br>64 Killed, 100 Injured\", \"September 9, 1999<br>90 Killed, 180 Injured\", \"September 13, 1999<br>118 Killed, 0 Injured\", \"September 16, 1999<br>17 Killed, 184 Injured\", \"October 19, 1999<br>4 Killed, 6 Injured\", \"October 20, 1999<br>1 Killed, 2 Injured\", \"December 9, 1999<br>3 Killed, 0 Injured\"], \"type\": \"scattermapbox\", \"lon\": [47.491066, 45.683333000000005, 45.41099929999999, 44.81623554, 44.665805999999996, 47.08493614, 45.04656834, 44.665805999999996, 45.683333000000005, 45.066666999999995, 37.616667, 44.8203, 47.08493614, 47.116667, 37.718389, 37.643914, 42.15, 47.68207, 30.315265999999998, 45.468659], \"marker\": {\"size\": [8.0, 8.0, 8.0, 8.0, 23.10286712835994, 9.546685944253776, 10.586585441618618, 11.392401564776574, 15.075829068842106, 8.0, 8.0, 11.392401564776574, 10.586585441618618, 23.10286712835994, 25.2012351603055, 27.00349010823675, 16.47610162165078, 11.392401564776574, 8.0, 10.586585441618618], \"opacity\": 0.5, \"color\": \"#FF0000\"}, \"hoverinfo\": \"text\", \"lat\": [42.978367999999996, 43.316666999999995, 43.36174637, 42.94997655, 43.047456, 42.69974745, 43.07908558, 43.047456, 43.316666999999995, 43.316666999999995, 55.75, 43.40517, 42.69974745, 42.816666999999995, 55.697774, 55.674015000000004, 47.516667, 47.359992, 59.934491, 43.160454], \"mode\": \"markers\"}, {\"text\": [\"January 14, 1999<br>0 Killed, 0 Injured\", \"March 21, 1999<br>0 Killed, 3 Injured\", \"March 28, 1999<br>0 Killed, 0 Injured\", \"March 28, 1999<br>0 Killed, 0 Injured\", \"April 2, 1999<br>0 Killed, 0 Injured\", \"April 4, 1999<br>0 Killed, 2 Injured\", \"April 13, 1999<br>0 Killed, 1 Injured\", \"April 24, 1999<br>0 Killed, 0 Injured\", \"April 26, 1999<br>0 Killed, 11 Injured\", \"May 1, 1999<br>0 Killed, 0 Injured\", \"May 15, 1999<br>0 Killed, 0 Injured\", \"May 18, 1999<br>0 Killed, 0 Injured\", \"May 28, 1999<br>0 Killed, 0 Injured\", \"June 17, 1999<br>0 Killed, 0 Injured\", \"June 20, 1999<br>0 Killed, 0 Injured\", \"June 20, 1999<br>0 Killed, 0 Injured\", \"June 22, 1999<br>0 Killed, 0 Injured\", \"June 23, 1999<br>0 Killed, 0 Injured\", \"June 27, 1999<br>0 Killed, 1 Injured\", \"June 28, 1999<br>0 Killed, 0 Injured\", \"June 28, 1999<br>0 Killed, 11 Injured\", \"June 30, 1999<br>0 Killed, 0 Injured\", \"July 1, 1999<br>0 Killed, 11 Injured\", \"July 1, 1999<br>0 Killed, 1 Injured\", \"July 6, 1999<br>0 Killed, 3 Injured\", \"July 16, 1999<br>0 Killed, 1 Injured\", \"July 24, 1999<br>0 Killed, 0 Injured\", \"July 25, 1999<br>0 Killed, 0 Injured\", \"August 3, 1999<br>0 Killed, 0 Injured\", \"August 31, 1999<br>0 Killed, 29 Injured\", \"November 3, 1999<br>0 Killed, 0 Injured\", \"December 9, 1999<br>0 Killed, 0 Injured\", \"December 10, 1999<br>0 Killed, 0 Injured\", \"December 29, 1999<br>0 Killed, 0 Injured\"], \"type\": \"scattermapbox\", \"lon\": [45.683333000000005, 45.683333000000005, 45.683333000000005, 37.58975, 41.730394, 37.616667, 41.730394, 60.60085600000001, 37.616667, 37.611362, 43.627361, 47.633333, 42.05, 47.054713, 45.9082, 46.66223809, 37.610077000000004, 47.8919, 44.8203, 46.16657257, 44.665805999999996, 46.716667, 44.665805999999996, 46.158573, 47.10896492, 46.44497, 47.03499163, 37.616667, 37.616667, 37.616667, 45.3154, 45.683333000000005, 45.77, 45.683333000000005], \"marker\": {\"size\": [0.0, 10.586585441618618, 0.0, 0.0, 0.0, 9.546685944253776, 8.0, 0.0, 14.745011707183435, 0.0, 0.0, 0.0, 0.0, 0.0, 0.0, 0.0, 0.0, 0.0, 8.0, 0.0, 14.745011707183435, 0.0, 14.745011707183435, 8.0, 10.586585441618618, 8.0, 0.0, 0.0, 0.0, 18.879977676471725, 0.0, 0.0, 0.0, 0.0], \"opacity\": 0.5, \"color\": \"#009999\"}, \"hoverinfo\": \"text\", \"lat\": [43.316666999999995, 43.316666999999995, 43.316666999999995, 55.751788, 43.884514, 55.75, 43.884514, 56.832639, 55.75, 55.797585, 43.484122, 42.883333, 44.216667, 42.630236, 42.9649, 43.34592232, 55.729443, 42.4981, 43.40517, 42.634507799999994, 43.047456, 43.85, 43.047456, 43.124254, 43.58662977, 43.37254, 43.98359803, 55.75, 55.75, 55.75, 43.6506, 43.316666999999995, 43.296944, 43.316666999999995], \"mode\": \"markers\"}]}, {\"name\": \"2000\", \"data\": [{\"text\": [\"January 14, 2000<br>3 Killed, 0 Injured\", \"January 26, 2000<br>1 Killed, 1 Injured\", \"July 27, 2000<br>3 Killed, 1 Injured\", \"February 7, 2000<br>12 Killed, 0 Injured\", \"March 2, 2000<br>16 Killed, 21 Injured\", \"March 27, 2000<br>1 Killed, 0 Injured\", \"May 11, 2000<br>19 Killed, 0 Injured\", \"May 12, 2000<br>3 Killed, 18 Injured\", \"May 12, 2000<br>3 Killed, 0 Injured\", \"May 27, 2000<br>3 Killed, 0 Injured\", \"May 29, 2000<br>2 Killed, 4 Injured\", \"May 30, 2000<br>1 Killed, 1 Injured\", \"May 31, 2000<br>3 Killed, 12 Injured\", \"June 2, 2000<br>1 Killed, 1 Injured\", \"June 7, 2000<br>3 Killed, 5 Injured\", \"June 8, 2000<br>1 Killed, 1 Injured\", \"June 9, 2000<br>3 Killed, 3 Injured\", \"June 11, 2000<br>5 Killed, 1 Injured\", \"June 12, 2000<br>7 Killed, 0 Injured\", \"June 15, 2000<br>4 Killed, 2 Injured\", \"June 16, 2000<br>1 Killed, 0 Injured\", \"June 17, 2000<br>1 Killed, 3 Injured\", \"July 1, 2000<br>3 Killed, 0 Injured\", \"July 2, 2000<br>50 Killed, 81 Injured\", \"July 2, 2000<br>6 Killed, 0 Injured\", \"July 2, 2000<br>9 Killed, 0 Injured\", \"July 2, 2000<br>2 Killed, 0 Injured\", \"July 2, 2000<br>4 Killed, 20 Injured\", \"July 6, 2000<br>2 Killed, 1 Injured\", \"July 9, 2000<br>2 Killed, 17 Injured\", \"July 9, 2000<br>2 Killed, 2 Injured\", \"July 15, 2000<br>1 Killed, 6 Injured\", \"July 16, 2000<br>1 Killed, 6 Injured\", \"July 16, 2000<br>1 Killed, 0 Injured\", \"July 18, 2000<br>1 Killed, 0 Injured\", \"July 26, 2000<br>1 Killed, 0 Injured\", \"August 2, 2000<br>1 Killed, 0 Injured\", \"August 3, 2000<br>1 Killed, 2 Injured\", \"August 6, 2000<br>2 Killed, 3 Injured\", \"August 8, 2000<br>12 Killed, 94 Injured\", \"August 14, 2000<br>2 Killed, 0 Injured\", \"August 16, 2000<br>2 Killed, 4 Injured\", \"August 20, 2000<br>2 Killed, 0 Injured\", \"September 3, 2000<br>1 Killed, 0 Injured\", \"September 5, 2000<br>4 Killed, 3 Injured\", \"September 7, 2000<br>5 Killed, 6 Injured\", \"September 9, 2000<br>1 Killed, 2 Injured\", \"September 12, 2000<br>2 Killed, 0 Injured\", \"September 13, 2000<br>5 Killed, 7 Injured\", \"September 17, 2000<br>5 Killed, 1 Injured\", \"September 18, 2000<br>3 Killed, 0 Injured\", \"September 21, 2000<br>1 Killed, 0 Injured\", \"September 26, 2000<br>1 Killed, 0 Injured\", \"September 28, 2000<br>1 Killed, 1 Injured\", \"September 29, 2000<br>1 Killed, 13 Injured\", \"October 6, 2000<br>1 Killed, 6 Injured\", \"October 6, 2000<br>3 Killed, 20 Injured\", \"October 12, 2000<br>10 Killed, 10 Injured\", \"October 17, 2000<br>3 Killed, 2 Injured\", \"October 17, 2000<br>1 Killed, 5 Injured\", \"October 19, 2000<br>1 Killed, 0 Injured\", \"October 19, 2000<br>1 Killed, 0 Injured\", \"October 19, 2000<br>1 Killed, 1 Injured\", \"October 20, 2000<br>3 Killed, 2 Injured\", \"October 21, 2000<br>3 Killed, 2 Injured\", \"October 23, 2000<br>1 Killed, 0 Injured\", \"October 29, 2000<br>8 Killed, 0 Injured\", \"November 11, 2000<br>36 Killed, 53 Injured\", \"November 18, 2000<br>2 Killed, 1 Injured\", \"November 19, 2000<br>5 Killed, 0 Injured\", \"December 8, 2000<br>4 Killed, 28 Injured\", \"December 8, 2000<br>4 Killed, 0 Injured\", \"December 8, 2000<br>3 Killed, 12 Injured\", \"December 9, 2000<br>21 Killed, 21 Injured\", \"December 15, 2000<br>4 Killed, 0 Injured\", \"December 17, 2000<br>4 Killed, 0 Injured\", \"December 19, 2000<br>1 Killed, 1 Injured\", \"December 20, 2000<br>8 Killed, 19 Injured\"], \"type\": \"scattermapbox\", \"lon\": [47.379, 32.05, 47.491066, 135.1, 45.683333000000005, 158.383333, 44.9823, 46.158573, 45.41099929999999, 45.683333000000005, 46.44211483, 45.41099929999999, 44.516667, 45.683333000000005, 45.48755646, 45.48755646, 45.683333000000005, 45.683333000000005, 45.683333000000005, 45.683333000000005, 45.55, 45.683333000000005, 46.3339, 45.866667, 46.1, 46.1, 45.55, 46.243, 47.491066, 44.665805999999996, 39.7, 46.22838402, 46.22838402, 45.560431, 37.500865999999995, 32.05, 45.55, 46.44211483, 46.583333, 37.616667, 46.087993, 45.683333000000005, 46.087993, 46.08111382, 46.08111382, 45.41099929999999, 45.683333000000005, 45.683333000000005, 45.48755646, 45.7384, 46.20243835, 37.518794, 45.866667, 45.683333000000005, 45.683333000000005, 43.05102, 41.933333000000005, 45.683333000000005, 46.113, 45.683333000000005, 45.866667, 45.9, 46.22838402, 47.054713, 46.20243835, 46.158573, 45.7439, 46.25656796, 45.55, 45.683333000000005, 43.05102, 45.55, 46.1, 45.560431, 45.528433, 45.683333000000005, 37.616667, 45.683333000000005], \"marker\": {\"size\": [10.586585441618618, 8.0, 10.586585441618618, 15.075829068842106, 16.223351676640466, 8.0, 16.95009572608719, 10.586585441618618, 10.586585441618618, 10.586585441618618, 9.546685944253776, 8.0, 10.586585441618618, 8.0, 10.586585441618618, 8.0, 10.586585441618618, 12.059445470450267, 13.139837283558231, 11.392401564776574, 8.0, 8.0, 10.586585441618618, 21.69338570937459, 12.633350804142763, 14.00947391408641, 9.546685944253776, 11.392401564776574, 9.546685944253776, 9.546685944253776, 9.546685944253776, 8.0, 8.0, 8.0, 8.0, 8.0, 8.0, 8.0, 9.546685944253776, 15.075829068842106, 9.546685944253776, 9.546685944253776, 9.546685944253776, 8.0, 11.392401564776574, 12.059445470450267, 8.0, 9.546685944253776, 12.059445470450267, 12.059445470450267, 10.586585441618618, 8.0, 8.0, 8.0, 8.0, 8.0, 10.586585441618618, 14.390967321030303, 10.586585441618618, 8.0, 8.0, 8.0, 8.0, 10.586585441618618, 10.586585441618618, 8.0, 13.594959986218404, 19.950194067566827, 9.546685944253776, 12.059445470450267, 11.392401564776574, 11.392401564776574, 10.586585441618618, 17.388251261419388, 11.392401564776574, 11.392401564776574, 8.0, 13.594959986218404], \"opacity\": 0.5, \"color\": \"#FF0000\"}, \"hoverinfo\": \"text\", \"lat\": [47.3197, 54.783333, 42.978367999999996, 48.466667, 43.316666999999995, 53.183333, 43.0832, 43.124254, 43.36174637, 43.316666999999995, 43.00618358, 43.36174637, 48.7, 43.316666999999995, 43.03908009, 43.03908009, 43.316666999999995, 43.316666999999995, 43.316666999999995, 43.316666999999995, 43.133333, 43.316666999999995, 43.5098, 43.3, 43.35, 43.35, 43.133333, 43.2572, 42.978367999999996, 43.047456, 47.216667, 43.31492777, 43.31492777, 43.230385, 55.63431800000001, 54.783333, 43.133333, 43.00618358, 43.25, 55.75, 43.427011, 43.316666999999995, 43.427011, 43.14118691, 43.14118691, 43.36174637, 43.316666999999995, 43.316666999999995, 43.03908009, 43.1078, 43.62945027, 55.84893, 43.3, 43.316666999999995, 43.316666999999995, 44.050154, 44.633333, 43.316666999999995, 42.9537, 43.316666999999995, 43.3, 43.15, 43.31492777, 42.630236, 43.62945027, 43.124254, 43.0872, 42.932855700000005, 43.133333, 43.316666999999995, 44.050154, 43.133333, 43.35, 43.230385, 43.258662, 43.316666999999995, 55.75, 43.316666999999995], \"mode\": \"markers\"}, {\"text\": [\"January 6, 2000<br>0 Killed, 0 Injured\", \"January 18, 2000<br>0 Killed, 0 Injured\", \"February 21, 2000<br>0 Killed, 0 Injured\", \"February 22, 2000<br>0 Killed, 0 Injured\", \"February 23, 2000<br>0 Killed, 1 Injured\", \"March 27, 2000<br>0 Killed, 2 Injured\", \"March 29, 2000<br>0 Killed, 18 Injured\", \"May 1, 2000<br>0 Killed, 0 Injured\", \"May 8, 2000<br>0 Killed, 0 Injured\", \"May 13, 2000<br>0 Killed, 1 Injured\", \"May 28, 2000<br>0 Killed, 0 Injured\", \"June 2, 2000<br>0 Killed, 2 Injured\", \"June 2, 2000<br>0 Killed, 0 Injured\", \"June 2, 2000<br>0 Killed, 0 Injured\", \"June 3, 2000<br>0 Killed, 1 Injured\", \"June 13, 2000<br>0 Killed, 3 Injured\", \"June 14, 2000<br>0 Killed, 0 Injured\", \"June 17, 2000<br>0 Killed, 0 Injured\", \"June 17, 2000<br>0 Killed, 0 Injured\", \"July 25, 2000<br>0 Killed, 0 Injured\", \"July 29, 2000<br>0 Killed, 1 Injured\", \"August 1, 2000<br>0 Killed, 0 Injured\", \"August 3, 2000<br>0 Killed, 1 Injured\", \"August 17, 2000<br>0 Killed, 0 Injured\", \"August 18, 2000<br>0 Killed, 0 Injured\", \"August 20, 2000<br>0 Killed, 0 Injured\", \"August 20, 2000<br>0 Killed, 0 Injured\", \"August 20, 2000<br>0 Killed, 0 Injured\", \"August 24, 2000<br>0 Killed, 0 Injured\", \"September 2, 2000<br>0 Killed, 0 Injured\", \"September 3, 2000<br>0 Killed, 0 Injured\", \"September 3, 2000<br>0 Killed, 1 Injured\", \"September 3, 2000<br>0 Killed, 0 Injured\", \"September 6, 2000<br>0 Killed, 0 Injured\", \"September 8, 2000<br>0 Killed, 0 Injured\", \"September 10, 2000<br>0 Killed, 0 Injured\", \"September 11, 2000<br>0 Killed, 0 Injured\", \"September 12, 2000<br>0 Killed, 0 Injured\", \"September 12, 2000<br>0 Killed, 0 Injured\", \"September 12, 2000<br>0 Killed, 0 Injured\", \"September 14, 2000<br>0 Killed, 0 Injured\", \"October 4, 2000<br>0 Killed, 0 Injured\", \"October 10, 2000<br>0 Killed, 0 Injured\", \"October 10, 2000<br>0 Killed, 0 Injured\", \"October 14, 2000<br>0 Killed, 0 Injured\", \"October 14, 2000<br>0 Killed, 0 Injured\", \"October 17, 2000<br>0 Killed, 9 Injured\", \"October 18, 2000<br>0 Killed, 0 Injured\", \"October 19, 2000<br>0 Killed, 0 Injured\", \"October 22, 2000<br>0 Killed, 0 Injured\", \"November 5, 2000<br>0 Killed, 0 Injured\", \"November 6, 2000<br>0 Killed, 2 Injured\", \"November 8, 2000<br>0 Killed, 0 Injured\", \"November 11, 2000<br>0 Killed, 0 Injured\", \"November 19, 2000<br>0 Killed, 0 Injured\", \"November 22, 2000<br>0 Killed, 0 Injured\", \"November 24, 2000<br>0 Killed, 0 Injured\", \"December 19, 2000<br>0 Killed, 0 Injured\"], \"type\": \"scattermapbox\", \"lon\": [45.8832, 44.766667, 47.45763588, 46.087993, 45.55, 47.491066, 46.25656796, 46.087993, 46.113, 46.22838402, 45.683333000000005, 45.683333000000005, 45.55, 46.113, 45.24766064, 45.41099929999999, 45.41099929999999, 45.683333000000005, 46.44211483, 45.9, 45.683333000000005, 46.22838402, 41.730394, 37.616667, 45.24766064, 45.683333000000005, 45.989143, 45.55, 44.914546, 45.683333000000005, 46.52545514, 45.84304991, 45.71264076, 45.651109999999996, 47.09498, 45.683333000000005, 45.1277, 46.1, 45.71264076, 44.165833, 46.1, 20.516667, 44.165833, 45.683333000000005, 46.1, 45.40806, 45.683333000000005, 46.25656796, 45.55, 46.08111382, 45.683333000000005, 46.1, 44.516667, 45.24766064, 43.05102, 46.4747, 44.165833, 45.683333000000005], \"marker\": {\"size\": [0.0, 0.0, 0.0, 0.0, 8.0, 9.546685944253776, 16.71800596274983, 0.0, 0.0, 8.0, 0.0, 9.546685944253776, 0.0, 0.0, 8.0, 10.586585441618618, 0.0, 0.0, 0.0, 0.0, 8.0, 0.0, 8.0, 0.0, 0.0, 0.0, 0.0, 0.0, 0.0, 0.0, 0.0, 8.0, 0.0, 0.0, 0.0, 0.0, 0.0, 0.0, 0.0, 0.0, 0.0, 0.0, 0.0, 0.0, 0.0, 0.0, 14.00947391408641, 0.0, 0.0, 0.0, 0.0, 9.546685944253776, 0.0, 0.0, 0.0, 0.0, 0.0, 0.0], \"opacity\": 0.5, \"color\": \"#009999\"}, \"hoverinfo\": \"text\", \"lat\": [43.4994, 43.216667, 42.96690706, 43.427011, 43.133333, 42.978367999999996, 42.932855700000005, 43.427011, 42.9537, 43.31492777, 43.316666999999995, 43.316666999999995, 43.133333, 42.9537, 42.96241067, 43.36174637, 43.36174637, 43.316666999999995, 43.00618358, 43.15, 43.316666999999995, 43.31492777, 43.884514, 55.75, 42.96241067, 43.316666999999995, 43.105756, 43.133333, 43.73923, 43.316666999999995, 43.14045466, 43.28345995, 43.72701164, 43.268609999999995, 42.143189, 43.316666999999995, 43.6753, 43.35, 43.72701164, 44.783889, 43.35, 54.716667, 44.783889, 43.316666999999995, 43.35, 43.17972, 43.316666999999995, 42.932855700000005, 43.133333, 43.14118691, 43.316666999999995, 43.35, 48.7, 42.96241067, 44.050154, 43.7419, 44.783889, 43.316666999999995], \"mode\": \"markers\"}]}, {\"name\": \"2001\", \"data\": [{\"text\": [\"January 5, 2001<br>1 Killed, 0 Injured\", \"January 6, 2001<br>1 Killed, 0 Injured\", \"January 6, 2001<br>3 Killed, 0 Injured\", \"January 8, 2001<br>2 Killed, 0 Injured\", \"January 8, 2001<br>3 Killed, 0 Injured\", \"January 21, 2001<br>9 Killed, 0 Injured\", \"February 14, 2001<br>1 Killed, 0 Injured\", \"February 14, 2001<br>3 Killed, 0 Injured\", \"March 3, 2001<br>4 Killed, 0 Injured\", \"March 16, 2001<br>9 Killed, 13 Injured\", \"March 24, 2001<br>18 Killed, 86 Injured\", \"March 24, 2001<br>2 Killed, 0 Injured\", \"April 9, 2001<br>14 Killed, 0 Injured\", \"April 12, 2001<br>1 Killed, 1 Injured\", \"April 16, 2001<br>2 Killed, 1 Injured\", \"April 18, 2001<br>1 Killed, 2 Injured\", \"April 22, 2001<br>2 Killed, 0 Injured\", \"April 25, 2001<br>6 Killed, 5 Injured\", \"May 8, 2001<br>2 Killed, 0 Injured\", \"May 21, 2001<br>3 Killed, 0 Injured\", \"May 30, 2001<br>2 Killed, 0 Injured\", \"May 31, 2001<br>1 Killed, 1 Injured\", \"June 15, 2001<br>2 Killed, 0 Injured\", \"June 19, 2001<br>2 Killed, 35 Injured\", \"July 17, 2001<br>1 Killed, 0 Injured\", \"July 31, 2001<br>1 Killed, 0 Injured\", \"August 1, 2001<br>1 Killed, 2 Injured\", \"August 2, 2001<br>2 Killed, 0 Injured\", \"August 3, 2001<br>3 Killed, 0 Injured\", \"August 3, 2001<br>12 Killed, 0 Injured\", \"August 11, 2001<br>1 Killed, 4 Injured\", \"August 11, 2001<br>1 Killed, 0 Injured\", \"August 11, 2001<br>6 Killed, 9 Injured\", \"August 12, 2001<br>1 Killed, 0 Injured\", \"August 13, 2001<br>2 Killed, 1 Injured\", \"August 14, 2001<br>1 Killed, 0 Injured\", \"August 15, 2001<br>1 Killed, 0 Injured\", \"August 18, 2001<br>1 Killed, 2 Injured\", \"August 19, 2001<br>6 Killed, 50 Injured\", \"August 20, 2001<br>1 Killed, 0 Injured\", \"August 21, 2001<br>2 Killed, 2 Injured\", \"August 21, 2001<br>3 Killed, 0 Injured\", \"August 21, 2001<br>3 Killed, 0 Injured\", \"August 21, 2001<br>1 Killed, 0 Injured\", \"August 22, 2001<br>1 Killed, 1 Injured\", \"August 25, 2001<br>3 Killed, 11 Injured\", \"August 26, 2001<br>4 Killed, 2 Injured\", \"August 27, 2001<br>1 Killed, 12 Injured\", \"August 28, 2001<br>2 Killed, 0 Injured\", \"August 29, 2001<br>2 Killed, 13 Injured\", \"August 31, 2001<br>1 Killed, 0 Injured\", \"September 1, 2001<br>1 Killed, 0 Injured\", \"September 3, 2001<br>1 Killed, 0 Injured\", \"September 17, 2001<br>9 Killed, 0 Injured\", \"September 17, 2001<br>1 Killed, 0 Injured\", \"September 18, 2001<br>1 Killed, 3 Injured\", \"September 19, 2001<br>7 Killed, 0 Injured\", \"September 23, 2001<br>2 Killed, 8 Injured\", \"September 28, 2001<br>4 Killed, 1 Injured\", \"September 29, 2001<br>2 Killed, 0 Injured\", \"November 5, 2001<br>5 Killed, 5 Injured\", \"November 10, 2001<br>6 Killed, 43 Injured\", \"November 17, 2001<br>4 Killed, 6 Injured\", \"November 23, 2001<br>2 Killed, 3 Injured\", \"November 26, 2001<br>2 Killed, 5 Injured\", \"November 29, 2001<br>4 Killed, 1 Injured\", \"November 29, 2001<br>4 Killed, 0 Injured\", \"December 4, 2001<br>3 Killed, 0 Injured\", \"December 4, 2001<br>2 Killed, 0 Injured\", \"December 4, 2001<br>1 Killed, 0 Injured\", \"December 20, 2001<br>2 Killed, 1 Injured\", \"December 30, 2001<br>4 Killed, 0 Injured\"], \"type\": \"scattermapbox\", \"lon\": [45.866667, 45.55, 45.683333000000005, 45.55, 45.41099929999999, 46.1, 46.10738, 45.866667, 45.683333000000005, 45.909448, 43.133333, 41.94640541, 45.48755646, 46.0, 45.7785, 45.41099929999999, 45.560431, 46.1, 46.1, 45.683333000000005, 45.683333000000005, 45.734167, 45.468659, 46.1, 45.7384, 43.133333, 41.933333000000005, 46.20243835, 46.27991, 45.683333000000005, 45.683333000000005, 45.41099929999999, 45.683333000000005, 45.9, 46.25656796, 46.25656796, 46.25656796, 46.2892, 48.05, 45.683333000000005, 46.488921000000005, 45.683333000000005, 46.3798, 45.2293148, 45.683333000000005, 46.1, 45.683333000000005, 45.683333000000005, 46.385417, 46.158573, 45.683333000000005, 46.158573, 45.683333000000005, 45.77, 45.866667, 45.866667, 46.1317, 46.583333, 45.9, 45.55, 45.41099929999999, 44.665805999999996, 45.683333000000005, 46.08111382, 46.087993, 45.55, 45.866667, 45.7785, 45.683333000000005, 46.1, 104.3, 45.683333000000005], \"marker\": {\"size\": [8.0, 8.0, 10.586585441618618, 9.546685944253776, 10.586585441618618, 14.00947391408641, 8.0, 10.586585441618618, 11.392401564776574, 14.00947391408641, 16.71800596274983, 9.546685944253776, 15.680237488090883, 8.0, 9.546685944253776, 8.0, 9.546685944253776, 12.633350804142763, 9.546685944253776, 10.586585441618618, 9.546685944253776, 8.0, 9.546685944253776, 9.546685944253776, 8.0, 8.0, 8.0, 9.546685944253776, 10.586585441618618, 15.075829068842106, 8.0, 8.0, 12.633350804142763, 8.0, 9.546685944253776, 8.0, 8.0, 8.0, 12.633350804142763, 8.0, 9.546685944253776, 10.586585441618618, 10.586585441618618, 8.0, 8.0, 10.586585441618618, 11.392401564776574, 8.0, 9.546685944253776, 9.546685944253776, 8.0, 8.0, 8.0, 14.00947391408641, 8.0, 8.0, 13.139837283558231, 9.546685944253776, 11.392401564776574, 9.546685944253776, 12.059445470450267, 12.633350804142763, 11.392401564776574, 9.546685944253776, 9.546685944253776, 11.392401564776574, 11.392401564776574, 10.586585441618618, 9.546685944253776, 8.0, 9.546685944253776, 11.392401564776574], \"opacity\": 0.5, \"color\": \"#FF0000\"}, \"hoverinfo\": \"text\", \"lat\": [43.3, 43.133333, 43.316666999999995, 43.133333, 43.36174637, 43.35, 43.01405, 43.3, 43.316666999999995, 42.974265, 44.216667, 44.35197677, 43.03908009, 43.166667, 43.1347, 43.36174637, 43.230385, 43.35, 43.35, 43.316666999999995, 43.316666999999995, 43.226667, 43.160454, 43.35, 43.1078, 44.216667, 44.633333, 43.62945027, 43.26763, 43.316666999999995, 43.316666999999995, 43.36174637, 43.316666999999995, 43.15, 42.932855700000005, 42.932855700000005, 42.932855700000005, 43.2146, 46.35, 43.316666999999995, 43.170021999999996, 43.316666999999995, 43.0957, 43.54920241, 43.316666999999995, 43.35, 43.316666999999995, 43.316666999999995, 43.554402, 43.124254, 43.316666999999995, 43.124254, 43.316666999999995, 43.296944, 43.3, 43.3, 43.2039, 43.25, 43.15, 43.133333, 43.36174637, 43.047456, 43.316666999999995, 43.14118691, 43.427011, 43.133333, 43.3, 43.1347, 43.316666999999995, 43.35, 52.283333, 43.316666999999995], \"mode\": \"markers\"}, {\"text\": [\"January 4, 2001<br>0 Killed, 0 Injured\", \"January 9, 2001<br>0 Killed, 0 Injured\", \"January 16, 2001<br>0 Killed, 1 Injured\", \"January 19, 2001<br>0 Killed, 0 Injured\", \"January 19, 2001<br>0 Killed, 0 Injured\", \"January 19, 2001<br>0 Killed, 0 Injured\", \"January 19, 2001<br>0 Killed, 0 Injured\", \"January 20, 2001<br>0 Killed, 3 Injured\", \"January 29, 2001<br>0 Killed, 0 Injured\", \"January 30, 2001<br>0 Killed, 0 Injured\", \"February 5, 2001<br>0 Killed, 9 Injured\", \"February 5, 2001<br>0 Killed, 6 Injured\", \"February 8, 2001<br>0 Killed, 0 Injured\", \"February 19, 2001<br>0 Killed, 0 Injured\", \"March 2, 2001<br>0 Killed, 6 Injured\", \"March 7, 2001<br>0 Killed, 7 Injured\", \"March 10, 2001<br>0 Killed, 2 Injured\", \"March 11, 2001<br>0 Killed, 2 Injured\", \"March 15, 2001<br>0 Killed, 5 Injured\", \"March 20, 2001<br>0 Killed, 3 Injured\", \"March 22, 2001<br>0 Killed, 1 Injured\", \"March 24, 2001<br>0 Killed, 13 Injured\", \"March 28, 2001<br>0 Killed, 0 Injured\", \"March 28, 2001<br>0 Killed, 2 Injured\", \"April 13, 2001<br>0 Killed, 0 Injured\", \"April 25, 2001<br>0 Killed, 0 Injured\", \"June 7, 2001<br>0 Killed, 6 Injured\", \"June 8, 2001<br>0 Killed, 1 Injured\", \"August 1, 2001<br>0 Killed, 0 Injured\", \"August 3, 2001<br>0 Killed, 0 Injured\", \"August 6, 2001<br>0 Killed, 1 Injured\", \"August 14, 2001<br>0 Killed, 1 Injured\", \"August 16, 2001<br>0 Killed, 1 Injured\", \"August 18, 2001<br>0 Killed, 4 Injured\", \"August 20, 2001<br>0 Killed, 2 Injured\", \"August 21, 2001<br>0 Killed, 15 Injured\", \"August 22, 2001<br>0 Killed, 0 Injured\", \"August 23, 2001<br>0 Killed, 1 Injured\", \"August 24, 2001<br>0 Killed, 0 Injured\", \"August 24, 2001<br>0 Killed, 2 Injured\", \"August 25, 2001<br>0 Killed, 8 Injured\", \"August 26, 2001<br>0 Killed, 0 Injured\", \"August 27, 2001<br>0 Killed, 2 Injured\", \"August 28, 2001<br>0 Killed, 0 Injured\", \"August 28, 2001<br>0 Killed, 0 Injured\", \"August 29, 2001<br>0 Killed, 0 Injured\", \"August 30, 2001<br>0 Killed, 3 Injured\", \"August 30, 2001<br>0 Killed, 0 Injured\", \"September 1, 2001<br>0 Killed, 1 Injured\", \"September 1, 2001<br>0 Killed, 1 Injured\", \"September 13, 2001<br>0 Killed, 5 Injured\", \"November 6, 2001<br>0 Killed, 0 Injured\", \"November 21, 2001<br>0 Killed, 1 Injured\", \"November 25, 2001<br>0 Killed, 0 Injured\", \"November 26, 2001<br>0 Killed, 1 Injured\", \"November 29, 2001<br>0 Killed, 4 Injured\", \"December 7, 2001<br>0 Killed, 3 Injured\", \"December 24, 2001<br>0 Killed, 0 Injured\", \"December 25, 2001<br>0 Killed, 2 Injured\"], \"type\": \"scattermapbox\", \"lon\": [46.199835, 46.08111382, 46.22838402, 45.683333000000005, 45.988407, 46.0, 45.7833, 45.866667, 46.22838402, 37.653957, 37.597286, 45.683333000000005, 45.9, 45.683333000000005, 46.1, 45.683333000000005, 46.0924, 46.08111382, 45.683333000000005, 46.1, 37.564951, 42.85, 46.22838402, 37.743545000000005, 37.616667, 45.683333000000005, 84.966667, 47.491066, 42.05, 46.66223809, 45.9, 45.683333000000005, 46.25656796, 45.468659, 32.05, 45.84304991, 45.84304991, 45.683333000000005, 47.116667, 46.158573, 45.683333000000005, 45.683333000000005, 45.683333000000005, 47.53339766, 46.158573, 46.158573, 46.362120000000004, 46.22838402, 45.683333000000005, 45.84304991, 45.683333000000005, 45.683333000000005, 45.41099929999999, 46.20243835, 46.1025, 45.683333000000005, 45.683333000000005, 45.989143, 45.683333000000005], \"marker\": {\"size\": [0.0, 0.0, 8.0, 0.0, 0.0, 0.0, 0.0, 10.586585441618618, 0.0, 0.0, 14.00947391408641, 12.633350804142763, 0.0, 0.0, 12.633350804142763, 13.139837283558231, 9.546685944253776, 9.546685944253776, 12.059445470450267, 10.586585441618618, 8.0, 15.386701968348703, 0.0, 9.546685944253776, 0.0, 0.0, 12.633350804142763, 8.0, 0.0, 0.0, 8.0, 8.0, 8.0, 11.392401564776574, 9.546685944253776, 15.9585437314328, 0.0, 8.0, 0.0, 9.546685944253776, 13.594959986218404, 0.0, 9.546685944253776, 0.0, 0.0, 0.0, 10.586585441618618, 0.0, 8.0, 8.0, 12.059445470450267, 0.0, 8.0, 0.0, 8.0, 11.392401564776574, 10.586585441618618, 0.0, 9.546685944253776], \"opacity\": 0.5, \"color\": \"#009999\"}, \"hoverinfo\": \"text\", \"lat\": [43.219708000000004, 43.14118691, 43.31492777, 43.316666999999995, 43.320596, 43.166667, 43.4282, 43.3, 43.31492777, 55.777784999999994, 55.771944, 43.316666999999995, 43.15, 43.316666999999995, 43.35, 43.316666999999995, 43.2003, 43.14118691, 43.316666999999995, 43.35, 54.163768000000005, 44.033333, 43.31492777, 55.634577, 55.75, 43.316666999999995, 56.5, 42.978367999999996, 44.216667, 43.34592232, 43.15, 43.316666999999995, 42.932855700000005, 43.160454, 54.783333, 43.28345995, 43.28345995, 43.316666999999995, 42.816666999999995, 43.124254, 43.316666999999995, 43.316666999999995, 43.316666999999995, 42.69233167, 43.124254, 43.124254, 43.15772, 43.31492777, 43.316666999999995, 43.28345995, 43.316666999999995, 43.316666999999995, 43.36174637, 43.62945027, 43.2813, 43.316666999999995, 43.316666999999995, 43.105756, 43.316666999999995], \"mode\": \"markers\"}]}, {\"name\": \"2002\", \"data\": [{\"text\": [\"January 2, 2002<br>15 Killed, 0 Injured\", \"January 14, 2002<br>5 Killed, 0 Injured\", \"January 16, 2002<br>2 Killed, 3 Injured\", \"January 16, 2002<br>3 Killed, 0 Injured\", \"January 18, 2002<br>1 Killed, 0 Injured\", \"January 18, 2002<br>1 Killed, 0 Injured\", \"January 18, 2002<br>2 Killed, 0 Injured\", \"January 18, 2002<br>7 Killed, 15 Injured\", \"January 25, 2002<br>1 Killed, 0 Injured\", \"January 27, 2002<br>14 Killed, 0 Injured\", \"January 31, 2002<br>1 Killed, 0 Injured\", \"February 1, 2002<br>5 Killed, 0 Injured\", \"February 1, 2002<br>1 Killed, 0 Injured\", \"February 8, 2002<br>3 Killed, 0 Injured\", \"February 9, 2002<br>3 Killed, 1 Injured\", \"March 20, 2002<br>3 Killed, 5 Injured\", \"April 2, 2002<br>3 Killed, 0 Injured\", \"April 18, 2002<br>17 Killed, 5 Injured\", \"April 28, 2002<br>9 Killed, 34 Injured\", \"May 9, 2002<br>43 Killed, 130 Injured\", \"May 12, 2002<br>2 Killed, 3 Injured\", \"May 13, 2002<br>1 Killed, 2 Injured\", \"May 21, 2002<br>1 Killed, 3 Injured\", \"May 23, 2002<br>1 Killed, 0 Injured\", \"May 31, 2002<br>5 Killed, 0 Injured\", \"June 6, 2002<br>2 Killed, 3 Injured\", \"June 7, 2002<br>9 Killed, 6 Injured\", \"June 11, 2002<br>2 Killed, 0 Injured\", \"June 20, 2002<br>1 Killed, 0 Injured\", \"July 3, 2002<br>3 Killed, 1 Injured\", \"July 4, 2002<br>1 Killed, 0 Injured\", \"July 5, 2002<br>5 Killed, 0 Injured\", \"July 9, 2002<br>3 Killed, 2 Injured\", \"July 9, 2002<br>2 Killed, 0 Injured\", \"July 12, 2002<br>1 Killed, 4 Injured\", \"August 2, 2002<br>2 Killed, 9 Injured\", \"August 6, 2002<br>11 Killed, 7 Injured\", \"August 9, 2002<br>2 Killed, 5 Injured\", \"August 11, 2002<br>1 Killed, 2 Injured\", \"August 11, 2002<br>4 Killed, 0 Injured\", \"August 13, 2002<br>5 Killed, 13 Injured\", \"August 13, 2002<br>2 Killed, 0 Injured\", \"August 21, 2002<br>1 Killed, 0 Injured\", \"August 26, 2002<br>2 Killed, 0 Injured\", \"September 16, 2002<br>18 Killed, 0 Injured\", \"October 11, 2002<br>24 Killed, 0 Injured\", \"October 18, 2002<br>1 Killed, 0 Injured\", \"October 23, 2002<br>170 Killed, 0 Injured\", \"November 3, 2002<br>9 Killed, 0 Injured\", \"November 4, 2002<br>3 Killed, 0 Injured\", \"November 4, 2002<br>17 Killed, 0 Injured\", \"November 14, 2002<br>4 Killed, 8 Injured\", \"December 27, 2002<br>57 Killed, 121 Injured\"], \"type\": \"scattermapbox\", \"lon\": [45.6306, 45.73371764, 46.113, 45.55, 45.683333000000005, 45.7384, 45.683333000000005, 47.491066, 45.7439, 46.20243835, 45.683333000000005, 45.84304991, 45.683333000000005, 46.0924, 45.9, 45.683333000000005, 46.243, 45.683333000000005, 44.665805999999996, 47.633333, 45.683333000000005, 45.7384, 45.683333000000005, 46.08111382, 45.683333000000005, 45.616667, 45.41099929999999, 46.113, 37.616667, 45.683333000000005, 46.113, 46.4281, 45.24766064, 46.25656796, 45.41099929999999, 45.683333000000005, 45.73371764, 46.08111382, 46.35266, 45.683333000000005, 45.683333000000005, 45.9, 37.361895000000004, 46.0, 45.683333000000005, 45.683333000000005, 37.58975, 37.67452, 45.41099929999999, 45.9, 45.683333000000005, 44.6, 45.683333000000005], \"marker\": {\"size\": [15.9585437314328, 12.059445470450267, 9.546685944253776, 10.586585441618618, 8.0, 8.0, 9.546685944253776, 13.139837283558231, 8.0, 15.680237488090883, 8.0, 12.059445470450267, 8.0, 10.586585441618618, 10.586585441618618, 10.586585441618618, 10.586585441618618, 16.47610162165078, 14.00947391408641, 20.874901897015203, 9.546685944253776, 8.0, 8.0, 8.0, 12.059445470450267, 9.546685944253776, 14.00947391408641, 9.546685944253776, 8.0, 10.586585441618618, 8.0, 12.059445470450267, 10.586585441618618, 9.546685944253776, 8.0, 9.546685944253776, 14.745011707183435, 9.546685944253776, 8.0, 11.392401564776574, 12.059445470450267, 9.546685944253776, 8.0, 9.546685944253776, 16.71800596274983, 17.990525683685927, 8.0, 29.638380001893847, 14.00947391408641, 10.586585441618618, 16.47610162165078, 11.392401564776574, 22.43045458097958], \"opacity\": 0.5, \"color\": \"#FF0000\"}, \"hoverinfo\": \"text\", \"lat\": [42.8389, 42.66601656, 42.9537, 43.133333, 43.316666999999995, 43.1078, 43.316666999999995, 42.978367999999996, 43.0872, 43.62945027, 43.316666999999995, 43.28345995, 43.316666999999995, 43.2003, 43.15, 43.316666999999995, 43.2572, 43.316666999999995, 43.047456, 42.883333, 43.316666999999995, 43.1078, 43.316666999999995, 43.14118691, 43.316666999999995, 43.166667, 43.36174637, 42.9537, 55.75, 43.316666999999995, 42.9537, 43.84, 42.96241067, 42.932855700000005, 43.36174637, 43.316666999999995, 42.66601656, 43.14118691, 43.25023, 43.316666999999995, 43.316666999999995, 43.15, 55.863043000000005, 43.166667, 43.316666999999995, 43.316666999999995, 55.751788, 55.720746999999996, 43.36174637, 43.15, 43.316666999999995, 43.511111, 43.316666999999995], \"mode\": \"markers\"}, {\"text\": [\"January 3, 2002<br>0 Killed, 0 Injured\", \"January 3, 2002<br>0 Killed, 0 Injured\", \"January 3, 2002<br>0 Killed, 0 Injured\", \"January 17, 2002<br>0 Killed, 0 Injured\", \"January 18, 2002<br>0 Killed, 0 Injured\", \"January 18, 2002<br>0 Killed, 1 Injured\", \"January 21, 2002<br>0 Killed, 0 Injured\", \"February 3, 2002<br>0 Killed, 2 Injured\", \"February 3, 2002<br>0 Killed, 1 Injured\", \"February 4, 2002<br>0 Killed, 0 Injured\", \"February 5, 2002<br>0 Killed, 1 Injured\", \"February 6, 2002<br>0 Killed, 1 Injured\", \"February 6, 2002<br>0 Killed, 0 Injured\", \"February 12, 2002<br>0 Killed, 0 Injured\", \"February 14, 2002<br>0 Killed, 3 Injured\", \"January 4, 2002<br>0 Killed, 3 Injured\", \"May 7, 2002<br>0 Killed, 0 Injured\", \"May 13, 2002<br>0 Killed, 6 Injured\", \"May 17, 2002<br>0 Killed, 0 Injured\", \"June 4, 2002<br>0 Killed, 2 Injured\", \"June 6, 2002<br>0 Killed, 0 Injured\", \"July 3, 2002<br>0 Killed, 1 Injured\", \"July 12, 2002<br>0 Killed, 1 Injured\", \"July 12, 2002<br>0 Killed, 2 Injured\", \"July 23, 2002<br>0 Killed, 0 Injured\", \"August 3, 2002<br>0 Killed, 3 Injured\", \"August 5, 2002<br>0 Killed, 4 Injured\", \"August 12, 2002<br>0 Killed, 0 Injured\", \"August 14, 2002<br>0 Killed, 3 Injured\", \"November 1, 2002<br>0 Killed, 3 Injured\", \"November 4, 2002<br>0 Killed, 1 Injured\", \"November 17, 2002<br>0 Killed, 0 Injured\"], \"type\": \"scattermapbox\", \"lon\": [45.683333000000005, 45.543544, 45.24766064, 45.866667, 45.683333000000005, 45.9142, 44.665805999999996, 46.1, 45.866667, 46.006981, 45.683333000000005, 45.683333000000005, 45.866667, 45.55, 45.683333000000005, 131.933333, 45.683333000000005, 45.04656834, 44.766667, 45.2293148, 45.1807, 37.733333, 45.683333000000005, 46.25656796, 45.41099929999999, 46.08111382, 45.557421999999995, 47.491066, 45.683333000000005, 45.683333000000005, 45.683333000000005, 44.665805999999996], \"marker\": {\"size\": [0.0, 0.0, 0.0, 0.0, 0.0, 8.0, 0.0, 9.546685944253776, 8.0, 0.0, 8.0, 8.0, 0.0, 0.0, 10.586585441618618, 10.586585441618618, 0.0, 12.633350804142763, 0.0, 9.546685944253776, 0.0, 8.0, 8.0, 9.546685944253776, 0.0, 10.586585441618618, 11.392401564776574, 0.0, 10.586585441618618, 10.586585441618618, 8.0, 0.0], \"opacity\": 0.5, \"color\": \"#009999\"}, \"hoverinfo\": \"text\", \"lat\": [43.316666999999995, 43.764071, 42.96241067, 43.3, 43.316666999999995, 43.251000000000005, 43.047456, 43.35, 43.3, 43.239931, 43.316666999999995, 43.316666999999995, 43.3, 43.133333, 43.316666999999995, 43.166667, 43.316666999999995, 43.07908558, 43.216667, 43.54920241, 43.2432, 55.916667000000004, 43.316666999999995, 42.932855700000005, 43.36174637, 43.14118691, 43.06326, 42.978367999999996, 43.316666999999995, 43.316666999999995, 43.316666999999995, 43.047456], \"mode\": \"markers\"}]}, {\"name\": \"2003\", \"data\": [{\"text\": [\"January 1, 2003<br>2 Killed, 0 Injured\", \"January 7, 2003<br>2 Killed, 0 Injured\", \"January 10, 2003<br>1 Killed, 0 Injured\", \"January 10, 2003<br>1 Killed, 0 Injured\", \"January 10, 2003<br>1 Killed, 0 Injured\", \"January 12, 2003<br>2 Killed, 2 Injured\", \"January 26, 2003<br>2 Killed, 2 Injured\", \"January 30, 2003<br>1 Killed, 0 Injured\", \"February 2, 2003<br>2 Killed, 0 Injured\", \"April 2, 2003<br>5 Killed, 0 Injured\", \"April 3, 2003<br>8 Killed, 11 Injured\", \"April 17, 2003<br>1 Killed, 0 Injured\", \"May 9, 2003<br>1 Killed, 2 Injured\", \"May 12, 2003<br>59 Killed, 197 Injured\", \"May 14, 2003<br>19 Killed, 78 Injured\", \"May 16, 2003<br>3 Killed, 3 Injured\", \"May 21, 2003<br>1 Killed, 0 Injured\", \"May 22, 2003<br>1 Killed, 1 Injured\", \"May 22, 2003<br>7 Killed, 4 Injured\", \"May 23, 2003<br>7 Killed, 2 Injured\", \"May 30, 2003<br>3 Killed, 8 Injured\", \"June 5, 2003<br>20 Killed, 11 Injured\", \"June 20, 2003<br>2 Killed, 18 Injured\", \"June 20, 2003<br>8 Killed, 38 Injured\", \"June 27, 2003<br>6 Killed, 0 Injured\", \"July 5, 2003<br>16 Killed, 0 Injured\", \"July 9, 2003<br>1 Killed, 0 Injured\", \"July 10, 2003<br>1 Killed, 0 Injured\", \"July 12, 2003<br>2 Killed, 4 Injured\", \"July 16, 2003<br>2 Killed, 0 Injured\", \"July 17, 2003<br>1 Killed, 0 Injured\", \"July 17, 2003<br>3 Killed, 38 Injured\", \"July 25, 2003<br>6 Killed, 8 Injured\", \"July 26, 2003<br>6 Killed, 1 Injured\", \"August 1, 2003<br>40 Killed, 76 Injured\", \"September 3, 2003<br>5 Killed, 33 Injured\", \"September 4, 2003<br>6 Killed, 44 Injured\", \"September 15, 2003<br>2 Killed, 25 Injured\", \"October 2, 2003<br>2 Killed, 0 Injured\", \"November 9, 2003<br>7 Killed, 0 Injured\", \"November 27, 2003<br>1 Killed, 0 Injured\", \"December 5, 2003<br>47 Killed, 170 Injured\", \"December 9, 2003<br>6 Killed, 14 Injured\", \"December 15, 2003<br>9 Killed, 0 Injured\"], \"type\": \"scattermapbox\", \"lon\": [46.006981, 44.898869, 45.55, 46.22838402, 45.683333000000005, 46.08111382, 46.44211483, 39.2, 45.683333000000005, 45.683333000000005, 45.683333000000005, 37.616667, 45.683333000000005, 45.1277, 46.102834, 45.04656834, 44.8203, 45.651109999999996, 46.087993, 46.25656796, 45.683333000000005, 44.68199539, 45.683333000000005, 45.683333000000005, 45.67139, 37.441872, 37.597286, 37.597286, 46.25656796, 45.557421999999995, 46.402476, 46.583333, 45.24766064, 45.683333000000005, 44.65, 42.716667, 43.05102, 44.812872, 45.9, 46.07203, 46.113, 42.85, 37.597286, 45.93573], \"marker\": {\"size\": [9.546685944253776, 9.546685944253776, 8.0, 8.0, 8.0, 9.546685944253776, 9.546685944253776, 8.0, 9.546685944253776, 12.059445470450267, 13.594959986218404, 8.0, 8.0, 22.628577301835605, 16.95009572608719, 10.586585441618618, 8.0, 8.0, 13.139837283558231, 13.139837283558231, 10.586585441618618, 17.173255680986923, 9.546685944253776, 13.594959986218404, 12.633350804142763, 16.223351676640466, 8.0, 8.0, 9.546685944253776, 9.546685944253776, 8.0, 10.586585441618618, 12.633350804142763, 12.633350804142763, 20.49345982834427, 12.059445470450267, 12.633350804142763, 9.546685944253776, 9.546685944253776, 13.139837283558231, 8.0, 21.35378868954449, 12.633350804142763, 14.00947391408641], \"opacity\": 0.5, \"color\": \"#FF0000\"}, \"hoverinfo\": \"text\", \"lat\": [43.239931, 43.299012, 43.133333, 43.31492777, 43.316666999999995, 43.14118691, 43.00618358, 51.65, 43.316666999999995, 43.316666999999995, 43.316666999999995, 55.75, 43.316666999999995, 43.6753, 43.277772, 43.07908558, 43.40517, 43.268609999999995, 43.427011, 42.932855700000005, 43.316666999999995, 43.64578364, 43.316666999999995, 43.316666999999995, 42.85861, 55.82360500000001, 55.771944, 55.771944, 42.932855700000005, 43.06326, 43.247578999999995, 43.25, 42.96241067, 43.316666999999995, 43.75, 43.916667, 44.050154, 43.173137, 43.15, 43.118520000000004, 42.9537, 44.033333, 55.771944, 42.27041], \"mode\": \"markers\"}, {\"text\": [\"January 19, 2003<br>0 Killed, 0 Injured\", \"January 23, 2003<br>0 Killed, 0 Injured\", \"January 25, 2003<br>0 Killed, 0 Injured\", \"January 28, 2003<br>0 Killed, 1 Injured\", \"January 28, 2003<br>0 Killed, 1 Injured\", \"January 28, 2003<br>0 Killed, 0 Injured\", \"January 28, 2003<br>0 Killed, 0 Injured\", \"January 28, 2003<br>0 Killed, 0 Injured\", \"February 2, 2003<br>0 Killed, 0 Injured\", \"February 4, 2003<br>0 Killed, 0 Injured\", \"February 25, 2003<br>0 Killed, 0 Injured\", \"February 27, 2003<br>0 Killed, 0 Injured\", \"March 18, 2003<br>0 Killed, 0 Injured\", \"March 19, 2003<br>0 Killed, 0 Injured\", \"March 21, 2003<br>0 Killed, 0 Injured\", \"March 22, 2003<br>0 Killed, 2 Injured\", \"March 22, 2003<br>0 Killed, 0 Injured\", \"March 23, 2003<br>0 Killed, 0 Injured\", \"May 2, 2003<br>0 Killed, 2 Injured\", \"May 2, 2003<br>0 Killed, 0 Injured\", \"May 13, 2003<br>0 Killed, 0 Injured\", \"May 25, 2003<br>0 Killed, 0 Injured\", \"July 4, 2003<br>0 Killed, 4 Injured\", \"July 15, 2003<br>0 Killed, 0 Injured\", \"November 10, 2003<br>0 Killed, 0 Injured\", \"November 11, 2003<br>0 Killed, 6 Injured\", \"November 23, 2003<br>0 Killed, 0 Injured\", \"November 29, 2003<br>0 Killed, 6 Injured\", \"December 4, 2003<br>0 Killed, 0 Injured\"], \"type\": \"scattermapbox\", \"lon\": [45.683333000000005, 45.866667, 45.85454, 45.683333000000005, 46.1944, 45.2942, 45.41099929999999, 45.685567, 45.683333000000005, 37.616667, 45.683333000000005, 46.25656796, 45.7439, 45.411913, 45.9142, 46.1944, 45.528433, 45.173812, 45.7022, 45.77, 46.25656796, 45.528433, 46.087993, 46.034444, 44.83349991, 37.592155, 45.683333000000005, 37.508181, 44.898869], \"marker\": {\"size\": [0.0, 0.0, 0.0, 8.0, 8.0, 0.0, 0.0, 0.0, 0.0, 0.0, 0.0, 0.0, 0.0, 0.0, 0.0, 9.546685944253776, 0.0, 0.0, 9.546685944253776, 0.0, 0.0, 0.0, 11.392401564776574, 0.0, 0.0, 12.633350804142763, 0.0, 12.633350804142763, 0.0], \"opacity\": 0.5, \"color\": \"#009999\"}, \"hoverinfo\": \"text\", \"lat\": [43.316666999999995, 43.3, 42.65548, 43.316666999999995, 43.1039, 43.2855, 43.36174637, 42.855259999999994, 43.316666999999995, 55.75, 43.316666999999995, 42.932855700000005, 43.0872, 43.089068, 43.251000000000005, 43.1039, 43.258662, 43.336555, 42.8722, 43.296944, 42.932855700000005, 43.258662, 43.427011, 51.533056, 43.22836185, 55.813017, 43.316666999999995, 55.64479, 43.299012], \"mode\": \"markers\"}]}, {\"name\": \"2004\", \"data\": [{\"text\": [\"February 6, 2004<br>40 Killed, 122 Injured\", \"March 2, 2004<br>1 Killed, 0 Injured\", \"March 12, 2004<br>3 Killed, 4 Injured\", \"April 6, 2004<br>1 Killed, 8 Injured\", \"May 9, 2004<br>24 Killed, 46 Injured\", \"May 9, 2004<br>4 Killed, 53 Injured\", \"June 4, 2004<br>4 Killed, 5 Injured\", \"June 12, 2004<br>1 Killed, 1 Injured\", \"June 22, 2004<br>47 Killed, 0 Injured\", \"July 9, 2004<br>1 Killed, 0 Injured\", \"July 13, 2004<br>1 Killed, 3 Injured\", \"July 22, 2004<br>1 Killed, 7 Injured\", \"July 23, 2004<br>1 Killed, 3 Injured\", \"July 24, 2004<br>1 Killed, 2 Injured\", \"July 25, 2004<br>3 Killed, 1 Injured\", \"August 21, 2004<br>12 Killed, 16 Injured\", \"August 24, 2004<br>46 Killed, 0 Injured\", \"August 24, 2004<br>44 Killed, 0 Injured\", \"August 31, 2004<br>11 Killed, 50 Injured\", \"September 1, 2004<br>344 Killed, 727 Injured\", \"September 5, 2004<br>10 Killed, 51 Injured\", \"September 6, 2004<br>4 Killed, 4 Injured\", \"September 10, 2004<br>1 Killed, 0 Injured\", \"October 31, 2004<br>1 Killed, 17 Injured\", \"November 2, 2004<br>1 Killed, 3 Injured\"], \"type\": \"scattermapbox\", \"lon\": [37.637248, 82.916667, 45.683333000000005, 44.83349991, 45.683333000000005, 45.683333000000005, 45.61606407, 45.683333000000005, 44.766667, 37.649825, 45.683333000000005, 47.491066, 45.683333000000005, 47.491066, 45.2942, 45.683333000000005, 39.57993287, 36.42233276, 37.632337, 44.541763, 37.632337, 73.416667, 60.60085600000001, 45.683333000000005, 47.491066], \"marker\": {\"size\": [20.49345982834427, 8.0, 10.586585441618618, 8.0, 17.990525683685927, 11.392401564776574, 11.392401564776574, 8.0, 21.35378868954449, 8.0, 8.0, 8.0, 8.0, 8.0, 10.586585441618618, 15.075829068842106, 21.237003277387394, 20.997636805695684, 14.745011707183435, 35.47418200076954, 14.390967321030303, 11.392401564776574, 8.0, 8.0, 8.0], \"opacity\": 0.5, \"color\": \"#FF0000\"}, \"hoverinfo\": \"text\", \"lat\": [55.732666, 55.033333, 43.316666999999995, 43.22836185, 43.316666999999995, 43.316666999999995, 42.83888842, 43.316666999999995, 43.216667, 55.83789599999999, 43.316666999999995, 42.978367999999996, 43.316666999999995, 42.978367999999996, 43.2855, 43.316666999999995, 47.23638273, 54.08086487, 55.778725, 43.191626, 55.778725, 61.25, 56.832639, 43.316666999999995, 42.978367999999996], \"mode\": \"markers\"}, {\"text\": [\"February 19, 2004<br>0 Killed, 4 Injured\", \"March 2, 2004<br>0 Killed, 11 Injured\", \"March 22, 2004<br>0 Killed, 0 Injured\", \"March 28, 2004<br>0 Killed, 0 Injured\", \"May 29, 2004<br>0 Killed, 6 Injured\", \"June 15, 2004<br>0 Killed, 0 Injured\", \"June 17, 2004<br>0 Killed, 0 Injured\", \"July 25, 2004<br>0 Killed, 1 Injured\", \"July 26, 2004<br>0 Killed, 2 Injured\", \"August 5, 2004<br>0 Killed, 3 Injured\", \"September 10, 2004<br>0 Killed, 4 Injured\", \"September 17, 2004<br>0 Killed, 0 Injured\", \"September 21, 2004<br>0 Killed, 1 Injured\", \"October 6, 2004<br>0 Killed, 0 Injured\", \"December 10, 2004<br>0 Killed, 21 Injured\", \"December 23, 2004<br>0 Killed, 0 Injured\"], \"type\": \"scattermapbox\", \"lon\": [45.683333000000005, 72.6002, 37.883333, 37.632337, 44.2, 45.066666999999995, 47.054713, 45.7384, 39.2, 44.65, 60.60085600000001, 45.353037, 41.893784000000004, 36.902351, 47.45763588, 45.683333000000005], \"marker\": {\"size\": [11.392401564776574, 14.745011707183435, 0.0, 0.0, 12.633350804142763, 0.0, 0.0, 8.0, 9.546685944253776, 10.586585441618618, 11.392401564776574, 0.0, 8.0, 0.0, 17.388251261419388, 0.0], \"opacity\": 0.5, \"color\": \"#009999\"}, \"hoverinfo\": \"text\", \"lat\": [43.316666999999995, 61.10955, 55.683333, 55.778725, 43.333333, 43.316666999999995, 42.630236, 43.1078, 51.65, 43.75, 56.832639, 43.675465, 43.901933, 55.684048, 42.96690706, 43.316666999999995], \"mode\": \"markers\"}]}, {\"name\": \"2005\", \"data\": [{\"text\": [\"January 13, 2005<br>4 Killed, 0 Injured\", \"January 25, 2005<br>2 Killed, 3 Injured\", \"March 1, 2005<br>6 Killed, 19 Injured\", \"March 17, 2005<br>1 Killed, 0 Injured\", \"April 12, 2005<br>1 Killed, 2 Injured\", \"May 10, 2005<br>1 Killed, 3 Injured\", \"May 15, 2005<br>1 Killed, 0 Injured\", \"May 20, 2005<br>2 Killed, 10 Injured\", \"June 10, 2005<br>7 Killed, 1 Injured\", \"July 1, 2005<br>10 Killed, 14 Injured\", \"July 4, 2005<br>3 Killed, 1 Injured\", \"July 5, 2005<br>2 Killed, 4 Injured\", \"July 6, 2005<br>2 Killed, 0 Injured\", \"July 19, 2005<br>15 Killed, 24 Injured\", \"July 24, 2005<br>1 Killed, 40 Injured\", \"July 27, 2005<br>1 Killed, 3 Injured\", \"August 11, 2005<br>1 Killed, 0 Injured\", \"August 15, 2005<br>1 Killed, 7 Injured\", \"August 25, 2005<br>1 Killed, 1 Injured\", \"September 2, 2005<br>1 Killed, 6 Injured\", \"September 7, 2005<br>1 Killed, 0 Injured\", \"September 8, 2005<br>1 Killed, 0 Injured\", \"September 9, 2005<br>3 Killed, 3 Injured\", \"September 17, 2005<br>1 Killed, 0 Injured\", \"October 13, 2005<br>10 Killed, 18 Injured\", \"December 27, 2005<br>2 Killed, 0 Injured\"], \"type\": \"scattermapbox\", \"lon\": [46.25656796, 45.683333000000005, 45.173812, 46.08111382, 47.45763588, 47.491066, 43.5789, 47.491066, 46.158573, 47.491066, 45.682010999999996, 47.491066, 46.0, 45.1277, 46.66223809, 46.237928000000004, 46.124771, 45.683333000000005, 44.766667, 46.583333, 45.683333000000005, 46.616657000000004, 46.158573, 46.087993, 43.627361, 47.491066], \"marker\": {\"size\": [11.392401564776574, 9.546685944253776, 12.633350804142763, 8.0, 8.0, 8.0, 8.0, 9.546685944253776, 13.139837283558231, 14.390967321030303, 10.586585441618618, 9.546685944253776, 9.546685944253776, 15.9585437314328, 8.0, 8.0, 8.0, 8.0, 8.0, 8.0, 8.0, 8.0, 10.586585441618618, 8.0, 14.390967321030303, 9.546685944253776], \"opacity\": 0.5, \"color\": \"#FF0000\"}, \"hoverinfo\": \"text\", \"lat\": [42.932855700000005, 43.316666999999995, 43.336555, 43.14118691, 42.96690706, 42.978367999999996, 43.4331, 42.978367999999996, 43.124254, 42.978367999999996, 42.749659, 42.978367999999996, 43.166667, 43.6753, 43.34592232, 42.957163, 42.955518, 43.316666999999995, 43.216667, 43.25, 43.316666999999995, 43.390031, 43.124254, 43.427011, 43.484122, 42.978367999999996], \"mode\": \"markers\"}, {\"text\": [\"January 2, 2005<br>0 Killed, 1 Injured\", \"January 10, 2005<br>0 Killed, 4 Injured\", \"March 5, 2005<br>0 Killed, 0 Injured\", \"March 17, 2005<br>0 Killed, 0 Injured\", \"March 17, 2005<br>0 Killed, 0 Injured\", \"March 22, 2005<br>0 Killed, 0 Injured\", \"March 29, 2005<br>0 Killed, 0 Injured\", \"March 29, 2005<br>0 Killed, 0 Injured\", \"April 7, 2005<br>0 Killed, 0 Injured\", \"April 8, 2005<br>0 Killed, 0 Injured\", \"April 12, 2005<br>0 Killed, 3 Injured\", \"April 15, 2005<br>0 Killed, 5 Injured\", \"May 29, 2005<br>0 Killed, 0 Injured\", \"June 12, 2005<br>0 Killed, 15 Injured\", \"June 22, 2005<br>0 Killed, 2 Injured\", \"July 6, 2005<br>0 Killed, 0 Injured\", \"July 8, 2005<br>0 Killed, 2 Injured\", \"July 9, 2005<br>0 Killed, 10 Injured\", \"July 14, 2005<br>0 Killed, 0 Injured\", \"July 26, 2005<br>0 Killed, 6 Injured\", \"July 28, 2005<br>0 Killed, 5 Injured\", \"August 3, 2005<br>0 Killed, 0 Injured\", \"August 3, 2005<br>0 Killed, 2 Injured\", \"August 4, 2005<br>0 Killed, 0 Injured\", \"August 5, 2005<br>0 Killed, 0 Injured\", \"August 20, 2005<br>0 Killed, 0 Injured\", \"August 28, 2005<br>0 Killed, 1 Injured\", \"September 16, 2005<br>0 Killed, 0 Injured\", \"October 20, 2005<br>0 Killed, 3 Injured\"], \"type\": \"scattermapbox\", \"lon\": [37.766667, 44.766667, 46.379721999999994, 37.096933, 36.902351, 47.491066, 42.05, 46.616657000000004, 47.491066, 47.491066, 47.491066, 47.491066, 44.766667, 38.616111, 47.116667, 47.45763588, 45.683333000000005, 45.683333000000005, 47.491066, 46.583333, 47.491066, 47.45763588, 47.491066, 46.66223809, 60.60085600000001, 47.16456032, 46.583333, 44.7193, 45.41099929999999], \"marker\": {\"size\": [8.0, 11.392401564776574, 0.0, 0.0, 0.0, 0.0, 0.0, 0.0, 0.0, 0.0, 10.586585441618618, 12.059445470450267, 0.0, 15.9585437314328, 9.546685944253776, 0.0, 9.546685944253776, 14.390967321030303, 0.0, 12.633350804142763, 12.059445470450267, 0.0, 9.546685944253776, 0.0, 0.0, 0.0, 8.0, 0.0, 10.586585441618618], \"opacity\": 0.5, \"color\": \"#009999\"}, \"hoverinfo\": \"text\", \"lat\": [44.716667, 43.216667, 43.148610999999995, 55.641996999999996, 55.684048, 42.978367999999996, 44.216667, 43.390031, 42.978367999999996, 42.978367999999996, 42.978367999999996, 42.978367999999996, 43.216667, 54.538332999999994, 42.816666999999995, 42.96690706, 43.316666999999995, 43.316666999999995, 42.978367999999996, 43.25, 42.978367999999996, 42.96690706, 42.978367999999996, 43.34592232, 56.832639, 43.21470973, 43.25, 43.18492, 43.36174637], \"mode\": \"markers\"}]}, {\"name\": \"2006\", \"data\": [{\"text\": [\"January 2, 2006<br>2 Killed, 0 Injured\", \"February 2, 2006<br>2 Killed, 16 Injured\", \"February 14, 2006<br>1 Killed, 0 Injured\", \"April 1, 2006<br>1 Killed, 2 Injured\", \"April 7, 2006<br>1 Killed, 0 Injured\", \"April 11, 2006<br>1 Killed, 0 Injured\", \"April 13, 2006<br>2 Killed, 2 Injured\", \"May 17, 2006<br>7 Killed, 0 Injured\", \"July 7, 2006<br>4 Killed, 2 Injured\", \"July 7, 2006<br>2 Killed, 1 Injured\", \"July 10, 2006<br>4 Killed, 2 Injured\", \"July 19, 2006<br>1 Killed, 1 Injured\", \"August 3, 2006<br>2 Killed, 0 Injured\", \"August 8, 2006<br>1 Killed, 0 Injured\", \"August 8, 2006<br>3 Killed, 2 Injured\", \"August 18, 2006<br>2 Killed, 4 Injured\", \"August 18, 2006<br>3 Killed, 0 Injured\", \"August 19, 2006<br>2 Killed, 0 Injured\", \"August 21, 2006<br>10 Killed, 0 Injured\", \"September 26, 2006<br>1 Killed, 0 Injured\", \"October 11, 2006<br>2 Killed, 0 Injured\", \"November 19, 2006<br>1 Killed, 2 Injured\"], \"type\": \"scattermapbox\", \"lon\": [46.0924, 44.665805999999996, 45.173812, 44.766667, 30.313283000000002, 44.516667, 45.0, 44.766667, 46.20243835, 45.089301, 46.3339, 44.81623554, 44.83349991, 47.45763588, 47.054713, 46.05014, 46.158573, 44.993549, 37.729628000000005, 42.716667, 47.08493614, 46.0924], \"marker\": {\"size\": [9.546685944253776, 9.546685944253776, 8.0, 8.0, 8.0, 8.0, 9.546685944253776, 13.139837283558231, 11.392401564776574, 9.546685944253776, 11.392401564776574, 8.0, 9.546685944253776, 8.0, 10.586585441618618, 9.546685944253776, 10.586585441618618, 9.546685944253776, 14.390967321030303, 8.0, 9.546685944253776, 8.0], \"opacity\": 0.5, \"color\": \"#FF0000\"}, \"hoverinfo\": \"text\", \"lat\": [43.2003, 43.047456, 43.336555, 43.216667, 59.935741, 48.7, 49.760452, 43.216667, 43.62945027, 43.137077000000005, 43.5098, 42.94997655, 43.22836185, 42.96690706, 42.630236, 42.962720000000004, 43.124254, 43.181337, 55.800314, 43.916667, 42.69974745, 43.2003], \"mode\": \"markers\"}, {\"text\": [\"January 22, 2006<br>0 Killed, 0 Injured\", \"January 30, 2006<br>0 Killed, 1 Injured\", \"February 2, 2006<br>0 Killed, 2 Injured\", \"April 1, 2006<br>0 Killed, 0 Injured\", \"April 1, 2006<br>0 Killed, 1 Injured\", \"April 2, 2006<br>0 Killed, 0 Injured\", \"April 2, 2006<br>0 Killed, 1 Injured\", \"April 10, 2006<br>0 Killed, 0 Injured\", \"April 13, 2006<br>0 Killed, 0 Injured\", \"April 13, 2006<br>0 Killed, 0 Injured\", \"April 13, 2006<br>0 Killed, 1 Injured\", \"April 13, 2006<br>0 Killed, 0 Injured\", \"April 14, 2006<br>0 Killed, 1 Injured\", \"April 15, 2006<br>0 Killed, 2 Injured\", \"June 5, 2006<br>0 Killed, 3 Injured\", \"June 5, 2006<br>0 Killed, 0 Injured\", \"June 28, 2006<br>0 Killed, 2 Injured\", \"July 2, 2006<br>0 Killed, 0 Injured\", \"July 7, 2006<br>0 Killed, 4 Injured\", \"July 7, 2006<br>0 Killed, 0 Injured\", \"July 8, 2006<br>0 Killed, 0 Injured\", \"July 10, 2006<br>0 Killed, 4 Injured\", \"August 1, 2006<br>0 Killed, 0 Injured\", \"August 3, 2006<br>0 Killed, 0 Injured\", \"August 11, 2006<br>0 Killed, 2 Injured\", \"August 13, 2006<br>0 Killed, 0 Injured\", \"August 17, 2006<br>0 Killed, 0 Injured\", \"August 21, 2006<br>0 Killed, 0 Injured\", \"August 22, 2006<br>0 Killed, 0 Injured\", \"August 22, 2006<br>0 Killed, 1 Injured\", \"August 22, 2006<br>0 Killed, 0 Injured\", \"November 18, 2006<br>0 Killed, 0 Injured\"], \"type\": \"scattermapbox\", \"lon\": [42.08718246, 30.423739, 40.533333, 37.732844, 93.0, 44.766667, 73.416667, 132.1827126, 37.597286, 47.116667, 113.47119099999999, 44.766667, 30.32093, 30.317366999999997, 46.44211483, 46.0924, 45.683333000000005, 46.158573, 46.08111382, 44.766667, 44.766667, 46.0924, 46.44211483, 46.25656796, 47.491066, 46.20243835, 45.683333000000005, 45.683333000000005, 44.766667, 44.898869, 44.90203094, 45.683333000000005], \"marker\": {\"size\": [0.0, 8.0, 9.546685944253776, 0.0, 8.0, 0.0, 8.0, 0.0, 0.0, 0.0, 8.0, 0.0, 8.0, 9.546685944253776, 10.586585441618618, 0.0, 9.546685944253776, 0.0, 11.392401564776574, 0.0, 0.0, 11.392401564776574, 0.0, 0.0, 9.546685944253776, 0.0, 0.0, 0.0, 0.0, 8.0, 0.0, 0.0], \"opacity\": 0.5, \"color\": \"#009999\"}, \"hoverinfo\": \"text\", \"lat\": [43.47687689, 59.979164000000004, 64.55, 55.771343, 56.0, 43.216667, 61.25, 43.35921003, 55.771944, 42.816666999999995, 52.051503000000004, 43.216667, 59.925205000000005, 59.890602, 43.00618358, 43.2003, 43.316666999999995, 43.124254, 43.14118691, 43.216667, 43.216667, 43.2003, 43.00618358, 42.932855700000005, 42.978367999999996, 43.62945027, 43.316666999999995, 43.316666999999995, 43.216667, 43.299012, 43.45044929, 43.316666999999995], \"mode\": \"markers\"}]}, {\"name\": \"2007\", \"data\": [{\"text\": [\"February 6, 2007<br>1 Killed, 2 Injured\", \"February 12, 2007<br>4 Killed, 0 Injured\", \"February 23, 2007<br>5 Killed, 0 Injured\", \"February 26, 2007<br>5 Killed, 0 Injured\", \"April 7, 2007<br>4 Killed, 3 Injured\", \"July 3, 2007<br>1 Killed, 0 Injured\", \"July 6, 2007<br>1 Killed, 1 Injured\", \"July 18, 2007<br>4 Killed, 3 Injured\", \"July 21, 2007<br>1 Killed, 0 Injured\", \"August 24, 2007<br>2 Killed, 12 Injured\", \"August 29, 2007<br>2 Killed, 0 Injured\", \"September 18, 2007<br>1 Killed, 1 Injured\", \"October 23, 2007<br>1 Killed, 5 Injured\", \"November 4, 2007<br>3 Killed, 1 Injured\", \"November 5, 2007<br>2 Killed, 1 Injured\", \"November 9, 2007<br>1 Killed, 0 Injured\", \"November 12, 2007<br>1 Killed, 2 Injured\", \"November 12, 2007<br>3 Killed, 0 Injured\", \"November 14, 2007<br>1 Killed, 1 Injured\", \"November 14, 2007<br>1 Killed, 0 Injured\", \"November 15, 2007<br>1 Killed, 0 Injured\", \"November 16, 2007<br>1 Killed, 0 Injured\", \"November 17, 2007<br>1 Killed, 2 Injured\", \"November 23, 2007<br>5 Killed, 12 Injured\", \"November 27, 2007<br>1 Killed, 0 Injured\"], \"type\": \"scattermapbox\", \"lon\": [46.583333, 45.163806, 46.22838402, 46.243, 46.146968, 44.898869, 46.66223809, 46.877891, 44.898869, 47.08493614, 44.766667, 46.124771, 46.616657000000004, 44.908611, 47.08493614, 46.6075, 44.766667, 44.766667, 46.6075, 45.066666999999995, 46.66223809, 45.683333000000005, 45.683333000000005, 44.397592700000004, 57.273388], \"marker\": {\"size\": [8.0, 11.392401564776574, 12.059445470450267, 12.059445470450267, 11.392401564776574, 8.0, 8.0, 11.392401564776574, 8.0, 9.546685944253776, 9.546685944253776, 8.0, 8.0, 10.586585441618618, 9.546685944253776, 8.0, 8.0, 10.586585441618618, 8.0, 8.0, 8.0, 8.0, 8.0, 12.059445470450267, 8.0], \"opacity\": 0.5, \"color\": \"#FF0000\"}, \"hoverinfo\": \"text\", \"lat\": [43.25, 43.313064000000004, 43.31492777, 43.2572, 42.996717, 43.299012, 43.34592232, 43.200068, 43.299012, 42.69974745, 43.216667, 42.955518, 43.390031, 43.269166999999996, 42.69974745, 43.344167, 43.216667, 43.216667, 43.344167, 43.316666999999995, 43.34592232, 43.316666999999995, 43.316666999999995, 43.27771708, 54.989093000000004], \"mode\": \"markers\"}, {\"text\": [\"February 9, 2007<br>0 Killed, 0 Injured\", \"February 14, 2007<br>0 Killed, 1 Injured\", \"February 18, 2007<br>0 Killed, 0 Injured\", \"April 19, 2007<br>0 Killed, 6 Injured\", \"June 4, 2007<br>0 Killed, 0 Injured\", \"June 4, 2007<br>0 Killed, 1 Injured\", \"June 10, 2007<br>0 Killed, 3 Injured\", \"June 13, 2007<br>0 Killed, 4 Injured\", \"July 3, 2007<br>0 Killed, 1 Injured\", \"August 15, 2007<br>0 Killed, 60 Injured\", \"August 21, 2007<br>0 Killed, 2 Injured\", \"August 24, 2007<br>0 Killed, 0 Injured\", \"August 28, 2007<br>0 Killed, 0 Injured\", \"August 29, 2007<br>0 Killed, 1 Injured\", \"August 31, 2007<br>0 Killed, 3 Injured\", \"October 23, 2007<br>0 Killed, 2 Injured\", \"November 1, 2007<br>0 Killed, 3 Injured\", \"November 2, 2007<br>0 Killed, 1 Injured\", \"November 7, 2007<br>0 Killed, 1 Injured\", \"November 8, 2007<br>0 Killed, 2 Injured\", \"November 11, 2007<br>0 Killed, 0 Injured\", \"November 12, 2007<br>0 Killed, 0 Injured\", \"November 14, 2007<br>0 Killed, 2 Injured\", \"November 22, 2007<br>0 Killed, 1 Injured\", \"December 1, 2007<br>0 Killed, 0 Injured\"], \"type\": \"scattermapbox\", \"lon\": [44.766667, 47.491066, 30.346021, 45.683333000000005, 46.158573, 45.41099929999999, 47.116667, 46.25656796, 45.683333000000005, 31.28333, 45.9, 45.683333000000005, 45.908, 45.866667, 44.766667, 47.491066, 46.583333, 46.08111382, 45.066666999999995, 44.898869, 46.0924, 44.58964, 46.22838402, 47.491066, 46.87109], \"marker\": {\"size\": [0.0, 8.0, 0.0, 12.633350804142763, 0.0, 8.0, 10.586585441618618, 11.392401564776574, 8.0, 22.725767322191302, 9.546685944253776, 0.0, 0.0, 8.0, 10.586585441618618, 9.546685944253776, 10.586585441618618, 8.0, 8.0, 9.546685944253776, 0.0, 0.0, 9.546685944253776, 8.0, 0.0], \"opacity\": 0.5, \"color\": \"#009999\"}, \"hoverinfo\": \"text\", \"lat\": [43.216667, 42.978367999999996, 59.932542000000005, 43.316666999999995, 43.124254, 43.36174637, 42.816666999999995, 42.932855700000005, 43.316666999999995, 58.51667, 43.15, 43.316666999999995, 42.97795, 43.3, 43.216667, 42.978367999999996, 43.25, 43.14118691, 43.316666999999995, 43.299012, 43.2003, 43.237590000000004, 43.31492777, 42.978367999999996, 42.68698], \"mode\": \"markers\"}]}, {\"name\": \"2008\", \"data\": [{\"text\": [\"January 8, 2008<br>2 Killed, 0 Injured\", \"January 22, 2008<br>1 Killed, 0 Injured\", \"January 24, 2008<br>1 Killed, 1 Injured\", \"February 1, 2008<br>1 Killed, 0 Injured\", \"February 3, 2008<br>1 Killed, 1 Injured\", \"March 17, 2008<br>1 Killed, 0 Injured\", \"March 19, 2008<br>6 Killed, 8 Injured\", \"April 13, 2008<br>1 Killed, 0 Injured\", \"April 17, 2008<br>1 Killed, 0 Injured\", \"May 22, 2008<br>1 Killed, 0 Injured\", \"May 25, 2008<br>1 Killed, 0 Injured\", \"May 25, 2008<br>2 Killed, 0 Injured\", \"June 1, 2008<br>1 Killed, 0 Injured\", \"June 12, 2008<br>3 Killed, 1 Injured\", \"June 13, 2008<br>2 Killed, 6 Injured\", \"June 13, 2008<br>1 Killed, 0 Injured\", \"June 13, 2008<br>3 Killed, 0 Injured\", \"June 23, 2008<br>1 Killed, 0 Injured\", \"July 1, 2008<br>1 Killed, 0 Injured\", \"July 6, 2008<br>1 Killed, 1 Injured\", \"July 7, 2008<br>3 Killed, 0 Injured\", \"July 8, 2008<br>3 Killed, 3 Injured\", \"July 12, 2008<br>2 Killed, 0 Injured\", \"July 15, 2008<br>1 Killed, 0 Injured\", \"July 16, 2008<br>1 Killed, 3 Injured\", \"July 17, 2008<br>3 Killed, 1 Injured\", \"July 28, 2008<br>1 Killed, 0 Injured\", \"July 29, 2008<br>1 Killed, 1 Injured\", \"July 31, 2008<br>1 Killed, 0 Injured\", \"August 3, 2008<br>1 Killed, 0 Injured\", \"August 5, 2008<br>1 Killed, 3 Injured\", \"August 7, 2008<br>2 Killed, 13 Injured\", \"August 24, 2008<br>2 Killed, 0 Injured\", \"August 26, 2008<br>2 Killed, 1 Injured\", \"September 4, 2008<br>1 Killed, 10 Injured\", \"September 10, 2008<br>1 Killed, 0 Injured\", \"September 19, 2008<br>1 Killed, 0 Injured\", \"October 21, 2008<br>5 Killed, 9 Injured\", \"October 23, 2008<br>4 Killed, 8 Injured\", \"November 5, 2008<br>12 Killed, 40 Injured\", \"November 17, 2008<br>1 Killed, 1 Injured\", \"November 26, 2008<br>1 Killed, 0 Injured\", \"November 30, 2008<br>1 Killed, 0 Injured\", \"December 3, 2008<br>3 Killed, 0 Injured\", \"December 4, 2008<br>1 Killed, 0 Injured\", \"December 4, 2008<br>1 Killed, 0 Injured\", \"December 6, 2008<br>1 Killed, 1 Injured\", \"December 24, 2008<br>1 Killed, 0 Injured\", \"December 25, 2008<br>2 Killed, 11 Injured\", \"December 29, 2008<br>1 Killed, 2 Injured\"], \"type\": \"scattermapbox\", \"lon\": [45.0554, 44.766667, 45.683333000000005, 45.71264076, 45.9989, 46.583333, 45.651089, 44.898869, 45.1807, 46.583333, 47.491066, 43.533889, 42.05, 46.2793, 44.766667, 47.491066, 46.2793, 47.491066, 43.16908073, 44.766667, 43.69295406, 44.993602, 42.94951248, 44.766667, 45.772461, 41.908398, 45.45, 39.927725, 47.491066, 44.83349991, 44.908611, 39.927725, 47.491066, 44.665805999999996, 37.708434000000004, 44.766667, 44.766667, 47.66183722, 45.6, 44.665805999999996, 44.766667, 44.665805999999996, 44.6, 45.891667, 46.583333, 44.766667, 37.621466, 44.733855, 44.7583, 47.054713], \"marker\": {\"size\": [9.546685944253776, 8.0, 8.0, 8.0, 8.0, 8.0, 12.633350804142763, 8.0, 8.0, 8.0, 8.0, 9.546685944253776, 8.0, 10.586585441618618, 9.546685944253776, 8.0, 10.586585441618618, 8.0, 8.0, 8.0, 10.586585441618618, 10.586585441618618, 9.546685944253776, 8.0, 8.0, 10.586585441618618, 8.0, 8.0, 8.0, 8.0, 8.0, 9.546685944253776, 9.546685944253776, 9.546685944253776, 8.0, 8.0, 8.0, 12.059445470450267, 11.392401564776574, 15.075829068842106, 8.0, 8.0, 8.0, 10.586585441618618, 8.0, 8.0, 8.0, 8.0, 9.546685944253776, 8.0], \"opacity\": 0.5, \"color\": \"#FF0000\"}, \"hoverinfo\": \"text\", \"lat\": [43.24, 43.216667, 43.316666999999995, 43.72701164, 44.1626, 43.25, 43.062805, 43.299012, 43.2432, 43.25, 42.978367999999996, 43.6825, 44.216667, 42.9509, 43.216667, 42.978367999999996, 42.9509, 42.978367999999996, 43.21080215, 43.216667, 43.65911667, 43.029016, 43.27915283, 43.216667, 42.833849, 43.774839, 43.083333, 43.439585, 42.978367999999996, 43.22836185, 43.269166999999996, 43.439585, 42.978367999999996, 43.047456, 55.619181999999995, 43.216667, 43.216667, 42.37991356, 43.06, 43.047456, 43.216667, 43.047456, 43.511111, 43.022778, 43.25, 43.216667, 55.556998, 43.369898, 43.4049, 42.630236], \"mode\": \"markers\"}, {\"text\": [\"January 9, 2008<br>0 Killed, 2 Injured\", \"January 24, 2008<br>0 Killed, 1 Injured\", \"January 25, 2008<br>0 Killed, 3 Injured\", \"February 17, 2008<br>0 Killed, 0 Injured\", \"February 23, 2008<br>0 Killed, 2 Injured\", \"March 17, 2008<br>0 Killed, 0 Injured\", \"March 31, 2008<br>0 Killed, 0 Injured\", \"April 7, 2008<br>0 Killed, 3 Injured\", \"April 18, 2008<br>0 Killed, 0 Injured\", \"April 20, 2008<br>0 Killed, 0 Injured\", \"April 25, 2008<br>0 Killed, 0 Injured\", \"April 26, 2008<br>0 Killed, 1 Injured\", \"April 27, 2008<br>0 Killed, 0 Injured\", \"April 29, 2008<br>0 Killed, 0 Injured\", \"May 2, 2008<br>0 Killed, 0 Injured\", \"May 3, 2008<br>0 Killed, 0 Injured\", \"May 4, 2008<br>0 Killed, 0 Injured\", \"May 5, 2008<br>0 Killed, 0 Injured\", \"May 8, 2008<br>0 Killed, 0 Injured\", \"May 11, 2008<br>0 Killed, 0 Injured\", \"May 11, 2008<br>0 Killed, 0 Injured\", \"May 19, 2008<br>0 Killed, 1 Injured\", \"May 21, 2008<br>0 Killed, 0 Injured\", \"May 21, 2008<br>0 Killed, 0 Injured\", \"May 25, 2008<br>0 Killed, 1 Injured\", \"May 26, 2008<br>0 Killed, 0 Injured\", \"May 30, 2008<br>0 Killed, 1 Injured\", \"June 8, 2008<br>0 Killed, 1 Injured\", \"June 9, 2008<br>0 Killed, 9 Injured\", \"June 12, 2008<br>0 Killed, 0 Injured\", \"June 15, 2008<br>0 Killed, 0 Injured\", \"June 23, 2008<br>0 Killed, 0 Injured\", \"June 23, 2008<br>0 Killed, 6 Injured\", \"June 24, 2008<br>0 Killed, 0 Injured\", \"June 30, 2008<br>0 Killed, 0 Injured\", \"July 1, 2008<br>0 Killed, 0 Injured\", \"July 2, 2008<br>0 Killed, 3 Injured\", \"July 2, 2008<br>0 Killed, 0 Injured\", \"July 4, 2008<br>0 Killed, 0 Injured\", \"July 4, 2008<br>0 Killed, 0 Injured\", \"July 4, 2008<br>0 Killed, 0 Injured\", \"July 7, 2008<br>0 Killed, 2 Injured\", \"July 11, 2008<br>0 Killed, 2 Injured\", \"July 11, 2008<br>0 Killed, 3 Injured\", \"July 21, 2008<br>0 Killed, 0 Injured\", \"July 24, 2008<br>0 Killed, 0 Injured\", \"July 24, 2008<br>0 Killed, 1 Injured\", \"July 24, 2008<br>0 Killed, 1 Injured\", \"July 24, 2008<br>0 Killed, 0 Injured\", \"July 28, 2008<br>0 Killed, 0 Injured\", \"July 31, 2008<br>0 Killed, 2 Injured\", \"August 5, 2008<br>0 Killed, 0 Injured\", \"August 7, 2008<br>0 Killed, 0 Injured\", \"August 7, 2008<br>0 Killed, 1 Injured\", \"August 7, 2008<br>0 Killed, 0 Injured\", \"August 11, 2008<br>0 Killed, 0 Injured\", \"August 11, 2008<br>0 Killed, 0 Injured\", \"August 21, 2008<br>0 Killed, 0 Injured\", \"August 22, 2008<br>0 Killed, 0 Injured\", \"August 24, 2008<br>0 Killed, 0 Injured\", \"August 25, 2008<br>0 Killed, 0 Injured\", \"August 30, 2008<br>0 Killed, 0 Injured\", \"September 1, 2008<br>0 Killed, 1 Injured\", \"September 4, 2008<br>0 Killed, 0 Injured\", \"September 22, 2008<br>0 Killed, 0 Injured\", \"September 22, 2008<br>0 Killed, 0 Injured\", \"September 23, 2008<br>0 Killed, 5 Injured\", \"October 15, 2008<br>0 Killed, 1 Injured\", \"October 17, 2008<br>0 Killed, 0 Injured\", \"October 19, 2008<br>0 Killed, 0 Injured\", \"October 19, 2008<br>0 Killed, 0 Injured\", \"October 20, 2008<br>0 Killed, 0 Injured\", \"October 20, 2008<br>0 Killed, 0 Injured\", \"October 21, 2008<br>0 Killed, 0 Injured\", \"October 21, 2008<br>0 Killed, 2 Injured\", \"October 23, 2008<br>0 Killed, 0 Injured\", \"October 28, 2008<br>0 Killed, 1 Injured\", \"November 2, 2008<br>0 Killed, 7 Injured\", \"November 17, 2008<br>0 Killed, 2 Injured\", \"November 17, 2008<br>0 Killed, 0 Injured\", \"November 18, 2008<br>0 Killed, 3 Injured\", \"November 18, 2008<br>0 Killed, 0 Injured\", \"November 18, 2008<br>0 Killed, 0 Injured\", \"November 19, 2008<br>0 Killed, 0 Injured\", \"November 22, 2008<br>0 Killed, 0 Injured\", \"November 25, 2008<br>0 Killed, 1 Injured\", \"November 26, 2008<br>0 Killed, 0 Injured\", \"November 28, 2008<br>0 Killed, 0 Injured\", \"November 30, 2008<br>0 Killed, 0 Injured\", \"November 30, 2008<br>0 Killed, 0 Injured\", \"November 30, 2008<br>0 Killed, 2 Injured\", \"November 30, 2008<br>0 Killed, 0 Injured\", \"December 1, 2008<br>0 Killed, 2 Injured\", \"December 1, 2008<br>0 Killed, 2 Injured\", \"December 1, 2008<br>0 Killed, 0 Injured\", \"December 4, 2008<br>0 Killed, 0 Injured\", \"December 5, 2008<br>0 Killed, 0 Injured\", \"December 6, 2008<br>0 Killed, 0 Injured\", \"December 10, 2008<br>0 Killed, 0 Injured\", \"December 11, 2008<br>0 Killed, 0 Injured\", \"December 12, 2008<br>0 Killed, 1 Injured\", \"December 14, 2008<br>0 Killed, 0 Injured\", \"December 15, 2008<br>0 Killed, 0 Injured\", \"December 20, 2008<br>0 Killed, 6 Injured\", \"December 20, 2008<br>0 Killed, 13 Injured\", \"December 22, 2008<br>0 Killed, 0 Injured\", \"December 23, 2008<br>0 Killed, 0 Injured\", \"December 25, 2008<br>0 Killed, 0 Injured\"], \"type\": \"scattermapbox\", \"lon\": [47.491066, 44.987378, 45.41099929999999, 39.2, 45.066666999999995, 32.05, 44.766667, 37.616667, 44.766667, 43.5789, 44.766667, 46.616657000000004, 44.6, 44.766667, 44.766667, 45.066666999999995, 44.766667, 46.616657000000004, 47.16456032, 47.491066, 45.066666999999995, 43.627361, 45.683333000000005, 45.066666999999995, 47.491066, 47.491066, 44.9, 42.916667, 45.683333000000005, 47.054713, 41.233333, 45.683333000000005, 43.627361, 45.683333000000005, 44.766667, 46.583333, 43.5789, 44.766667, 44.766667, 44.90203094, 42.916667, 42.6476, 45.683333000000005, 45.066666999999995, 47.491066, 44.753941, 44.766667, 44.6, 45.066666999999995, 44.766667, 42.6476, 50.15, 45.683333000000005, 46.716667, 44.766667, 47.491066, 44.766667, 44.7193, 44.6, 44.816666999999995, 44.898869, 44.766667, 45.066666999999995, 44.766667, 44.766667, 44.898869, 37.441872, 42.916667, 45.066666999999995, 44.898869, 44.6, 47.5688, 47.491066, 47.66183722, 47.491066, 45.6, 44.766667, 45.066666999999995, 44.987378, 37.616667, 47.491066, 44.642027, 44.6, 44.908611, 44.766667, 50.15, 44.6, 44.898869, 44.766667, 44.898869, 37.577358000000004, 45.066666999999995, 44.898869, 37.640744, 44.766667, 45.066666999999995, 44.766667, 37.781218, 37.566716, 44.6, 44.898869, 44.6, 44.6, 45.683333000000005, 37.603812, 44.6, 44.839596, 44.816666999999995], \"marker\": {\"size\": [9.546685944253776, 8.0, 10.586585441618618, 0.0, 9.546685944253776, 0.0, 0.0, 10.586585441618618, 0.0, 0.0, 0.0, 8.0, 0.0, 0.0, 0.0, 0.0, 0.0, 0.0, 0.0, 0.0, 0.0, 8.0, 0.0, 0.0, 8.0, 0.0, 8.0, 8.0, 14.00947391408641, 0.0, 0.0, 0.0, 12.633350804142763, 0.0, 0.0, 0.0, 10.586585441618618, 0.0, 0.0, 0.0, 0.0, 9.546685944253776, 9.546685944253776, 10.586585441618618, 0.0, 0.0, 8.0, 8.0, 0.0, 0.0, 9.546685944253776, 0.0, 0.0, 8.0, 0.0, 0.0, 0.0, 0.0, 0.0, 0.0, 0.0, 0.0, 8.0, 0.0, 0.0, 0.0, 12.059445470450267, 8.0, 0.0, 0.0, 0.0, 0.0, 0.0, 0.0, 9.546685944253776, 0.0, 8.0, 13.139837283558231, 9.546685944253776, 0.0, 10.586585441618618, 0.0, 0.0, 0.0, 0.0, 8.0, 0.0, 0.0, 0.0, 0.0, 9.546685944253776, 0.0, 9.546685944253776, 9.546685944253776, 0.0, 0.0, 0.0, 0.0, 0.0, 0.0, 8.0, 0.0, 0.0, 12.633350804142763, 15.386701968348703, 0.0, 0.0, 0.0], \"opacity\": 0.5, \"color\": \"#009999\"}, \"hoverinfo\": \"text\", \"lat\": [42.978367999999996, 43.305921999999995, 43.36174637, 51.65, 43.316666999999995, 54.783333, 43.216667, 55.75, 43.216667, 43.4331, 43.216667, 43.390031, 43.511111, 43.216667, 43.216667, 43.316666999999995, 43.216667, 43.390031, 43.21470973, 42.978367999999996, 43.316666999999995, 43.484122, 43.316666999999995, 43.316666999999995, 42.978367999999996, 42.978367999999996, 43.183333000000005, 43.4, 43.316666999999995, 42.630236, 45.5, 43.316666999999995, 43.484122, 43.316666999999995, 43.216667, 43.25, 43.4331, 43.216667, 43.216667, 43.45044929, 43.4, 43.2625, 43.316666999999995, 43.316666999999995, 42.978367999999996, 43.211431, 43.216667, 43.511111, 43.316666999999995, 43.216667, 43.2625, 53.20006, 43.316666999999995, 43.85, 43.216667, 42.978367999999996, 43.216667, 43.18492, 43.511111, 43.2, 43.299012, 43.216667, 43.316666999999995, 43.216667, 43.216667, 43.299012, 55.82360500000001, 43.4, 43.316666999999995, 43.299012, 43.511111, 42.5695, 42.978367999999996, 42.37991356, 42.978367999999996, 43.06, 43.216667, 43.316666999999995, 43.305921999999995, 55.75, 42.978367999999996, 43.231167, 43.511111, 43.269166999999996, 43.216667, 53.20006, 43.511111, 43.299012, 43.216667, 43.299012, 55.731035, 43.316666999999995, 43.299012, 55.587086, 43.216667, 43.316666999999995, 43.216667, 55.696563, 55.76348, 43.511111, 43.299012, 43.511111, 43.511111, 43.316666999999995, 55.61189, 43.511111, 43.260186, 43.2], \"mode\": \"markers\"}]}, {\"name\": \"2009\", \"data\": [{\"text\": [\"January 12, 2009<br>1 Killed, 0 Injured\", \"January 13, 2009<br>1 Killed, 0 Injured\", \"January 19, 2009<br>2 Killed, 0 Injured\", \"January 30, 2009<br>1 Killed, 0 Injured\", \"February 2, 2009<br>5 Killed, 1 Injured\", \"February 4, 2009<br>1 Killed, 0 Injured\", \"February 24, 2009<br>1 Killed, 1 Injured\", \"March 3, 2009<br>1 Killed, 0 Injured\", \"March 15, 2009<br>1 Killed, 0 Injured\", \"March 24, 2009<br>1 Killed, 0 Injured\", \"April 10, 2009<br>1 Killed, 1 Injured\", \"April 13, 2009<br>1 Killed, 7 Injured\", \"April 19, 2009<br>1 Killed, 0 Injured\", \"April 19, 2009<br>1 Killed, 2 Injured\", \"April 28, 2009<br>1 Killed, 0 Injured\", \"May 14, 2009<br>1 Killed, 0 Injured\", \"May 14, 2009<br>1 Killed, 0 Injured\", \"May 16, 2009<br>2 Killed, 4 Injured\", \"May 21, 2009<br>1 Killed, 0 Injured\", \"May 25, 2009<br>1 Killed, 0 Injured\", \"June 2, 2009<br>1 Killed, 2 Injured\", \"June 5, 2009<br>1 Killed, 0 Injured\", \"June 5, 2009<br>1 Killed, 0 Injured\", \"June 10, 2009<br>1 Killed, 5 Injured\", \"June 12, 2009<br>1 Killed, 0 Injured\", \"June 13, 2009<br>1 Killed, 1 Injured\", \"June 13, 2009<br>1 Killed, 0 Injured\", \"June 13, 2009<br>1 Killed, 0 Injured\", \"June 22, 2009<br>3 Killed, 5 Injured\", \"June 24, 2009<br>2 Killed, 1 Injured\", \"July 1, 2009<br>2 Killed, 0 Injured\", \"July 2, 2009<br>1 Killed, 0 Injured\", \"July 15, 2009<br>1 Killed, 0 Injured\", \"July 15, 2009<br>1 Killed, 0 Injured\", \"July 16, 2009<br>1 Killed, 0 Injured\", \"July 17, 2009<br>2 Killed, 0 Injured\", \"July 18, 2009<br>1 Killed, 4 Injured\", \"July 26, 2009<br>7 Killed, 10 Injured\", \"August 1, 2009<br>1 Killed, 1 Injured\", \"August 2, 2009<br>3 Killed, 0 Injured\", \"August 5, 2009<br>1 Killed, 3 Injured\", \"August 7, 2009<br>1 Killed, 2 Injured\", \"August 10, 2009<br>2 Killed, 0 Injured\", \"August 11, 2009<br>1 Killed, 0 Injured\", \"August 17, 2009<br>26 Killed, 0 Injured\", \"August 20, 2009<br>1 Killed, 0 Injured\", \"September 10, 2009<br>1 Killed, 0 Injured\", \"September 12, 2009<br>1 Killed, 0 Injured\", \"September 16, 2009<br>1 Killed, 6 Injured\", \"October 5, 2009<br>1 Killed, 0 Injured\", \"October 22, 2009<br>1 Killed, 2 Injured\", \"October 23, 2009<br>1 Killed, 0 Injured\", \"October 25, 2009<br>1 Killed, 1 Injured\", \"October 29, 2009<br>1 Killed, 0 Injured\", \"November 1, 2009<br>1 Killed, 0 Injured\", \"November 13, 2009<br>3 Killed, 0 Injured\", \"November 16, 2009<br>1 Killed, 0 Injured\", \"November 19, 2009<br>1 Killed, 1 Injured\", \"November 23, 2009<br>1 Killed, 0 Injured\", \"November 23, 2009<br>1 Killed, 0 Injured\", \"November 26, 2009<br>2 Killed, 0 Injured\", \"November 27, 2009<br>26 Killed, 100 Injured\", \"November 30, 2009<br>1 Killed, 0 Injured\", \"December 3, 2009<br>2 Killed, 0 Injured\", \"December 16, 2009<br>2 Killed, 2 Injured\", \"December 17, 2009<br>1 Killed, 18 Injured\"], \"type\": \"scattermapbox\", \"lon\": [44.766667, 42.05, 37.616667, 44.766667, 47.491066, 37.433628000000006, 44.766667, 44.766667, 44.766667, 46.25656796, 47.53339766, 44.056814, 44.766667, 45.066666999999995, 46.583333, 43.627361, 45.066666999999995, 45.0296, 47.491066, 42.916667, 44.766667, 44.839596, 45.066666999999995, 44.766667, 47.491066, 47.491066, 44.753941, 44.766667, 44.766667, 45.55, 47.45763588, 47.5605, 48.0633, 45.683333000000005, 48.0633, 44.7583, 44.816666999999995, 45.683333000000005, 47.491066, 45.04656834, 44.766667, 45.683333000000005, 45.683333000000005, 47.491066, 91.370278, 46.8648, 46.583333, 44.766667, 45.683333000000005, 46.886531, 44.6, 45.683333000000005, 43.16908073, 47.491066, 46.836731, 47.5688, 37.807221999999996, 37.657275, 45.683333000000005, 44.766667, 47.491066, 34.36299992, 48.3581, 47.28955277, 44.766667, 44.766667], \"marker\": {\"size\": [8.0, 8.0, 9.546685944253776, 8.0, 12.059445470450267, 8.0, 8.0, 8.0, 8.0, 8.0, 8.0, 8.0, 8.0, 8.0, 8.0, 8.0, 8.0, 9.546685944253776, 8.0, 8.0, 8.0, 8.0, 8.0, 8.0, 8.0, 8.0, 8.0, 8.0, 10.586585441618618, 9.546685944253776, 9.546685944253776, 8.0, 8.0, 8.0, 8.0, 9.546685944253776, 8.0, 13.139837283558231, 8.0, 10.586585441618618, 8.0, 8.0, 9.546685944253776, 8.0, 18.36150142620706, 8.0, 8.0, 8.0, 8.0, 8.0, 8.0, 8.0, 8.0, 8.0, 8.0, 10.586585441618618, 8.0, 8.0, 8.0, 8.0, 9.546685944253776, 18.36150142620706, 8.0, 9.546685944253776, 9.546685944253776, 8.0], \"opacity\": 0.5, \"color\": \"#FF0000\"}, \"hoverinfo\": \"text\", \"lat\": [43.216667, 44.216667, 55.75, 43.216667, 42.978367999999996, 55.754461, 43.216667, 43.216667, 43.216667, 42.932855700000005, 42.69233167, 42.851397, 43.216667, 43.316666999999995, 43.25, 43.484122, 43.316666999999995, 42.9699, 42.978367999999996, 43.4, 43.216667, 43.260186, 43.316666999999995, 43.216667, 42.978367999999996, 42.978367999999996, 43.211431, 43.216667, 43.216667, 43.133333, 42.96690706, 42.7086, 42.1295, 43.316666999999995, 42.1295, 43.4049, 43.2, 43.316666999999995, 42.978367999999996, 43.07908558, 43.216667, 43.316666999999995, 43.316666999999995, 42.978367999999996, 52.825832999999996, 43.3091, 43.25, 43.216667, 43.316666999999995, 43.201333, 43.511111, 43.316666999999995, 43.21080215, 42.978367999999996, 43.171028, 42.5695, 55.820556, 55.64289300000001, 43.316666999999995, 43.216667, 42.978367999999996, 57.97947698, 41.6237, 42.45093573, 43.216667, 43.216667], \"mode\": \"markers\"}, {\"text\": [\"January 9, 2009<br>0 Killed, 1 Injured\", \"January 19, 2009<br>0 Killed, 0 Injured\", \"January 21, 2009<br>0 Killed, 0 Injured\", \"January 29, 2009<br>0 Killed, 0 Injured\", \"February 3, 2009<br>0 Killed, 0 Injured\", \"February 6, 2009<br>0 Killed, 2 Injured\", \"February 11, 2009<br>0 Killed, 1 Injured\", \"February 12, 2009<br>0 Killed, 0 Injured\", \"February 15, 2009<br>0 Killed, 0 Injured\", \"February 25, 2009<br>0 Killed, 0 Injured\", \"February 27, 2009<br>0 Killed, 0 Injured\", \"February 28, 2009<br>0 Killed, 3 Injured\", \"March 3, 2009<br>0 Killed, 0 Injured\", \"March 12, 2009<br>0 Killed, 0 Injured\", \"March 12, 2009<br>0 Killed, 0 Injured\", \"March 14, 2009<br>0 Killed, 0 Injured\", \"March 26, 2009<br>0 Killed, 1 Injured\", \"March 26, 2009<br>0 Killed, 0 Injured\", \"March 31, 2009<br>0 Killed, 0 Injured\", \"April 3, 2009<br>0 Killed, 0 Injured\", \"April 10, 2009<br>0 Killed, 0 Injured\", \"April 23, 2009<br>0 Killed, 0 Injured\", \"April 24, 2009<br>0 Killed, 1 Injured\", \"May 2, 2009<br>0 Killed, 2 Injured\", \"May 3, 2009<br>0 Killed, 0 Injured\", \"May 7, 2009<br>0 Killed, 1 Injured\", \"May 10, 2009<br>0 Killed, 0 Injured\", \"May 13, 2009<br>0 Killed, 0 Injured\", \"May 14, 2009<br>0 Killed, 2 Injured\", \"May 18, 2009<br>0 Killed, 0 Injured\", \"May 19, 2009<br>0 Killed, 4 Injured\", \"May 23, 2009<br>0 Killed, 0 Injured\", \"June 3, 2009<br>0 Killed, 0 Injured\", \"June 11, 2009<br>0 Killed, 0 Injured\", \"June 14, 2009<br>0 Killed, 0 Injured\", \"June 16, 2009<br>0 Killed, 0 Injured\", \"June 21, 2009<br>0 Killed, 0 Injured\", \"July 4, 2009<br>0 Killed, 1 Injured\", \"July 10, 2009<br>0 Killed, 0 Injured\", \"July 14, 2009<br>0 Killed, 0 Injured\", \"July 17, 2009<br>0 Killed, 0 Injured\", \"July 17, 2009<br>0 Killed, 0 Injured\", \"July 18, 2009<br>0 Killed, 0 Injured\", \"July 22, 2009<br>0 Killed, 0 Injured\", \"July 22, 2009<br>0 Killed, 0 Injured\", \"July 25, 2009<br>0 Killed, 1 Injured\", \"July 28, 2009<br>0 Killed, 0 Injured\", \"August 12, 2009<br>0 Killed, 0 Injured\", \"August 17, 2009<br>0 Killed, 0 Injured\", \"August 20, 2009<br>0 Killed, 0 Injured\", \"August 21, 2009<br>0 Killed, 0 Injured\", \"August 23, 2009<br>0 Killed, 0 Injured\", \"September 3, 2009<br>0 Killed, 0 Injured\", \"September 9, 2009<br>0 Killed, 0 Injured\", \"September 14, 2009<br>0 Killed, 0 Injured\", \"September 18, 2009<br>0 Killed, 0 Injured\", \"October 3, 2009<br>0 Killed, 0 Injured\", \"October 4, 2009<br>0 Killed, 1 Injured\", \"October 11, 2009<br>0 Killed, 8 Injured\", \"October 12, 2009<br>0 Killed, 0 Injured\", \"October 18, 2009<br>0 Killed, 0 Injured\", \"October 19, 2009<br>0 Killed, 0 Injured\", \"October 25, 2009<br>0 Killed, 0 Injured\", \"October 29, 2009<br>0 Killed, 0 Injured\", \"October 30, 2009<br>0 Killed, 0 Injured\", \"October 30, 2009<br>0 Killed, 0 Injured\", \"November 4, 2009<br>0 Killed, 0 Injured\", \"November 11, 2009<br>0 Killed, 0 Injured\", \"November 11, 2009<br>0 Killed, 0 Injured\", \"November 11, 2009<br>0 Killed, 3 Injured\", \"November 11, 2009<br>0 Killed, 0 Injured\", \"November 12, 2009<br>0 Killed, 1 Injured\", \"November 13, 2009<br>0 Killed, 2 Injured\", \"November 13, 2009<br>0 Killed, 0 Injured\", \"November 14, 2009<br>0 Killed, 0 Injured\", \"November 15, 2009<br>0 Killed, 0 Injured\", \"November 19, 2009<br>0 Killed, 1 Injured\", \"November 25, 2009<br>0 Killed, 0 Injured\", \"November 26, 2009<br>0 Killed, 0 Injured\", \"November 27, 2009<br>0 Killed, 1 Injured\", \"November 30, 2009<br>0 Killed, 0 Injured\", \"December 5, 2009<br>0 Killed, 1 Injured\", \"December 6, 2009<br>0 Killed, 0 Injured\", \"December 14, 2009<br>0 Killed, 0 Injured\", \"December 21, 2009<br>0 Killed, 0 Injured\"], \"type\": \"scattermapbox\", \"lon\": [45.066666999999995, 44.766667, 46.66223809, 44.83349991, 44.9, 46.616657000000004, 39.2, 44.665805999999996, 44.766667, 44.9, 47.89107704, 45.066666999999995, 44.766667, 45.24766064, 44.766667, 44.766667, 44.816666999999995, 45.066666999999995, 44.766667, 44.898869, 47.53339766, 44.766667, 45.683333000000005, 37.616667, 46.422711, 45.066666999999995, 44.766667, 47.403611, 47.491066, 46.583333, 42.716667, 47.89107704, 44.766667, 42.916667, 44.766667, 45.683333000000005, 44.766667, 46.583333, 44.898869, 44.766667, 47.116667, 44.6, 44.766667, 47.491066, 45.066666999999995, 37.44, 44.766667, 47.53339766, 46.583333, 47.246, 47.6672, 42.94951248, 46.583333, 44.766667, 48.183333000000005, 44.898869, 47.89107704, 45.066666999999995, 48.183333000000005, 47.491066, 46.583333, 44.766667, 47.491066, 44.715283, 44.83349991, 44.987378, 44.9, 47.53339766, 44.766667, 41.908398, 47.491066, 45.066666999999995, 44.8321, 48.04867077, 44.766667, 44.766667, 46.8289, 47.89107704, 47.45763588, 44.766667, 47.90587902, 37.616667, 40.416667, 44.90203094, 45.066666999999995], \"marker\": {\"size\": [8.0, 0.0, 0.0, 0.0, 0.0, 9.546685944253776, 8.0, 0.0, 0.0, 0.0, 0.0, 10.586585441618618, 0.0, 0.0, 0.0, 0.0, 8.0, 0.0, 0.0, 0.0, 0.0, 0.0, 8.0, 9.546685944253776, 0.0, 8.0, 0.0, 0.0, 9.546685944253776, 0.0, 11.392401564776574, 0.0, 0.0, 0.0, 0.0, 0.0, 0.0, 8.0, 0.0, 0.0, 0.0, 0.0, 0.0, 0.0, 0.0, 8.0, 0.0, 0.0, 0.0, 0.0, 0.0, 0.0, 0.0, 0.0, 0.0, 0.0, 0.0, 8.0, 13.594959986218404, 0.0, 0.0, 0.0, 0.0, 0.0, 0.0, 0.0, 0.0, 0.0, 0.0, 10.586585441618618, 0.0, 8.0, 9.546685944253776, 0.0, 0.0, 0.0, 8.0, 0.0, 0.0, 8.0, 0.0, 8.0, 0.0, 0.0, 0.0], \"opacity\": 0.5, \"color\": \"#009999\"}, \"hoverinfo\": \"text\", \"lat\": [43.316666999999995, 43.216667, 43.34592232, 43.22836185, 43.183333000000005, 43.390031, 51.65, 43.047456, 43.216667, 43.183333000000005, 42.36345588, 43.316666999999995, 43.216667, 42.96241067, 43.216667, 43.216667, 43.2, 43.316666999999995, 43.216667, 43.299012, 42.69233167, 43.216667, 43.316666999999995, 55.75, 43.133447, 43.316666999999995, 43.216667, 42.988333000000004, 42.978367999999996, 43.25, 43.916667, 42.36345588, 43.216667, 43.4, 43.216667, 43.316666999999995, 43.216667, 43.25, 43.299012, 43.216667, 42.816666999999995, 43.511111, 43.216667, 42.978367999999996, 43.316666999999995, 55.89, 43.216667, 42.69233167, 43.25, 42.6979, 42.4542, 43.27915283, 43.25, 43.216667, 42.116667, 43.299012, 42.36345588, 43.316666999999995, 42.116667, 42.978367999999996, 43.25, 43.216667, 42.978367999999996, 43.147789, 43.22836185, 43.305921999999995, 43.183333000000005, 42.69233167, 43.216667, 43.774839, 42.978367999999996, 43.316666999999995, 43.2819, 42.20198375, 43.216667, 43.216667, 43.0827, 42.36345588, 42.96690706, 43.216667, 42.10041629999999, 55.75, 56.13333299999999, 43.45044929, 43.316666999999995], \"mode\": \"markers\"}]}, {\"name\": \"2010\", \"data\": [{\"text\": [\"January 6, 2010<br>6 Killed, 20 Injured\", \"January 11, 2010<br>1 Killed, 0 Injured\", \"January 14, 2010<br>1 Killed, 3 Injured\", \"January 28, 2010<br>1 Killed, 0 Injured\", \"February 5, 2010<br>4 Killed, 0 Injured\", \"February 5, 2010<br>1 Killed, 0 Injured\", \"February 10, 2010<br>1 Killed, 0 Injured\", \"February 23, 2010<br>1 Killed, 1 Injured\", \"February 24, 2010<br>1 Killed, 0 Injured\", \"February 26, 2010<br>1 Killed, 1 Injured\", \"February 27, 2010<br>1 Killed, 0 Injured\", \"March 29, 2010<br>20 Killed, 48 Injured\", \"March 29, 2010<br>20 Killed, 47 Injured\", \"March 31, 2010<br>14 Killed, 37 Injured\", \"April 1, 2010<br>2 Killed, 1 Injured\", \"April 3, 2010<br>3 Killed, 5 Injured\", \"April 5, 2010<br>3 Killed, 4 Injured\", \"April 9, 2010<br>2 Killed, 0 Injured\", \"April 10, 2010<br>1 Killed, 0 Injured\", \"April 12, 2010<br>1 Killed, 0 Injured\", \"April 20, 2010<br>2 Killed, 0 Injured\", \"May 1, 2010<br>1 Killed, 29 Injured\", \"May 7, 2010<br>1 Killed, 7 Injured\", \"May 13, 2010<br>5 Killed, 0 Injured\", \"May 20, 2010<br>1 Killed, 0 Injured\", \"May 27, 2010<br>7 Killed, 46 Injured\", \"May 31, 2010<br>1 Killed, 1 Injured\", \"June 4, 2010<br>1 Killed, 1 Injured\", \"June 11, 2010<br>1 Killed, 0 Injured\", \"June 18, 2010<br>1 Killed, 2 Injured\", \"June 26, 2010<br>1 Killed, 0 Injured\", \"June 30, 2010<br>1 Killed, 5 Injured\", \"July 14, 2010<br>1 Killed, 0 Injured\", \"July 16, 2010<br>1 Killed, 4 Injured\", \"July 21, 2010<br>2 Killed, 2 Injured\", \"July 23, 2010<br>1 Killed, 0 Injured\", \"July 24, 2010<br>2 Killed, 14 Injured\", \"July 27, 2010<br>1 Killed, 1 Injured\", \"July 28, 2010<br>1 Killed, 0 Injured\", \"August 1, 2010<br>1 Killed, 0 Injured\", \"August 2, 2010<br>1 Killed, 0 Injured\", \"August 9, 2010<br>2 Killed, 0 Injured\", \"August 17, 2010<br>2 Killed, 3 Injured\", \"August 19, 2010<br>2 Killed, 0 Injured\", \"August 21, 2010<br>3 Killed, 0 Injured\", \"August 21, 2010<br>1 Killed, 0 Injured\", \"August 23, 2010<br>2 Killed, 0 Injured\", \"August 24, 2010<br>2 Killed, 0 Injured\", \"August 26, 2010<br>1 Killed, 3 Injured\", \"September 1, 2010<br>1 Killed, 1 Injured\", \"September 2, 2010<br>1 Killed, 2 Injured\", \"September 2, 2010<br>2 Killed, 1 Injured\", \"September 4, 2010<br>1 Killed, 3 Injured\", \"September 5, 2010<br>1 Killed, 0 Injured\", \"September 7, 2010<br>1 Killed, 0 Injured\", \"September 9, 2010<br>18 Killed, 173 Injured\", \"September 10, 2010<br>1 Killed, 0 Injured\", \"September 10, 2010<br>1 Killed, 1 Injured\", \"September 10, 2010<br>1 Killed, 0 Injured\", \"September 12, 2010<br>1 Killed, 0 Injured\", \"September 20, 2010<br>1 Killed, 0 Injured\", \"September 26, 2010<br>2 Killed, 1 Injured\", \"September 28, 2010<br>4 Killed, 0 Injured\", \"September 29, 2010<br>2 Killed, 0 Injured\", \"September 30, 2010<br>1 Killed, 0 Injured\", \"October 4, 2010<br>2 Killed, 0 Injured\", \"October 9, 2010<br>1 Killed, 0 Injured\", \"October 19, 2010<br>6 Killed, 17 Injured\", \"October 19, 2010<br>1 Killed, 0 Injured\", \"October 20, 2010<br>1 Killed, 0 Injured\", \"October 20, 2010<br>4 Killed, 0 Injured\", \"November 1, 2010<br>1 Killed, 0 Injured\", \"November 1, 2010<br>1 Killed, 0 Injured\", \"November 1, 2010<br>1 Killed, 0 Injured\", \"November 7, 2010<br>1 Killed, 0 Injured\", \"November 11, 2010<br>11 Killed, 3 Injured\", \"November 14, 2010<br>1 Killed, 0 Injured\", \"November 14, 2010<br>1 Killed, 0 Injured\", \"November 18, 2010<br>1 Killed, 0 Injured\", \"November 18, 2010<br>1 Killed, 1 Injured\", \"November 19, 2010<br>1 Killed, 0 Injured\", \"November 23, 2010<br>1 Killed, 0 Injured\", \"November 27, 2010<br>1 Killed, 0 Injured\", \"November 27, 2010<br>1 Killed, 0 Injured\", \"December 11, 2010<br>1 Killed, 0 Injured\", \"December 11, 2010<br>1 Killed, 0 Injured\", \"December 13, 2010<br>1 Killed, 0 Injured\", \"December 15, 2010<br>1 Killed, 0 Injured\", \"December 18, 2010<br>8 Killed, 0 Injured\", \"December 19, 2010<br>1 Killed, 0 Injured\", \"December 23, 2010<br>2 Killed, 0 Injured\", \"December 31, 2010<br>1 Killed, 0 Injured\", \"December 31, 2010<br>1 Killed, 0 Injured\", \"December 31, 2010<br>1 Killed, 0 Injured\"], \"type\": \"scattermapbox\", \"lon\": [47.491066, 46.716667, 44.766667, 44.766667, 47.491066, 47.863611, 47.491066, 45.066666999999995, 46.583333, 44.766667, 44.766667, 37.616667, 37.577358000000004, 46.716667, 46.659517, 46.716667, 44.898869, 44.766667, 43.627361, 37.616667, 47.491066, 43.627361, 48.298928000000004, 47.66183722, 43.533889, 41.983333, 46.583333, 47.498999999999995, 43.627361, 47.633333, 44.6, 45.683333000000005, 47.491066, 43.850833, 43.533889, 47.0321, 50.15, 48.05, 47.491066, 47.491066, 47.5688, 43.008133, 44.466928, 42.6476, 45.93573, 47.491066, 46.61113571, 47.491066, 46.66223809, 47.491066, 46.122406, 45.066666999999995, 47.491066, 43.627361, 43.533889, 44.665805999999996, 46.877891, 47.491066, 47.498999999999995, 47.491066, 43.453333, 47.3568, 47.863611, 42.916667, 41.983333, 46.863668, 44.766667, 45.683333000000005, 44.6, 47.491066, 42.916667, 46.583333, 43.569669, 43.533889, 46.583333, 47.491066, 45.683333000000005, 46.583333, 47.491066, 44.766667, 43.533889, 47.53339766, 47.03499163, 44.747425, 42.6476, 47.6672, 46.40915, 43.627361, 43.69295406, 45.1807, 43.569669, 46.7844, 45.066666999999995, 37.85], \"marker\": {\"size\": [12.633350804142763, 8.0, 8.0, 8.0, 11.392401564776574, 8.0, 8.0, 8.0, 8.0, 8.0, 8.0, 17.173255680986923, 17.173255680986923, 15.680237488090883, 9.546685944253776, 10.586585441618618, 10.586585441618618, 9.546685944253776, 8.0, 8.0, 9.546685944253776, 8.0, 8.0, 12.059445470450267, 8.0, 13.139837283558231, 8.0, 8.0, 8.0, 8.0, 8.0, 8.0, 8.0, 8.0, 9.546685944253776, 8.0, 9.546685944253776, 8.0, 8.0, 8.0, 8.0, 9.546685944253776, 9.546685944253776, 9.546685944253776, 10.586585441618618, 8.0, 9.546685944253776, 9.546685944253776, 8.0, 8.0, 8.0, 9.546685944253776, 8.0, 8.0, 8.0, 16.71800596274983, 8.0, 8.0, 8.0, 8.0, 8.0, 9.546685944253776, 11.392401564776574, 9.546685944253776, 8.0, 9.546685944253776, 8.0, 12.633350804142763, 8.0, 8.0, 11.392401564776574, 8.0, 8.0, 8.0, 8.0, 14.745011707183435, 8.0, 8.0, 8.0, 8.0, 8.0, 8.0, 8.0, 8.0, 8.0, 8.0, 8.0, 8.0, 13.594959986218404, 8.0, 9.546685944253776, 8.0, 8.0, 8.0], \"opacity\": 0.5, \"color\": \"#FF0000\"}, \"hoverinfo\": \"text\", \"lat\": [42.978367999999996, 43.85, 43.216667, 43.216667, 42.978367999999996, 42.563333, 42.978367999999996, 43.316666999999995, 43.25, 43.216667, 43.216667, 55.75, 55.731035, 43.85, 43.287251, 43.85, 43.299012, 43.216667, 43.484122, 55.75, 42.978367999999996, 43.484122, 42.053478999999996, 42.37991356, 43.6825, 45.05, 43.25, 42.9406, 43.484122, 42.883333, 43.511111, 43.316666999999995, 42.978367999999996, 43.5575, 43.6825, 43.9406, 53.20006, 46.35, 42.978367999999996, 42.978367999999996, 42.5695, 43.742540000000005, 42.913299, 43.2625, 42.27041, 42.978367999999996, 44.40770218, 42.978367999999996, 43.34592232, 42.978367999999996, 42.540264, 43.316666999999995, 42.978367999999996, 43.484122, 43.6825, 43.047456, 43.200068, 42.978367999999996, 42.9406, 42.978367999999996, 43.674721999999996, 42.9664, 42.563333, 43.4, 45.05, 43.171222, 43.216667, 43.316666999999995, 43.511111, 42.978367999999996, 43.4, 43.25, 43.528155, 43.6825, 43.25, 42.978367999999996, 43.316666999999995, 43.25, 42.978367999999996, 43.216667, 43.6825, 42.69233167, 43.98359803, 44.363714, 43.2625, 42.4542, 43.852125, 43.484122, 43.65911667, 43.2432, 43.528155, 42.7152, 43.316666999999995, 55.63333299999999], \"mode\": \"markers\"}, {\"text\": [\"January 4, 2010<br>0 Killed, 0 Injured\", \"January 10, 2010<br>0 Killed, 0 Injured\", \"January 11, 2010<br>0 Killed, 0 Injured\", \"January 12, 2010<br>0 Killed, 0 Injured\", \"January 14, 2010<br>0 Killed, 2 Injured\", \"January 20, 2010<br>0 Killed, 1 Injured\", \"January 26, 2010<br>0 Killed, 0 Injured\", \"January 26, 2010<br>0 Killed, 0 Injured\", \"January 27, 2010<br>0 Killed, 0 Injured\", \"January 30, 2010<br>0 Killed, 0 Injured\", \"February 1, 2010<br>0 Killed, 2 Injured\", \"February 2, 2010<br>0 Killed, 0 Injured\", \"February 2, 2010<br>0 Killed, 1 Injured\", \"February 6, 2010<br>0 Killed, 1 Injured\", \"February 13, 2010<br>0 Killed, 1 Injured\", \"February 15, 2010<br>0 Killed, 0 Injured\", \"February 24, 2010<br>0 Killed, 0 Injured\", \"February 26, 2010<br>0 Killed, 0 Injured\", \"February 28, 2010<br>0 Killed, 0 Injured\", \"February 28, 2010<br>0 Killed, 0 Injured\", \"March 2, 2010<br>0 Killed, 1 Injured\", \"March 11, 2010<br>0 Killed, 0 Injured\", \"March 12, 2010<br>0 Killed, 0 Injured\", \"March 14, 2010<br>0 Killed, 3 Injured\", \"March 27, 2010<br>0 Killed, 0 Injured\", \"April 4, 2010<br>0 Killed, 0 Injured\", \"April 4, 2010<br>0 Killed, 0 Injured\", \"April 9, 2010<br>0 Killed, 1 Injured\", \"April 15, 2010<br>0 Killed, 1 Injured\", \"April 15, 2010<br>0 Killed, 0 Injured\", \"April 18, 2010<br>0 Killed, 2 Injured\", \"April 19, 2010<br>0 Killed, 4 Injured\", \"April 20, 2010<br>0 Killed, 2 Injured\", \"April 24, 2010<br>0 Killed, 0 Injured\", \"April 24, 2010<br>0 Killed, 1 Injured\", \"April 29, 2010<br>0 Killed, 4 Injured\", \"May 5, 2010<br>0 Killed, 2 Injured\", \"May 16, 2010<br>0 Killed, 0 Injured\", \"May 19, 2010<br>0 Killed, 0 Injured\", \"May 23, 2010<br>0 Killed, 0 Injured\", \"May 27, 2010<br>0 Killed, 0 Injured\", \"May 31, 2010<br>0 Killed, 3 Injured\", \"June 1, 2010<br>0 Killed, 0 Injured\", \"June 4, 2010<br>0 Killed, 0 Injured\", \"June 4, 2010<br>0 Killed, 0 Injured\", \"June 6, 2010<br>0 Killed, 2 Injured\", \"June 6, 2010<br>0 Killed, 0 Injured\", \"June 7, 2010<br>0 Killed, 4 Injured\", \"June 12, 2010<br>0 Killed, 0 Injured\", \"June 14, 2010<br>0 Killed, 0 Injured\", \"June 17, 2010<br>0 Killed, 0 Injured\", \"June 21, 2010<br>0 Killed, 1 Injured\", \"June 27, 2010<br>0 Killed, 0 Injured\", \"July 2, 2010<br>0 Killed, 2 Injured\", \"July 3, 2010<br>0 Killed, 0 Injured\", \"July 4, 2010<br>0 Killed, 1 Injured\", \"July 11, 2010<br>0 Killed, 0 Injured\", \"July 11, 2010<br>0 Killed, 0 Injured\", \"July 11, 2010<br>0 Killed, 0 Injured\", \"July 11, 2010<br>0 Killed, 0 Injured\", \"July 11, 2010<br>0 Killed, 0 Injured\", \"July 11, 2010<br>0 Killed, 0 Injured\", \"July 11, 2010<br>0 Killed, 0 Injured\", \"July 14, 2010<br>0 Killed, 0 Injured\", \"July 15, 2010<br>0 Killed, 0 Injured\", \"July 16, 2010<br>0 Killed, 0 Injured\", \"July 17, 2010<br>0 Killed, 3 Injured\", \"July 18, 2010<br>0 Killed, 0 Injured\", \"July 18, 2010<br>0 Killed, 0 Injured\", \"July 21, 2010<br>0 Killed, 0 Injured\", \"July 22, 2010<br>0 Killed, 0 Injured\", \"July 23, 2010<br>0 Killed, 0 Injured\", \"July 24, 2010<br>0 Killed, 0 Injured\", \"July 25, 2010<br>0 Killed, 0 Injured\", \"July 29, 2010<br>0 Killed, 0 Injured\", \"July 29, 2010<br>0 Killed, 0 Injured\", \"July 30, 2010<br>0 Killed, 6 Injured\", \"July 30, 2010<br>0 Killed, 0 Injured\", \"August 9, 2010<br>0 Killed, 0 Injured\", \"August 10, 2010<br>0 Killed, 0 Injured\", \"August 16, 2010<br>0 Killed, 0 Injured\", \"August 17, 2010<br>0 Killed, 30 Injured\", \"August 21, 2010<br>0 Killed, 0 Injured\", \"August 22, 2010<br>0 Killed, 0 Injured\", \"August 23, 2010<br>0 Killed, 0 Injured\", \"August 23, 2010<br>0 Killed, 1 Injured\", \"August 25, 2010<br>0 Killed, 0 Injured\", \"August 25, 2010<br>0 Killed, 0 Injured\", \"August 25, 2010<br>0 Killed, 0 Injured\", \"September 5, 2010<br>0 Killed, 0 Injured\", \"September 6, 2010<br>0 Killed, 2 Injured\", \"September 7, 2010<br>0 Killed, 0 Injured\", \"September 7, 2010<br>0 Killed, 0 Injured\", \"September 9, 2010<br>0 Killed, 0 Injured\", \"September 11, 2010<br>0 Killed, 1 Injured\", \"September 17, 2010<br>0 Killed, 0 Injured\", \"September 21, 2010<br>0 Killed, 3 Injured\", \"September 22, 2010<br>0 Killed, 1 Injured\", \"September 29, 2010<br>0 Killed, 0 Injured\", \"September 30, 2010<br>0 Killed, 2 Injured\", \"September 30, 2010<br>0 Killed, 2 Injured\", \"October 11, 2010<br>0 Killed, 1 Injured\", \"October 14, 2010<br>0 Killed, 0 Injured\", \"October 14, 2010<br>0 Killed, 3 Injured\", \"October 14, 2010<br>0 Killed, 1 Injured\", \"October 19, 2010<br>0 Killed, 0 Injured\", \"October 19, 2010<br>0 Killed, 0 Injured\", \"October 21, 2010<br>0 Killed, 0 Injured\", \"October 21, 2010<br>0 Killed, 0 Injured\", \"October 26, 2010<br>0 Killed, 0 Injured\", \"October 27, 2010<br>0 Killed, 0 Injured\", \"October 28, 2010<br>0 Killed, 0 Injured\", \"October 29, 2010<br>0 Killed, 0 Injured\", \"November 1, 2010<br>0 Killed, 0 Injured\", \"November 1, 2010<br>0 Killed, 0 Injured\", \"November 1, 2010<br>0 Killed, 0 Injured\", \"November 3, 2010<br>0 Killed, 1 Injured\", \"November 5, 2010<br>0 Killed, 2 Injured\", \"November 9, 2010<br>0 Killed, 0 Injured\", \"November 13, 2010<br>0 Killed, 0 Injured\", \"November 15, 2010<br>0 Killed, 0 Injured\", \"November 15, 2010<br>0 Killed, 0 Injured\", \"November 19, 2010<br>0 Killed, 0 Injured\", \"November 20, 2010<br>0 Killed, 1 Injured\", \"November 20, 2010<br>0 Killed, 0 Injured\", \"November 21, 2010<br>0 Killed, 1 Injured\", \"November 22, 2010<br>0 Killed, 1 Injured\", \"November 24, 2010<br>0 Killed, 1 Injured\", \"November 25, 2010<br>0 Killed, 0 Injured\", \"November 25, 2010<br>0 Killed, 1 Injured\", \"November 26, 2010<br>0 Killed, 0 Injured\", \"November 28, 2010<br>0 Killed, 0 Injured\", \"November 28, 2010<br>0 Killed, 1 Injured\", \"November 28, 2010<br>0 Killed, 1 Injured\", \"December 3, 2010<br>0 Killed, 0 Injured\", \"December 3, 2010<br>0 Killed, 2 Injured\", \"December 5, 2010<br>0 Killed, 0 Injured\", \"December 6, 2010<br>0 Killed, 0 Injured\", \"December 7, 2010<br>0 Killed, 0 Injured\", \"December 9, 2010<br>0 Killed, 1 Injured\", \"December 16, 2010<br>0 Killed, 0 Injured\", \"December 20, 2010<br>0 Killed, 2 Injured\", \"December 22, 2010<br>0 Killed, 1 Injured\", \"December 23, 2010<br>0 Killed, 2 Injured\", \"December 23, 2010<br>0 Killed, 0 Injured\", \"December 24, 2010<br>0 Killed, 0 Injured\", \"December 24, 2010<br>0 Killed, 1 Injured\", \"December 26, 2010<br>0 Killed, 1 Injured\", \"December 27, 2010<br>0 Killed, 1 Injured\", \"December 30, 2010<br>0 Killed, 0 Injured\"], \"type\": \"scattermapbox\", \"lon\": [44.83349991, 44.766667, 47.491066, 48.04867077, 44.8321, 47.3307, 44.812872, 44.766667, 47.557654, 45.066666999999995, 44.766667, 44.766667, 30.296449, 45.066666999999995, 45.066666999999995, 45.066666999999995, 44.766667, 44.987378, 44.8321, 44.766667, 47.491066, 47.491066, 46.583333, 46.616657000000004, 45.45, 45.066666999999995, 47.491066, 47.491066, 47.491066, 47.633333, 37.428557, 44.766667, 47.491066, 39.7, 43.583255, 43.627361, 30.318976, 43.627361, 43.627361, 42.916667, 44.6, 45.066666999999995, 43.627361, 42.916667, 43.627361, 46.726003999999996, 43.627361, 47.491066, 47.633333, 43.627361, 42.916667, 43.583255, 47.491066, 47.5605, 47.633333, 45.173812, 47.054713, 43.20028, 42.514396999999995, 43.533889, 43.583255, 42.6476, 42.916667, 47.6672, 47.054713, 36.066666999999995, 42.916667, 36.066666999999995, 43.850833, 43.533889, 46.87109, 47.054713, 46.886531, 42.6168, 42.916667, 43.133333, 45.683333000000005, 46.8227, 37.560556, 44.816666999999995, 47.491066, 43.05102, 42.916667, 46.7765, 46.78123, 46.716667, 47.491066, 47.03499163, 44.90203094, 42.916667, 47.491066, 47.03499163, 44.898869, 46.7844, 47.491066, 43.627361, 43.627361, 47.633333, 44.898869, 43.69295406, 43.627361, 43.627361, 46.68411676, 43.583255, 43.627361, 43.533889, 43.627361, 47.53339766, 43.533889, 45.683333000000005, 47.491066, 43.05102, 47.491066, 45.066666999999995, 43.627361, 41.908398, 43.30070305, 42.6476, 44.6, 31.31248713, 46.716667, 47.491066, 47.633333, 44.766667, 39.86959076, 45.066666999999995, 44.766667, 44.766667, 44.766667, 47.89107704, 43.627361, 47.31053, 47.9845, 44.766667, 46.971340000000005, 42.94951248, 47.491066, 30.40683, 43.627361, 46.583333, 48.04867077, 47.491066, 43.627361, 43.627361, 39.927725, 44.766667, 43.69295406, 47.491066, 46.726003999999996, 39.927725], \"marker\": {\"size\": [0.0, 0.0, 0.0, 0.0, 9.546685944253776, 8.0, 0.0, 0.0, 0.0, 0.0, 9.546685944253776, 0.0, 8.0, 8.0, 8.0, 0.0, 0.0, 0.0, 0.0, 0.0, 8.0, 0.0, 0.0, 10.586585441618618, 0.0, 0.0, 0.0, 8.0, 8.0, 0.0, 9.546685944253776, 11.392401564776574, 9.546685944253776, 0.0, 8.0, 11.392401564776574, 9.546685944253776, 0.0, 0.0, 0.0, 0.0, 10.586585441618618, 0.0, 0.0, 0.0, 9.546685944253776, 0.0, 11.392401564776574, 0.0, 0.0, 0.0, 8.0, 0.0, 9.546685944253776, 0.0, 8.0, 0.0, 0.0, 0.0, 0.0, 0.0, 0.0, 0.0, 0.0, 0.0, 0.0, 10.586585441618618, 0.0, 0.0, 0.0, 0.0, 0.0, 0.0, 0.0, 0.0, 0.0, 12.633350804142763, 0.0, 0.0, 0.0, 0.0, 19.043900641453586, 0.0, 0.0, 0.0, 8.0, 0.0, 0.0, 0.0, 0.0, 9.546685944253776, 0.0, 0.0, 0.0, 8.0, 0.0, 10.586585441618618, 8.0, 0.0, 9.546685944253776, 9.546685944253776, 8.0, 0.0, 10.586585441618618, 8.0, 0.0, 0.0, 0.0, 0.0, 0.0, 0.0, 0.0, 0.0, 0.0, 0.0, 0.0, 8.0, 9.546685944253776, 0.0, 0.0, 0.0, 0.0, 0.0, 8.0, 0.0, 8.0, 8.0, 8.0, 0.0, 8.0, 0.0, 0.0, 8.0, 8.0, 0.0, 9.546685944253776, 0.0, 0.0, 0.0, 8.0, 0.0, 9.546685944253776, 8.0, 9.546685944253776, 0.0, 0.0, 8.0, 8.0, 8.0, 0.0], \"opacity\": 0.5, \"color\": \"#009999\"}, \"hoverinfo\": \"text\", \"lat\": [43.22836185, 43.216667, 42.978367999999996, 42.20198375, 43.2819, 42.4364, 43.173137, 43.216667, 42.900923999999996, 43.316666999999995, 43.216667, 43.216667, 59.907268, 43.316666999999995, 43.316666999999995, 43.316666999999995, 43.216667, 43.305921999999995, 43.2819, 43.216667, 42.978367999999996, 42.978367999999996, 43.25, 43.390031, 43.083333, 43.316666999999995, 42.978367999999996, 42.978367999999996, 42.978367999999996, 42.883333, 55.845282, 43.216667, 42.978367999999996, 47.216667, 43.565803, 43.484122, 59.957739000000004, 43.484122, 43.484122, 43.4, 43.511111, 43.316666999999995, 43.484122, 43.4, 43.484122, 43.298902000000005, 43.484122, 42.978367999999996, 42.883333, 43.484122, 43.4, 43.565803, 42.978367999999996, 42.7086, 42.883333, 43.336555, 42.630236, 43.74556, 43.257171, 43.6825, 43.565803, 43.2625, 43.4, 42.4542, 42.630236, 52.966667, 43.4, 52.966667, 43.5575, 43.6825, 42.68698, 42.630236, 43.201333, 43.2543, 43.4, 44.216667, 43.316666999999995, 43.2087, 55.664722, 43.2, 42.978367999999996, 44.050154, 43.4, 43.5992, 43.92938, 43.85, 42.978367999999996, 43.98359803, 43.45044929, 43.4, 42.978367999999996, 43.98359803, 43.299012, 42.7152, 42.978367999999996, 43.484122, 43.484122, 42.883333, 43.299012, 43.65911667, 43.484122, 43.484122, 43.00240355, 43.565803, 43.484122, 43.6825, 43.484122, 42.69233167, 43.6825, 43.316666999999995, 42.978367999999996, 44.050154, 42.978367999999996, 43.316666999999995, 43.484122, 43.774839, 43.71805805, 43.2625, 43.511111, 59.25660227, 43.85, 42.978367999999996, 42.883333, 43.216667, 43.72560273, 43.316666999999995, 43.216667, 43.216667, 43.216667, 42.36345588, 43.484122, 43.03389, 42.3871, 43.216667, 43.18704, 43.27915283, 42.978367999999996, 59.719826, 43.484122, 43.25, 42.20198375, 42.978367999999996, 43.484122, 43.484122, 43.439585, 43.216667, 43.65911667, 42.978367999999996, 43.298902000000005, 43.439585], \"mode\": \"markers\"}]}, {\"name\": \"2011\", \"data\": [{\"text\": [\"January 13, 2011<br>1 Killed, 0 Injured\", \"January 14, 2011<br>4 Killed, 5 Injured\", \"January 15, 2011<br>1 Killed, 0 Injured\", \"January 17, 2011<br>2 Killed, 0 Injured\", \"January 24, 2011<br>38 Killed, 168 Injured\", \"January 26, 2011<br>2 Killed, 1 Injured\", \"January 26, 2011<br>4 Killed, 6 Injured\", \"January 28, 2011<br>1 Killed, 1 Injured\", \"January 31, 2011<br>1 Killed, 0 Injured\", \"February 2, 2011<br>5 Killed, 0 Injured\", \"February 3, 2011<br>1 Killed, 0 Injured\", \"February 7, 2011<br>2 Killed, 0 Injured\", \"February 9, 2011<br>2 Killed, 0 Injured\", \"February 18, 2011<br>3 Killed, 2 Injured\", \"February 19, 2011<br>1 Killed, 1 Injured\", \"February 19, 2011<br>1 Killed, 0 Injured\", \"February 23, 2011<br>1 Killed, 6 Injured\", \"February 26, 2011<br>1 Killed, 0 Injured\", \"March 1, 2011<br>1 Killed, 0 Injured\", \"March 2, 2011<br>1 Killed, 0 Injured\", \"March 4, 2011<br>1 Killed, 0 Injured\", \"March 11, 2011<br>1 Killed, 1 Injured\", \"March 21, 2011<br>1 Killed, 0 Injured\", \"March 31, 2011<br>1 Killed, 0 Injured\", \"April 9, 2011<br>1 Killed, 0 Injured\", \"April 13, 2011<br>1 Killed, 0 Injured\", \"April 14, 2011<br>1 Killed, 0 Injured\", \"April 19, 2011<br>1 Killed, 0 Injured\", \"April 22, 2011<br>1 Killed, 0 Injured\", \"May 1, 2011<br>1 Killed, 0 Injured\", \"May 8, 2011<br>1 Killed, 0 Injured\", \"May 10, 2011<br>2 Killed, 3 Injured\", \"May 21, 2011<br>1 Killed, 0 Injured\", \"May 22, 2011<br>1 Killed, 0 Injured\", \"May 24, 2011<br>1 Killed, 0 Injured\", \"May 30, 2011<br>1 Killed, 0 Injured\", \"June 6, 2011<br>1 Killed, 1 Injured\", \"June 7, 2011<br>1 Killed, 0 Injured\", \"June 10, 2011<br>1 Killed, 0 Injured\", \"June 11, 2011<br>1 Killed, 2 Injured\", \"June 14, 2011<br>1 Killed, 0 Injured\", \"June 21, 2011<br>1 Killed, 0 Injured\", \"June 24, 2011<br>1 Killed, 0 Injured\", \"July 5, 2011<br>1 Killed, 0 Injured\", \"July 9, 2011<br>1 Killed, 0 Injured\", \"July 9, 2011<br>1 Killed, 0 Injured\", \"July 14, 2011<br>1 Killed, 0 Injured\", \"July 22, 2011<br>2 Killed, 0 Injured\", \"August 2, 2011<br>4 Killed, 0 Injured\", \"August 5, 2011<br>1 Killed, 1 Injured\", \"August 22, 2011<br>1 Killed, 0 Injured\", \"August 27, 2011<br>1 Killed, 0 Injured\", \"August 30, 2011<br>12 Killed, 23 Injured\", \"September 1, 2011<br>1 Killed, 3 Injured\", \"September 3, 2011<br>1 Killed, 0 Injured\", \"September 7, 2011<br>1 Killed, 1 Injured\", \"September 15, 2011<br>1 Killed, 0 Injured\", \"September 18, 2011<br>1 Killed, 0 Injured\", \"September 22, 2011<br>3 Killed, 61 Injured\", \"September 22, 2011<br>1 Killed, 61 Injured\", \"September 22, 2011<br>2 Killed, 0 Injured\", \"September 23, 2011<br>4 Killed, 0 Injured\", \"September 29, 2011<br>8 Killed, 6 Injured\", \"October 27, 2011<br>1 Killed, 0 Injured\", \"November 2, 2011<br>1 Killed, 1 Injured\", \"November 8, 2011<br>1 Killed, 0 Injured\", \"November 12, 2011<br>1 Killed, 1 Injured\", \"November 13, 2011<br>1 Killed, 1 Injured\", \"November 14, 2011<br>2 Killed, 0 Injured\", \"November 26, 2011<br>1 Killed, 1 Injured\", \"November 27, 2011<br>1 Killed, 1 Injured\", \"December 12, 2011<br>1 Killed, 0 Injured\", \"December 12, 2011<br>2 Killed, 0 Injured\", \"December 19, 2011<br>1 Killed, 0 Injured\"], \"type\": \"scattermapbox\", \"lon\": [47.244167, 46.583333, 43.533889, 43.381684, 37.75, 46.7455, 46.583333, 43.381684, 44.766667, 43.583255, 47.491066, 43.627361, 46.583333, 42.6476, 43.627361, 43.5789, 43.381684, 37.616667, 43.533889, 43.505956, 47.491066, 47.835319, 47.1181, 47.491066, 47.000155, 43.627361, 43.533889, 46.7624, 47.000155, 47.6672, 47.3358, 47.491066, 46.583333, 46.583333, 46.583333, 43.627361, 45.468659, 47.491066, 37.616667, 45.0554, 47.000155, 47.491066, 42.916667, 43.850833, 47.2631, 48.3242, 47.491066, 47.491066, 46.855462, 47.491066, 38.133333, 44.6, 45.695004, 46.583333, 45.0554, 43.69295406, 47.30963, 47.491066, 47.491066, 47.491066, 47.116667, 47.403611, 47.171652, 47.9032, 47.8992, 39.883333, 47.038270000000004, 42.916667, 43.627361, 47.633333, 47.116667, 43.453333, 43.583255, 47.5688], \"marker\": {\"size\": [8.0, 11.392401564776574, 8.0, 9.546685944253776, 20.22715507774907, 9.546685944253776, 11.392401564776574, 8.0, 8.0, 12.059445470450267, 8.0, 9.546685944253776, 9.546685944253776, 10.586585441618618, 8.0, 8.0, 8.0, 8.0, 8.0, 8.0, 8.0, 8.0, 8.0, 8.0, 8.0, 8.0, 8.0, 8.0, 8.0, 8.0, 8.0, 9.546685944253776, 8.0, 8.0, 8.0, 8.0, 8.0, 8.0, 8.0, 8.0, 8.0, 8.0, 8.0, 8.0, 8.0, 8.0, 8.0, 9.546685944253776, 11.392401564776574, 8.0, 8.0, 8.0, 15.075829068842106, 8.0, 8.0, 8.0, 8.0, 8.0, 10.586585441618618, 8.0, 9.546685944253776, 11.392401564776574, 13.594959986218404, 8.0, 8.0, 8.0, 8.0, 8.0, 9.546685944253776, 8.0, 8.0, 8.0, 9.546685944253776, 8.0], \"opacity\": 0.5, \"color\": \"#FF0000\"}, \"hoverinfo\": \"text\", \"lat\": [42.368611, 43.25, 43.6825, 43.434881, 55.433333, 43.659, 43.25, 43.434881, 43.216667, 43.565803, 42.978367999999996, 43.484122, 43.25, 43.2625, 43.484122, 43.4331, 43.434881, 55.75, 43.6825, 43.544424, 42.978367999999996, 42.132056, 42.1628, 42.978367999999996, 43.923773, 43.484122, 43.6825, 43.8473, 43.923773, 42.4542, 43.0589, 42.978367999999996, 43.25, 43.25, 43.25, 43.484122, 43.160454, 42.978367999999996, 55.75, 43.24, 43.923773, 42.978367999999996, 43.4, 43.5575, 42.6134, 41.733000000000004, 42.978367999999996, 42.978367999999996, 42.673854999999996, 42.978367999999996, 56.3, 43.511111, 43.31261, 43.25, 43.24, 43.65911667, 42.6298, 42.978367999999996, 42.978367999999996, 42.978367999999996, 42.816666999999995, 42.988333000000004, 42.406862, 41.9903, 41.8081, 57.61666700000001, 42.75741, 43.4, 43.484122, 42.883333, 42.816666999999995, 43.674721999999996, 43.565803, 42.5695], \"mode\": \"markers\"}, {\"text\": [\"January 2, 2011<br>0 Killed, 0 Injured\", \"January 3, 2011<br>0 Killed, 0 Injured\", \"January 4, 2011<br>0 Killed, 0 Injured\", \"January 4, 2011<br>0 Killed, 1 Injured\", \"January 8, 2011<br>0 Killed, 0 Injured\", \"January 10, 2011<br>0 Killed, 0 Injured\", \"January 15, 2011<br>0 Killed, 0 Injured\", \"January 18, 2011<br>0 Killed, 0 Injured\", \"January 18, 2011<br>0 Killed, 0 Injured\", \"January 20, 2011<br>0 Killed, 0 Injured\", \"January 23, 2011<br>0 Killed, 0 Injured\", \"January 31, 2011<br>0 Killed, 2 Injured\", \"February 1, 2011<br>0 Killed, 4 Injured\", \"February 1, 2011<br>0 Killed, 0 Injured\", \"February 3, 2011<br>0 Killed, 0 Injured\", \"February 4, 2011<br>0 Killed, 2 Injured\", \"February 6, 2011<br>0 Killed, 0 Injured\", \"February 17, 2011<br>0 Killed, 1 Injured\", \"February 18, 2011<br>0 Killed, 0 Injured\", \"February 19, 2011<br>0 Killed, 0 Injured\", \"February 19, 2011<br>0 Killed, 0 Injured\", \"February 23, 2011<br>0 Killed, 1 Injured\", \"February 24, 2011<br>0 Killed, 0 Injured\", \"February 25, 2011<br>0 Killed, 1 Injured\", \"February 25, 2011<br>0 Killed, 0 Injured\", \"February 25, 2011<br>0 Killed, 13 Injured\", \"February 26, 2011<br>0 Killed, 0 Injured\", \"March 8, 2011<br>0 Killed, 0 Injured\", \"March 9, 2011<br>0 Killed, 0 Injured\", \"March 10, 2011<br>0 Killed, 0 Injured\", \"March 10, 2011<br>0 Killed, 0 Injured\", \"March 11, 2011<br>0 Killed, 1 Injured\", \"March 11, 2011<br>0 Killed, 0 Injured\", \"March 20, 2011<br>0 Killed, 1 Injured\", \"March 24, 2011<br>0 Killed, 0 Injured\", \"March 29, 2011<br>0 Killed, 0 Injured\", \"March 30, 2011<br>0 Killed, 0 Injured\", \"April 4, 2011<br>0 Killed, 0 Injured\", \"April 5, 2011<br>0 Killed, 0 Injured\", \"April 6, 2011<br>0 Killed, 1 Injured\", \"April 10, 2011<br>0 Killed, 1 Injured\", \"April 22, 2011<br>0 Killed, 0 Injured\", \"April 23, 2011<br>0 Killed, 0 Injured\", \"April 24, 2011<br>0 Killed, 0 Injured\", \"April 25, 2011<br>0 Killed, 1 Injured\", \"April 26, 2011<br>0 Killed, 0 Injured\", \"April 26, 2011<br>0 Killed, 0 Injured\", \"April 27, 2011<br>0 Killed, 0 Injured\", \"May 3, 2011<br>0 Killed, 1 Injured\", \"May 7, 2011<br>0 Killed, 0 Injured\", \"May 14, 2011<br>0 Killed, 0 Injured\", \"May 18, 2011<br>0 Killed, 1 Injured\", \"May 26, 2011<br>0 Killed, 0 Injured\", \"May 27, 2011<br>0 Killed, 0 Injured\", \"May 30, 2011<br>0 Killed, 0 Injured\", \"June 1, 2011<br>0 Killed, 0 Injured\", \"June 3, 2011<br>0 Killed, 0 Injured\", \"June 6, 2011<br>0 Killed, 1 Injured\", \"June 7, 2011<br>0 Killed, 0 Injured\", \"June 9, 2011<br>0 Killed, 1 Injured\", \"June 14, 2011<br>0 Killed, 1 Injured\", \"June 17, 2011<br>0 Killed, 1 Injured\", \"June 19, 2011<br>0 Killed, 0 Injured\", \"June 20, 2011<br>0 Killed, 0 Injured\", \"June 24, 2011<br>0 Killed, 0 Injured\", \"June 29, 2011<br>0 Killed, 0 Injured\", \"July 1, 2011<br>0 Killed, 0 Injured\", \"July 4, 2011<br>0 Killed, 0 Injured\", \"July 8, 2011<br>0 Killed, 0 Injured\", \"July 8, 2011<br>0 Killed, 0 Injured\", \"July 12, 2011<br>0 Killed, 0 Injured\", \"July 14, 2011<br>0 Killed, 1 Injured\", \"July 15, 2011<br>0 Killed, 8 Injured\", \"July 15, 2011<br>0 Killed, 2 Injured\", \"July 21, 2011<br>0 Killed, 0 Injured\", \"August 2, 2011<br>0 Killed, 1 Injured\", \"August 13, 2011<br>0 Killed, 0 Injured\", \"August 21, 2011<br>0 Killed, 14 Injured\", \"August 24, 2011<br>0 Killed, 0 Injured\", \"August 28, 2011<br>0 Killed, 0 Injured\", \"September 4, 2011<br>0 Killed, 0 Injured\", \"September 9, 2011<br>0 Killed, 2 Injured\", \"September 13, 2011<br>0 Killed, 0 Injured\", \"September 14, 2011<br>0 Killed, 0 Injured\", \"September 19, 2011<br>0 Killed, 0 Injured\", \"September 27, 2011<br>0 Killed, 0 Injured\", \"October 3, 2011<br>0 Killed, 0 Injured\", \"October 7, 2011<br>0 Killed, 0 Injured\", \"October 12, 2011<br>0 Killed, 1 Injured\", \"October 13, 2011<br>0 Killed, 2 Injured\", \"October 14, 2011<br>0 Killed, 0 Injured\", \"October 15, 2011<br>0 Killed, 0 Injured\", \"October 22, 2011<br>0 Killed, 0 Injured\", \"October 23, 2011<br>0 Killed, 0 Injured\", \"October 30, 2011<br>0 Killed, 0 Injured\", \"November 5, 2011<br>0 Killed, 1 Injured\", \"November 6, 2011<br>0 Killed, 0 Injured\", \"November 7, 2011<br>0 Killed, 1 Injured\", \"November 14, 2011<br>0 Killed, 0 Injured\", \"November 22, 2011<br>0 Killed, 2 Injured\", \"November 25, 2011<br>0 Killed, 0 Injured\", \"December 6, 2011<br>0 Killed, 3 Injured\", \"December 7, 2011<br>0 Killed, 0 Injured\"], \"type\": \"scattermapbox\", \"lon\": [46.583333, 45.066666999999995, 43.627361, 44.665805999999996, 45.066666999999995, 47.491066, 44.766667, 45.695004, 47.403611, 46.583333, 45.066666999999995, 43.767771999999994, 46.716667, 43.389942, 47.000155, 47.866667, 43.627361, 46.716667, 42.478699, 43.208456, 43.56285, 43.533889, 47.491066, 43.381684, 43.583255, 43.627361, 43.627361, 47.116667, 37.616667, 47.3358, 47.116667, 47.491066, 37.616667, 44.033333, 46.812, 46.92269, 47.491066, 47.633333, 47.561068, 47.491066, 44.766667, 43.69295406, 47.09498, 47.09498, 43.627361, 47.1889, 44.516667, 43.627361, 37.616667, 47.491066, 47.491066, 46.866667, 42.842921999999994, 45.066666999999995, 42.916667, 43.56285, 42.842921999999994, 37.616667, 82.93333299999999, 43.389942, 50.15, 45.089301, 44.766667, 44.466928, 42.916667, 42.479484, 44.6, 42.05, 47.630733, 45.066666999999995, 37.616667, 43.1, 46.616657000000004, 46.730005, 45.874265, 137.0, 44.898869, 47.491066, 44.766667, 37.57327, 44.766667, 47.491066, 45.866667, 45.866667, 47.491066, 44.805478, 44.2, 44.805478, 47.54783, 47.491066, 43.627361, 47.3358, 47.680975, 46.882, 46.855462, 42.51511, 47.491066, 44.8203, 44.766667, 46.583333, 46.716667, 46.877891, 47.638241], \"marker\": {\"size\": [0.0, 0.0, 0.0, 8.0, 0.0, 0.0, 0.0, 0.0, 0.0, 0.0, 0.0, 9.546685944253776, 11.392401564776574, 0.0, 0.0, 9.546685944253776, 0.0, 8.0, 0.0, 0.0, 0.0, 8.0, 0.0, 8.0, 0.0, 15.386701968348703, 0.0, 0.0, 0.0, 0.0, 0.0, 8.0, 0.0, 8.0, 0.0, 0.0, 0.0, 0.0, 0.0, 8.0, 8.0, 0.0, 0.0, 0.0, 8.0, 0.0, 0.0, 0.0, 8.0, 0.0, 0.0, 8.0, 0.0, 0.0, 0.0, 0.0, 0.0, 8.0, 0.0, 8.0, 8.0, 8.0, 0.0, 0.0, 0.0, 0.0, 0.0, 0.0, 0.0, 0.0, 0.0, 8.0, 13.594959986218404, 9.546685944253776, 0.0, 8.0, 0.0, 15.680237488090883, 0.0, 0.0, 0.0, 9.546685944253776, 0.0, 0.0, 0.0, 0.0, 0.0, 0.0, 8.0, 9.546685944253776, 0.0, 0.0, 0.0, 0.0, 0.0, 8.0, 0.0, 8.0, 0.0, 9.546685944253776, 0.0, 10.586585441618618, 0.0], \"opacity\": 0.5, \"color\": \"#009999\"}, \"hoverinfo\": \"text\", \"lat\": [43.25, 43.316666999999995, 43.484122, 43.047456, 43.316666999999995, 42.978367999999996, 43.216667, 43.31261, 42.988333000000004, 43.25, 43.316666999999995, 43.491887, 43.85, 43.211131, 43.923773, 42.566666999999995, 43.484122, 43.85, 43.265738, 43.551973, 43.393246999999995, 43.6825, 42.978367999999996, 43.434881, 43.565803, 43.484122, 43.484122, 42.816666999999995, 55.75, 43.0589, 42.816666999999995, 42.978367999999996, 55.75, 43.75, 44.0214, 44.10992, 42.978367999999996, 42.883333, 42.655559999999994, 42.978367999999996, 43.216667, 43.65911667, 42.143189, 42.143189, 43.484122, 42.4223, 48.7, 43.484122, 55.75, 42.978367999999996, 42.978367999999996, 43.216667, 43.422947, 43.316666999999995, 43.4, 43.393246999999995, 43.422947, 55.75, 55.016667000000005, 43.211131, 53.20006, 43.137077000000005, 43.216667, 42.913299, 43.4, 43.266265000000004, 43.511111, 44.216667, 42.346251, 43.316666999999995, 55.75, 44.1, 43.390031, 42.770371999999995, 42.207939, 50.566666999999995, 43.299012, 42.978367999999996, 43.216667, 55.865140000000004, 43.216667, 42.978367999999996, 43.3, 43.3, 42.978367999999996, 43.206424, 43.333333, 43.206424, 42.96519, 42.978367999999996, 43.484122, 43.0589, 42.724661, 42.973, 42.673854999999996, 43.941634, 42.978367999999996, 43.40517, 43.216667, 43.25, 43.85, 43.200068, 42.711394], \"mode\": \"markers\"}]}, {\"name\": \"2012\", \"data\": [{\"text\": [\"January 8, 2012<br>9 Killed, 18 Injured\", \"January 10, 2012<br>1 Killed, 8 Injured\", \"January 26, 2012<br>1 Killed, 0 Injured\", \"January 30, 2012<br>1 Killed, 0 Injured\", \"February 2, 2012<br>1 Killed, 1 Injured\", \"February 13, 2012<br>1 Killed, 0 Injured\", \"March 4, 2012<br>4 Killed, 0 Injured\", \"March 6, 2012<br>6 Killed, 0 Injured\", \"March 6, 2012<br>1 Killed, 1 Injured\", \"March 16, 2012<br>3 Killed, 0 Injured\", \"March 23, 2012<br>2 Killed, 0 Injured\", \"March 30, 2012<br>1 Killed, 1 Injured\", \"April 3, 2012<br>5 Killed, 0 Injured\", \"April 16, 2012<br>1 Killed, 1 Injured\", \"April 23, 2012<br>1 Killed, 0 Injured\", \"April 28, 2012<br>2 Killed, 3 Injured\", \"May 3, 2012<br>1 Killed, 50 Injured\", \"May 3, 2012<br>14 Killed, 50 Injured\", \"May 9, 2012<br>1 Killed, 1 Injured\", \"May 10, 2012<br>3 Killed, 4 Injured\", \"May 22, 2012<br>2 Killed, 2 Injured\", \"May 23, 2012<br>1 Killed, 0 Injured\", \"May 31, 2012<br>1 Killed, 0 Injured\", \"June 6, 2012<br>1 Killed, 1 Injured\", \"June 9, 2012<br>1 Killed, 0 Injured\", \"June 21, 2012<br>1 Killed, 0 Injured\", \"June 27, 2012<br>1 Killed, 0 Injured\", \"June 28, 2012<br>2 Killed, 0 Injured\", \"June 28, 2012<br>1 Killed, 2 Injured\", \"June 29, 2012<br>1 Killed, 0 Injured\", \"July 19, 2012<br>1 Killed, 0 Injured\", \"July 21, 2012<br>2 Killed, 3 Injured\", \"July 25, 2012<br>1 Killed, 2 Injured\", \"July 26, 2012<br>1 Killed, 0 Injured\", \"July 27, 2012<br>2 Killed, 0 Injured\", \"August 6, 2012<br>5 Killed, 3 Injured\", \"August 9, 2012<br>3 Killed, 1 Injured\", \"August 13, 2012<br>1 Killed, 1 Injured\", \"August 14, 2012<br>1 Killed, 0 Injured\", \"August 14, 2012<br>3 Killed, 0 Injured\", \"August 17, 2012<br>4 Killed, 0 Injured\", \"August 19, 2012<br>8 Killed, 15 Injured\", \"August 20, 2012<br>4 Killed, 0 Injured\", \"August 20, 2012<br>1 Killed, 0 Injured\", \"August 22, 2012<br>1 Killed, 3 Injured\", \"August 22, 2012<br>1 Killed, 0 Injured\", \"August 27, 2012<br>1 Killed, 3 Injured\", \"August 28, 2012<br>7 Killed, 0 Injured\", \"August 28, 2012<br>7 Killed, 0 Injured\", \"September 5, 2012<br>6 Killed, 1 Injured\", \"September 6, 2012<br>1 Killed, 0 Injured\", \"October 3, 2012<br>2 Killed, 0 Injured\", \"October 3, 2012<br>4 Killed, 2 Injured\", \"October 4, 2012<br>4 Killed, 0 Injured\", \"October 7, 2012<br>1 Killed, 0 Injured\", \"October 16, 2012<br>2 Killed, 0 Injured\", \"October 23, 2012<br>2 Killed, 4 Injured\", \"October 30, 2012<br>3 Killed, 0 Injured\", \"November 3, 2012<br>1 Killed, 0 Injured\", \"November 7, 2012<br>1 Killed, 1 Injured\", \"November 8, 2012<br>1 Killed, 7 Injured\", \"November 11, 2012<br>1 Killed, 0 Injured\", \"November 21, 2012<br>3 Killed, 5 Injured\", \"December 5, 2012<br>1 Killed, 0 Injured\", \"December 25, 2012<br>1 Killed, 0 Injured\", \"December 26, 2012<br>1 Killed, 0 Injured\"], \"type\": \"scattermapbox\", \"lon\": [45.718747, 46.965457, 43.627361, 46.4862, 43.829186, 43.25955, 46.435714000000004, 47.563684, 47.624596000000004, 43.533333, 47.116757, 44.772912, 44.772912, 47.491066, 47.309882, 44.5899, 47.491066, 47.491066, 47.866667, 46.833611, 47.491066, 44.9863, 45.878062, 46.877891, 43.533333, 46.583333, 47.948555, 47.259679999999996, 44.772892, 44.569526, 49.086087, 45.09973, 46.587542, 45.838611, 44.5692, 45.694864, 46.249015, 44.287096999999996, 47.116757, 46.583546000000005, 45.541539, 44.589858, 48.715725, 45.960519, 45.906679, 46.776423, 45.195861, 46.976908, 48.388638, 45.09973, 45.696028000000005, 47.116757, 45.09973, 47.09498, 47.116757, 47.241259, 44.709719, 48.295777, 43.22226, 47.116757, 47.612101, 47.188169, 46.871187, 43.627596999999994, 43.627596999999994, 44.665748], \"marker\": {\"size\": [14.00947391408641, 8.0, 8.0, 8.0, 8.0, 8.0, 11.392401564776574, 12.633350804142763, 8.0, 10.586585441618618, 9.546685944253776, 8.0, 12.059445470450267, 8.0, 8.0, 9.546685944253776, 8.0, 15.680237488090883, 8.0, 10.586585441618618, 9.546685944253776, 8.0, 8.0, 8.0, 8.0, 8.0, 8.0, 9.546685944253776, 8.0, 8.0, 8.0, 9.546685944253776, 8.0, 8.0, 9.546685944253776, 12.059445470450267, 10.586585441618618, 8.0, 8.0, 10.586585441618618, 11.392401564776574, 13.594959986218404, 11.392401564776574, 8.0, 8.0, 8.0, 8.0, 13.139837283558231, 13.139837283558231, 12.633350804142763, 8.0, 9.546685944253776, 11.392401564776574, 11.392401564776574, 8.0, 9.546685944253776, 9.546685944253776, 10.586585441618618, 8.0, 8.0, 8.0, 8.0, 10.586585441618618, 8.0, 8.0, 8.0], \"opacity\": 0.5, \"color\": \"#FF0000\"}, \"hoverinfo\": \"text\", \"lat\": [43.40233, 43.159043, 43.484122, 43.11009, 43.509617, 43.977882, 43.483437, 42.707062, 42.86991, 43.683333000000005, 42.81661, 43.222475, 43.222475, 42.978367999999996, 42.392365999999996, 43.4804, 42.978367999999996, 42.978367999999996, 42.566666999999995, 43.939167, 42.978367999999996, 43.0259, 42.25192, 43.200068, 43.683333000000005, 43.25, 41.953258, 42.61756, 43.222440999999996, 43.465334000000006, 55.824874, 43.030344, 43.258565999999995, 42.241111, 43.4672, 43.312915999999994, 42.716854999999995, 43.04513, 42.81661, 43.249970000000005, 43.257979, 43.480406, 55.860625, 42.197140999999995, 42.26593, 43.599162, 43.161126, 42.963249, 41.870876, 43.030344, 43.315249, 42.81661, 43.030344, 42.143189, 42.81661, 42.838564, 43.144985, 42.069153, 43.902427, 42.81661, 42.612812, 42.422206, 42.686758000000005, 43.484035, 43.484035, 43.047362], \"mode\": \"markers\"}, {\"text\": [\"January 3, 2012<br>0 Killed, 0 Injured\", \"January 3, 2012<br>0 Killed, 1 Injured\", \"January 3, 2012<br>0 Killed, 0 Injured\", \"January 9, 2012<br>0 Killed, 0 Injured\", \"January 14, 2012<br>0 Killed, 0 Injured\", \"March 18, 2012<br>0 Killed, 0 Injured\", \"March 23, 2012<br>0 Killed, 0 Injured\", \"March 28, 2012<br>0 Killed, 2 Injured\", \"April 5, 2012<br>0 Killed, 4 Injured\", \"April 15, 2012<br>0 Killed, 2 Injured\", \"April 21, 2012<br>0 Killed, 0 Injured\", \"May 2, 2012<br>0 Killed, 0 Injured\", \"May 3, 2012<br>0 Killed, 0 Injured\", \"May 6, 2012<br>0 Killed, 2 Injured\", \"May 13, 2012<br>0 Killed, 0 Injured\", \"May 19, 2012<br>0 Killed, 0 Injured\", \"May 24, 2012<br>0 Killed, 0 Injured\", \"May 24, 2012<br>0 Killed, 0 Injured\", \"May 28, 2012<br>0 Killed, 1 Injured\", \"May 29, 2012<br>0 Killed, 1 Injured\", \"May 31, 2012<br>0 Killed, 0 Injured\", \"June 3, 2012<br>0 Killed, 0 Injured\", \"June 3, 2012<br>0 Killed, 0 Injured\", \"June 4, 2012<br>0 Killed, 0 Injured\", \"June 7, 2012<br>0 Killed, 0 Injured\", \"June 7, 2012<br>0 Killed, 0 Injured\", \"June 8, 2012<br>0 Killed, 0 Injured\", \"June 9, 2012<br>0 Killed, 5 Injured\", \"June 11, 2012<br>0 Killed, 0 Injured\", \"June 14, 2012<br>0 Killed, 2 Injured\", \"June 14, 2012<br>0 Killed, 2 Injured\", \"June 20, 2012<br>0 Killed, 4 Injured\", \"June 24, 2012<br>0 Killed, 1 Injured\", \"June 26, 2012<br>0 Killed, 0 Injured\", \"June 29, 2012<br>0 Killed, 0 Injured\", \"July 8, 2012<br>0 Killed, 0 Injured\", \"July 19, 2012<br>0 Killed, 0 Injured\", \"July 19, 2012<br>0 Killed, 1 Injured\", \"July 24, 2012<br>0 Killed, 1 Injured\", \"July 25, 2012<br>0 Killed, 1 Injured\", \"July 28, 2012<br>0 Killed, 1 Injured\", \"July 29, 2012<br>0 Killed, 0 Injured\", \"July 29, 2012<br>0 Killed, 0 Injured\", \"July 30, 2012<br>0 Killed, 0 Injured\", \"August 1, 2012<br>0 Killed, 0 Injured\", \"August 1, 2012<br>0 Killed, 2 Injured\", \"August 4, 2012<br>0 Killed, 0 Injured\", \"August 8, 2012<br>0 Killed, 1 Injured\", \"August 15, 2012<br>0 Killed, 0 Injured\", \"August 16, 2012<br>0 Killed, 0 Injured\", \"August 16, 2012<br>0 Killed, 0 Injured\", \"August 18, 2012<br>0 Killed, 8 Injured\", \"August 20, 2012<br>0 Killed, 2 Injured\", \"August 27, 2012<br>0 Killed, 0 Injured\", \"August 27, 2012<br>0 Killed, 3 Injured\", \"August 31, 2012<br>0 Killed, 0 Injured\", \"September 1, 2012<br>0 Killed, 1 Injured\", \"September 6, 2012<br>0 Killed, 0 Injured\", \"September 8, 2012<br>0 Killed, 0 Injured\", \"September 15, 2012<br>0 Killed, 0 Injured\", \"September 18, 2012<br>0 Killed, 0 Injured\", \"September 19, 2012<br>0 Killed, 1 Injured\", \"October 4, 2012<br>0 Killed, 0 Injured\", \"October 7, 2012<br>0 Killed, 0 Injured\", \"October 7, 2012<br>0 Killed, 0 Injured\", \"October 7, 2012<br>0 Killed, 0 Injured\", \"October 9, 2012<br>0 Killed, 0 Injured\", \"October 11, 2012<br>0 Killed, 3 Injured\", \"October 12, 2012<br>0 Killed, 0 Injured\", \"October 14, 2012<br>0 Killed, 1 Injured\", \"November 14, 2012<br>0 Killed, 0 Injured\", \"November 15, 2012<br>0 Killed, 1 Injured\", \"November 15, 2012<br>0 Killed, 1 Injured\", \"November 21, 2012<br>0 Killed, 0 Injured\", \"December 4, 2012<br>0 Killed, 0 Injured\", \"December 6, 2012<br>0 Killed, 1 Injured\", \"December 18, 2012<br>0 Killed, 5 Injured\", \"December 18, 2012<br>0 Killed, 0 Injured\"], \"type\": \"scattermapbox\", \"lon\": [45.694864, 47.491066, 46.583333, 46.965457, 47.116667, 44.466928, 44.583333, 47.09498, 44.583333, 47.491066, 47.491066, 47.491066, 46.493322, 47.491066, 47.6672, 44.583333, 47.801667, 46.583333, 43.533333, 46.052222, 47.866667, 46.17228, 47.217301, 44.805478, 44.899151, 44.834191, 44.591164, 44.772892, 44.591164, 45.047272, 43.44677, 47.09498, 45.941455, 46.067083000000004, 44.5697, 46.677761, 47.156000000000006, 49.086087, 46.587542, 42.923745000000004, 44.994607, 44.834191, 48.295833, 47.489188, 47.491066, 48.295777, 47.491066, 46.65996, 44.772912, 48.295777, 46.877915, 46.583546000000005, 46.583546000000005, 48.295777, 44.772912, 44.840694, 48.190919, 46.777225, 44.838839, 44.287096999999996, 46.777225, 46.865711, 48.295777, 47.116757, 46.537017, 48.040833, 45.09973, 37.630914000000004, 46.583333, 47.624596000000004, 44.729896999999994, 43.627596999999994, 47.116632, 46.871187, 46.583333, 43.627596999999994, 46.877915, 46.864795], \"marker\": {\"size\": [0.0, 8.0, 0.0, 0.0, 0.0, 0.0, 0.0, 9.546685944253776, 11.392401564776574, 9.546685944253776, 0.0, 0.0, 0.0, 9.546685944253776, 0.0, 0.0, 0.0, 0.0, 8.0, 8.0, 0.0, 0.0, 0.0, 0.0, 0.0, 0.0, 0.0, 12.059445470450267, 0.0, 9.546685944253776, 9.546685944253776, 11.392401564776574, 8.0, 0.0, 0.0, 0.0, 0.0, 8.0, 8.0, 8.0, 8.0, 0.0, 0.0, 0.0, 0.0, 9.546685944253776, 0.0, 8.0, 0.0, 0.0, 0.0, 13.594959986218404, 9.546685944253776, 0.0, 10.586585441618618, 0.0, 8.0, 0.0, 0.0, 0.0, 0.0, 8.0, 0.0, 0.0, 0.0, 0.0, 0.0, 10.586585441618618, 0.0, 8.0, 0.0, 8.0, 8.0, 0.0, 0.0, 8.0, 12.059445470450267, 0.0], \"opacity\": 0.5, \"color\": \"#009999\"}, \"hoverinfo\": \"text\", \"lat\": [43.312915999999994, 42.978367999999996, 43.25, 43.159043, 42.816666999999995, 42.913299, 43.516667, 42.143189, 43.516667, 42.978367999999996, 42.978367999999996, 42.978367999999996, 42.417519, 42.978367999999996, 42.4542, 43.516667, 42.599722, 43.25, 43.683333000000005, 42.481667, 42.566666999999995, 42.40155, 42.841836, 43.206424, 43.304501, 43.258445, 43.508421000000006, 43.222440999999996, 43.508421000000006, 43.318057, 43.780286, 42.143189, 42.270723, 42.952619, 43.4631, 43.994892, 42.836999999999996, 55.824874, 43.258565999999995, 43.397099, 43.025382, 43.258445, 42.069167, 42.988836, 42.978367999999996, 42.069153, 42.978367999999996, 43.200403, 43.222475, 42.069153, 43.200067, 43.249970000000005, 43.249970000000005, 42.069153, 43.222475, 43.260762, 42.108732, 43.597167999999996, 43.281242, 43.04492, 43.597167999999996, 43.201407, 42.069153, 42.81661, 44.073551, 41.941223, 43.030344, 55.779539, 43.25, 42.86991, 43.494743, 43.484035, 42.816684, 42.686758000000005, 43.25, 43.484035, 43.200067, 43.30907], \"mode\": \"markers\"}]}, {\"name\": \"2013\", \"data\": [{\"text\": [\"January 2, 2013<br>2 Killed, 0 Injured\", \"January 6, 2013<br>3 Killed, 0 Injured\", \"January 15, 2013<br>1 Killed, 0 Injured\", \"January 21, 2013<br>1 Killed, 1 Injured\", \"January 23, 2013<br>1 Killed, 1 Injured\", \"February 7, 2013<br>1 Killed, 3 Injured\", \"February 7, 2013<br>1 Killed, 1 Injured\", \"February 7, 2013<br>1 Killed, 0 Injured\", \"February 14, 2013<br>4 Killed, 6 Injured\", \"March 3, 2013<br>1 Killed, 0 Injured\", \"March 9, 2013<br>1 Killed, 0 Injured\", \"March 9, 2013<br>2 Killed, 0 Injured\", \"April 2, 2013<br>1 Killed, 2 Injured\", \"April 8, 2013<br>1 Killed, 2 Injured\", \"April 15, 2013<br>1 Killed, 3 Injured\", \"April 30, 2013<br>3 Killed, 2 Injured\", \"May 1, 2013<br>2 Killed, 2 Injured\", \"May 17, 2013<br>1 Killed, 1 Injured\", \"May 20, 2013<br>4 Killed, 44 Injured\", \"May 21, 2013<br>1 Killed, 1 Injured\", \"May 25, 2013<br>1 Killed, 11 Injured\", \"June 3, 2013<br>1 Killed, 1 Injured\", \"June 11, 2013<br>5 Killed, 2 Injured\", \"June 23, 2013<br>1 Killed, 2 Injured\", \"July 9, 2013<br>1 Killed, 0 Injured\", \"July 9, 2013<br>1 Killed, 0 Injured\", \"July 14, 2013<br>4 Killed, 0 Injured\", \"July 15, 2013<br>1 Killed, 0 Injured\", \"July 15, 2013<br>2 Killed, 0 Injured\", \"August 2, 2013<br>1 Killed, 3 Injured\", \"August 3, 2013<br>1 Killed, 0 Injured\", \"August 8, 2013<br>1 Killed, 0 Injured\", \"August 21, 2013<br>1 Killed, 1 Injured\", \"August 27, 2013<br>2 Killed, 0 Injured\", \"September 3, 2013<br>2 Killed, 1 Injured\", \"September 7, 2013<br>1 Killed, 2 Injured\", \"September 10, 2013<br>1 Killed, 0 Injured\", \"September 16, 2013<br>2 Killed, 1 Injured\", \"September 16, 2013<br>4 Killed, 4 Injured\", \"September 16, 2013<br>1 Killed, 0 Injured\", \"September 21, 2013<br>1 Killed, 0 Injured\", \"September 23, 2013<br>3 Killed, 20 Injured\", \"October 8, 2013<br>2 Killed, 0 Injured\", \"October 18, 2013<br>2 Killed, 0 Injured\", \"October 21, 2013<br>6 Killed, 20 Injured\", \"October 23, 2013<br>1 Killed, 0 Injured\", \"October 24, 2013<br>1 Killed, 0 Injured\", \"October 25, 2013<br>2 Killed, 1 Injured\", \"November 2, 2013<br>1 Killed, 0 Injured\", \"November 4, 2013<br>1 Killed, 0 Injured\", \"November 7, 2013<br>2 Killed, 0 Injured\", \"November 8, 2013<br>1 Killed, 2 Injured\", \"November 11, 2013<br>1 Killed, 0 Injured\", \"November 14, 2013<br>2 Killed, 0 Injured\", \"November 19, 2013<br>2 Killed, 0 Injured\", \"November 19, 2013<br>1 Killed, 1 Injured\", \"November 25, 2013<br>1 Killed, 1 Injured\", \"December 10, 2013<br>2 Killed, 1 Injured\", \"December 12, 2013<br>1 Killed, 2 Injured\", \"December 16, 2013<br>1 Killed, 0 Injured\", \"December 17, 2013<br>2 Killed, 2 Injured\", \"December 25, 2013<br>3 Killed, 2 Injured\", \"December 27, 2013<br>3 Killed, 0 Injured\", \"December 29, 2013<br>19 Killed, 35 Injured\", \"December 30, 2013<br>17 Killed, 28 Injured\", \"December 30, 2013<br>1 Killed, 2 Injured\", \"December 31, 2013<br>1 Killed, 0 Injured\"], \"type\": \"scattermapbox\", \"lon\": [42.511993, 43.56285, 47.504921, 46.831944, 46.817278, 47.500908, 43.610519000000004, 47.285049, 46.589043, 47.566351, 47.865517, 46.726483, 44.985278, 47.116667, 47.116667, 47.116558000000005, 47.512629, 45.066353, 47.512629, 47.116667, 47.512629, 43.2108, 46.535410999999996, 46.795629999999996, 47.512629, 43.532955, 47.063627000000004, 46.172778, 47.064444, 46.344703, 47.512629, 46.584064, 47.116667, 44.759403000000006, 47.512629, 48.295833, 47.116667, 45.048052, 45.155683, 43.853097999999996, 47.512405, 47.949473, 43.409015999999994, 43.531557, 44.516667, 46.583333, 47.500628999999996, 46.583333, 47.512629, 47.512629, 41.966667, 47.512629, 37.6173, 47.008781, 47.512629, 47.512629, 46.584408, 43.583333, 46.365724, 43.585239, 47.509449, 47.116667, 43.066666999999995, 44.516667, 44.516667, 46.583333, 47.116667], \"marker\": {\"size\": [9.546685944253776, 10.586585441618618, 8.0, 8.0, 8.0, 8.0, 8.0, 8.0, 11.392401564776574, 8.0, 8.0, 9.546685944253776, 8.0, 8.0, 8.0, 10.586585441618618, 9.546685944253776, 8.0, 11.392401564776574, 8.0, 8.0, 8.0, 12.059445470450267, 8.0, 8.0, 8.0, 11.392401564776574, 8.0, 9.546685944253776, 8.0, 8.0, 8.0, 8.0, 9.546685944253776, 9.546685944253776, 8.0, 8.0, 9.546685944253776, 11.392401564776574, 8.0, 8.0, 10.586585441618618, 9.546685944253776, 9.546685944253776, 12.633350804142763, 8.0, 8.0, 9.546685944253776, 8.0, 8.0, 9.546685944253776, 8.0, 8.0, 9.546685944253776, 9.546685944253776, 8.0, 8.0, 9.546685944253776, 8.0, 8.0, 9.546685944253776, 10.586585441618618, 10.586585441618618, 16.95009572608719, 16.47610162165078, 8.0, 8.0], \"opacity\": 0.5, \"color\": \"#FF0000\"}, \"hoverinfo\": \"text\", \"lat\": [43.934826, 43.393246999999995, 42.983895000000004, 43.575278000000004, 43.200674, 42.979535, 43.485559, 42.443728, 43.25458, 42.569263, 42.566736, 43.268167, 43.095833, 42.816666999999995, 42.816666999999995, 42.815929, 42.966631, 43.316942, 42.966631, 42.816666999999995, 42.966631, 43.84033, 43.205739, 42.712292, 42.966631, 43.684012, 42.031444, 42.518333, 42.031389000000004, 43.438897999999995, 42.966631, 43.249829, 42.816666999999995, 43.401056, 42.966631, 42.069167, 42.816666999999995, 43.238825, 43.314625, 43.853097999999996, 42.966378000000006, 41.953804, 43.444683000000005, 43.657106, 48.7, 43.25, 42.969374, 43.25, 42.966631, 42.966631, 45.05, 42.966631, 55.755826, 42.220382, 42.966631, 42.966631, 43.248453999999995, 43.566666999999995, 42.551162, 43.565964, 42.967271000000004, 42.816666999999995, 44.033333, 48.7, 48.7, 43.25, 42.816666999999995], \"mode\": \"markers\"}, {\"text\": [\"January 6, 2013<br>0 Killed, 0 Injured\", \"January 20, 2013<br>0 Killed, 1 Injured\", \"January 23, 2013<br>0 Killed, 2 Injured\", \"January 25, 2013<br>0 Killed, 0 Injured\", \"February 12, 2013<br>0 Killed, 1 Injured\", \"February 12, 2013<br>0 Killed, 0 Injured\", \"February 12, 2013<br>0 Killed, 0 Injured\", \"February 25, 2013<br>0 Killed, 0 Injured\", \"March 12, 2013<br>0 Killed, 1 Injured\", \"April 2, 2013<br>0 Killed, 3 Injured\", \"April 8, 2013<br>0 Killed, 1 Injured\", \"April 12, 2013<br>0 Killed, 0 Injured\", \"April 24, 2013<br>0 Killed, 0 Injured\", \"May 1, 2013<br>0 Killed, 0 Injured\", \"May 5, 2013<br>0 Killed, 0 Injured\", \"May 6, 2013<br>0 Killed, 0 Injured\", \"May 20, 2013<br>0 Killed, 0 Injured\", \"May 20, 2013<br>0 Killed, 2 Injured\", \"May 28, 2013<br>0 Killed, 0 Injured\", \"May 28, 2013<br>0 Killed, 2 Injured\", \"May 31, 2013<br>0 Killed, 0 Injured\", \"May 31, 2013<br>0 Killed, 0 Injured\", \"June 18, 2013<br>0 Killed, 2 Injured\", \"June 19, 2013<br>0 Killed, 2 Injured\", \"June 29, 2013<br>0 Killed, 0 Injured\", \"June 30, 2013<br>0 Killed, 4 Injured\", \"July 4, 2013<br>0 Killed, 1 Injured\", \"July 14, 2013<br>0 Killed, 0 Injured\", \"July 14, 2013<br>0 Killed, 0 Injured\", \"July 10, 2013<br>0 Killed, 1 Injured\", \"July 15, 2013<br>0 Killed, 0 Injured\", \"July 15, 2013<br>0 Killed, 0 Injured\", \"July 15, 2013<br>0 Killed, 0 Injured\", \"July 22, 2013<br>0 Killed, 0 Injured\", \"July 19, 2013<br>0 Killed, 0 Injured\", \"July 25, 2013<br>0 Killed, 1 Injured\", \"August 4, 2013<br>0 Killed, 16 Injured\", \"August 6, 2013<br>0 Killed, 0 Injured\", \"August 18, 2013<br>0 Killed, 0 Injured\", \"August 22, 2013<br>0 Killed, 1 Injured\", \"August 27, 2013<br>0 Killed, 0 Injured\", \"August 28, 2013<br>0 Killed, 0 Injured\", \"August 29, 2013<br>0 Killed, 1 Injured\", \"September 10, 2013<br>0 Killed, 0 Injured\", \"September 18, 2013<br>0 Killed, 1 Injured\", \"September 21, 2013<br>0 Killed, 1 Injured\", \"October 2, 2013<br>0 Killed, 0 Injured\", \"October 12, 2013<br>0 Killed, 0 Injured\", \"October 15, 2013<br>0 Killed, 1 Injured\", \"October 21, 2013<br>0 Killed, 0 Injured\", \"October 22, 2013<br>0 Killed, 1 Injured\", \"October 22, 2013<br>0 Killed, 0 Injured\", \"October 24, 2013<br>0 Killed, 0 Injured\", \"October 24, 2013<br>0 Killed, 0 Injured\", \"October 24, 2013<br>0 Killed, 0 Injured\", \"October 30, 2013<br>0 Killed, 8 Injured\", \"November 1, 2013<br>0 Killed, 1 Injured\", \"November 3, 2013<br>0 Killed, 2 Injured\", \"November 14, 2013<br>0 Killed, 0 Injured\", \"November 17, 2013<br>0 Killed, 0 Injured\", \"November 17, 2013<br>0 Killed, 0 Injured\", \"November 17, 2013<br>0 Killed, 0 Injured\", \"November 18, 2013<br>0 Killed, 0 Injured\", \"November 22, 2013<br>0 Killed, 0 Injured\", \"November 28, 2013<br>0 Killed, 0 Injured\", \"December 3, 2013<br>0 Killed, 0 Injured\", \"December 6, 2013<br>0 Killed, 0 Injured\", \"December 26, 2013<br>0 Killed, 2 Injured\", \"December 27, 2013<br>0 Killed, 0 Injured\", \"December 29, 2013<br>0 Killed, 3 Injured\", \"December 29, 2013<br>0 Killed, 0 Injured\"], \"type\": \"scattermapbox\", \"lon\": [43.520214, 46.067083000000004, 46.015798, 48.280543, 48.292068, 47.120678000000005, 47.501053000000006, 47.504921, 44.984574, 44.985278, 47.116662, 46.82, 47.116558000000005, 47.116667, 39.598122, 48.197015, 47.512629, 46.334078999999996, 43.603305999999996, 48.295833, 46.716703, 48.210724, 43.463633, 45.012513, 46.582861, 45.099127, 30.335099, 46.728444, 47.11673, 37.616667, 47.116667, 47.116915000000006, 46.72657, 46.585264, 47.512629, 48.295358, 47.512629, 46.583333, 46.584064, 47.512039, 43.56285, 46.122994, 47.512039, 48.165795, 46.72657, 47.512629, 46.583069, 47.513008, 37.619476, 44.516667, 37.623096999999994, 46.58334, 46.608932, 44.458056, 47.502551000000004, 47.500628999999996, 44.6499, 30.321170000000002, 41.733944, 51.813246, 50.785302, 50.635128, 46.584236, 37.6173, 44.587111, 46.583333, 46.583333, 46.583333, 43.604513, 48.295833, 46.583333], \"marker\": {\"size\": [0.0, 8.0, 9.546685944253776, 0.0, 8.0, 0.0, 0.0, 0.0, 8.0, 10.586585441618618, 8.0, 0.0, 0.0, 0.0, 0.0, 0.0, 0.0, 9.546685944253776, 0.0, 9.546685944253776, 0.0, 0.0, 9.546685944253776, 9.546685944253776, 0.0, 11.392401564776574, 8.0, 0.0, 0.0, 8.0, 0.0, 0.0, 0.0, 0.0, 0.0, 8.0, 16.223351676640466, 0.0, 0.0, 8.0, 0.0, 0.0, 8.0, 0.0, 8.0, 8.0, 0.0, 0.0, 8.0, 0.0, 8.0, 0.0, 0.0, 0.0, 0.0, 13.594959986218404, 8.0, 9.546685944253776, 0.0, 0.0, 0.0, 0.0, 0.0, 0.0, 0.0, 0.0, 0.0, 9.546685944253776, 0.0, 10.586585441618618, 0.0], \"opacity\": 0.5, \"color\": \"#009999\"}, \"hoverinfo\": \"text\", \"lat\": [44.668099, 42.952619, 42.970259999999996, 42.050142, 42.058215000000004, 42.82298, 42.978781, 42.983895000000004, 43.099012, 43.095833, 42.816666999999995, 42.6775, 42.816181, 42.816666999999995, 52.6122, 42.116465999999996, 42.966631, 42.59697, 43.501001, 42.069167, 43.849949, 41.692695, 43.661553000000005, 42.978707, 43.253205, 43.135003999999995, 59.93428, 43.268269000000004, 42.816559000000005, 55.75, 42.816666999999995, 42.816621999999995, 43.268595, 43.248829, 42.966631, 42.06841, 42.966631, 43.25, 43.249829, 42.967226000000004, 43.393246999999995, 42.540623, 42.967226000000004, 41.677877, 43.268595, 42.966631, 43.247332, 42.978028, 55.787385, 48.7, 55.734784999999995, 43.248184, 43.275545, 48.698333, 42.966381, 42.969374, 43.745974, 59.924013, 43.886140000000005, 55.632093999999995, 55.26451899999999, 55.360381000000004, 43.249704, 55.755826, 43.504052, 43.25, 43.25, 43.25, 43.494991999999996, 42.069167, 43.25], \"mode\": \"markers\"}]}, {\"name\": \"2014\", \"data\": [{\"text\": [\"January 3, 2014<br>1 Killed, 1 Injured\", \"February 9, 2014<br>2 Killed, 6 Injured\", \"April 3, 2014<br>4 Killed, 7 Injured\", \"April 10, 2014<br>1 Killed, 0 Injured\", \"April 17, 2014<br>2 Killed, 0 Injured\", \"May 8, 2014<br>1 Killed, 0 Injured\", \"May 15, 2014<br>3 Killed, 7 Injured\", \"May 15, 2014<br>1 Killed, 0 Injured\", \"June 9, 2014<br>2 Killed, 0 Injured\", \"June 26, 2014<br>1 Killed, 0 Injured\", \"July 9, 2014<br>1 Killed, 0 Injured\", \"July 13, 2014<br>1 Killed, 2 Injured\", \"August 1, 2014<br>2 Killed, 0 Injured\", \"August 5, 2014<br>1 Killed, 0 Injured\", \"August 20, 2014<br>1 Killed, 1 Injured\", \"September 3, 2014<br>5 Killed, 0 Injured\", \"September 25, 2014<br>1 Killed, 1 Injured\", \"October 5, 2014<br>6 Killed, 12 Injured\", \"October 8, 2014<br>3 Killed, 0 Injured\", \"December 4, 2014<br>9 Killed, 9 Injured\"], \"type\": \"scattermapbox\", \"lon\": [37.998936, 142.725341, 45.330290999999995, 46.918091, 46.583521000000005, 47.499479, 47.431203000000004, 46.965457, 46.964556, 47.5, 46.865544, 39.935977, 44.293238, 46.524734, 46.58343, 47.501049, 47.507954999999995, 45.681486, 46.547670000000004, 45.702284999999996], \"marker\": {\"size\": [8.0, 9.546685944253776, 11.392401564776574, 8.0, 9.546685944253776, 8.0, 10.586585441618618, 8.0, 9.546685944253776, 8.0, 8.0, 8.0, 9.546685944253776, 8.0, 8.0, 12.059445470450267, 8.0, 12.633350804142763, 10.586585441618618, 14.00947391408641], \"opacity\": 0.5, \"color\": \"#FF0000\"}, \"hoverinfo\": \"text\", \"lat\": [55.748468, 46.964791, 43.127836, 43.269672, 43.250690000000006, 42.966381, 43.05165, 43.159043, 42.384533000000005, 42.966667, 43.210745, 48.330838, 43.475615999999995, 42.432140000000004, 43.249901, 42.966765, 42.958099, 43.31688, 42.443478999999996, 43.31801], \"mode\": \"markers\"}, {\"text\": [\"January 5, 2014<br>0 Killed, 0 Injured\", \"January 6, 2014<br>0 Killed, 0 Injured\", \"January 8, 2014<br>0 Killed, 0 Injured\", \"January 8, 2014<br>0 Killed, 0 Injured\", \"January 11, 2014<br>0 Killed, 1 Injured\", \"January 17, 2014<br>0 Killed, 0 Injured\", \"March 16, 2014<br>0 Killed, 2 Injured\", \"April 25, 2014<br>0 Killed, 0 Injured\", \"May 5, 2014<br>0 Killed, 1 Injured\", \"May 19, 2014<br>0 Killed, 1 Injured\", \"June 2, 2014<br>0 Killed, 2 Injured\", \"June 6, 2014<br>0 Killed, 4 Injured\", \"June 8, 2014<br>0 Killed, 0 Injured\", \"June 25, 2014<br>0 Killed, 0 Injured\", \"July 3, 2014<br>0 Killed, 0 Injured\", \"July 17, 2014<br>0 Killed, 0 Injured\", \"July 30, 2014<br>0 Killed, 0 Injured\", \"August 1, 2014<br>0 Killed, 0 Injured\", \"August 3, 2014<br>0 Killed, 0 Injured\", \"August 18, 2014<br>0 Killed, 0 Injured\", \"September 15, 2014<br>0 Killed, 0 Injured\", \"October 18, 2014<br>0 Killed, 0 Injured\", \"December 14, 2014<br>0 Killed, 0 Injured\"], \"type\": \"scattermapbox\", \"lon\": [46.583333, 46.860690000000005, 43.140066999999995, 43.483333, 43.533333, 47.512629, 47.512629, 46.870211, 46.583521999999995, 47.499612, 44.982481, 44.766667, 47.606158, 47.5, 39.93345, 38.908333, 38.908333, 47.487983, 39.93735, 37.574238, 43.602926000000004, 46.58392, 45.702284999999996], \"marker\": {\"size\": [0.0, 0.0, 0.0, 0.0, 8.0, 0.0, 9.546685944253776, 0.0, 8.0, 8.0, 9.546685944253776, 11.392401564776574, 0.0, 0.0, 0.0, 0.0, 0.0, 0.0, 0.0, 0.0, 0.0, 0.0, 0.0], \"opacity\": 0.5, \"color\": \"#009999\"}, \"hoverinfo\": \"text\", \"lat\": [43.25, 43.306531, 43.929195, 43.877778, 43.683333000000005, 42.966631, 42.966631, 42.687878999999995, 43.249976000000004, 42.96617, 43.332135, 43.216667, 42.348512, 42.966667, 47.756028, 47.818333, 47.818333, 42.979063000000004, 48.052735, 55.741262, 43.492982, 43.249272999999995, 43.31801], \"mode\": \"markers\"}]}, {\"name\": \"2015\", \"data\": [{\"text\": [\"February 24, 2015<br>3 Killed, 1 Injured\", \"February 27, 2015<br>1 Killed, 0 Injured\", \"March 4, 2015<br>1 Killed, 0 Injured\", \"July 7, 2015<br>1 Killed, 0 Injured\", \"August 9, 2015<br>1 Killed, 2 Injured\", \"August 20, 2015<br>1 Killed, 0 Injured\", \"September 9, 2015<br>1 Killed, 0 Injured\", \"September 15, 2015<br>3 Killed, 0 Injured\", \"October 28, 2015<br>4 Killed, 0 Injured\", \"December 1, 2015<br>1 Killed, 0 Injured\", \"December 16, 2015<br>3 Killed, 0 Injured\", \"December 29, 2015<br>1 Killed, 11 Injured\"], \"type\": \"scattermapbox\", \"lon\": [46.754023, 37.62493, 48.3, 46.776423, 45.684256, 44.667217, 47.187222, 48.330573, 47.116596, 46.589335, 46.866963, 48.299359], \"marker\": {\"size\": [10.586585441618618, 8.0, 8.0, 8.0, 8.0, 8.0, 8.0, 10.586585441618618, 11.392401564776574, 8.0, 10.586585441618618, 8.0], \"opacity\": 0.5, \"color\": \"#FF0000\"}, \"hoverinfo\": \"text\", \"lat\": [43.471462, 55.749485, 42.05, 43.599162, 43.363693, 44.521187, 42.855556, 41.895387, 42.822275, 43.256201000000004, 43.205890000000004, 42.050540999999996], \"mode\": \"markers\"}, {\"text\": [\"March 15, 2015<br>0 Killed, 0 Injured\", \"July 8, 2015<br>0 Killed, 0 Injured\", \"August 7, 2015<br>0 Killed, 1 Injured\", \"October 8, 2015<br>0 Killed, 1 Injured\", \"October 10, 2015<br>0 Killed, 0 Injured\", \"October 13, 2015<br>0 Killed, 0 Injured\", \"November 16, 2015<br>0 Killed, 0 Injured\", \"December 7, 2015<br>0 Killed, 5 Injured\", \"December 16, 2015<br>0 Killed, 3 Injured\"], \"type\": \"scattermapbox\", \"lon\": [47.563684, 44.820833, 37.793279999999996, 46.173253, 45.904291, 44.8203, 46.091738, 37.648344, 48.299359], \"marker\": {\"size\": [0.0, 0.0, 8.0, 8.0, 0.0, 0.0, 0.0, 12.059445470450267, 10.586585441618618], \"opacity\": 0.5, \"color\": \"#009999\"}, \"hoverinfo\": \"text\", \"lat\": [42.707062, 43.0625, 55.716922, 42.56089, 43.143468, 43.40517, 43.199829, 55.759856000000006, 42.050540999999996], \"mode\": \"markers\"}]}]);}).then(function(){Plotly.animate('41219996-883e-4ec7-8c7a-5f0b9314f63b');})\n",
       "        });</script>"
      ],
      "text/plain": [
       "<IPython.core.display.HTML object>"
      ]
     },
     "metadata": {},
     "output_type": "display_data"
    }
   ],
   "source": [
    "# make figure\n",
    "figure = {\n",
    "    'data': [],\n",
    "    'layout': {\n",
    "        'title': 'Terrorist Attacks by Latitude/Longitude in Russia (1992-2015)',\n",
    "        'width': 1000,\n",
    "        'height': 700,\n",
    "        'autosize': True,\n",
    "        'hovermode': 'closest',\n",
    "        'showlegend': False,\n",
    "        'mapbox': {\n",
    "            'accesstoken': mapbox_access_token,\n",
    "            'bearing': 0,\n",
    "            'pitch': 0,\n",
    "            'zoom': 2,\n",
    "            'style': 'light',\n",
    "            'center': {\n",
    "                'lat': 64.25,\n",
    "                'lon': 94.15\n",
    "            }\n",
    "        }\n",
    "    },\n",
    "    'frames': [],\n",
    "    'config': {'scrollzoom': True}\n",
    "}\n",
    "\n",
    "# make slider\n",
    "figure['layout']['slider'] = {\n",
    "    'args': [\n",
    "        'slider.value', {\n",
    "            'duration': 1000,\n",
    "            'ease': 'cubic-in-out'\n",
    "        }\n",
    "    ],\n",
    "    'initialValue': str(terror_years[0]),\n",
    "    'plotlycommand': 'animate',\n",
    "    'values': [str(year) for year in terror_years],\n",
    "    'visible': True\n",
    "}\n",
    "\n",
    "\n",
    "figure['layout']['updatemenus'] = [\n",
    "    {\n",
    "        'buttons': [\n",
    "            {\n",
    "                'args': [None, {'frame': {'duration': 1100, 'redraw': False},\n",
    "                         'fromcurrent': True, 'transition': {'duration': 1000, 'easing': 'quadratic-in-out'}}],\n",
    "                'label': 'Play',\n",
    "                'method': 'animate'\n",
    "            },\n",
    "            {\n",
    "                'args': [[None], {'frame': {'duration': 0, 'redraw': False}, 'mode': 'immediate',\n",
    "                'transition': {'duration': 0}}],\n",
    "                'label': 'Pause',\n",
    "                'method': 'animate'\n",
    "            }\n",
    "        ],\n",
    "        'direction': 'left',\n",
    "        'pad': {'r': 10, 't': 87},\n",
    "        'showactive': False,\n",
    "        'type': 'buttons',\n",
    "        'x': 0.1,\n",
    "        'xanchor': 'right',\n",
    "        'y': 0,\n",
    "        'yanchor': 'top'\n",
    "    }\n",
    "]\n",
    "\n",
    "sliders_dict = {\n",
    "    'active': 0,\n",
    "    'yanchor': 'top',\n",
    "    'xanchor': 'left',\n",
    "    'currentvalue': {\n",
    "        'font': {'size': 20},\n",
    "        'prefix': 'Year:',\n",
    "        'visible': True,\n",
    "        'xanchor': 'right'\n",
    "    },\n",
    "    'transition': {'duration': 900, 'easing': 'cubic-in-out'},\n",
    "    'pad': {'b': 10, 't': 50},\n",
    "    'len': 0.9,\n",
    "    'x': 0.1,\n",
    "    'y': 0,\n",
    "    'steps': []\n",
    "}\n",
    "\n",
    "# make initial data\n",
    "figure['data'] = go.Data([\n",
    "    go.Scattermapbox(\n",
    "        lat=list(terror_ru[(terror_ru.fatalities > 0) & (terror_ru.year == terror_years[0])]['latitude']),\n",
    "        lon=list(terror_ru[(terror_ru.fatalities > 0) & (terror_ru.year == terror_years[0])]['longitude']),\n",
    "        mode='markers',\n",
    "        marker=go.Marker(\n",
    "            size = list(terror_ru[(terror_ru.fatalities > 0) & (terror_ru.year == terror_years[0])]['fatalities'] ** 0.255 * 8),\n",
    "            opacity=0.5,\n",
    "            color='#FF0000'\n",
    "        ),\n",
    "        text=list(terror_ru[(terror_ru.fatalities > 0) & (terror_ru.year == terror_years[0])]['text']),\n",
    "        hoverinfo='text'\n",
    "    ),\n",
    "    go.Scattermapbox(\n",
    "        lat=list(terror_ru[(terror_ru.fatalities == 0) & (terror_ru.year == terror_years[0])]['latitude']),\n",
    "        lon=list(terror_ru[(terror_ru.fatalities == 0) & (terror_ru.year == terror_years[0])]['longitude']),\n",
    "        mode='markers',\n",
    "        marker=go.Marker(\n",
    "            size = list(terror_ru[(terror_ru.fatalities == 0) & (terror_ru.year == terror_years[0])]['injuries'] ** 0.255 * 8),\n",
    "            opacity=0.5,\n",
    "            color='#009999'\n",
    "        ),\n",
    "        text=list(terror_ru[(terror_ru.fatalities == 0) & (terror_ru.year == terror_years[0])]['text']),\n",
    "        hoverinfo='text'\n",
    "    )]\n",
    ")\n",
    "\n",
    "# make frames\n",
    "for year in terror_years:\n",
    "    frame = {'data': [], 'name': str(year)}\n",
    "    data_year = go.Data([\n",
    "        go.Scattermapbox(\n",
    "            lat=list(terror_ru[(terror_ru.fatalities > 0) & (terror_ru.year == year)]['latitude']),\n",
    "            lon=list(terror_ru[(terror_ru.fatalities > 0) & (terror_ru.year == year)]['longitude']),\n",
    "            mode='markers',\n",
    "            marker=go.Marker(\n",
    "                size = list(terror_ru[(terror_ru.fatalities > 0) & (terror_ru.year == year)]['fatalities'] ** 0.255 * 8),\n",
    "                opacity=0.5,\n",
    "                color='#FF0000'\n",
    "            ),\n",
    "            text=list(terror_ru[(terror_ru.fatalities > 0) & (terror_ru.year == year)]['text']),\n",
    "            hoverinfo='text'\n",
    "        ),\n",
    "        go.Scattermapbox(\n",
    "            lat=list(terror_ru[(terror_ru.fatalities == 0) & (terror_ru.year == year)]['latitude']),\n",
    "            lon=list(terror_ru[(terror_ru.fatalities == 0) & (terror_ru.year == year)]['longitude']),\n",
    "            mode='markers',\n",
    "            marker=go.Marker(\n",
    "                size = list(terror_ru[(terror_ru.fatalities == 0) & (terror_ru.year == year)]['injuries'] ** 0.255 * 8),\n",
    "                opacity=0.5,\n",
    "                color='#009999'\n",
    "            ),\n",
    "            text=list(terror_ru[(terror_ru.fatalities == 0) & (terror_ru.year == year)]['text']),\n",
    "            hoverinfo='text'\n",
    "        )\n",
    "    ])\n",
    "    frame['data'].extend(data_year)\n",
    "    figure['frames'].append(frame)\n",
    "\n",
    "    slider_step = {'args': [\n",
    "        [str(year)],\n",
    "        {'frame': {'duration': 900, 'redraw': False},\n",
    "         'mode': 'immediate',\n",
    "       'transition': {'duration': 900}}\n",
    "     ],\n",
    "     'label': str(year),\n",
    "     'method': 'animate'}\n",
    "    sliders_dict['steps'].append(slider_step)\n",
    "    \n",
    "figure['layout']['sliders'] = [sliders_dict]\n",
    "\n",
    "#make plot:\n",
    "iplot(figure)"
   ]
  },
  {
   "cell_type": "markdown",
   "metadata": {},
   "source": [
    "# Terrorist attacks for years\n",
    "Посмотрим на количество терактов каждый год"
   ]
  },
  {
   "cell_type": "code",
   "execution_count": 12,
   "metadata": {
    "collapsed": false,
    "scrolled": false
   },
   "outputs": [
    {
     "data": {
      "text/html": [
       "<div id=\"193c2443-c46f-4383-acae-3b117a6d69d6\" style=\"height: 525px; width: 100%;\" class=\"plotly-graph-div\"></div><script type=\"text/javascript\">require([\"plotly\"], function(Plotly) { window.PLOTLYENV=window.PLOTLYENV || {};window.PLOTLYENV.BASE_URL=\"https://plot.ly\";Plotly.newPlot(\"193c2443-c46f-4383-acae-3b117a6d69d6\", [{\"marker\": {\"color\": \"#009999\"}, \"type\": \"bar\", \"name\": \"Total number\", \"y\": [21, 66, 102, 167, 241, 267, 321, 457, 588, 673, 746, 787, 842, 896, 946, 1104, 1255, 1499, 1676, 1820, 1958, 2001, 2022], \"x\": [1992, 1994, 1995, 1996, 1997, 1998, 1999, 2000, 2001, 2002, 2003, 2004, 2005, 2006, 2007, 2008, 2009, 2010, 2011, 2012, 2013, 2014, 2015]}, {\"type\": \"scatter\", \"line\": {\"color\": \"#BF3030\", \"width\": 2}, \"mode\": \"lines+markers\", \"marker\": {\"size\": 5, \"color\": \"#BF3030\", \"symbol\": \"diamond\"}, \"name\": \"Per year\", \"y\": [21, 45, 36, 65, 74, 26, 54, 136, 131, 85, 73, 41, 55, 54, 50, 158, 151, 244, 177, 144, 138, 43, 21], \"x\": [1992, 1994, 1995, 1996, 1997, 1998, 1999, 2000, 2001, 2002, 2003, 2004, 2005, 2006, 2007, 2008, 2009, 2010, 2011, 2012, 2013, 2014, 2015]}], {\"legend\": {\"y\": 1, \"x\": 0}, \"barmode\": \"group\", \"yaxis\": {\"title\": \"Number of attacks\"}, \"title\": \"Terrorist Attacks for years in Russia (1992-2015)\", \"xaxis\": {\"title\": \"Year\"}}, {\"linkText\": \"Export to plot.ly\", \"showLink\": true})});</script>"
      ],
      "text/plain": [
       "<IPython.core.display.HTML object>"
      ]
     },
     "metadata": {},
     "output_type": "display_data"
    }
   ],
   "source": [
    "trace1 = go.Bar(\n",
    "    x = terror_years,\n",
    "    y = terror_peryear.cumsum(),\n",
    "    name = 'Total number',\n",
    "    marker=dict(\n",
    "        color='#009999'\n",
    "    )\n",
    ")\n",
    "\n",
    "trace2 = go.Scatter(\n",
    "    x = terror_years,\n",
    "    y = terror_peryear,\n",
    "    name = 'Per year',\n",
    "    mode = 'lines+markers',\n",
    "    marker = dict(\n",
    "        size = 5,\n",
    "        symbol = 'diamond',\n",
    "        color='#BF3030',\n",
    "    ),\n",
    "    line = dict(\n",
    "        width = 2,\n",
    "        color='#BF3030',\n",
    "    ),\n",
    ")\n",
    "\n",
    "\n",
    "layout = go.Layout(\n",
    "    title = 'Terrorist Attacks for years in Russia (1992-2015)',\n",
    "    barmode='group',\n",
    "    xaxis = dict(\n",
    "        title = 'Year',\n",
    "    ),\n",
    "    yaxis = dict(\n",
    "        title = 'Number of attacks',\n",
    "    ),\n",
    "    legend=dict(\n",
    "        x=0,\n",
    "        y=1\n",
    "    )\n",
    ")\n",
    "\n",
    "data = [trace1, trace2]\n",
    "\n",
    "fig = dict(data = data, layout = layout)\n",
    "iplot(fig)"
   ]
  },
  {
   "cell_type": "markdown",
   "metadata": {},
   "source": [
    "The Russian Federation was mostly suffered from terrorism in 2010. \n",
    "\n",
    "# Terrorist attacks per holidays\n",
    "\n",
    "We shall try to identify which days were chosen for attacks: workdays, pre-holidays or holidays including week-ends.\n",
    "\n",
    "Unfortunately, I could find the production calendars only since 1999. Thus, the analysis would be conducted since 1999 to 2015."
   ]
  },
  {
   "cell_type": "code",
   "execution_count": 25,
   "metadata": {
    "collapsed": false,
    "scrolled": true
   },
   "outputs": [
    {
     "data": {
      "text/html": [
       "<div>\n",
       "<table border=\"1\" class=\"dataframe\">\n",
       "  <thead>\n",
       "    <tr style=\"text-align: right;\">\n",
       "      <th></th>\n",
       "      <th>1</th>\n",
       "      <th>2</th>\n",
       "      <th>3</th>\n",
       "      <th>4</th>\n",
       "      <th>5</th>\n",
       "      <th>6</th>\n",
       "      <th>7</th>\n",
       "      <th>8</th>\n",
       "      <th>9</th>\n",
       "      <th>10</th>\n",
       "      <th>11</th>\n",
       "      <th>12</th>\n",
       "    </tr>\n",
       "    <tr>\n",
       "      <th>year</th>\n",
       "      <th></th>\n",
       "      <th></th>\n",
       "      <th></th>\n",
       "      <th></th>\n",
       "      <th></th>\n",
       "      <th></th>\n",
       "      <th></th>\n",
       "      <th></th>\n",
       "      <th></th>\n",
       "      <th></th>\n",
       "      <th></th>\n",
       "      <th></th>\n",
       "    </tr>\n",
       "  </thead>\n",
       "  <tbody>\n",
       "    <tr>\n",
       "      <th>1999</th>\n",
       "      <td>1,2,3,4,6*,7,9,10,16,17,23,24,30,31</td>\n",
       "      <td>6,7,13,14,20,21,27,28</td>\n",
       "      <td>6,7,8,13,14,20,21,27,28</td>\n",
       "      <td>3,4,10,11,17,18,24,25,30*</td>\n",
       "      <td>1,2,3,4,8,9,10,15,16,22,23,29,30</td>\n",
       "      <td>5,6,11*,12,13,14,19,20,26,27</td>\n",
       "      <td>3,4,10,11,17,18,24,25,31</td>\n",
       "      <td>1,7,8,14,15,21,22,28,29</td>\n",
       "      <td>4,5,11,12,18,19,25,26</td>\n",
       "      <td>2,3,9,10,16,17,23,24,30,31</td>\n",
       "      <td>6,7,8,13,14,20,21,27,28</td>\n",
       "      <td>4,5,11,12,13,18,19,25,26,31*</td>\n",
       "    </tr>\n",
       "    <tr>\n",
       "      <th>2000</th>\n",
       "      <td>1,2,3,4,6*,7,8,9,15,16,22,23,29,30</td>\n",
       "      <td>5,6,12,13,19,20,26,27</td>\n",
       "      <td>4,5,7*,8,11,12,18,19,25,26</td>\n",
       "      <td>1,2,8,9,15,16,22,23,29,30</td>\n",
       "      <td>1,2,6,7,8*,9,13,14,20,21,27,28</td>\n",
       "      <td>3,4,10,11,12,17,18,24,25</td>\n",
       "      <td>1,2,8,9,15,16,22,23,29,30</td>\n",
       "      <td>5,6,12,13,19,20,26,27</td>\n",
       "      <td>2,3,9,10,16,17,23,24,30</td>\n",
       "      <td>1,7,8,14,15,21,22,28,29</td>\n",
       "      <td>4,5,7,11,12,18,19,25,26</td>\n",
       "      <td>2,3,9,10,11*,12,16,17,23,24,30,31</td>\n",
       "    </tr>\n",
       "    <tr>\n",
       "      <th>2001</th>\n",
       "      <td>1,2,6,7,8,13,14,20,21,27,28</td>\n",
       "      <td>3,4,10,11,17,18,24,25</td>\n",
       "      <td>3,4,7*,8,10,11,17,18,24,25,31</td>\n",
       "      <td>1,7,8,14,15,21,22,28,29,30*</td>\n",
       "      <td>1,2,5,6,8*,9,12,13,19,20,26,27</td>\n",
       "      <td>2,3,9,10,11*,12,16,17,23,24,30</td>\n",
       "      <td>1,7,8,14,15,21,22,28,29</td>\n",
       "      <td>4,5,11,12,18,19,25,26</td>\n",
       "      <td>1,2,8,9,15,16,22,23,29,30</td>\n",
       "      <td>6,7,13,14,20,21,27,28</td>\n",
       "      <td>3,4,6*,7,10,11,17,18,24,25</td>\n",
       "      <td>1,2,8,9,12,15,16,22,23,29,30</td>\n",
       "    </tr>\n",
       "    <tr>\n",
       "      <th>2002</th>\n",
       "      <td>1,2,5,6,7,12,13,19,20,26,27</td>\n",
       "      <td>2,3,9,10,16,17,22*,23,24,25</td>\n",
       "      <td>2,3,7*,8,9,10,16,17,23,24,30,31</td>\n",
       "      <td>6,7,13,14,20,21,28,30*</td>\n",
       "      <td>1,2,3,4,5,8*,9,10,11,12,19,25,26</td>\n",
       "      <td>1,2,8,9,11*,12,15,16,22,23,29,30</td>\n",
       "      <td>6,7,13,14,20,21,27,28</td>\n",
       "      <td>3,4,10,11,17,18,24,25,31</td>\n",
       "      <td>1,7,8,14,15,21,22,28,29</td>\n",
       "      <td>5,6,12,13,19,20,26,27</td>\n",
       "      <td>2,3,6*,7,8,9,16,17,23,24,30</td>\n",
       "      <td>1,7,8,11*,12,13,14,21,22,28,29,31*</td>\n",
       "    </tr>\n",
       "    <tr>\n",
       "      <th>2003</th>\n",
       "      <td>1,2,3,5*,6,7,11,12,18,19,25,26</td>\n",
       "      <td>1,2,8,9,15,16,22,23,24</td>\n",
       "      <td>1,2,7*,8,9,10,15,16,22,23,29,30</td>\n",
       "      <td>5,6,12,13,19,20,26,27,30*</td>\n",
       "      <td>1,2,3,4,8*,9,10,11,17,18,24,25,31</td>\n",
       "      <td>1,7,8,11*,12,13,14,15,22,28,29</td>\n",
       "      <td>5,6,12,13,19,20,26,27</td>\n",
       "      <td>2,3,9,10,16,17,23,24,30,31</td>\n",
       "      <td>6,7,13,14,20,21,27,28</td>\n",
       "      <td>4,5,11,12,18,19,25,26</td>\n",
       "      <td>1,2,6*,7,8,9,15,16,22,23,29,30</td>\n",
       "      <td>6,7,11*,12,13,14,20,21,27,28,31*</td>\n",
       "    </tr>\n",
       "  </tbody>\n",
       "</table>\n",
       "</div>"
      ],
      "text/plain": [
       "                                        1                            2  \\\n",
       "year                                                                     \n",
       "1999  1,2,3,4,6*,7,9,10,16,17,23,24,30,31        6,7,13,14,20,21,27,28   \n",
       "2000   1,2,3,4,6*,7,8,9,15,16,22,23,29,30        5,6,12,13,19,20,26,27   \n",
       "2001          1,2,6,7,8,13,14,20,21,27,28        3,4,10,11,17,18,24,25   \n",
       "2002          1,2,5,6,7,12,13,19,20,26,27  2,3,9,10,16,17,22*,23,24,25   \n",
       "2003       1,2,3,5*,6,7,11,12,18,19,25,26       1,2,8,9,15,16,22,23,24   \n",
       "\n",
       "                                    3                            4  \\\n",
       "year                                                                 \n",
       "1999          6,7,8,13,14,20,21,27,28    3,4,10,11,17,18,24,25,30*   \n",
       "2000       4,5,7*,8,11,12,18,19,25,26    1,2,8,9,15,16,22,23,29,30   \n",
       "2001    3,4,7*,8,10,11,17,18,24,25,31  1,7,8,14,15,21,22,28,29,30*   \n",
       "2002  2,3,7*,8,9,10,16,17,23,24,30,31       6,7,13,14,20,21,28,30*   \n",
       "2003  1,2,7*,8,9,10,15,16,22,23,29,30    5,6,12,13,19,20,26,27,30*   \n",
       "\n",
       "                                      5                                 6  \\\n",
       "year                                                                        \n",
       "1999   1,2,3,4,8,9,10,15,16,22,23,29,30      5,6,11*,12,13,14,19,20,26,27   \n",
       "2000     1,2,6,7,8*,9,13,14,20,21,27,28          3,4,10,11,12,17,18,24,25   \n",
       "2001     1,2,5,6,8*,9,12,13,19,20,26,27    2,3,9,10,11*,12,16,17,23,24,30   \n",
       "2002   1,2,3,4,5,8*,9,10,11,12,19,25,26  1,2,8,9,11*,12,15,16,22,23,29,30   \n",
       "2003  1,2,3,4,8*,9,10,11,17,18,24,25,31    1,7,8,11*,12,13,14,15,22,28,29   \n",
       "\n",
       "                              7                           8  \\\n",
       "year                                                          \n",
       "1999   3,4,10,11,17,18,24,25,31     1,7,8,14,15,21,22,28,29   \n",
       "2000  1,2,8,9,15,16,22,23,29,30       5,6,12,13,19,20,26,27   \n",
       "2001    1,7,8,14,15,21,22,28,29       4,5,11,12,18,19,25,26   \n",
       "2002      6,7,13,14,20,21,27,28    3,4,10,11,17,18,24,25,31   \n",
       "2003      5,6,12,13,19,20,26,27  2,3,9,10,16,17,23,24,30,31   \n",
       "\n",
       "                              9                          10  \\\n",
       "year                                                          \n",
       "1999      4,5,11,12,18,19,25,26  2,3,9,10,16,17,23,24,30,31   \n",
       "2000    2,3,9,10,16,17,23,24,30     1,7,8,14,15,21,22,28,29   \n",
       "2001  1,2,8,9,15,16,22,23,29,30       6,7,13,14,20,21,27,28   \n",
       "2002    1,7,8,14,15,21,22,28,29       5,6,12,13,19,20,26,27   \n",
       "2003      6,7,13,14,20,21,27,28       4,5,11,12,18,19,25,26   \n",
       "\n",
       "                                  11                                  12  \n",
       "year                                                                      \n",
       "1999         6,7,8,13,14,20,21,27,28        4,5,11,12,13,18,19,25,26,31*  \n",
       "2000         4,5,7,11,12,18,19,25,26   2,3,9,10,11*,12,16,17,23,24,30,31  \n",
       "2001      3,4,6*,7,10,11,17,18,24,25        1,2,8,9,12,15,16,22,23,29,30  \n",
       "2002     2,3,6*,7,8,9,16,17,23,24,30  1,7,8,11*,12,13,14,21,22,28,29,31*  \n",
       "2003  1,2,6*,7,8,9,15,16,22,23,29,30    6,7,11*,12,13,14,20,21,27,28,31*  "
      ]
     },
     "execution_count": 25,
     "metadata": {},
     "output_type": "execute_result"
    }
   ],
   "source": [
    "# import calendar\n",
    "dates = pd.read_csv('data/data-20161107T1038-structure-20161107T1038.csv', engine='python', skiprows=1, skipfooter=4,\n",
    "                    usecols=[0, 1, 2, 3, 4, 5, 6, 7, 8, 9, 10, 11, 12], index_col=0, \n",
    "                    names=['year', '1', '2', '3', '4', '5', '6', '7', '8', '9', '10', '11', '12'])\n",
    "dates.head()"
   ]
  },
  {
   "cell_type": "markdown",
   "metadata": {},
   "source": [
    "So, this dataframe presents data about working days with pre-holidays (these days are marked '*'). Let's identify pre-holidays and holidays including week-ends."
   ]
  },
  {
   "cell_type": "code",
   "execution_count": 26,
   "metadata": {
    "collapsed": false,
    "scrolled": true
   },
   "outputs": [],
   "source": [
    "pre_holidays = []\n",
    "holidays = []\n",
    "for year in dates.index:\n",
    "    for month in dates.columns:\n",
    "        for day in dates.loc[year, month].split(','):\n",
    "            if day.endswith('*'):\n",
    "                pre_holidays.append(datetime(year, int(month), int(day[:len(day)-1]), 0, 0))\n",
    "            else:\n",
    "                holidays.append(datetime(year, int(month), int(day), 0, 0))\n",
    "                \n",
    "# transformate to pretty\n",
    "calendar = pd.DataFrame(data={\n",
    "    'date': pd.date_range('1/1/1999', '12/31/2015', freq='D'),\n",
    "})                "
   ]
  },
  {
   "cell_type": "code",
   "execution_count": 27,
   "metadata": {
    "collapsed": false
   },
   "outputs": [
    {
     "data": {
      "text/html": [
       "<div>\n",
       "<table border=\"1\" class=\"dataframe\">\n",
       "  <thead>\n",
       "    <tr style=\"text-align: right;\">\n",
       "      <th>status</th>\n",
       "      <th>holiday</th>\n",
       "      <th>pre-holiday</th>\n",
       "      <th>workday</th>\n",
       "    </tr>\n",
       "    <tr>\n",
       "      <th>year</th>\n",
       "      <th></th>\n",
       "      <th></th>\n",
       "      <th></th>\n",
       "    </tr>\n",
       "  </thead>\n",
       "  <tbody>\n",
       "    <tr>\n",
       "      <th>1999</th>\n",
       "      <td>114</td>\n",
       "      <td>4</td>\n",
       "      <td>247</td>\n",
       "    </tr>\n",
       "    <tr>\n",
       "      <th>2000</th>\n",
       "      <td>116</td>\n",
       "      <td>4</td>\n",
       "      <td>246</td>\n",
       "    </tr>\n",
       "    <tr>\n",
       "      <th>2001</th>\n",
       "      <td>114</td>\n",
       "      <td>5</td>\n",
       "      <td>246</td>\n",
       "    </tr>\n",
       "    <tr>\n",
       "      <th>2002</th>\n",
       "      <td>115</td>\n",
       "      <td>8</td>\n",
       "      <td>242</td>\n",
       "    </tr>\n",
       "    <tr>\n",
       "      <th>2003</th>\n",
       "      <td>115</td>\n",
       "      <td>8</td>\n",
       "      <td>242</td>\n",
       "    </tr>\n",
       "  </tbody>\n",
       "</table>\n",
       "</div>"
      ],
      "text/plain": [
       "status  holiday  pre-holiday  workday\n",
       "year                                 \n",
       "1999        114            4      247\n",
       "2000        116            4      246\n",
       "2001        114            5      246\n",
       "2002        115            8      242\n",
       "2003        115            8      242"
      ]
     },
     "execution_count": 27,
     "metadata": {},
     "output_type": "execute_result"
    }
   ],
   "source": [
    "def determ(date):\n",
    "    if date in holidays:\n",
    "        return 'holiday'\n",
    "    if date in pre_holidays:\n",
    "        return 'pre-holiday'\n",
    "    else: return 'workday'\n",
    "\n",
    "calendar['status'] = calendar['date'].apply(determ)\n",
    "calendar['year'] = calendar['date'].apply(lambda x: x.year)\n",
    "calendar = calendar.groupby(['year', 'status']).count().unstack()['date']\n",
    "\n",
    "calendar.head(3)"
   ]
  },
  {
   "cell_type": "code",
   "execution_count": 18,
   "metadata": {
    "collapsed": true
   },
   "outputs": [],
   "source": [
    "terror_ru['holiday'] = terror_ru['date'].apply(lambda x: x.to_pydatetime() in holidays).astype(int)\n",
    "terror_ru['pre_holiday'] = terror_ru['date'].apply(lambda x: x.to_pydatetime() in pre_holidays).astype(int)\n",
    "\n",
    "t_years = np.arange(1999, 2016)\n",
    "t_peryear = np.asarray(terror_ru[terror_ru['year']>1998].groupby('year').year.count())\n",
    "t_peryear_hol = np.asarray(terror_ru[terror_ru['year']>1998].groupby('year').sum().holiday)\n",
    "t_peryear_pre_hol = np.asarray(terror_ru[terror_ru['year']>1998].groupby('year').sum().pre_holiday)"
   ]
  },
  {
   "cell_type": "code",
   "execution_count": 19,
   "metadata": {
    "collapsed": false
   },
   "outputs": [
    {
     "name": "stdout",
     "output_type": "stream",
     "text": [
      "This is the format of your plot grid:\n",
      "[ (1,1) x1,y1 ]  [ (1,2) x2,y2 ]\n",
      "[ (2,1) x3,y3           -      ]\n",
      "\n"
     ]
    },
    {
     "data": {
      "text/html": [
       "<div id=\"8fd7d910-95b5-4ca3-b6fc-cd8d3d5cd33e\" style=\"height: 600px; width: 100%;\" class=\"plotly-graph-div\"></div><script type=\"text/javascript\">require([\"plotly\"], function(Plotly) { window.PLOTLYENV=window.PLOTLYENV || {};window.PLOTLYENV.BASE_URL=\"https://plot.ly\";Plotly.newPlot(\"8fd7d910-95b5-4ca3-b6fc-cd8d3d5cd33e\", [{\"type\": \"bar\", \"xaxis\": \"x1\", \"marker\": {\"color\": \"#009999\"}, \"name\": \"days\", \"y\": [4, 4, 5, 8, 8, 4, 3, 4, 6, 7, 4, 5, 3, 6, 5, 5, 5], \"x\": [1999, 2000, 2001, 2002, 2003, 2004, 2005, 2006, 2007, 2008, 2009, 2010, 2011, 2012, 2013, 2014, 2015], \"yaxis\": \"y1\"}, {\"type\": \"bar\", \"xaxis\": \"x1\", \"marker\": {\"color\": \"#A60000\"}, \"name\": \"Num of terracts\", \"y\": [0, 2, 3, 1, 0, 0, 1, 0, 0, 1, 1, 6, 0, 3, 2, 1, 0], \"x\": [1999, 2000, 2001, 2002, 2003, 2004, 2005, 2006, 2007, 2008, 2009, 2010, 2011, 2012, 2013, 2014, 2015], \"yaxis\": \"y1\"}, {\"type\": \"bar\", \"xaxis\": \"x2\", \"marker\": {\"color\": \"#009999\"}, \"name\": \"days\", \"y\": [114, 116, 114, 115, 115, 115, 117, 118, 116, 116, 116, 116, 117, 117, 118, 118, 118], \"x\": [1999, 2000, 2001, 2002, 2003, 2004, 2005, 2006, 2007, 2008, 2009, 2010, 2011, 2012, 2013, 2014, 2015], \"yaxis\": \"y2\"}, {\"type\": \"bar\", \"xaxis\": \"x2\", \"marker\": {\"color\": \"#A60000\"}, \"name\": \"Num of terracts\", \"y\": [20, 48, 33, 13, 21, 11, 10, 14, 10, 43, 39, 72, 51, 36, 33, 14, 3], \"x\": [1999, 2000, 2001, 2002, 2003, 2004, 2005, 2006, 2007, 2008, 2009, 2010, 2011, 2012, 2013, 2014, 2015], \"yaxis\": \"y2\"}, {\"type\": \"bar\", \"xaxis\": \"x3\", \"marker\": {\"color\": \"#009999\"}, \"name\": \"days\", \"y\": [247, 246, 246, 242, 242, 247, 245, 243, 243, 243, 245, 244, 245, 243, 242, 242, 242], \"x\": [1999, 2000, 2001, 2002, 2003, 2004, 2005, 2006, 2007, 2008, 2009, 2010, 2011, 2012, 2013, 2014, 2015], \"yaxis\": \"y3\"}, {\"type\": \"bar\", \"xaxis\": \"x3\", \"marker\": {\"color\": \"#A60000\"}, \"name\": \"Num of terracts\", \"y\": [34, 86, 95, 71, 52, 30, 44, 40, 40, 114, 111, 166, 126, 105, 103, 28, 18], \"x\": [1999, 2000, 2001, 2002, 2003, 2004, 2005, 2006, 2007, 2008, 2009, 2010, 2011, 2012, 2013, 2014, 2015], \"yaxis\": \"y3\"}], {\"title\": \"Terrorist Attacks by type of the day in Russia (amount) (1999-2015)\", \"yaxis3\": {\"domain\": [0.0, 0.375], \"anchor\": \"x3\"}, \"xaxis2\": {\"domain\": [0.55, 1.0], \"title\": \"years\", \"anchor\": \"y2\"}, \"xaxis1\": {\"domain\": [0.0, 0.45], \"title\": \"years\", \"anchor\": \"y1\"}, \"xaxis3\": {\"domain\": [0.0, 1.0], \"title\": \"years\", \"anchor\": \"y3\", \"showgrid\": false}, \"yaxis2\": {\"domain\": [0.625, 1.0], \"anchor\": \"x2\"}, \"showlegend\": false, \"barmode\": \"group\", \"height\": 600, \"yaxis1\": {\"domain\": [0.625, 1.0], \"anchor\": \"x1\"}, \"annotations\": [{\"text\": \"Pre-holidays\", \"yanchor\": \"bottom\", \"xanchor\": \"center\", \"xref\": \"paper\", \"showarrow\": false, \"yref\": \"paper\", \"y\": 1.0, \"font\": {\"size\": 16}, \"x\": 0.225}, {\"text\": \"Holidays\", \"yanchor\": \"bottom\", \"xanchor\": \"center\", \"xref\": \"paper\", \"showarrow\": false, \"yref\": \"paper\", \"y\": 1.0, \"font\": {\"size\": 16}, \"x\": 0.775}, {\"text\": \"Workdays\", \"yanchor\": \"bottom\", \"xanchor\": \"center\", \"xref\": \"paper\", \"showarrow\": false, \"yref\": \"paper\", \"y\": 0.375, \"font\": {\"size\": 16}, \"x\": 0.5}]}, {\"linkText\": \"Export to plot.ly\", \"showLink\": true})});</script>"
      ],
      "text/plain": [
       "<IPython.core.display.HTML object>"
      ]
     },
     "metadata": {},
     "output_type": "display_data"
    }
   ],
   "source": [
    "trace1 = go.Bar(\n",
    "    x = t_years,\n",
    "    y = calendar['pre-holiday'],\n",
    "    name = 'days',    \n",
    "    marker=dict(\n",
    "        color='#009999'\n",
    "    )\n",
    ")\n",
    "\n",
    "trace2 = go.Bar(\n",
    "    x = t_years,\n",
    "    y = t_peryear_pre_hol,\n",
    "    name = 'Num of terracts',\n",
    "    marker=dict(\n",
    "        color='#A60000'\n",
    "    )    \n",
    ")\n",
    "\n",
    "trace3 = go.Bar(\n",
    "    x = t_years,\n",
    "    y = calendar['holiday'],\n",
    "    name = 'days',\n",
    "    marker=dict(\n",
    "        color='#009999'\n",
    "    )    \n",
    ")\n",
    "\n",
    "trace4 = go.Bar(\n",
    "    x = t_years,\n",
    "    y = t_peryear_hol,\n",
    "    name = 'Num of terracts',\n",
    "    marker=dict(\n",
    "        color='#A60000'\n",
    "    )    \n",
    ")\n",
    "\n",
    "trace5 = go.Bar(\n",
    "    x = t_years,\n",
    "    y = calendar['workday'],\n",
    "    name = 'days',\n",
    "    marker=dict(\n",
    "        color='#009999'\n",
    "    )    \n",
    ")\n",
    "\n",
    "trace6 = go.Bar(\n",
    "    x = t_years,\n",
    "    y = t_peryear - t_peryear_hol - t_peryear_pre_hol,\n",
    "    name = 'Num of terracts',\n",
    "    marker=dict(\n",
    "        color='#A60000'\n",
    "    )\n",
    ")\n",
    "\n",
    "fig = tools.make_subplots(rows=2, cols=2, specs=[[{}, {}], [{'colspan': 2}, None]],\n",
    "                          subplot_titles=('Pre-holidays',\n",
    "                                          'Holidays', \n",
    "                                          'Workdays'))\n",
    "\n",
    "\n",
    "fig.append_trace(trace1, 1, 1)\n",
    "fig.append_trace(trace2, 1, 1)\n",
    "fig.append_trace(trace3, 1, 2)\n",
    "fig.append_trace(trace4, 1, 2)\n",
    "fig.append_trace(trace5, 2, 1)\n",
    "fig.append_trace(trace6, 2, 1)\n",
    "\n",
    "fig['layout']['xaxis1'].update(title='years')\n",
    "fig['layout']['xaxis2'].update(title='years')\n",
    "fig['layout']['xaxis3'].update(title='years', showgrid=False)\n",
    "fig['layout'].update(showlegend=False, height=600, barmode='group',\n",
    "                     title='Terrorist Attacks by type of the day in Russia (amount) (1999-2015)')\n",
    "\n",
    "iplot(fig)"
   ]
  },
  {
   "cell_type": "markdown",
   "metadata": {},
   "source": [
    "However, it could be interesting to have a look at type-days' relative coverage. Let's create the grouped bar chart."
   ]
  },
  {
   "cell_type": "code",
   "execution_count": 20,
   "metadata": {
    "collapsed": false
   },
   "outputs": [
    {
     "data": {
      "text/html": [
       "<div id=\"387c1e7d-1a91-409d-899e-2a66fb3c7c1e\" style=\"height: 525px; width: 100%;\" class=\"plotly-graph-div\"></div><script type=\"text/javascript\">require([\"plotly\"], function(Plotly) { window.PLOTLYENV=window.PLOTLYENV || {};window.PLOTLYENV.BASE_URL=\"https://plot.ly\";Plotly.newPlot(\"387c1e7d-1a91-409d-899e-2a66fb3c7c1e\", [{\"marker\": {\"color\": \"#FF0000\"}, \"type\": \"bar\", \"name\": \"Workdays\", \"y\": [0.13765182186234817, 0.34959349593495936, 0.3861788617886179, 0.29338842975206614, 0.21487603305785125, 0.1214574898785425, 0.17959183673469387, 0.1646090534979424, 0.1646090534979424, 0.4691358024691358, 0.4530612244897959, 0.680327868852459, 0.5142857142857142, 0.43209876543209874, 0.4256198347107438, 0.11570247933884298, 0.0743801652892562], \"x\": [1999, 2000, 2001, 2002, 2003, 2004, 2005, 2006, 2007, 2008, 2009, 2010, 2011, 2012, 2013, 2014, 2015]}, {\"marker\": {\"color\": \"#FF7400\"}, \"type\": \"bar\", \"name\": \"Holidays\", \"y\": [0.17543859649122806, 0.41379310344827586, 0.2894736842105263, 0.11304347826086956, 0.1826086956521739, 0.09565217391304348, 0.08547008547008547, 0.11864406779661017, 0.08620689655172414, 0.3706896551724138, 0.33620689655172414, 0.6206896551724138, 0.4358974358974359, 0.3076923076923077, 0.2796610169491525, 0.11864406779661017, 0.025423728813559324], \"x\": [1999, 2000, 2001, 2002, 2003, 2004, 2005, 2006, 2007, 2008, 2009, 2010, 2011, 2012, 2013, 2014, 2015]}, {\"marker\": {\"color\": \"#CD0074\"}, \"type\": \"bar\", \"name\": \"Pre-holidays\", \"y\": [0.0, 0.5, 0.6, 0.125, 0.0, 0.0, 0.3333333333333333, 0.0, 0.0, 0.14285714285714285, 0.25, 1.2, 0.0, 0.5, 0.4, 0.2, 0.0], \"x\": [1999, 2000, 2001, 2002, 2003, 2004, 2005, 2006, 2007, 2008, 2009, 2010, 2011, 2012, 2013, 2014, 2015]}], {\"legend\": {\"y\": 1, \"x\": 0}, \"barmode\": \"group\", \"yaxis\": {\"title\": \"proportion of teracts to days\"}, \"title\": \"Terrorist Attacks by type of the day in proportion in Russia<br>(relative indicator) (1999-2015)\", \"xaxis\": {\"title\": \"year\"}}, {\"linkText\": \"Export to plot.ly\", \"showLink\": true})});</script>"
      ],
      "text/plain": [
       "<IPython.core.display.HTML object>"
      ]
     },
     "metadata": {},
     "output_type": "display_data"
    }
   ],
   "source": [
    "trace1 = go.Bar(\n",
    "    x = t_years,\n",
    "    y = (t_peryear - t_peryear_hol - t_peryear_pre_hol) / np.asarray(calendar['workday']),\n",
    "    name = 'Workdays',\n",
    "    marker=dict(\n",
    "        color='#FF0000'\n",
    "    ) \n",
    ")\n",
    "\n",
    "trace2 = go.Bar(\n",
    "    x = t_years,\n",
    "    y = t_peryear_hol / np.asarray(calendar['holiday']),\n",
    "    name = 'Holidays',\n",
    "    marker=dict(\n",
    "        color='#FF7400'\n",
    "    )    \n",
    ")\n",
    "\n",
    "trace3 = go.Bar(\n",
    "    x = t_years,\n",
    "    y = t_peryear_pre_hol / np.asarray(calendar['pre-holiday']),\n",
    "    name = 'Pre-holidays',\n",
    "    marker=dict(\n",
    "        color='#CD0074'\n",
    "    )    \n",
    ")\n",
    "\n",
    "data = [trace1, trace2, trace3]\n",
    "\n",
    "layout = go.Layout(\n",
    "    title='Terrorist Attacks by type of the day in proportion in Russia<br>(relative indicator) (1999-2015)',\n",
    "    barmode='group',\n",
    "    xaxis=dict(\n",
    "        title='year',\n",
    "    ),\n",
    "    yaxis=dict(\n",
    "        title='proportion of teracts to days',\n",
    "    ),\n",
    "    legend=dict(\n",
    "        x=0,\n",
    "        y=1\n",
    "    )\n",
    ")\n",
    "\n",
    "figure = dict(data = data, layout = layout)\n",
    "iplot(figure)"
   ]
  },
  {
   "cell_type": "markdown",
   "metadata": {},
   "source": [
    "# Terrorist attacks per weekday"
   ]
  },
  {
   "cell_type": "code",
   "execution_count": 21,
   "metadata": {
    "collapsed": false,
    "scrolled": false
   },
   "outputs": [
    {
     "data": {
      "text/html": [
       "<div id=\"e98dcdbe-d607-40ba-a62f-81afd3ec9abc\" style=\"height: 525px; width: 100%;\" class=\"plotly-graph-div\"></div><script type=\"text/javascript\">require([\"plotly\"], function(Plotly) { window.PLOTLYENV=window.PLOTLYENV || {};window.PLOTLYENV.BASE_URL=\"https://plot.ly\";Plotly.newPlot(\"e98dcdbe-d607-40ba-a62f-81afd3ec9abc\", [{\"marker\": {\"color\": [\"#009999\", \"#009999\", \"#009999\", \"#009999\", \"#009999\", \"#A60000\", \"#A60000\"]}, \"type\": \"bar\", \"y\": [299, 318, 275, 346, 308, 206, 270], \"x\": [\"Monday\", \"Tuesday\", \"Wednesday\", \"Thursday\", \"Friday\", \"Saturday\", \"Sunday\"]}], {\"title\": \"Terrorist Attacks by Weekday in Russia (1992-2015)\", \"yaxis\": {\"title\": \"Number of attacks\"}, \"xaxis\": {\"title\": \"Weekday\"}}, {\"linkText\": \"Export to plot.ly\", \"showLink\": true})});</script>"
      ],
      "text/plain": [
       "<IPython.core.display.HTML object>"
      ]
     },
     "metadata": {},
     "output_type": "display_data"
    }
   ],
   "source": [
    "terror_ru['weekday'] = terror_ru['date'].apply(lambda x: datetime.isoweekday(x))\n",
    "\n",
    "trace = go.Bar(\n",
    "    x=['Monday', 'Tuesday', 'Wednesday', 'Thursday', 'Friday', 'Saturday', 'Sunday'],\n",
    "    y=terror_ru.groupby('weekday').weekday.count().tolist(),\n",
    "    marker=dict(\n",
    "        color=['#009999'] * 5 + ['#A60000'] * 2\n",
    "    ),\n",
    "    \n",
    ")\n",
    "\n",
    "layout = go.Layout(\n",
    "    title = 'Terrorist Attacks by Weekday in Russia (1992-2015)',\n",
    "    xaxis = dict(\n",
    "        title = 'Weekday',\n",
    "    ),\n",
    "    yaxis = dict(\n",
    "        title = 'Number of attacks',\n",
    "    )\n",
    ")\n",
    "\n",
    "data = [trace]\n",
    "\n",
    "figure = dict(data = data, layout = layout)\n",
    "iplot(figure)"
   ]
  },
  {
   "cell_type": "markdown",
   "metadata": {},
   "source": [
    "В России реже всего терракты происходят по субботам.\n",
    "Среди будних дней больше террактов приходится на четверги, меньше всего – на среду.\n",
    "\n",
    "# Terrorist attacks by target\n",
    "\n",
    "The aims of the terrorist attacks were combined into groups. "
   ]
  },
  {
   "cell_type": "code",
   "execution_count": 9,
   "metadata": {
    "collapsed": false,
    "scrolled": true
   },
   "outputs": [],
   "source": [
    "target_codes = []\n",
    "\n",
    "for attack in terror_ru['target'].values:\n",
    "    if attack in ['Business', 'Journalists & Media', 'NGO']:\n",
    "        target_codes.append(1)\n",
    "    elif attack in ['Government (General)', 'Government (Diplomatic)']:\n",
    "        target_codes.append(2)\n",
    "    elif attack == 'Educational Institution':\n",
    "        target_codes.append(5)\n",
    "    elif attack == 'Police':\n",
    "        target_codes.append(6)\n",
    "    elif attack == 'Military':\n",
    "        target_codes.append(7)\n",
    "    elif attack == 'Religious Figures/Institutions':\n",
    "        target_codes.append(8)\n",
    "    elif attack in ['Airports & Aircraft', 'Maritime', 'Transportation']:\n",
    "        target_codes.append(9)\n",
    "    elif attack in ['Food or Water Supply', 'Telecommunication', 'Utilities']:\n",
    "        target_codes.append(10)\n",
    "    else:\n",
    "        target_codes.append(3)\n",
    "\n",
    "terror_ru['target'] = target_codes\n",
    "target_categories = ['Business', 'Government', 'Individuals', 'Education',\n",
    "                     'Police', 'Military', 'Religion', 'Transportation', 'Infrastructure']\n",
    "\n",
    "# terrorist attacks by target\n",
    "target_count = np.asarray(terror_ru.groupby('target').target.count())\n",
    "target_percent = np.round(target_count / sum(target_count) * 100, 2)\n",
    "\n",
    "# terrorist attack fatalities by target\n",
    "target_fatality = np.asarray(terror_ru.groupby('target')['fatalities'].sum())\n",
    "\n",
    "# terrorist attack injuries by target\n",
    "target_injury = np.asarray(terror_ru.groupby('target')['injuries'].sum())"
   ]
  },
  {
   "cell_type": "code",
   "execution_count": 10,
   "metadata": {
    "collapsed": false,
    "scrolled": false
   },
   "outputs": [
    {
     "data": {
      "text/html": [
       "<div id=\"ae67e108-329c-438a-b04e-db0b8756fbef\" style=\"height: 525px; width: 100%;\" class=\"plotly-graph-div\"></div><script type=\"text/javascript\">require([\"plotly\"], function(Plotly) { window.PLOTLYENV=window.PLOTLYENV || {};window.PLOTLYENV.BASE_URL=\"https://plot.ly\";Plotly.newPlot(\"ae67e108-329c-438a-b04e-db0b8756fbef\", [{\"text\": [\"Business (11.18%)<br>272 Killed, 275 Injured\", \"Government (19.09%)<br>508 Killed, 983 Injured\", \"Individuals (16.42%)<br>831 Killed, 1436 Injured\", \"Education (1.19%)<br>352 Killed, 745 Injured\", \"Police (27.25%)<br>774 Killed, 1157 Injured\", \"Military (9.89%)<br>761 Killed, 875 Injured\", \"Religion (4.4%)<br>79 Killed, 57 Injured\", \"Transportation (7.81%)<br>460 Killed, 1491 Injured\", \"Infrastructure (2.77%)<br>33 Killed, 45 Injured\"], \"type\": \"scatter\", \"mode\": \"markers\", \"marker\": {\"size\": [34.76923076923077, 59.38461538461539, 51.07692307692308, 3.6923076923076925, 84.76923076923077, 30.76923076923077, 13.692307692307692, 24.307692307692307, 8.615384615384615], \"opacity\": 0.6, \"color\": \"#A60000\"}, \"hoverinfo\": \"text\", \"y\": [272, 508, 831, 352, 774, 761, 79, 460, 33], \"x\": [275, 983, 1436, 745, 1157, 875, 57, 1491, 45]}], {\"xaxis\": {\"type\": \"log\", \"showgrid\": false, \"tickmode\": \"auto\", \"showline\": true, \"nticks\": 2, \"title\": \"Injuries\"}, \"title\": \"Terrorist Attacks by Target in Russia (1992-2015)\", \"yaxis\": {\"type\": \"log\", \"showgrid\": false, \"tickmode\": \"auto\", \"showline\": true, \"nticks\": 2, \"title\": \"Fatalities\"}, \"hovermode\": \"closest\"}, {\"linkText\": \"Export to plot.ly\", \"showLink\": true})});</script>"
      ],
      "text/plain": [
       "<IPython.core.display.HTML object>"
      ]
     },
     "metadata": {},
     "output_type": "display_data"
    }
   ],
   "source": [
    "target_text = []\n",
    "for i in range(0, 9):\n",
    "    target_text.append(target_categories[i] + ' (' + target_percent[i].astype(str) \n",
    "                       + '%)<br>' + target_fatality[i].astype(str) + ' Killed, '\n",
    "                       + target_injury[i].astype(str) + ' Injured')\n",
    "\n",
    "data = [go.Scatter(\n",
    "        x = target_injury,\n",
    "        y = target_fatality,\n",
    "        text = target_text,\n",
    "        mode = 'markers',\n",
    "        hoverinfo = 'text',\n",
    "        marker = dict(\n",
    "            size = target_count / 6.5,\n",
    "            opacity = 0.6,\n",
    "            color = '#A60000'\n",
    "        )\n",
    "        )\n",
    "       ]\n",
    "\n",
    "layout = go.Layout(\n",
    "    title = 'Terrorist Attacks by Target in Russia (1992-2015)',\n",
    "    hovermode='closest',\n",
    "    xaxis = dict(\n",
    "        title = 'Injuries',\n",
    "        type = 'log',\n",
    "        tickmode = 'auto',\n",
    "        nticks = 2,\n",
    "        showline = True,\n",
    "        showgrid = False\n",
    "    ),\n",
    "    yaxis = dict(\n",
    "        title = 'Fatalities',\n",
    "        type = 'log',\n",
    "        tickmode = 'auto',\n",
    "        nticks = 2,\n",
    "        showline = True,\n",
    "        showgrid = False\n",
    "    )\n",
    ")\n",
    "\n",
    "figure = dict(data = data, layout = layout)\n",
    "iplot(figure)"
   ]
  },
  {
   "cell_type": "markdown",
   "metadata": {},
   "source": [
    "The education attaks rate is the lowest (1.19%), but there was a huge amount of victims. Probably, it is conserned with dreadful tragedy in [Beslan](https://en.wikipedia.org/wiki/Beslan_school_siege).\n",
    "\n",
    "## Terrorist attacks by weapon"
   ]
  },
  {
   "cell_type": "code",
   "execution_count": 11,
   "metadata": {
    "collapsed": false
   },
   "outputs": [
    {
     "data": {
      "text/html": [
       "<div id=\"2f7da43e-75d0-4907-88f1-dba9762670ac\" style=\"height: 525px; width: 100%;\" class=\"plotly-graph-div\"></div><script type=\"text/javascript\">require([\"plotly\"], function(Plotly) { window.PLOTLYENV=window.PLOTLYENV || {};window.PLOTLYENV.BASE_URL=\"https://plot.ly\";Plotly.newPlot(\"2f7da43e-75d0-4907-88f1-dba9762670ac\", [{\"text\": [\"Explosives (57.47%)<br>2630 Killed, 6219 Injured\", \"Flammables (1.88%)<br>6 Killed, 7 Injured\", \"Firearms (35.31%)<br>1195 Killed, 773 Injured\", \"Miscellaneous (3.56%)<br>217 Killed, 20 Injured\", \"Knives (1.53%)<br>17 Killed, 34 Injured\", \"Chemicals (0.25%)<br>5 Killed, 11 Injured\"], \"type\": \"scatter\", \"mode\": \"markers\", \"marker\": {\"size\": [121.2, 8.8, 76.4, 12.2, 8.1, 5.5], \"opacity\": 0.6, \"color\": \"#A60000\"}, \"hoverinfo\": \"text\", \"y\": [2630, 6, 1195, 217, 17, 5], \"x\": [6219, 7, 773, 20, 34, 11]}], {\"title\": \"Terrorist Attacks by Weapon in Russia (1992-2015)\", \"yaxis\": {\"type\": \"log\", \"showgrid\": false, \"tickmode\": \"auto\", \"showline\": true, \"nticks\": 3, \"title\": \"Fatalities\"}, \"xaxis\": {\"type\": \"log\", \"showgrid\": false, \"tickmode\": \"auto\", \"showline\": true, \"nticks\": 4, \"title\": \"Injuries\"}}, {\"linkText\": \"Export to plot.ly\", \"showLink\": true})});</script>"
      ],
      "text/plain": [
       "<IPython.core.display.HTML object>"
      ]
     },
     "metadata": {},
     "output_type": "display_data"
    }
   ],
   "source": [
    "# terrorist attack weapons grouped in categories\n",
    "weapon_codes = []\n",
    "\n",
    "for attack in terror_ru['weapon'].values:\n",
    "    if attack in ['Explosives/Bombs/Dynamite', 'Sabotage Equipment']:\n",
    "        weapon_codes.append(1)\n",
    "    elif attack == 'Incendiary':\n",
    "        weapon_codes.append(2)\n",
    "    elif attack in ['Firearms', 'Fake Weapons']:\n",
    "        weapon_codes.append(3)\n",
    "    elif attack == 'Melee':\n",
    "        weapon_codes.append(5)\n",
    "    elif attack in ['Chemical', 'Radiological']:\n",
    "        weapon_codes.append(7)\n",
    "    else:\n",
    "        weapon_codes.append(4)\n",
    "\n",
    "terror_ru['weapon'] = weapon_codes\n",
    "weapon_categories = ['Explosives', 'Flammables', 'Firearms', 'Miscellaneous',\n",
    "                     'Knives', 'Chemicals']\n",
    "\n",
    "# terrorist attacks by weapon\n",
    "weapon_count = np.asarray(terror_ru.groupby('weapon').weapon.count())\n",
    "weapon_percent = np.round(weapon_count / sum(weapon_count) * 100, 2)\n",
    "\n",
    "# terrorist attack fatalities by weapon\n",
    "weapon_fatality = np.asarray(terror_ru.groupby('weapon')['fatalities'].sum())\n",
    "\n",
    "# terrorist attack injuries by weapon\n",
    "weapon_injury = np.asarray(terror_ru.groupby('weapon')['injuries'].sum())\n",
    "\n",
    "weapon_text = []\n",
    "for i in range(0, 6):\n",
    "    weapon_text.append(weapon_categories[i] + ' (' + weapon_percent[i].astype(str) \n",
    "                       + '%)<br>' + weapon_fatality[i].astype(str) + ' Killed, '\n",
    "                       + weapon_injury[i].astype(str) + ' Injured')\n",
    "    \n",
    "data = [go.Scatter(\n",
    "        x = weapon_injury,\n",
    "        y = weapon_fatality,\n",
    "        text = weapon_text,\n",
    "        mode = 'markers',\n",
    "        hoverinfo = 'text',\n",
    "        marker = dict(\n",
    "            size = (weapon_count + 50) / 10,\n",
    "            opacity = 0.6,\n",
    "            color = '#A60000')\n",
    "        )]\n",
    "\n",
    "layout = go.Layout(\n",
    "         title = 'Terrorist Attacks by Weapon in Russia (1992-2015)',\n",
    "         xaxis = dict(\n",
    "             title = 'Injuries',\n",
    "             type = 'log',\n",
    "             tickmode = 'auto',\n",
    "             nticks = 4,\n",
    "             showline = True,\n",
    "             showgrid = False\n",
    "         ),\n",
    "         yaxis = dict(\n",
    "             title = 'Fatalities',\n",
    "             type = 'log',\n",
    "             tickmode = 'auto',\n",
    "             nticks = 3,\n",
    "             showline = True,\n",
    "             showgrid = False)\n",
    "         )\n",
    "\n",
    "\n",
    "figure = dict(data = data, layout = layout)\n",
    "iplot(figure)"
   ]
  },
  {
   "cell_type": "markdown",
   "metadata": {},
   "source": [
    "More than half of the attacks in Russia were occured by the terrorists using explosive weapons."
   ]
  },
  {
   "cell_type": "markdown",
   "metadata": {},
   "source": [
    "# Terrorist attacks to cities\n",
    "\n",
    "Let's make a bar chart, which presents the most vulnerable cities in Russia:"
   ]
  },
  {
   "cell_type": "code",
   "execution_count": 7,
   "metadata": {
    "collapsed": false
   },
   "outputs": [
    {
     "data": {
      "text/html": [
       "<div id=\"406fca1f-9c3c-4bb2-848f-24a56d3789dd\" style=\"height: 525px; width: 100%;\" class=\"plotly-graph-div\"></div><script type=\"text/javascript\">require([\"plotly\"], function(Plotly) { window.PLOTLYENV=window.PLOTLYENV || {};window.PLOTLYENV.BASE_URL=\"https://plot.ly\";Plotly.newPlot(\"406fca1f-9c3c-4bb2-848f-24a56d3789dd\", [{\"marker\": {\"color\": \"#009999\"}, \"type\": \"bar\", \"y\": [207, 182, 122, 87, 84, 53, 43, 37, 27, 23, 22, 22, 22, 22, 21, 20], \"x\": [\"Grozny\", \"Makhachkala\", \"Nazran\", \"Moscow\", \"Khasavyurt\", \"Nalchik\", \"Ordzhonikidzevskaya\", \"Buynaksk\", \"Malgobek\", \"Karabulak\", \"Baksan\", \"Urus-Martan\", \"Gudermes\", \"Vladikavkaz\", \"Argun\", \"Tyrnyauz\"]}], {\"title\": \"The most frequently terrorist attacked cities in Russia (1992-2015)\", \"xaxis\": {\"title\": \"City\"}, \"annotations\": [{\"text\": \"207\", \"yanchor\": \"bottom\", \"xanchor\": \"center\", \"showarrow\": false, \"y\": 207, \"x\": \"Grozny\"}, {\"text\": \"182\", \"yanchor\": \"bottom\", \"xanchor\": \"center\", \"showarrow\": false, \"y\": 182, \"x\": \"Makhachkala\"}, {\"text\": \"122\", \"yanchor\": \"bottom\", \"xanchor\": \"center\", \"showarrow\": false, \"y\": 122, \"x\": \"Nazran\"}, {\"text\": \"87\", \"yanchor\": \"bottom\", \"xanchor\": \"center\", \"showarrow\": false, \"y\": 87, \"x\": \"Moscow\"}, {\"text\": \"84\", \"yanchor\": \"bottom\", \"xanchor\": \"center\", \"showarrow\": false, \"y\": 84, \"x\": \"Khasavyurt\"}, {\"text\": \"53\", \"yanchor\": \"bottom\", \"xanchor\": \"center\", \"showarrow\": false, \"y\": 53, \"x\": \"Nalchik\"}, {\"text\": \"43\", \"yanchor\": \"bottom\", \"xanchor\": \"center\", \"showarrow\": false, \"y\": 43, \"x\": \"Ordzhonikidzevskaya\"}, {\"text\": \"37\", \"yanchor\": \"bottom\", \"xanchor\": \"center\", \"showarrow\": false, \"y\": 37, \"x\": \"Buynaksk\"}, {\"text\": \"27\", \"yanchor\": \"bottom\", \"xanchor\": \"center\", \"showarrow\": false, \"y\": 27, \"x\": \"Malgobek\"}, {\"text\": \"23\", \"yanchor\": \"bottom\", \"xanchor\": \"center\", \"showarrow\": false, \"y\": 23, \"x\": \"Karabulak\"}, {\"text\": \"22\", \"yanchor\": \"bottom\", \"xanchor\": \"center\", \"showarrow\": false, \"y\": 22, \"x\": \"Baksan\"}, {\"text\": \"22\", \"yanchor\": \"bottom\", \"xanchor\": \"center\", \"showarrow\": false, \"y\": 22, \"x\": \"Urus-Martan\"}, {\"text\": \"22\", \"yanchor\": \"bottom\", \"xanchor\": \"center\", \"showarrow\": false, \"y\": 22, \"x\": \"Gudermes\"}, {\"text\": \"22\", \"yanchor\": \"bottom\", \"xanchor\": \"center\", \"showarrow\": false, \"y\": 22, \"x\": \"Vladikavkaz\"}, {\"text\": \"21\", \"yanchor\": \"bottom\", \"xanchor\": \"center\", \"showarrow\": false, \"y\": 21, \"x\": \"Argun\"}, {\"text\": \"20\", \"yanchor\": \"bottom\", \"xanchor\": \"center\", \"showarrow\": false, \"y\": 20, \"x\": \"Tyrnyauz\"}], \"yaxis\": {\"title\": \"Number of attacks\"}}, {\"linkText\": \"Export to plot.ly\", \"showLink\": true})});</script>"
      ],
      "text/plain": [
       "<IPython.core.display.HTML object>"
      ]
     },
     "metadata": {},
     "output_type": "display_data"
    }
   ],
   "source": [
    "cities = terror_ru['city'].value_counts()[terror_ru['city'].value_counts()>=20]\n",
    "# remove unknown city\n",
    "cities = cities[cities.index!='Unknown']\n",
    "\n",
    "trace = go.Bar(\n",
    "    x=cities.index,\n",
    "    y=cities,\n",
    "    marker=dict(\n",
    "        color='#009999'\n",
    "    )    \n",
    ")\n",
    "\n",
    "data = [trace]\n",
    "layout = go.Layout(\n",
    "    title='The most frequently terrorist attacked cities in Russia (1992-2015)',\n",
    "    xaxis=dict(\n",
    "        title='City',\n",
    "    ),\n",
    "    yaxis=dict(\n",
    "        title='Number of attacks',\n",
    "    ),  \n",
    "    annotations=[\n",
    "        dict(x=xi,y=yi,\n",
    "             text=str(yi),\n",
    "             xanchor='center',\n",
    "             yanchor='bottom',\n",
    "             showarrow=False,\n",
    "        ) for xi, yi in zip(cities.index, cities)\n",
    "    ]\n",
    ")\n",
    "\n",
    "fig = go.Figure(data=data, layout=layout)\n",
    "iplot(fig)"
   ]
  },
  {
   "cell_type": "markdown",
   "metadata": {},
   "source": [
    "The above-mentioned cities could be seen as injures and fatalities coordinates."
   ]
  },
  {
   "cell_type": "code",
   "execution_count": 8,
   "metadata": {
    "collapsed": false,
    "scrolled": false
   },
   "outputs": [
    {
     "data": {
      "text/html": [
       "<div id=\"b9d1821c-4de9-40e0-ad1e-50c3ad218878\" style=\"height: 525px; width: 100%;\" class=\"plotly-graph-div\"></div><script type=\"text/javascript\">require([\"plotly\"], function(Plotly) { window.PLOTLYENV=window.PLOTLYENV || {};window.PLOTLYENV.BASE_URL=\"https://plot.ly\";Plotly.newPlot(\"b9d1821c-4de9-40e0-ad1e-50c3ad218878\", [{\"text\": [\"Argun\", \"Baksan\", \"Buynaksk\", \"Grozny\", \"Gudermes\", \"Karabulak\", \"Khasavyurt\", \"Makhachkala\", \"Malgobek\", \"Moscow\", \"Nalchik\", \"Nazran\", \"Ordzhonikidzevskaya\", \"Tyrnyauz\", \"Urus-Martan\", \"Vladikavkaz\"], \"type\": \"scatter\", \"mode\": \"markers\", \"marker\": {\"size\": [28.492461297974106, 8.312519482295004, 33.310008424881076, 100.17542595406887, 23.186802047063875, 7.235066739107903, 33.60455594737617, 76.7155365015903, 7.891095640977314, 44.541310184013476, 21.973421826409904, 31.002951935569172, 11.873756377730679, 5.813789703166071, 12.044605793488124, 64.2896399491354], \"opacity\": 0.7, \"color\": \"#A60000\"}, \"hoverinfo\": \"text\", \"y\": [67, 20, 93, 470, 46, 11, 74, 184, 9, 72, 29, 107, 10, 9, 34, 127], \"x\": [106, 6, 127, 727, 80, 10, 149, 610, 15, 272, 87, 90, 35, 6, 12, 478]}], {\"xaxis\": {\"title\": \"fatalities\"}, \"title\": \"The most frequently terrorist attacked cities in Russia (1992-2015)\", \"yaxis\": {\"title\": \"injuries\"}, \"hovermode\": \"closest\"}, {\"linkText\": \"Export to plot.ly\", \"showLink\": true})});</script>"
      ],
      "text/plain": [
       "<IPython.core.display.HTML object>"
      ]
     },
     "metadata": {},
     "output_type": "display_data"
    }
   ],
   "source": [
    "fat = terror_ru[terror_ru['city'].isin(cities.index)].groupby('city').sum()['fatalities']\n",
    "inj = terror_ru[terror_ru['city'].isin(cities.index)].groupby('city').sum()['injuries']\n",
    "\n",
    "trace = go.Scatter(\n",
    "    x=inj,\n",
    "    y=fat,\n",
    "    mode='markers',\n",
    "    marker=go.Marker(\n",
    "        size = (fat+inj) ** 0.65,\n",
    "        opacity=0.7,\n",
    "        color='#A60000',\n",
    "    ),\n",
    "    text=terror_ru[terror_ru['city'].isin(cities.index)].groupby('city').sum().index,\n",
    "    hoverinfo='text',\n",
    ")\n",
    "\n",
    "data = [trace]\n",
    "\n",
    "layout = go.Layout(\n",
    "    title='The most frequently terrorist attacked cities in Russia (1992-2015)',\n",
    "    xaxis=dict(\n",
    "        title='fatalities',\n",
    "    ),\n",
    "    yaxis=dict(\n",
    "        title='injuries',\n",
    "    ),\n",
    "    hovermode='closest',\n",
    ")\n",
    "\n",
    "fig = go.Figure(data=data, layout=layout)\n",
    "iplot(fig)"
   ]
  },
  {
   "cell_type": "markdown",
   "metadata": {},
   "source": [
    "C помощью данного графика можно заметить, что на Назрань, занимающая 3ье место по количеству терактов в городе, приходится значительно меньше жерт. В свою очередь, Владикавказ, на счету которого всего лишь 22 теракта занимает 3 место по количеству пострадавших.\n",
    "\n",
    "Почти все города, присутствующие на данном графике, находятся на Кавказе. Исключением является Москва. Посмотрим на нее более подробно."
   ]
  },
  {
   "cell_type": "markdown",
   "metadata": {
    "collapsed": true
   },
   "source": [
    "## Terrorist attacks per Moscow district's"
   ]
  },
  {
   "cell_type": "markdown",
   "metadata": {},
   "source": [
    "Для полноты картины рассмотрим данные о Москве за все время, представленное в данных. Так как Москва в исходных представлена по-разному: \n",
    "* Различное написание - Moscow или Moscow-city,\n",
    "* Различное заполнение - иногда Moscow пишется в поле State, а в поле City указывается район,\n",
    "\n",
    "определим функцию, которая по географическим координатам будет определять район города Москвы:"
   ]
  },
  {
   "cell_type": "code",
   "execution_count": 22,
   "metadata": {
    "collapsed": false,
    "scrolled": true
   },
   "outputs": [
    {
     "ename": "HTTPError",
     "evalue": "HTTP Error 404: Not Found",
     "output_type": "error",
     "traceback": [
      "\u001b[0;31m---------------------------------------------------------------------------\u001b[0m",
      "\u001b[0;31mHTTPError\u001b[0m                                 Traceback (most recent call last)",
      "\u001b[0;32m<ipython-input-22-4c54a757f02f>\u001b[0m in \u001b[0;36m<module>\u001b[0;34m()\u001b[0m\n\u001b[1;32m      3\u001b[0m \u001b[0;34m\u001b[0m\u001b[0m\n\u001b[1;32m      4\u001b[0m \u001b[0murl\u001b[0m \u001b[0;34m=\u001b[0m \u001b[0;34m'http://gis-lab.info/data/mos-adm/mo.geojson'\u001b[0m\u001b[0;34m\u001b[0m\u001b[0m\n\u001b[0;32m----> 5\u001b[0;31m \u001b[0mmoscow_data\u001b[0m \u001b[0;34m=\u001b[0m \u001b[0murllib\u001b[0m\u001b[0;34m.\u001b[0m\u001b[0mrequest\u001b[0m\u001b[0;34m.\u001b[0m\u001b[0murlopen\u001b[0m\u001b[0;34m(\u001b[0m\u001b[0murl\u001b[0m\u001b[0;34m)\u001b[0m\u001b[0;34m.\u001b[0m\u001b[0mread\u001b[0m\u001b[0;34m(\u001b[0m\u001b[0;34m)\u001b[0m\u001b[0;34m.\u001b[0m\u001b[0mdecode\u001b[0m\u001b[0;34m(\u001b[0m\u001b[0;34m'utf-8'\u001b[0m\u001b[0;34m)\u001b[0m\u001b[0;34m\u001b[0m\u001b[0m\n\u001b[0m\u001b[1;32m      6\u001b[0m \u001b[0mmoscow\u001b[0m \u001b[0;34m=\u001b[0m \u001b[0mast\u001b[0m\u001b[0;34m.\u001b[0m\u001b[0mliteral_eval\u001b[0m\u001b[0;34m(\u001b[0m\u001b[0mmoscow_data\u001b[0m\u001b[0;34m)\u001b[0m\u001b[0;34m\u001b[0m\u001b[0m\n\u001b[1;32m      7\u001b[0m \u001b[0;34m\u001b[0m\u001b[0m\n",
      "\u001b[0;32m/Library/Frameworks/Python.framework/Versions/3.5/lib/python3.5/urllib/request.py\u001b[0m in \u001b[0;36murlopen\u001b[0;34m(url, data, timeout, cafile, capath, cadefault, context)\u001b[0m\n\u001b[1;32m    161\u001b[0m     \u001b[0;32melse\u001b[0m\u001b[0;34m:\u001b[0m\u001b[0;34m\u001b[0m\u001b[0m\n\u001b[1;32m    162\u001b[0m         \u001b[0mopener\u001b[0m \u001b[0;34m=\u001b[0m \u001b[0m_opener\u001b[0m\u001b[0;34m\u001b[0m\u001b[0m\n\u001b[0;32m--> 163\u001b[0;31m     \u001b[0;32mreturn\u001b[0m \u001b[0mopener\u001b[0m\u001b[0;34m.\u001b[0m\u001b[0mopen\u001b[0m\u001b[0;34m(\u001b[0m\u001b[0murl\u001b[0m\u001b[0;34m,\u001b[0m \u001b[0mdata\u001b[0m\u001b[0;34m,\u001b[0m \u001b[0mtimeout\u001b[0m\u001b[0;34m)\u001b[0m\u001b[0;34m\u001b[0m\u001b[0m\n\u001b[0m\u001b[1;32m    164\u001b[0m \u001b[0;34m\u001b[0m\u001b[0m\n\u001b[1;32m    165\u001b[0m \u001b[0;32mdef\u001b[0m \u001b[0minstall_opener\u001b[0m\u001b[0;34m(\u001b[0m\u001b[0mopener\u001b[0m\u001b[0;34m)\u001b[0m\u001b[0;34m:\u001b[0m\u001b[0;34m\u001b[0m\u001b[0m\n",
      "\u001b[0;32m/Library/Frameworks/Python.framework/Versions/3.5/lib/python3.5/urllib/request.py\u001b[0m in \u001b[0;36mopen\u001b[0;34m(self, fullurl, data, timeout)\u001b[0m\n\u001b[1;32m    470\u001b[0m         \u001b[0;32mfor\u001b[0m \u001b[0mprocessor\u001b[0m \u001b[0;32min\u001b[0m \u001b[0mself\u001b[0m\u001b[0;34m.\u001b[0m\u001b[0mprocess_response\u001b[0m\u001b[0;34m.\u001b[0m\u001b[0mget\u001b[0m\u001b[0;34m(\u001b[0m\u001b[0mprotocol\u001b[0m\u001b[0;34m,\u001b[0m \u001b[0;34m[\u001b[0m\u001b[0;34m]\u001b[0m\u001b[0;34m)\u001b[0m\u001b[0;34m:\u001b[0m\u001b[0;34m\u001b[0m\u001b[0m\n\u001b[1;32m    471\u001b[0m             \u001b[0mmeth\u001b[0m \u001b[0;34m=\u001b[0m \u001b[0mgetattr\u001b[0m\u001b[0;34m(\u001b[0m\u001b[0mprocessor\u001b[0m\u001b[0;34m,\u001b[0m \u001b[0mmeth_name\u001b[0m\u001b[0;34m)\u001b[0m\u001b[0;34m\u001b[0m\u001b[0m\n\u001b[0;32m--> 472\u001b[0;31m             \u001b[0mresponse\u001b[0m \u001b[0;34m=\u001b[0m \u001b[0mmeth\u001b[0m\u001b[0;34m(\u001b[0m\u001b[0mreq\u001b[0m\u001b[0;34m,\u001b[0m \u001b[0mresponse\u001b[0m\u001b[0;34m)\u001b[0m\u001b[0;34m\u001b[0m\u001b[0m\n\u001b[0m\u001b[1;32m    473\u001b[0m \u001b[0;34m\u001b[0m\u001b[0m\n\u001b[1;32m    474\u001b[0m         \u001b[0;32mreturn\u001b[0m \u001b[0mresponse\u001b[0m\u001b[0;34m\u001b[0m\u001b[0m\n",
      "\u001b[0;32m/Library/Frameworks/Python.framework/Versions/3.5/lib/python3.5/urllib/request.py\u001b[0m in \u001b[0;36mhttp_response\u001b[0;34m(self, request, response)\u001b[0m\n\u001b[1;32m    580\u001b[0m         \u001b[0;32mif\u001b[0m \u001b[0;32mnot\u001b[0m \u001b[0;34m(\u001b[0m\u001b[0;36m200\u001b[0m \u001b[0;34m<=\u001b[0m \u001b[0mcode\u001b[0m \u001b[0;34m<\u001b[0m \u001b[0;36m300\u001b[0m\u001b[0;34m)\u001b[0m\u001b[0;34m:\u001b[0m\u001b[0;34m\u001b[0m\u001b[0m\n\u001b[1;32m    581\u001b[0m             response = self.parent.error(\n\u001b[0;32m--> 582\u001b[0;31m                 'http', request, response, code, msg, hdrs)\n\u001b[0m\u001b[1;32m    583\u001b[0m \u001b[0;34m\u001b[0m\u001b[0m\n\u001b[1;32m    584\u001b[0m         \u001b[0;32mreturn\u001b[0m \u001b[0mresponse\u001b[0m\u001b[0;34m\u001b[0m\u001b[0m\n",
      "\u001b[0;32m/Library/Frameworks/Python.framework/Versions/3.5/lib/python3.5/urllib/request.py\u001b[0m in \u001b[0;36merror\u001b[0;34m(self, proto, *args)\u001b[0m\n\u001b[1;32m    508\u001b[0m         \u001b[0;32mif\u001b[0m \u001b[0mhttp_err\u001b[0m\u001b[0;34m:\u001b[0m\u001b[0;34m\u001b[0m\u001b[0m\n\u001b[1;32m    509\u001b[0m             \u001b[0margs\u001b[0m \u001b[0;34m=\u001b[0m \u001b[0;34m(\u001b[0m\u001b[0mdict\u001b[0m\u001b[0;34m,\u001b[0m \u001b[0;34m'default'\u001b[0m\u001b[0;34m,\u001b[0m \u001b[0;34m'http_error_default'\u001b[0m\u001b[0;34m)\u001b[0m \u001b[0;34m+\u001b[0m \u001b[0morig_args\u001b[0m\u001b[0;34m\u001b[0m\u001b[0m\n\u001b[0;32m--> 510\u001b[0;31m             \u001b[0;32mreturn\u001b[0m \u001b[0mself\u001b[0m\u001b[0;34m.\u001b[0m\u001b[0m_call_chain\u001b[0m\u001b[0;34m(\u001b[0m\u001b[0;34m*\u001b[0m\u001b[0margs\u001b[0m\u001b[0;34m)\u001b[0m\u001b[0;34m\u001b[0m\u001b[0m\n\u001b[0m\u001b[1;32m    511\u001b[0m \u001b[0;34m\u001b[0m\u001b[0m\n\u001b[1;32m    512\u001b[0m \u001b[0;31m# XXX probably also want an abstract factory that knows when it makes\u001b[0m\u001b[0;34m\u001b[0m\u001b[0;34m\u001b[0m\u001b[0m\n",
      "\u001b[0;32m/Library/Frameworks/Python.framework/Versions/3.5/lib/python3.5/urllib/request.py\u001b[0m in \u001b[0;36m_call_chain\u001b[0;34m(self, chain, kind, meth_name, *args)\u001b[0m\n\u001b[1;32m    442\u001b[0m         \u001b[0;32mfor\u001b[0m \u001b[0mhandler\u001b[0m \u001b[0;32min\u001b[0m \u001b[0mhandlers\u001b[0m\u001b[0;34m:\u001b[0m\u001b[0;34m\u001b[0m\u001b[0m\n\u001b[1;32m    443\u001b[0m             \u001b[0mfunc\u001b[0m \u001b[0;34m=\u001b[0m \u001b[0mgetattr\u001b[0m\u001b[0;34m(\u001b[0m\u001b[0mhandler\u001b[0m\u001b[0;34m,\u001b[0m \u001b[0mmeth_name\u001b[0m\u001b[0;34m)\u001b[0m\u001b[0;34m\u001b[0m\u001b[0m\n\u001b[0;32m--> 444\u001b[0;31m             \u001b[0mresult\u001b[0m \u001b[0;34m=\u001b[0m \u001b[0mfunc\u001b[0m\u001b[0;34m(\u001b[0m\u001b[0;34m*\u001b[0m\u001b[0margs\u001b[0m\u001b[0;34m)\u001b[0m\u001b[0;34m\u001b[0m\u001b[0m\n\u001b[0m\u001b[1;32m    445\u001b[0m             \u001b[0;32mif\u001b[0m \u001b[0mresult\u001b[0m \u001b[0;32mis\u001b[0m \u001b[0;32mnot\u001b[0m \u001b[0;32mNone\u001b[0m\u001b[0;34m:\u001b[0m\u001b[0;34m\u001b[0m\u001b[0m\n\u001b[1;32m    446\u001b[0m                 \u001b[0;32mreturn\u001b[0m \u001b[0mresult\u001b[0m\u001b[0;34m\u001b[0m\u001b[0m\n",
      "\u001b[0;32m/Library/Frameworks/Python.framework/Versions/3.5/lib/python3.5/urllib/request.py\u001b[0m in \u001b[0;36mhttp_error_default\u001b[0;34m(self, req, fp, code, msg, hdrs)\u001b[0m\n\u001b[1;32m    588\u001b[0m \u001b[0;32mclass\u001b[0m \u001b[0mHTTPDefaultErrorHandler\u001b[0m\u001b[0;34m(\u001b[0m\u001b[0mBaseHandler\u001b[0m\u001b[0;34m)\u001b[0m\u001b[0;34m:\u001b[0m\u001b[0;34m\u001b[0m\u001b[0m\n\u001b[1;32m    589\u001b[0m     \u001b[0;32mdef\u001b[0m \u001b[0mhttp_error_default\u001b[0m\u001b[0;34m(\u001b[0m\u001b[0mself\u001b[0m\u001b[0;34m,\u001b[0m \u001b[0mreq\u001b[0m\u001b[0;34m,\u001b[0m \u001b[0mfp\u001b[0m\u001b[0;34m,\u001b[0m \u001b[0mcode\u001b[0m\u001b[0;34m,\u001b[0m \u001b[0mmsg\u001b[0m\u001b[0;34m,\u001b[0m \u001b[0mhdrs\u001b[0m\u001b[0;34m)\u001b[0m\u001b[0;34m:\u001b[0m\u001b[0;34m\u001b[0m\u001b[0m\n\u001b[0;32m--> 590\u001b[0;31m         \u001b[0;32mraise\u001b[0m \u001b[0mHTTPError\u001b[0m\u001b[0;34m(\u001b[0m\u001b[0mreq\u001b[0m\u001b[0;34m.\u001b[0m\u001b[0mfull_url\u001b[0m\u001b[0;34m,\u001b[0m \u001b[0mcode\u001b[0m\u001b[0;34m,\u001b[0m \u001b[0mmsg\u001b[0m\u001b[0;34m,\u001b[0m \u001b[0mhdrs\u001b[0m\u001b[0;34m,\u001b[0m \u001b[0mfp\u001b[0m\u001b[0;34m)\u001b[0m\u001b[0;34m\u001b[0m\u001b[0m\n\u001b[0m\u001b[1;32m    591\u001b[0m \u001b[0;34m\u001b[0m\u001b[0m\n\u001b[1;32m    592\u001b[0m \u001b[0;32mclass\u001b[0m \u001b[0mHTTPRedirectHandler\u001b[0m\u001b[0;34m(\u001b[0m\u001b[0mBaseHandler\u001b[0m\u001b[0;34m)\u001b[0m\u001b[0;34m:\u001b[0m\u001b[0;34m\u001b[0m\u001b[0m\n",
      "\u001b[0;31mHTTPError\u001b[0m: HTTP Error 404: Not Found"
     ]
    }
   ],
   "source": [
    "# library for geo-json\n",
    "from shapely.geometry import shape, Point, mapping\n",
    "\n",
    "url = 'http://gis-lab.info/data/mos-adm/mo.geojson'\n",
    "moscow_data = urllib.request.urlopen(url).read().decode('utf-8')\n",
    "moscow = ast.literal_eval(moscow_data)\n",
    "\n",
    "polygons = [shape(d['geometry']) for d in moscow['features']]\n",
    "\n",
    "def determine_district(lon, lat):\n",
    "    try:\n",
    "        return list(map(lambda poly: Point(lon, lat).within(poly), polygons)).index(True)\n",
    "    except:\n",
    "        return -1\n",
    "    \n",
    "terror_data['Msc_district'] = terror_data\\\n",
    "    .apply(lambda row: determine_district(row['longitude'], row['latitude']), axis=1)\n",
    "\n",
    "# only Moscow\n",
    "terror_msc = terror_data[terror_data['Msc_district'] >= 0]    "
   ]
  },
  {
   "cell_type": "code",
   "execution_count": null,
   "metadata": {
    "collapsed": false,
    "scrolled": false
   },
   "outputs": [],
   "source": [
    "# use sigmoid function to determine the color\n",
    "def sigmoid(x):\n",
    "    return 1 / (1 + math.exp(-0.3*x))\n",
    "\n",
    "polygons = []\n",
    "districts = []\n",
    "num_of_acts = terror_msc['Msc_district'].value_counts().apply(sigmoid)\n",
    "for i, district in enumerate(moscow['features']):\n",
    "    if i in num_of_acts.index:\n",
    "        color = 'rgba(163, 22, 19, {})'.format((num_of_acts[i]))\n",
    "    else:\n",
    "        color = 'rgba(240, 248, 255, 0.3)'\n",
    "    d = {\"type\": \"FeatureCollection\"}\n",
    "    d['features'] = [district]\n",
    "    districts.append(dict(\n",
    "            sourcetype = 'geojson',\n",
    "            source = d,\n",
    "            type = 'fill',\n",
    "            color = color\n",
    "        )\n",
    "    )\n",
    "    polygons.append(shape(d['features'][0]['geometry']))\n",
    "    \n",
    "data = go.Data([\n",
    "    go.Scattermapbox(\n",
    "        mode='markers',\n",
    "    )\n",
    "])\n",
    "layout = go.Layout(\n",
    "    title='The number of attacks per district of Moscow (1970-2015)',\n",
    "    height=800,\n",
    "    autosize=True,\n",
    "    hovermode='closest',\n",
    "    mapbox=dict(\n",
    "        layers=districts,\n",
    "        accesstoken=mapbox_access_token,\n",
    "        bearing=0,\n",
    "        center=dict(\n",
    "            lat=55.75222,\n",
    "            lon=37.61556\n",
    "        ),\n",
    "        pitch=0,\n",
    "        zoom=10,\n",
    "        style='light'\n",
    "    ),\n",
    ")\n",
    "\n",
    "fig = dict(data=data, layout=layout)\n",
    "iplot(fig)"
   ]
  },
  {
   "cell_type": "markdown",
   "metadata": {
    "collapsed": true
   },
   "source": [
    "К сожалению, данные очень грязные и сырые. Именно этим объясняется огромное количество терактов в Тверском районе – очевидно, для некоторых терактов указывался не точный адрес места происшествия, а координаты Москвы (Кремля)."
   ]
  },
  {
   "cell_type": "code",
   "execution_count": null,
   "metadata": {
    "collapsed": true
   },
   "outputs": [],
   "source": []
  }
 ],
 "metadata": {
  "kernelspec": {
   "display_name": "Python 3",
   "language": "python",
   "name": "python3"
  },
  "language_info": {
   "codemirror_mode": {
    "name": "ipython",
    "version": 3
   },
   "file_extension": ".py",
   "mimetype": "text/x-python",
   "name": "python",
   "nbconvert_exporter": "python",
   "pygments_lexer": "ipython3",
   "version": "3.5.2"
  }
 },
 "nbformat": 4,
 "nbformat_minor": 0
}
